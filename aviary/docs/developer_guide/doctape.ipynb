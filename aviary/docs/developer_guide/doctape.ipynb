{
 "cells": [
  {
   "cell_type": "markdown",
   "metadata": {},
   "source": [
    "# DocTAPE\n",
    "\n",
    "DocTAPE (Documentation Testing and Automated Placement of Expressions) is a collection of utility functions (and wrappers for [Glue](https://myst-nb.readthedocs.io/en/latest/render/glue.html)) that are useful\n",
    "for automating the process of building and testing documentation to ensure that documentation doesn't get stale.\n",
    "\n",
    "Our standard practice is to include a comment (`# Testing Cell`) at the beginning of code cells as well as make use of the `remove-cell` tag.\n",
    "\n",
    ">   \"metadata\": { \"tags\": [ \"remove-cell\" ] },\n",
    "\n",
    "<details><summary>More info about adding cell tags</summary>\n",
    "\n",
    "- [Jupyter Book](https://jupyterbook.org/en/stable/content/metadata.html)\n",
    "- [Visual Studio Code](https://marketplace.visualstudio.com/items?itemName=ms-toolsai.vscode-jupyter-cell-tags)\n",
    "</details>\n"
   ]
  },
  {
   "cell_type": "code",
   "execution_count": 1,
   "metadata": {
    "tags": [
     "remove-cell"
    ]
   },
   "outputs": [],
   "source": [
    "# Testing Cell\n"
   ]
  },
  {
   "cell_type": "markdown",
   "metadata": {},
   "source": [
    "This section is for writing Jupyter notebook in Aviary documentation only. You can skip it for now if you are focusing on the Aviary development.\n",
    "\n",
    "The Aviary documentation is composed of markdown files and jupyter notebook files. Generally speaking, if a document page contains data, it should be a jupyter notbook file. All glues live in jupyter notbook files."
   ]
  },
  {
   "cell_type": "code",
   "execution_count": null,
   "metadata": {
    "tags": [
     "remove-cell"
    ]
   },
   "outputs": [
    {
     "ename": "ValueError",
     "evalue": "dict_keys(['check_args', 'check_contains', 'check_value', 'get_all_keys', 'get_attribute_name', 'get_class_names', 'get_function_names', 'get_previous_line', 'get_value', 'get_variable_name', 'glue_actions', 'glue_class_functions', 'glue_class_options', 'glue_function_arguments', 'glue_function_arguments_and_defaults', 'glue_keys', 'glue_variable', 'gramatical_list', 'run_command_no_file_error']) is not equal to dict_keys(['check_value', 'check_contains', 'check_args', 'run_command_no_file_error', 'glue_variable', 'glue_keys', 'glue_actions', 'glue_class_functions', 'glue_function_arguments', 'glue_class_options', 'gramatical_list', 'get_variable_name', 'get_previous_line', 'get_attribute_name', 'get_all_keys', 'get_value', 'get_class_names', 'get_function_names'])",
     "output_type": "error",
     "traceback": [
      "\u001b[0;31m---------------------------------------------------------------------------\u001b[0m",
      "\u001b[0;31mValueError\u001b[0m                                Traceback (most recent call last)",
      "Cell \u001b[0;32mIn[4], line 39\u001b[0m\n\u001b[1;32m     37\u001b[0m \u001b[38;5;66;03m# make sure all classes and functions are listed here with descriptions.\u001b[39;00m\n\u001b[1;32m     38\u001b[0m doctape\u001b[38;5;241m.\u001b[39mcheck_value(imported_classes\u001b[38;5;241m.\u001b[39mkeys(),custom_classes\u001b[38;5;241m.\u001b[39mkeys())\n\u001b[0;32m---> 39\u001b[0m \u001b[43mdoctape\u001b[49m\u001b[38;5;241;43m.\u001b[39;49m\u001b[43mcheck_value\u001b[49m\u001b[43m(\u001b[49m\u001b[43mimported_functions\u001b[49m\u001b[38;5;241;43m.\u001b[39;49m\u001b[43mkeys\u001b[49m\u001b[43m(\u001b[49m\u001b[43m)\u001b[49m\u001b[43m,\u001b[49m\u001b[43m \u001b[49m\u001b[43m{\u001b[49m\n\u001b[1;32m     40\u001b[0m \u001b[43m    \u001b[49m\u001b[38;5;241;43m*\u001b[39;49m\u001b[38;5;241;43m*\u001b[39;49m\u001b[43mtesting_functions\u001b[49m\u001b[43m,\u001b[49m\u001b[43m \u001b[49m\u001b[38;5;241;43m*\u001b[39;49m\u001b[38;5;241;43m*\u001b[39;49m\u001b[43mglue_functions\u001b[49m\u001b[43m,\u001b[49m\u001b[43m \u001b[49m\u001b[38;5;241;43m*\u001b[39;49m\u001b[38;5;241;43m*\u001b[39;49m\u001b[43mutility_functions\u001b[49m\u001b[43m}\u001b[49m\u001b[38;5;241;43m.\u001b[39;49m\u001b[43mkeys\u001b[49m\u001b[43m(\u001b[49m\u001b[43m)\u001b[49m\u001b[43m)\u001b[49m\n\u001b[1;32m     42\u001b[0m class_list \u001b[38;5;241m=\u001b[39m \u001b[38;5;124m'\u001b[39m\u001b[38;5;124m'\u001b[39m\n\u001b[1;32m     43\u001b[0m \u001b[38;5;28;01mfor\u001b[39;00m key,val \u001b[38;5;129;01min\u001b[39;00m custom_classes\u001b[38;5;241m.\u001b[39mitems():\n",
      "File \u001b[0;32m~/workspace/Aviary_XJ/om-Aviary/aviary/utils/doctape.py:164\u001b[0m, in \u001b[0;36mcheck_value\u001b[0;34m(val1, val2, error_type)\u001b[0m\n\u001b[1;32m    162\u001b[0m \u001b[38;5;28;01mif\u001b[39;00m \u001b[38;5;28misinstance\u001b[39m(val1, (\u001b[38;5;28mstr\u001b[39m, \u001b[38;5;28mint\u001b[39m, \u001b[38;5;28mfloat\u001b[39m, \u001b[38;5;28mlist\u001b[39m, \u001b[38;5;28mtuple\u001b[39m, \u001b[38;5;28mdict\u001b[39m, \u001b[38;5;28mset\u001b[39m, np\u001b[38;5;241m.\u001b[39mndarray, \u001b[38;5;28mtype\u001b[39m({}\u001b[38;5;241m.\u001b[39mkeys()))):\n\u001b[1;32m    163\u001b[0m     \u001b[38;5;28;01mif\u001b[39;00m val1 \u001b[38;5;241m!=\u001b[39m val2:\n\u001b[0;32m--> 164\u001b[0m         \u001b[38;5;28;01mraise\u001b[39;00m error_type(\u001b[38;5;124mf\u001b[39m\u001b[38;5;124m\"\u001b[39m\u001b[38;5;132;01m{\u001b[39;00mval1\u001b[38;5;132;01m}\u001b[39;00m\u001b[38;5;124m is not equal to \u001b[39m\u001b[38;5;132;01m{\u001b[39;00mval2\u001b[38;5;132;01m}\u001b[39;00m\u001b[38;5;124m\"\u001b[39m)\n\u001b[1;32m    165\u001b[0m \u001b[38;5;28;01melse\u001b[39;00m:\n\u001b[1;32m    166\u001b[0m     \u001b[38;5;28;01mif\u001b[39;00m val1 \u001b[38;5;129;01mis\u001b[39;00m \u001b[38;5;129;01mnot\u001b[39;00m val2:\n",
      "\u001b[0;31mValueError\u001b[0m: dict_keys(['check_args', 'check_contains', 'check_value', 'get_all_keys', 'get_attribute_name', 'get_class_names', 'get_function_names', 'get_previous_line', 'get_value', 'get_variable_name', 'glue_actions', 'glue_class_functions', 'glue_class_options', 'glue_function_arguments', 'glue_function_arguments_and_defaults', 'glue_keys', 'glue_variable', 'gramatical_list', 'run_command_no_file_error']) is not equal to dict_keys(['check_value', 'check_contains', 'check_args', 'run_command_no_file_error', 'glue_variable', 'glue_keys', 'glue_actions', 'glue_class_functions', 'glue_function_arguments', 'glue_class_options', 'gramatical_list', 'get_variable_name', 'get_previous_line', 'get_attribute_name', 'get_all_keys', 'get_value', 'get_class_names', 'get_function_names'])"
     ]
    }
   ],
   "source": [
    "# Testing Cell\n",
    "\n",
    "from aviary.utils import doctape\n",
    "import inspect\n",
    "\n",
    "imported_functions = {k:v for k, v in inspect.getmembers(doctape, inspect.isfunction) if v.__module__ == doctape.__name__}\n",
    "imported_classes = {k:v for k, v in inspect.getmembers(doctape, inspect.isclass) if v.__module__ == doctape.__name__}\n",
    "\n",
    "custom_classes = {\n",
    "    \"expected_error\": \"is an execption that can be used in try/except blocks to allow desired errors to pass while still raising unexpected errors.\",\n",
    "}\n",
    "testing_functions = {\n",
    "    \"check_value\": \"is a simple function for comparing two values\",\n",
    "    \"check_contains\": \"confirms that all the elements of one iterable are contained in the other\",\n",
    "    \"check_args\": \"gets the signature of a function and compares it to the arguments you are expecting\",\n",
    "    \"run_command_no_file_error\": \"executes a CLI command but won't fail if a FileNotFoundError is raised\",\n",
    "}\n",
    "glue_functions = {\n",
    "    \"glue_variable\": \"glue a variable for later use in markdown cells of notebooks (can auto format for code)\",\n",
    "    \"glue_keys\": \"recursively glue all of the keys from a dict of dicts\",\n",
    "    \"glue_actions\": \"glue all Aviary CLI options for a given command\",\n",
    "    \"glue_class_functions\": \"glue all class functions for a gen class\",\n",
    "    \"glue_function_arguments\": \"glue all function arguments for a given function\",\n",
    "    \"glue_class_options\": \"glue all class options for a given class\",\n",
    "    \"glue_function_arguments_and_defaults\": \"glue all function arguments and default values for a given function\",\n",
    "}\n",
    "utility_functions = {\n",
    "    \"gramatical_list\": \"combines the elements of a list into a string with proper punctuation\",\n",
    "    \"get_variable_name\": \"returns the name of the variable passed to the function as a string\",\n",
    "    \"get_previous_line\": \"returns the previous line of code as a string\",\n",
    "    \"get_attribute_name\": \"gets the name of an object's attribute based on it's value\",\n",
    "    \"get_all_keys\": \"recursively get all of the keys from a dict of dicts\",\n",
    "    \"get_value\": \"recursively get a value from a dict of dicts\",\n",
    "    \"get_class_names\": \"gets all class names from a given file and return as a set\",\n",
    "    \"get_function_names\": \"gets all function names in a given file and return as a set\",\n",
    "}\n",
    "\n",
    "# make sure all classes and functions are listed here with descriptions.\n",
    "doctape.check_value(imported_classes.keys(),custom_classes.keys())\n",
    "doctape.check_value(imported_functions.keys(), {\n",
    "    **testing_functions, **glue_functions, **utility_functions}.keys())\n",
    "\n",
    "class_list = ''\n",
    "for key,val in custom_classes.items():\n",
    "    doctape.glue_variable(key, md_code=True)\n",
    "    class_list += f'- `{key}` {val}\\n'\n",
    "\n",
    "utility_list = '```{eval-rst}\\n'\n",
    "for key in utility_functions:\n",
    "    doctape.glue_variable(key, md_code=True)\n",
    "    utility_list += ' '*4+f'.. autofunction:: aviary.utils.doctape.{key}\\n{\" \"*8}:noindex:\\n\\n'\n",
    "utility_list += '```'\n",
    "\n",
    "testing_list = '```{eval-rst}\\n'\n",
    "for key in testing_functions:\n",
    "    doctape.glue_variable(key, md_code=True)\n",
    "    testing_list += ' '*4+f'.. autofunction:: aviary.utils.doctape.{key}\\n{\" \"*8}:noindex:\\n\\n'\n",
    "testing_list += '```'\n",
    "\n",
    "glue_list = '```{eval-rst}\\n'\n",
    "for key in glue_functions:\n",
    "    doctape.glue_variable(key, md_code=True)\n",
    "    glue_list += ' '*4+f'.. autofunction:: aviary.utils.doctape.{key}\\n{\" \"*8}:noindex:\\n\\n'\n",
    "glue_list += '```'\n",
    "\n",
    "doctape.glue_variable('class_list', class_list)\n",
    "doctape.glue_variable('utility_list', utility_list)\n",
    "doctape.glue_variable('testing_list', testing_list)\n",
    "doctape.glue_variable('glue_list', glue_list)"
   ]
  },
  {
   "cell_type": "markdown",
   "metadata": {},
   "source": [
    "## Classes\n",
    "```{glue:md} class_list\n",
    ":format: myst\n",
    "```\n",
    "\n",
    "## Testing Functions\n",
    "\n",
    "Functions that raise an error provide the option to specify an error type to use instead of the default. This allows users to change the error type that is raised which can be useful in try/except blocks, especially when combined with the {glue:md}`expected_error` class.\n",
    "\n",
    "```{glue:md} testing_list\n",
    ":format: myst\n",
    "```"
   ]
  },
  {
   "cell_type": "code",
   "execution_count": null,
   "metadata": {
    "tags": [
     "remove-cell"
    ]
   },
   "outputs": [],
   "source": [
    "# Testing Cell\n",
    "import myst_nb\n",
    "from aviary.utils.doctape import glue_variable\n",
    "\n",
    "glue_variable(myst_nb.__name__)\n",
    "glue_variable(myst_nb.glue.__name__, md_code=True)"
   ]
  },
  {
   "cell_type": "markdown",
   "metadata": {},
   "source": [
    "## Glue Functions\n",
    "\n",
    "The glue functions provide a wrapper for the {glue:md}`myst_nb` {glue:md}`glue` function that provides a simplified interface.\n",
    "\n",
    "```{glue:md} glue_list\n",
    ":format: myst\n",
    "```\n",
    "\n",
    "## Utility Functions\n",
    "\n",
    "Utility functions are provided that the user may find useful for generating or testing their documentation.\n",
    "\n",
    "```{glue:md} utility_list\n",
    ":format: myst\n",
    "```"
   ]
  }
 ],
 "metadata": {
  "kernelspec": {
   "display_name": "av1",
   "language": "python",
   "name": "python3"
  },
  "language_info": {
   "codemirror_mode": {
    "name": "ipython",
    "version": 3
   },
   "file_extension": ".py",
   "mimetype": "text/x-python",
   "name": "python",
   "nbconvert_exporter": "python",
   "pygments_lexer": "ipython3",
   "version": "3.9.18"
  }
 },
 "nbformat": 4,
 "nbformat_minor": 2
}
