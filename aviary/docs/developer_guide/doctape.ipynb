{
 "cells": [
  {
   "cell_type": "markdown",
   "metadata": {},
   "source": [
    "# DocTAPE\n",
    "\n",
    "DocTAPE (Documentation Testing and Automated Placement of Expressions) is a collection of utility functions (and wrappers for [Glue](https://myst-nb.readthedocs.io/en/latest/render/glue.html)) that are useful\n",
    "for automating the process of building and testing documentation to ensure that\n",
    "documentation doesn't get stale.\n",
    "\n",
    "Our standard practice it to include a comment (`# Testing Cell`) at the begining of code cells as well as make use of the `remove-cell` tag.\n",
    "\n",
    ">   \"metadata\": { \"tags\": [ \"remove-cell\" ] },\n"
   ]
  },
  {
   "cell_type": "code",
   "execution_count": null,
   "metadata": {
    "tags": [
     "remove-cell"
    ]
   },
   "outputs": [],
   "source": [
    "# Testing Cell\n"
   ]
  },
  {
   "cell_type": "code",
   "execution_count": 39,
   "metadata": {
    "tags": [
     "remove-cell"
    ]
   },
   "outputs": [
    {
     "data": {
      "text/markdown": [
       "```{eval-rst}\n",
       "    .. autofunction:: aviary.docs.tests.utils.glue_variable\n",
       "        :noindex:\n",
       "\n",
       "    .. autofunction:: aviary.docs.tests.utils.glue_keys\n",
       "        :noindex:\n",
       "\n",
       "```"
      ],
      "text/plain": [
       "<IPython.core.display.Markdown object>"
      ]
     },
     "metadata": {
      "scrapbook": {
       "mime_prefix": "",
       "name": "glue_list"
      }
     },
     "output_type": "display_data"
    }
   ],
   "source": [
    "# Testing Cell\n",
    "\n",
    "from aviary.docs.tests import utils\n",
    "import inspect\n",
    "\n",
    "imported_functions = {k:v for k,v in inspect.getmembers(utils, inspect.isfunction) if v.__module__ == utils.__name__}\n",
    "imported_classes = {k:v for k,v in inspect.getmembers(utils, inspect.isclass) if v.__module__ == utils.__name__}\n",
    "\n",
    "custom_classes = {\n",
    "    \"expected_error\": \"is an execption that can be used in try/except blocks to allow desired errors to pass while still raising unexpected errors.\",\n",
    "}\n",
    "testing_functions = {\n",
    "    \"check_value\": \"is a simple function for comparing two values\",\n",
    "    \"check_contains\": \"confirms that all the elements of one iterable are contained in the other\",\n",
    "    \"check_args\": \"gets the signature of a function and compares it to the arguments you are expecting\",\n",
    "    \"run_command_no_file_error\": \"executes a CLI command but won't fail if a FileNotFoundError is raised\",\n",
    "}\n",
    "utility_functions = {\n",
    "    \"gramatical_list\": \"combines the elements of a list into a string with proper punctuation\",\n",
    "    \"get_attribute_name\": \"gets the name of an object's attribute based on it's value\",\n",
    "    \"get_all_keys\": \"recursively get all of the keys from a dict of dicts\",\n",
    "    \"get_value\": \"recursively get a value from a dict of dicts\",\n",
    "}\n",
    "glue_functions = {\n",
    "    \"glue_variable\": \"Glue a variable for later use in markdown cells of notebooks (can auto format for code)\",\n",
    "    \"glue_keys\": \"recursively glue all of the keys from a dict of dicts\",\n",
    "}\n",
    "\n",
    "utils.check_value(imported_classes.keys(),custom_classes.keys())\n",
    "utils.check_value(imported_functions.keys(), {\n",
    "    **testing_functions, **glue_functions, **utility_functions}.keys())\n",
    "\n",
    "class_list = ''\n",
    "for key,val in custom_classes.items():\n",
    "    utils.glue_variable(key, md_code=True)\n",
    "    class_list += f'- `{key}` {val}\\n'\n",
    "\n",
    "# testing_list = ''\n",
    "# for key,val in testing_functions.items():\n",
    "#     testing_list += f'- `{key}` {val}\\n'\n",
    "\n",
    "utility_list = '```{eval-rst}\\n'\n",
    "for key in utility_functions:\n",
    "    utils.glue_variable(key, md_code=True)\n",
    "    utility_list += ' '*4+f'.. autofunction:: aviary.docs.tests.utils.{key}\\n{\" \"*8}:noindex:\\n\\n'\n",
    "utility_list += '```'\n",
    "\n",
    "# testing_list = '```{eval-rst}\\n'\n",
    "# for key in testing_functions:\n",
    "#     utils.glue_variable(key, md_code=True)\n",
    "#     testing_list += ' '*4+f'.. autofunction:: aviary.docs.tests.utils.{key}\\n{\" \"*8}:noindex:\\n\\n'\n",
    "# testing_list += '```'\n",
    "\n",
    "testing_list = '<details>\\n\\n<summary>Function Docs</summary>\\n\\n'\n",
    "testing_list += '```{eval-rst}\\n'\n",
    "for key in testing_functions:\n",
    "    utils.glue_variable(key, md_code=True)\n",
    "    testing_list += ' '*4+f'.. autofunction:: aviary.docs.tests.utils.{key}\\n{\" \"*8}:noindex:\\n\\n'\n",
    "testing_list += '```'\n",
    "testing_list += '\\n\\n</details>'\n",
    "\n",
    "# glue_list = ''\n",
    "# for key,val in glue_functions.items():\n",
    "#     glue_list += f'- `{key}` {key}\\n'\n",
    "\n",
    "# glue_list = ''\n",
    "# for key in glue_functions:\n",
    "#     # doc_str = inspect.getdoc(imported_functions[key])\n",
    "#     doc_str = imported_functions[key].__doc__.split('\\n')[1]\n",
    "#     # doc_str = '\\n'.join([s+'  ' for s in imported_functions[key].__doc__.split('\\n')])\n",
    "#     print(doc_str)\n",
    "#     glue_list += f'- `{key}`: {doc_str}\\n'\n",
    "\n",
    "glue_list = '```{eval-rst}\\n'\n",
    "for key in glue_functions:\n",
    "    utils.glue_variable(key, md_code=True)\n",
    "    glue_list += ' '*4+f'.. autofunction:: aviary.docs.tests.utils.{key}\\n{\" \"*8}:noindex:\\n\\n'\n",
    "glue_list += '```'\n",
    "\n",
    "utils.glue_variable('class_list', utils.Markdown(class_list))\n",
    "utils.glue_variable('utility_list', utils.Markdown(utility_list))\n",
    "utils.glue_variable('testing_list', utils.Markdown(testing_list))\n",
    "utils.glue_variable('glue_list', utils.Markdown(glue_list))"
   ]
  },
  {
   "cell_type": "markdown",
   "metadata": {},
   "source": [
    "## Classes\n",
    "```{glue:md} class_list\n",
    ":format: myst\n",
    "```\n",
    "\n",
    "## Testing Functions\n",
    "\n",
    "Functions that raise an error provide the option to specify an error type to use instead of the default. This allows users to change the error type that is raised which can be useful in try/except blocks, especially when combined with the {glue:md}`expected_error` class."
   ]
  },
  {
   "cell_type": "code",
   "execution_count": 12,
   "metadata": {},
   "outputs": [
    {
     "name": "stdout",
     "output_type": "stream",
     "text": [
      "we expected that to fail (1 is not equal to 2),\n",
      "but this will still run\n"
     ]
    }
   ],
   "source": [
    "from aviary.docs.tests.utils import expected_error, check_value\n",
    "try:\n",
    "    check_value(int('1'), 2, error_type=expected_error)\n",
    "except expected_error:\n",
    "    print('we expected that to fail (1 is not equal to 2),')\n",
    "print('but this will still run')"
   ]
  },
  {
   "cell_type": "markdown",
   "metadata": {},
   "source": [
    "If we just used `ValueError` in the `except` branch, we might miss errors that we actually do want to catch."
   ]
  },
  {
   "cell_type": "code",
   "execution_count": 16,
   "metadata": {
    "tags": [
     "raises-exception"
    ]
   },
   "outputs": [
    {
     "name": "stdout",
     "output_type": "stream",
     "text": [
      "1 is not equal to 2\n",
      "we mistyped '1', so we should have failed\n"
     ]
    },
    {
     "ename": "ValueError",
     "evalue": "invalid literal for int() with base 10: '1)'",
     "output_type": "error",
     "traceback": [
      "\u001b[0;31m---------------------------------------------------------------------------\u001b[0m",
      "\u001b[0;31mValueError\u001b[0m                                Traceback (most recent call last)",
      "Cell \u001b[0;32mIn[16], line 11\u001b[0m\n\u001b[1;32m      8\u001b[0m \u001b[38;5;28mprint\u001b[39m(\u001b[38;5;124m\"\u001b[39m\u001b[38;5;124mwe mistyped \u001b[39m\u001b[38;5;124m'\u001b[39m\u001b[38;5;124m1\u001b[39m\u001b[38;5;124m'\u001b[39m\u001b[38;5;124m, so we should have failed\u001b[39m\u001b[38;5;124m\"\u001b[39m)\n\u001b[1;32m     10\u001b[0m \u001b[38;5;28;01mtry\u001b[39;00m:\n\u001b[0;32m---> 11\u001b[0m     check_value(\u001b[38;5;28;43mint\u001b[39;49m\u001b[43m(\u001b[49m\u001b[38;5;124;43m'\u001b[39;49m\u001b[38;5;124;43m1)\u001b[39;49m\u001b[38;5;124;43m'\u001b[39;49m\u001b[43m)\u001b[49m, \u001b[38;5;241m2\u001b[39m, error_type\u001b[38;5;241m=\u001b[39mexpected_error)\n\u001b[1;32m     12\u001b[0m \u001b[38;5;28;01mexcept\u001b[39;00m expected_error:\n\u001b[1;32m     13\u001b[0m     \u001b[38;5;28mprint\u001b[39m(\u001b[38;5;124m'\u001b[39m\u001b[38;5;124m1 is not equal to 2\u001b[39m\u001b[38;5;124m'\u001b[39m)\n",
      "\u001b[0;31mValueError\u001b[0m: invalid literal for int() with base 10: '1)'"
     ]
    }
   ],
   "source": [
    "from aviary.docs.tests.utils import expected_error, check_value\n",
    "\n",
    "try:\n",
    "    check_value(int('1)'), 2)\n",
    "except ValueError:\n",
    "    print('1 is not equal to 2')\n",
    "print(\"we mistyped '1', so we should have failed\")\n",
    "\n",
    "try:\n",
    "    check_value(int('1)'), 2, error_type=expected_error)\n",
    "except expected_error:\n",
    "    print('1 is not equal to 2')\n",
    "print(\"something unnexpected happened (we mistyped '1'), and we won't reach this\")"
   ]
  },
  {
   "cell_type": "markdown",
   "metadata": {},
   "source": [
    "```{glue:md} testing_list\n",
    ":format: myst\n",
    "```\n",
    "\n",
    "## Utility Functions\n",
    "\n",
    "Utility functions are provided that the user may find useful for generating or testing their documentation.\n",
    "\n",
    "{glue:md}`gramatical_list` is a simple function that forms a string that can be used in a sentence using a list of items."
   ]
  },
  {
   "cell_type": "code",
   "execution_count": 18,
   "metadata": {},
   "outputs": [
    {
     "name": "stdout",
     "output_type": "stream",
     "text": [
      "I would like to order 1 smoothie.\n",
      "Do you want apples, bananas, or strawberries in your smoothie?\n",
      "I only want apples and bananas.\n"
     ]
    }
   ],
   "source": [
    "from aviary.docs.tests.utils import gramatical_list\n",
    "\n",
    "single_element = gramatical_list([1])\n",
    "two_elements = gramatical_list(['apples','bananas'])\n",
    "three_elements_with_or = gramatical_list(['apples','bananas', 'strawberries'],'or')\n",
    "\n",
    "print(f\"I would like to order {single_element} smoothie.\")\n",
    "print(f\"Do you want {three_elements_with_or} in your smoothie?\")\n",
    "print(f\"I only want {two_elements}.\")"
   ]
  },
  {
   "cell_type": "markdown",
   "metadata": {},
   "source": [
    "{glue:md}`get_attribute_name` allows users to get the name of object attributes in order to glue them into documentation. This works well for Enums  or Class Variables that have unique values."
   ]
  },
  {
   "cell_type": "code",
   "execution_count": 30,
   "metadata": {},
   "outputs": [
    {
     "data": {
      "text/plain": [
       "'GASP'"
      ]
     },
     "metadata": {
      "scrapbook": {
       "mime_prefix": "",
       "name": "GASP"
      }
     },
     "output_type": "display_data"
    },
    {
     "data": {
      "text/plain": [
       "'BRIEF'"
      ]
     },
     "metadata": {
      "scrapbook": {
       "mime_prefix": "",
       "name": "BRIEF"
      }
     },
     "output_type": "display_data"
    },
    {
     "data": {
      "text/plain": [
       "'VERBOSITY'"
      ]
     },
     "metadata": {
      "scrapbook": {
       "mime_prefix": "",
       "name": "VERBOSITY"
      }
     },
     "output_type": "display_data"
    }
   ],
   "source": [
    "from aviary.docs.tests.utils import get_attribute_name, glue_variable\n",
    "from aviary.api import LegacyCode\n",
    "import aviary.api as av\n",
    "\n",
    "some_custom_alias = av.LegacyCode\n",
    "\n",
    "gasp_name = get_attribute_name(some_custom_alias, LegacyCode.GASP)\n",
    "glue_variable(gasp_name)\n",
    "brief_name = get_attribute_name(av.Verbosity, 1)\n",
    "glue_variable(brief_name)\n",
    "verbosity = get_attribute_name(av.Settings, av.Settings.VERBOSITY)\n",
    "glue_variable(verbosity)"
   ]
  },
  {
   "cell_type": "markdown",
   "metadata": {},
   "source": [
    "{glue:md}`get_all_keys` and {glue:md}`get_value` are intended to be used together for getting keys from nested dictionaries and then getting values back from those nested dictionaries, respectively. They were originally added for complex dictionaries, like the phase_info."
   ]
  },
  {
   "cell_type": "code",
   "execution_count": 33,
   "metadata": {},
   "outputs": [
    {
     "name": "stdout",
     "output_type": "stream",
     "text": [
      "['phase1', 'altitude', 'val', 'units', 'mach', 'phase2']\n",
      "['phase1', 'phase1.altitude', 'phase1.altitude.val', 'phase1.altitude.units', 'phase1.mach', 'phase2', 'phase2.altitude', 'phase2.altitude.val', 'phase2.altitude.units', 'phase2.mach']\n",
      "30\n"
     ]
    }
   ],
   "source": [
    "from aviary.docs.tests.utils import get_all_keys, get_value\n",
    "\n",
    "simplified_dict = {\n",
    "    'phase1':{'altitude':{'val':30,'units':'kft'},'mach':.4},\n",
    "    'phase2':{'altitude':{'val':10,'units':'km'},'mach':.5}\n",
    "    }\n",
    "unique_keys_only = get_all_keys(simplified_dict)\n",
    "all_keys = get_all_keys(simplified_dict, track_layers=True)\n",
    "print(unique_keys_only)\n",
    "print(all_keys)\n",
    "\n",
    "p1_alt = get_value(simplified_dict, 'phase1.altitude.val')\n",
    "print(p1_alt)"
   ]
  },
  {
   "cell_type": "markdown",
   "metadata": {},
   "source": [
    "```{glue:md} utility_list\n",
    ":format: myst\n",
    "```\n",
    "\n",
    "## Glue Functions\n",
    "```{glue:md} glue_list\n",
    ":format: myst\n",
    "```"
   ]
  }
 ],
 "metadata": {
  "kernelspec": {
   "display_name": "latest_env",
   "language": "python",
   "name": "python3"
  },
  "language_info": {
   "codemirror_mode": {
    "name": "ipython",
    "version": 3
   },
   "file_extension": ".py",
   "mimetype": "text/x-python",
   "name": "python",
   "nbconvert_exporter": "python",
   "pygments_lexer": "ipython3",
   "version": "3.10.13"
  }
 },
 "nbformat": 4,
 "nbformat_minor": 2
}
