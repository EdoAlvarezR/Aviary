{
 "cells": [
  {
   "cell_type": "markdown",
   "metadata": {},
   "source": [
    "# Codebase Overview\n",
    "\n",
    "## Repository structure\n",
    "\n",
    "Within the Aviary repository and package, the codebase is structured as follows:\n",
    "\n",
    "- `docs` contains the doc files for Aviary\n",
    "- `examples` contains example code for using Aviary, including external subsystem examples\n",
    "- `interface` is where most code that users interact with is located\n",
    "- `mission` contains OpenMDAO components and groups for modeling the aircraft mission\n",
    "- `models` contains aircraft and propulsion models for use in Aviary examples and tests\n",
    "- `subsystems` is where the aerodynamic, propulsion, mass, and geometry core subsystems are located\n",
    "- `utils` contains utility functions for use in Aviary code, examples, and tests\n",
    "- `validation_cases` contains validation cases for testing and benchmarking Aviary\n",
    "- `visualization` is where the Aviary dashboard is located\n"
   ]
  }
 ],
 "metadata": {
  "language_info": {
   "name": "python"
  }
 },
 "nbformat": 4,
 "nbformat_minor": 2
}
