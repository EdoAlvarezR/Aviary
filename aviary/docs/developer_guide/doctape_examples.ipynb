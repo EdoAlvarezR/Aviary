{
 "cells": [
  {
   "cell_type": "markdown",
   "metadata": {},
   "source": [
    "# DocTAPE Examples\n",
    "\n",
    "DocTAPE (Documentation Testing and Automated Placement of Expressions) is a collection of utility functions (and wrappers for [Glue](https://myst-nb.readthedocs.io/en/latest/render/glue.html)) that are useful\n",
    "for automating the process of building and testing documentation to ensure that documentation doesn't get stale.\n"
   ]
  },
  {
   "cell_type": "code",
   "execution_count": null,
   "metadata": {
    "tags": [
     "remove-cell"
    ]
   },
   "outputs": [],
   "source": [
    "# Testing Cell\n",
    "from aviary.docs.tests import utils\n",
    "import inspect\n",
    "\n",
    "imported_functions = {k for k,v in inspect.getmembers(utils, inspect.isfunction) if v.__module__ == utils.__name__}\n",
    "for func in imported_functions:\n",
    "    utils.glue_variable(func, md_code=True)\n",
    "utils.glue_variable(utils.expected_error.__name__, md_code=True)"
   ]
  },
  {
   "cell_type": "markdown",
   "metadata": {},
   "source": [
    "## Testing Functions\n",
    "\n",
    "Functions that raise an error provide the option to specify an error type to use instead of the default. This allows users to change the error type that is raised which can be useful in try/except blocks, especially when combined with the {glue:md}`expected_error` class."
   ]
  },
  {
   "cell_type": "code",
   "execution_count": null,
   "metadata": {},
   "outputs": [],
   "source": [
    "from aviary.docs.tests.utils import expected_error, check_value\n",
    "try:\n",
    "    check_value(int('1'), 2, error_type=expected_error)\n",
    "except expected_error:\n",
    "    print('we expected that to fail (1 is not equal to 2),')\n",
    "print('but this will still run')"
   ]
  },
  {
   "cell_type": "markdown",
   "metadata": {},
   "source": [
    "If we just used `ValueError` in the `except` branch, we might miss errors that we actually do want to catch."
   ]
  },
  {
   "cell_type": "code",
   "execution_count": null,
   "metadata": {
    "tags": [
     "raises-exception"
    ]
   },
   "outputs": [],
   "source": [
    "from aviary.docs.tests.utils import expected_error, check_value\n",
    "\n",
    "try:\n",
    "    check_value(int('1)'), 2)\n",
    "except ValueError:\n",
    "    print('1 is not equal to 2')\n",
    "print(\"we mistyped '1', so we should have failed\")\n",
    "\n",
    "try:\n",
    "    check_value(int('1)'), 2, error_type=expected_error)\n",
    "except expected_error:\n",
    "    print('1 is not equal to 2')\n",
    "print(\"something unnexpected happened (we mistyped '1'), and we won't reach this\")"
   ]
  },
  {
   "cell_type": "markdown",
   "metadata": {},
   "source": [
    "## Utility Functions\n",
    "\n",
    "Utility functions are provided that the user may find useful for generating or testing their documentation.\n",
    "\n",
    "{glue:md}`gramatical_list` is a simple function that forms a string that can be used in a sentence using a list of items."
   ]
  },
  {
   "cell_type": "code",
   "execution_count": null,
   "metadata": {},
   "outputs": [],
   "source": [
    "from aviary.docs.tests.utils import gramatical_list\n",
    "\n",
    "single_element = gramatical_list([1])\n",
    "two_elements = gramatical_list(['apples','bananas'])\n",
    "three_elements_with_or = gramatical_list(['apples','bananas', 'strawberries'],'or')\n",
    "\n",
    "print(f\"I would like to order {single_element} smoothie.\")\n",
    "print(f\"Do you want {three_elements_with_or} in your smoothie?\")\n",
    "print(f\"I only want {two_elements}.\")"
   ]
  },
  {
   "cell_type": "markdown",
   "metadata": {},
   "source": [
    "{glue:md}`get_attribute_name` allows users to get the name of object attributes in order to glue them into documentation. This works well for Enums or Class variables that have unique values."
   ]
  },
  {
   "cell_type": "code",
   "execution_count": null,
   "metadata": {},
   "outputs": [],
   "source": [
    "from aviary.docs.tests.utils import get_attribute_name, glue_variable\n",
    "from aviary.api import LegacyCode\n",
    "import aviary.api as av\n",
    "\n",
    "some_custom_alias = av.LegacyCode\n",
    "\n",
    "gasp_name = get_attribute_name(some_custom_alias, LegacyCode.GASP)\n",
    "glue_variable(gasp_name)\n",
    "brief_name = get_attribute_name(av.Verbosity, 1)\n",
    "glue_variable(brief_name)\n",
    "verbosity = get_attribute_name(av.Settings, av.Settings.VERBOSITY)\n",
    "glue_variable(verbosity)"
   ]
  },
  {
   "cell_type": "markdown",
   "metadata": {},
   "source": [
    "{glue:md}`get_all_keys` and {glue:md}`get_value` are intended to be used together for getting keys from nested dictionaries and then getting values back from those nested dictionaries, respectively. They were originally added for complex dictionaries, like the phase_info."
   ]
  },
  {
   "cell_type": "code",
   "execution_count": null,
   "metadata": {},
   "outputs": [],
   "source": [
    "from aviary.docs.tests.utils import get_all_keys, get_value\n",
    "\n",
    "simplified_dict = {\n",
    "    'phase1': {'altitude': {'val': 30, 'units': 'kft'}, 'mach': .4},\n",
    "    'phase2': {'altitude': {'val': 10, 'units': 'km'}, 'mach': .5}\n",
    "    }\n",
    "unique_keys_only = get_all_keys(simplified_dict)\n",
    "all_keys = get_all_keys(simplified_dict, track_layers=True)\n",
    "print(unique_keys_only)\n",
    "print(all_keys)\n",
    "\n",
    "p1_alt = get_value(simplified_dict, 'phase1.altitude.val')\n",
    "print(p1_alt)"
   ]
  },
  {
   "cell_type": "code",
   "execution_count": null,
   "metadata": {
    "tags": [
     "remove-cell"
    ]
   },
   "outputs": [],
   "source": [
    "# Testing Cell\n",
    "import myst_nb\n",
    "from aviary.docs.tests.utils import glue_variable\n",
    "\n",
    "glue_variable(myst_nb.__name__)\n",
    "glue_variable(myst_nb.glue.__name__, md_code=True)\n",
    "glue_variable('plain text')\n",
    "glue_variable('inline code', md_code=True)\n",
    "glue_variable('something different than','not the same as')\n",
    "glue_variable('the entire phrase they want to replace')"
   ]
  },
  {
   "cell_type": "markdown",
   "metadata": {},
   "source": [
    "## Glue Functions\n",
    "\n",
    "The glue functions provide a wrapper for the {glue:md}`myst_nb` {glue:md}`glue` function that simplifies the interface.\n",
    "\n",
    "{glue:md}`glue_variable` allows users to specify a value that is `something different than` what is displayed, but defaults to using the name of the variable if nothing is specified. This makes adapting old documentation easier, because users can just wrap {glue:md}`the entire phrase they want to replace`.\n",
    "\n",
    "Glued text can either be {glue:md}`plain text` or can be formatted as {glue:md}`inline code`\n"
   ]
  },
  {
   "cell_type": "code",
   "execution_count": null,
   "metadata": {
    "tags": [
     "remove-cell"
    ]
   },
   "outputs": [],
   "source": [
    "# Testing Cell\n",
    "from aviary.docs.tests.utils import glue_keys\n",
    "\n",
    "simplified_dict = {\n",
    "    'phase1': {'altitude': {'val': 30,'units': 'kft'}, 'mach': .4},\n",
    "    'phase2': {'altitude': {'val': 10,'units': 'km'}, 'mach': .5}\n",
    "    }\n",
    "glue_keys(simplified_dict)\n"
   ]
  },
  {
   "cell_type": "markdown",
   "metadata": {},
   "source": [
    "The {glue:md}`glue_keys` function combines {glue:md}`get_all_keys` and {glue:md}`glue_variable` to glue all of the unique keys from a dict of dicts for later use.\n",
    "\n",
    "After a variable has been glued in a Python cell, it can be accessed from a markdown cell with the \\{glue:md\\}\\`variable name\\` notation. Note that glue won't access the value of the glued variable until the documentation is built."
   ]
  }
 ],
 "metadata": {
  "kernelspec": {
   "display_name": "latest_env",
   "language": "python",
   "name": "python3"
  },
  "language_info": {
   "codemirror_mode": {
    "name": "ipython",
    "version": 3
   },
   "file_extension": ".py",
   "mimetype": "text/x-python",
   "name": "python",
   "nbconvert_exporter": "python",
   "pygments_lexer": "ipython3",
   "version": "3.10.13"
  }
 },
 "nbformat": 4,
 "nbformat_minor": 2
}
