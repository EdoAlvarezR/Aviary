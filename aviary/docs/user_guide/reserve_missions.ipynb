{
 "cells": [
  {
   "cell_type": "code",
   "execution_count": 18,
   "metadata": {
    "tags": [
     "remove-cell"
    ]
   },
   "outputs": [
    {
     "data": {
      "text/markdown": [
       "height_energy"
      ],
      "text/plain": [
       "<IPython.core.display.Markdown object>"
      ]
     },
     "metadata": {
      "scrapbook": {
       "mime_prefix": "",
       "name": "height_energy"
      }
     },
     "output_type": "display_data"
    },
    {
     "data": {
      "text/markdown": [
       "2DOF"
      ],
      "text/plain": [
       "<IPython.core.display.Markdown object>"
      ]
     },
     "metadata": {
      "scrapbook": {
       "mime_prefix": "",
       "name": "2DOF"
      }
     },
     "output_type": "display_data"
    },
    {
     "data": {
      "text/markdown": [
       "collocation"
      ],
      "text/plain": [
       "<IPython.core.display.Markdown object>"
      ]
     },
     "metadata": {
      "scrapbook": {
       "mime_prefix": "",
       "name": "collocation"
      }
     },
     "output_type": "display_data"
    },
    {
     "data": {
      "text/markdown": [
       "shooting"
      ],
      "text/plain": [
       "<IPython.core.display.Markdown object>"
      ]
     },
     "metadata": {
      "scrapbook": {
       "mime_prefix": "",
       "name": "shooting"
      }
     },
     "output_type": "display_data"
    },
    {
     "data": {
      "text/markdown": [
       "`assembled_jac_type`"
      ],
      "text/plain": [
       "<IPython.core.display.Markdown object>"
      ]
     },
     "metadata": {
      "scrapbook": {
       "mime_prefix": "",
       "name": "assembled_jac_type"
      }
     },
     "output_type": "display_data"
    },
    {
     "data": {
      "text/markdown": [
       "`derivs_method`"
      ],
      "text/plain": [
       "<IPython.core.display.Markdown object>"
      ]
     },
     "metadata": {
      "scrapbook": {
       "mime_prefix": "",
       "name": "derivs_method"
      }
     },
     "output_type": "display_data"
    },
    {
     "data": {
      "text/markdown": [
       "`aviary_options`"
      ],
      "text/plain": [
       "<IPython.core.display.Markdown object>"
      ]
     },
     "metadata": {
      "scrapbook": {
       "mime_prefix": "",
       "name": "aviary_options"
      }
     },
     "output_type": "display_data"
    },
    {
     "data": {
      "text/markdown": [
       "`aviary_metadata`"
      ],
      "text/plain": [
       "<IPython.core.display.Markdown object>"
      ]
     },
     "metadata": {
      "scrapbook": {
       "mime_prefix": "",
       "name": "aviary_metadata"
      }
     },
     "output_type": "display_data"
    },
    {
     "data": {
      "text/markdown": [
       "`phase_info`"
      ],
      "text/plain": [
       "<IPython.core.display.Markdown object>"
      ]
     },
     "metadata": {
      "scrapbook": {
       "mime_prefix": "",
       "name": "phase_info"
      }
     },
     "output_type": "display_data"
    },
    {
     "data": {
      "text/markdown": [
       "`auto_order`"
      ],
      "text/plain": [
       "<IPython.core.display.Markdown object>"
      ]
     },
     "metadata": {
      "scrapbook": {
       "mime_prefix": "",
       "name": "auto_order"
      }
     },
     "output_type": "display_data"
    },
    {
     "data": {
      "text/markdown": [
       "`run_reserve_mission_multiphase.py`"
      ],
      "text/plain": [
       "<IPython.core.display.Markdown object>"
      ]
     },
     "metadata": {
      "scrapbook": {
       "mime_prefix": "",
       "name": "run_reserve_mission_multiphase.py"
      }
     },
     "output_type": "display_data"
    },
    {
     "data": {
      "text/markdown": [
       "`run_2dof_reserve_mission_multiphase.py`"
      ],
      "text/plain": [
       "<IPython.core.display.Markdown object>"
      ]
     },
     "metadata": {
      "scrapbook": {
       "mime_prefix": "",
       "name": "run_2dof_reserve_mission_multiphase.py"
      }
     },
     "output_type": "display_data"
    },
    {
     "data": {
      "text/markdown": [
       "`prob.__getitem__()`"
      ],
      "text/plain": [
       "<IPython.core.display.Markdown object>"
      ]
     },
     "metadata": {
      "scrapbook": {
       "mime_prefix": "",
       "name": "prob.__getitem__()"
      }
     },
     "output_type": "display_data"
    },
    {
     "data": {
      "text/markdown": [
       "`__getitem__()`"
      ],
      "text/plain": [
       "<IPython.core.display.Markdown object>"
      ]
     },
     "metadata": {
      "scrapbook": {
       "mime_prefix": "",
       "name": "__getitem__()"
      }
     },
     "output_type": "display_data"
    },
    {
     "data": {
      "text/markdown": [
       "`prob.__init__()`"
      ],
      "text/plain": [
       "<IPython.core.display.Markdown object>"
      ]
     },
     "metadata": {
      "scrapbook": {
       "mime_prefix": "",
       "name": "prob.__init__()"
      }
     },
     "output_type": "display_data"
    },
    {
     "data": {
      "text/markdown": [
       "`__init__()`"
      ],
      "text/plain": [
       "<IPython.core.display.Markdown object>"
      ]
     },
     "metadata": {
      "scrapbook": {
       "mime_prefix": "",
       "name": "__init__()"
      }
     },
     "output_type": "display_data"
    },
    {
     "data": {
      "text/markdown": [
       "`prob.__setitem__()`"
      ],
      "text/plain": [
       "<IPython.core.display.Markdown object>"
      ]
     },
     "metadata": {
      "scrapbook": {
       "mime_prefix": "",
       "name": "prob.__setitem__()"
      }
     },
     "output_type": "display_data"
    },
    {
     "data": {
      "text/markdown": [
       "`__setitem__()`"
      ],
      "text/plain": [
       "<IPython.core.display.Markdown object>"
      ]
     },
     "metadata": {
      "scrapbook": {
       "mime_prefix": "",
       "name": "__setitem__()"
      }
     },
     "output_type": "display_data"
    },
    {
     "data": {
      "text/markdown": [
       "`prob._add_bus_variables_and_connect()`"
      ],
      "text/plain": [
       "<IPython.core.display.Markdown object>"
      ]
     },
     "metadata": {
      "scrapbook": {
       "mime_prefix": "",
       "name": "prob._add_bus_variables_and_connect()"
      }
     },
     "output_type": "display_data"
    },
    {
     "data": {
      "text/markdown": [
       "`_add_bus_variables_and_connect()`"
      ],
      "text/plain": [
       "<IPython.core.display.Markdown object>"
      ]
     },
     "metadata": {
      "scrapbook": {
       "mime_prefix": "",
       "name": "_add_bus_variables_and_connect()"
      }
     },
     "output_type": "display_data"
    },
    {
     "data": {
      "text/markdown": [
       "`prob._add_fuel_reserve_component()`"
      ],
      "text/plain": [
       "<IPython.core.display.Markdown object>"
      ]
     },
     "metadata": {
      "scrapbook": {
       "mime_prefix": "",
       "name": "prob._add_fuel_reserve_component()"
      }
     },
     "output_type": "display_data"
    },
    {
     "data": {
      "text/markdown": [
       "`_add_fuel_reserve_component()`"
      ],
      "text/plain": [
       "<IPython.core.display.Markdown object>"
      ]
     },
     "metadata": {
      "scrapbook": {
       "mime_prefix": "",
       "name": "_add_fuel_reserve_component()"
      }
     },
     "output_type": "display_data"
    },
    {
     "data": {
      "text/markdown": [
       "`prob._add_groundroll_eq_constraint()`"
      ],
      "text/plain": [
       "<IPython.core.display.Markdown object>"
      ]
     },
     "metadata": {
      "scrapbook": {
       "mime_prefix": "",
       "name": "prob._add_groundroll_eq_constraint()"
      }
     },
     "output_type": "display_data"
    },
    {
     "data": {
      "text/markdown": [
       "`_add_groundroll_eq_constraint()`"
      ],
      "text/plain": [
       "<IPython.core.display.Markdown object>"
      ]
     },
     "metadata": {
      "scrapbook": {
       "mime_prefix": "",
       "name": "_add_groundroll_eq_constraint()"
      }
     },
     "output_type": "display_data"
    },
    {
     "data": {
      "text/markdown": [
       "`prob._add_guesses()`"
      ],
      "text/plain": [
       "<IPython.core.display.Markdown object>"
      ]
     },
     "metadata": {
      "scrapbook": {
       "mime_prefix": "",
       "name": "prob._add_guesses()"
      }
     },
     "output_type": "display_data"
    },
    {
     "data": {
      "text/markdown": [
       "`_add_guesses()`"
      ],
      "text/plain": [
       "<IPython.core.display.Markdown object>"
      ]
     },
     "metadata": {
      "scrapbook": {
       "mime_prefix": "",
       "name": "_add_guesses()"
      }
     },
     "output_type": "display_data"
    },
    {
     "data": {
      "text/markdown": [
       "`prob._add_height_energy_landing_systems()`"
      ],
      "text/plain": [
       "<IPython.core.display.Markdown object>"
      ]
     },
     "metadata": {
      "scrapbook": {
       "mime_prefix": "",
       "name": "prob._add_height_energy_landing_systems()"
      }
     },
     "output_type": "display_data"
    },
    {
     "data": {
      "text/markdown": [
       "`_add_height_energy_landing_systems()`"
      ],
      "text/plain": [
       "<IPython.core.display.Markdown object>"
      ]
     },
     "metadata": {
      "scrapbook": {
       "mime_prefix": "",
       "name": "_add_height_energy_landing_systems()"
      }
     },
     "output_type": "display_data"
    },
    {
     "data": {
      "text/markdown": [
       "`prob._add_height_energy_takeoff_systems()`"
      ],
      "text/plain": [
       "<IPython.core.display.Markdown object>"
      ]
     },
     "metadata": {
      "scrapbook": {
       "mime_prefix": "",
       "name": "prob._add_height_energy_takeoff_systems()"
      }
     },
     "output_type": "display_data"
    },
    {
     "data": {
      "text/markdown": [
       "`_add_height_energy_takeoff_systems()`"
      ],
      "text/plain": [
       "<IPython.core.display.Markdown object>"
      ]
     },
     "metadata": {
      "scrapbook": {
       "mime_prefix": "",
       "name": "_add_height_energy_takeoff_systems()"
      }
     },
     "output_type": "display_data"
    },
    {
     "data": {
      "text/markdown": [
       "`prob._add_hybrid_objective()`"
      ],
      "text/plain": [
       "<IPython.core.display.Markdown object>"
      ]
     },
     "metadata": {
      "scrapbook": {
       "mime_prefix": "",
       "name": "prob._add_hybrid_objective()"
      }
     },
     "output_type": "display_data"
    },
    {
     "data": {
      "text/markdown": [
       "`_add_hybrid_objective()`"
      ],
      "text/plain": [
       "<IPython.core.display.Markdown object>"
      ]
     },
     "metadata": {
      "scrapbook": {
       "mime_prefix": "",
       "name": "_add_hybrid_objective()"
      }
     },
     "output_type": "display_data"
    },
    {
     "data": {
      "text/markdown": [
       "`prob._add_objectives()`"
      ],
      "text/plain": [
       "<IPython.core.display.Markdown object>"
      ]
     },
     "metadata": {
      "scrapbook": {
       "mime_prefix": "",
       "name": "prob._add_objectives()"
      }
     },
     "output_type": "display_data"
    },
    {
     "data": {
      "text/markdown": [
       "`_add_objectives()`"
      ],
      "text/plain": [
       "<IPython.core.display.Markdown object>"
      ]
     },
     "metadata": {
      "scrapbook": {
       "mime_prefix": "",
       "name": "_add_objectives()"
      }
     },
     "output_type": "display_data"
    },
    {
     "data": {
      "text/markdown": [
       "`prob._add_post_mission_takeoff_systems()`"
      ],
      "text/plain": [
       "<IPython.core.display.Markdown object>"
      ]
     },
     "metadata": {
      "scrapbook": {
       "mime_prefix": "",
       "name": "prob._add_post_mission_takeoff_systems()"
      }
     },
     "output_type": "display_data"
    },
    {
     "data": {
      "text/markdown": [
       "`_add_post_mission_takeoff_systems()`"
      ],
      "text/plain": [
       "<IPython.core.display.Markdown object>"
      ]
     },
     "metadata": {
      "scrapbook": {
       "mime_prefix": "",
       "name": "_add_post_mission_takeoff_systems()"
      }
     },
     "output_type": "display_data"
    },
    {
     "data": {
      "text/markdown": [
       "`prob._add_premission_external_subsystems()`"
      ],
      "text/plain": [
       "<IPython.core.display.Markdown object>"
      ]
     },
     "metadata": {
      "scrapbook": {
       "mime_prefix": "",
       "name": "prob._add_premission_external_subsystems()"
      }
     },
     "output_type": "display_data"
    },
    {
     "data": {
      "text/markdown": [
       "`_add_premission_external_subsystems()`"
      ],
      "text/plain": [
       "<IPython.core.display.Markdown object>"
      ]
     },
     "metadata": {
      "scrapbook": {
       "mime_prefix": "",
       "name": "_add_premission_external_subsystems()"
      }
     },
     "output_type": "display_data"
    },
    {
     "data": {
      "text/markdown": [
       "`prob._add_subsystem_guesses()`"
      ],
      "text/plain": [
       "<IPython.core.display.Markdown object>"
      ]
     },
     "metadata": {
      "scrapbook": {
       "mime_prefix": "",
       "name": "prob._add_subsystem_guesses()"
      }
     },
     "output_type": "display_data"
    },
    {
     "data": {
      "text/markdown": [
       "`_add_subsystem_guesses()`"
      ],
      "text/plain": [
       "<IPython.core.display.Markdown object>"
      ]
     },
     "metadata": {
      "scrapbook": {
       "mime_prefix": "",
       "name": "_add_subsystem_guesses()"
      }
     },
     "output_type": "display_data"
    },
    {
     "data": {
      "text/markdown": [
       "`prob._add_two_dof_landing_systems()`"
      ],
      "text/plain": [
       "<IPython.core.display.Markdown object>"
      ]
     },
     "metadata": {
      "scrapbook": {
       "mime_prefix": "",
       "name": "prob._add_two_dof_landing_systems()"
      }
     },
     "output_type": "display_data"
    },
    {
     "data": {
      "text/markdown": [
       "`_add_two_dof_landing_systems()`"
      ],
      "text/plain": [
       "<IPython.core.display.Markdown object>"
      ]
     },
     "metadata": {
      "scrapbook": {
       "mime_prefix": "",
       "name": "_add_two_dof_landing_systems()"
      }
     },
     "output_type": "display_data"
    },
    {
     "data": {
      "text/markdown": [
       "`prob._add_two_dof_takeoff_systems()`"
      ],
      "text/plain": [
       "<IPython.core.display.Markdown object>"
      ]
     },
     "metadata": {
      "scrapbook": {
       "mime_prefix": "",
       "name": "prob._add_two_dof_takeoff_systems()"
      }
     },
     "output_type": "display_data"
    },
    {
     "data": {
      "text/markdown": [
       "`_add_two_dof_takeoff_systems()`"
      ],
      "text/plain": [
       "<IPython.core.display.Markdown object>"
      ]
     },
     "metadata": {
      "scrapbook": {
       "mime_prefix": "",
       "name": "_add_two_dof_takeoff_systems()"
      }
     },
     "output_type": "display_data"
    },
    {
     "data": {
      "text/markdown": [
       "`prob._add_vrotate_comp()`"
      ],
      "text/plain": [
       "<IPython.core.display.Markdown object>"
      ]
     },
     "metadata": {
      "scrapbook": {
       "mime_prefix": "",
       "name": "prob._add_vrotate_comp()"
      }
     },
     "output_type": "display_data"
    },
    {
     "data": {
      "text/markdown": [
       "`_add_vrotate_comp()`"
      ],
      "text/plain": [
       "<IPython.core.display.Markdown object>"
      ]
     },
     "metadata": {
      "scrapbook": {
       "mime_prefix": "",
       "name": "_add_vrotate_comp()"
      }
     },
     "output_type": "display_data"
    },
    {
     "data": {
      "text/markdown": [
       "`prob._any_rank_has_saved_errors()`"
      ],
      "text/plain": [
       "<IPython.core.display.Markdown object>"
      ]
     },
     "metadata": {
      "scrapbook": {
       "mime_prefix": "",
       "name": "prob._any_rank_has_saved_errors()"
      }
     },
     "output_type": "display_data"
    },
    {
     "data": {
      "text/markdown": [
       "`_any_rank_has_saved_errors()`"
      ],
      "text/plain": [
       "<IPython.core.display.Markdown object>"
      ]
     },
     "metadata": {
      "scrapbook": {
       "mime_prefix": "",
       "name": "_any_rank_has_saved_errors()"
      }
     },
     "output_type": "display_data"
    },
    {
     "data": {
      "text/markdown": [
       "`prob._check_collected_errors()`"
      ],
      "text/plain": [
       "<IPython.core.display.Markdown object>"
      ]
     },
     "metadata": {
      "scrapbook": {
       "mime_prefix": "",
       "name": "prob._check_collected_errors()"
      }
     },
     "output_type": "display_data"
    },
    {
     "data": {
      "text/markdown": [
       "`_check_collected_errors()`"
      ],
      "text/plain": [
       "<IPython.core.display.Markdown object>"
      ]
     },
     "metadata": {
      "scrapbook": {
       "mime_prefix": "",
       "name": "_check_collected_errors()"
      }
     },
     "output_type": "display_data"
    },
    {
     "data": {
      "text/markdown": [
       "`prob._get_all_subsystems()`"
      ],
      "text/plain": [
       "<IPython.core.display.Markdown object>"
      ]
     },
     "metadata": {
      "scrapbook": {
       "mime_prefix": "",
       "name": "prob._get_all_subsystems()"
      }
     },
     "output_type": "display_data"
    },
    {
     "data": {
      "text/markdown": [
       "`_get_all_subsystems()`"
      ],
      "text/plain": [
       "<IPython.core.display.Markdown object>"
      ]
     },
     "metadata": {
      "scrapbook": {
       "mime_prefix": "",
       "name": "_get_all_subsystems()"
      }
     },
     "output_type": "display_data"
    },
    {
     "data": {
      "text/markdown": [
       "`prob._get_inst_id()`"
      ],
      "text/plain": [
       "<IPython.core.display.Markdown object>"
      ]
     },
     "metadata": {
      "scrapbook": {
       "mime_prefix": "",
       "name": "prob._get_inst_id()"
      }
     },
     "output_type": "display_data"
    },
    {
     "data": {
      "text/markdown": [
       "`_get_inst_id()`"
      ],
      "text/plain": [
       "<IPython.core.display.Markdown object>"
      ]
     },
     "metadata": {
      "scrapbook": {
       "mime_prefix": "",
       "name": "_get_inst_id()"
      }
     },
     "output_type": "display_data"
    },
    {
     "data": {
      "text/markdown": [
       "`prob._get_phase()`"
      ],
      "text/plain": [
       "<IPython.core.display.Markdown object>"
      ]
     },
     "metadata": {
      "scrapbook": {
       "mime_prefix": "",
       "name": "prob._get_phase()"
      }
     },
     "output_type": "display_data"
    },
    {
     "data": {
      "text/markdown": [
       "`_get_phase()`"
      ],
      "text/plain": [
       "<IPython.core.display.Markdown object>"
      ]
     },
     "metadata": {
      "scrapbook": {
       "mime_prefix": "",
       "name": "_get_phase()"
      }
     },
     "output_type": "display_data"
    },
    {
     "data": {
      "text/markdown": [
       "`prob._get_recorder_metadata()`"
      ],
      "text/plain": [
       "<IPython.core.display.Markdown object>"
      ]
     },
     "metadata": {
      "scrapbook": {
       "mime_prefix": "",
       "name": "prob._get_recorder_metadata()"
      }
     },
     "output_type": "display_data"
    },
    {
     "data": {
      "text/markdown": [
       "`_get_recorder_metadata()`"
      ],
      "text/plain": [
       "<IPython.core.display.Markdown object>"
      ]
     },
     "metadata": {
      "scrapbook": {
       "mime_prefix": "",
       "name": "_get_recorder_metadata()"
      }
     },
     "output_type": "display_data"
    },
    {
     "data": {
      "text/markdown": [
       "`prob._get_unique_saved_errors()`"
      ],
      "text/plain": [
       "<IPython.core.display.Markdown object>"
      ]
     },
     "metadata": {
      "scrapbook": {
       "mime_prefix": "",
       "name": "prob._get_unique_saved_errors()"
      }
     },
     "output_type": "display_data"
    },
    {
     "data": {
      "text/markdown": [
       "`_get_unique_saved_errors()`"
      ],
      "text/plain": [
       "<IPython.core.display.Markdown object>"
      ]
     },
     "metadata": {
      "scrapbook": {
       "mime_prefix": "",
       "name": "_get_unique_saved_errors()"
      }
     },
     "output_type": "display_data"
    },
    {
     "data": {
      "text/markdown": [
       "`prob._get_var_abs_name()`"
      ],
      "text/plain": [
       "<IPython.core.display.Markdown object>"
      ]
     },
     "metadata": {
      "scrapbook": {
       "mime_prefix": "",
       "name": "prob._get_var_abs_name()"
      }
     },
     "output_type": "display_data"
    },
    {
     "data": {
      "text/markdown": [
       "`_get_var_abs_name()`"
      ],
      "text/plain": [
       "<IPython.core.display.Markdown object>"
      ]
     },
     "metadata": {
      "scrapbook": {
       "mime_prefix": "",
       "name": "_get_var_abs_name()"
      }
     },
     "output_type": "display_data"
    },
    {
     "data": {
      "text/markdown": [
       "`prob._has_active_report()`"
      ],
      "text/plain": [
       "<IPython.core.display.Markdown object>"
      ]
     },
     "metadata": {
      "scrapbook": {
       "mime_prefix": "",
       "name": "prob._has_active_report()"
      }
     },
     "output_type": "display_data"
    },
    {
     "data": {
      "text/markdown": [
       "`_has_active_report()`"
      ],
      "text/plain": [
       "<IPython.core.display.Markdown object>"
      ]
     },
     "metadata": {
      "scrapbook": {
       "mime_prefix": "",
       "name": "_has_active_report()"
      }
     },
     "output_type": "display_data"
    },
    {
     "data": {
      "text/markdown": [
       "`prob._link_phases_helper_with_options()`"
      ],
      "text/plain": [
       "<IPython.core.display.Markdown object>"
      ]
     },
     "metadata": {
      "scrapbook": {
       "mime_prefix": "",
       "name": "prob._link_phases_helper_with_options()"
      }
     },
     "output_type": "display_data"
    },
    {
     "data": {
      "text/markdown": [
       "`_link_phases_helper_with_options()`"
      ],
      "text/plain": [
       "<IPython.core.display.Markdown object>"
      ]
     },
     "metadata": {
      "scrapbook": {
       "mime_prefix": "",
       "name": "_link_phases_helper_with_options()"
      }
     },
     "output_type": "display_data"
    },
    {
     "data": {
      "text/markdown": [
       "`prob._process_guess_var()`"
      ],
      "text/plain": [
       "<IPython.core.display.Markdown object>"
      ]
     },
     "metadata": {
      "scrapbook": {
       "mime_prefix": "",
       "name": "prob._process_guess_var()"
      }
     },
     "output_type": "display_data"
    },
    {
     "data": {
      "text/markdown": [
       "`_process_guess_var()`"
      ],
      "text/plain": [
       "<IPython.core.display.Markdown object>"
      ]
     },
     "metadata": {
      "scrapbook": {
       "mime_prefix": "",
       "name": "_process_guess_var()"
      }
     },
     "output_type": "display_data"
    },
    {
     "data": {
      "text/markdown": [
       "`prob._save_to_csv_file()`"
      ],
      "text/plain": [
       "<IPython.core.display.Markdown object>"
      ]
     },
     "metadata": {
      "scrapbook": {
       "mime_prefix": "",
       "name": "prob._save_to_csv_file()"
      }
     },
     "output_type": "display_data"
    },
    {
     "data": {
      "text/markdown": [
       "`_save_to_csv_file()`"
      ],
      "text/plain": [
       "<IPython.core.display.Markdown object>"
      ]
     },
     "metadata": {
      "scrapbook": {
       "mime_prefix": "",
       "name": "_save_to_csv_file()"
      }
     },
     "output_type": "display_data"
    },
    {
     "data": {
      "text/markdown": [
       "`prob._set_initial_conditions()`"
      ],
      "text/plain": [
       "<IPython.core.display.Markdown object>"
      ]
     },
     "metadata": {
      "scrapbook": {
       "mime_prefix": "",
       "name": "prob._set_initial_conditions()"
      }
     },
     "output_type": "display_data"
    },
    {
     "data": {
      "text/markdown": [
       "`_set_initial_conditions()`"
      ],
      "text/plain": [
       "<IPython.core.display.Markdown object>"
      ]
     },
     "metadata": {
      "scrapbook": {
       "mime_prefix": "",
       "name": "_set_initial_conditions()"
      }
     },
     "output_type": "display_data"
    },
    {
     "data": {
      "text/markdown": [
       "`prob._set_name()`"
      ],
      "text/plain": [
       "<IPython.core.display.Markdown object>"
      ]
     },
     "metadata": {
      "scrapbook": {
       "mime_prefix": "",
       "name": "prob._set_name()"
      }
     },
     "output_type": "display_data"
    },
    {
     "data": {
      "text/markdown": [
       "`_set_name()`"
      ],
      "text/plain": [
       "<IPython.core.display.Markdown object>"
      ]
     },
     "metadata": {
      "scrapbook": {
       "mime_prefix": "",
       "name": "_set_name()"
      }
     },
     "output_type": "display_data"
    },
    {
     "data": {
      "text/markdown": [
       "`prob._setup_recording()`"
      ],
      "text/plain": [
       "<IPython.core.display.Markdown object>"
      ]
     },
     "metadata": {
      "scrapbook": {
       "mime_prefix": "",
       "name": "prob._setup_recording()"
      }
     },
     "output_type": "display_data"
    },
    {
     "data": {
      "text/markdown": [
       "`_setup_recording()`"
      ],
      "text/plain": [
       "<IPython.core.display.Markdown object>"
      ]
     },
     "metadata": {
      "scrapbook": {
       "mime_prefix": "",
       "name": "_setup_recording()"
      }
     },
     "output_type": "display_data"
    },
    {
     "data": {
      "text/markdown": [
       "`prob._update_metadata_from_subsystems()`"
      ],
      "text/plain": [
       "<IPython.core.display.Markdown object>"
      ]
     },
     "metadata": {
      "scrapbook": {
       "mime_prefix": "",
       "name": "prob._update_metadata_from_subsystems()"
      }
     },
     "output_type": "display_data"
    },
    {
     "data": {
      "text/markdown": [
       "`_update_metadata_from_subsystems()`"
      ],
      "text/plain": [
       "<IPython.core.display.Markdown object>"
      ]
     },
     "metadata": {
      "scrapbook": {
       "mime_prefix": "",
       "name": "_update_metadata_from_subsystems()"
      }
     },
     "output_type": "display_data"
    },
    {
     "data": {
      "text/markdown": [
       "`prob._update_reports()`"
      ],
      "text/plain": [
       "<IPython.core.display.Markdown object>"
      ]
     },
     "metadata": {
      "scrapbook": {
       "mime_prefix": "",
       "name": "prob._update_reports()"
      }
     },
     "output_type": "display_data"
    },
    {
     "data": {
      "text/markdown": [
       "`_update_reports()`"
      ],
      "text/plain": [
       "<IPython.core.display.Markdown object>"
      ]
     },
     "metadata": {
      "scrapbook": {
       "mime_prefix": "",
       "name": "_update_reports()"
      }
     },
     "output_type": "display_data"
    },
    {
     "data": {
      "text/markdown": [
       "`prob._write_var_info_table()`"
      ],
      "text/plain": [
       "<IPython.core.display.Markdown object>"
      ]
     },
     "metadata": {
      "scrapbook": {
       "mime_prefix": "",
       "name": "prob._write_var_info_table()"
      }
     },
     "output_type": "display_data"
    },
    {
     "data": {
      "text/markdown": [
       "`_write_var_info_table()`"
      ],
      "text/plain": [
       "<IPython.core.display.Markdown object>"
      ]
     },
     "metadata": {
      "scrapbook": {
       "mime_prefix": "",
       "name": "_write_var_info_table()"
      }
     },
     "output_type": "display_data"
    },
    {
     "data": {
      "text/markdown": [
       "`prob.add_design_variables()`"
      ],
      "text/plain": [
       "<IPython.core.display.Markdown object>"
      ]
     },
     "metadata": {
      "scrapbook": {
       "mime_prefix": "",
       "name": "prob.add_design_variables()"
      }
     },
     "output_type": "display_data"
    },
    {
     "data": {
      "text/markdown": [
       "`add_design_variables()`"
      ],
      "text/plain": [
       "<IPython.core.display.Markdown object>"
      ]
     },
     "metadata": {
      "scrapbook": {
       "mime_prefix": "",
       "name": "add_design_variables()"
      }
     },
     "output_type": "display_data"
    },
    {
     "data": {
      "text/markdown": [
       "`prob.add_driver()`"
      ],
      "text/plain": [
       "<IPython.core.display.Markdown object>"
      ]
     },
     "metadata": {
      "scrapbook": {
       "mime_prefix": "",
       "name": "prob.add_driver()"
      }
     },
     "output_type": "display_data"
    },
    {
     "data": {
      "text/markdown": [
       "`add_driver()`"
      ],
      "text/plain": [
       "<IPython.core.display.Markdown object>"
      ]
     },
     "metadata": {
      "scrapbook": {
       "mime_prefix": "",
       "name": "add_driver()"
      }
     },
     "output_type": "display_data"
    },
    {
     "data": {
      "text/markdown": [
       "`prob.add_objective()`"
      ],
      "text/plain": [
       "<IPython.core.display.Markdown object>"
      ]
     },
     "metadata": {
      "scrapbook": {
       "mime_prefix": "",
       "name": "prob.add_objective()"
      }
     },
     "output_type": "display_data"
    },
    {
     "data": {
      "text/markdown": [
       "`add_objective()`"
      ],
      "text/plain": [
       "<IPython.core.display.Markdown object>"
      ]
     },
     "metadata": {
      "scrapbook": {
       "mime_prefix": "",
       "name": "add_objective()"
      }
     },
     "output_type": "display_data"
    },
    {
     "data": {
      "text/markdown": [
       "`prob.add_phases()`"
      ],
      "text/plain": [
       "<IPython.core.display.Markdown object>"
      ]
     },
     "metadata": {
      "scrapbook": {
       "mime_prefix": "",
       "name": "prob.add_phases()"
      }
     },
     "output_type": "display_data"
    },
    {
     "data": {
      "text/markdown": [
       "`add_phases()`"
      ],
      "text/plain": [
       "<IPython.core.display.Markdown object>"
      ]
     },
     "metadata": {
      "scrapbook": {
       "mime_prefix": "",
       "name": "add_phases()"
      }
     },
     "output_type": "display_data"
    },
    {
     "data": {
      "text/markdown": [
       "`prob.add_post_mission_systems()`"
      ],
      "text/plain": [
       "<IPython.core.display.Markdown object>"
      ]
     },
     "metadata": {
      "scrapbook": {
       "mime_prefix": "",
       "name": "prob.add_post_mission_systems()"
      }
     },
     "output_type": "display_data"
    },
    {
     "data": {
      "text/markdown": [
       "`add_post_mission_systems()`"
      ],
      "text/plain": [
       "<IPython.core.display.Markdown object>"
      ]
     },
     "metadata": {
      "scrapbook": {
       "mime_prefix": "",
       "name": "add_post_mission_systems()"
      }
     },
     "output_type": "display_data"
    },
    {
     "data": {
      "text/markdown": [
       "`prob.add_pre_mission_systems()`"
      ],
      "text/plain": [
       "<IPython.core.display.Markdown object>"
      ]
     },
     "metadata": {
      "scrapbook": {
       "mime_prefix": "",
       "name": "prob.add_pre_mission_systems()"
      }
     },
     "output_type": "display_data"
    },
    {
     "data": {
      "text/markdown": [
       "`add_pre_mission_systems()`"
      ],
      "text/plain": [
       "<IPython.core.display.Markdown object>"
      ]
     },
     "metadata": {
      "scrapbook": {
       "mime_prefix": "",
       "name": "add_pre_mission_systems()"
      }
     },
     "output_type": "display_data"
    },
    {
     "data": {
      "text/markdown": [
       "`prob.add_recorder()`"
      ],
      "text/plain": [
       "<IPython.core.display.Markdown object>"
      ]
     },
     "metadata": {
      "scrapbook": {
       "mime_prefix": "",
       "name": "prob.add_recorder()"
      }
     },
     "output_type": "display_data"
    },
    {
     "data": {
      "text/markdown": [
       "`add_recorder()`"
      ],
      "text/plain": [
       "<IPython.core.display.Markdown object>"
      ]
     },
     "metadata": {
      "scrapbook": {
       "mime_prefix": "",
       "name": "add_recorder()"
      }
     },
     "output_type": "display_data"
    },
    {
     "data": {
      "text/markdown": [
       "`prob.alternate_mission()`"
      ],
      "text/plain": [
       "<IPython.core.display.Markdown object>"
      ]
     },
     "metadata": {
      "scrapbook": {
       "mime_prefix": "",
       "name": "prob.alternate_mission()"
      }
     },
     "output_type": "display_data"
    },
    {
     "data": {
      "text/markdown": [
       "`alternate_mission()`"
      ],
      "text/plain": [
       "<IPython.core.display.Markdown object>"
      ]
     },
     "metadata": {
      "scrapbook": {
       "mime_prefix": "",
       "name": "alternate_mission()"
      }
     },
     "output_type": "display_data"
    },
    {
     "data": {
      "text/markdown": [
       "`prob.check_and_preprocess_inputs()`"
      ],
      "text/plain": [
       "<IPython.core.display.Markdown object>"
      ]
     },
     "metadata": {
      "scrapbook": {
       "mime_prefix": "",
       "name": "prob.check_and_preprocess_inputs()"
      }
     },
     "output_type": "display_data"
    },
    {
     "data": {
      "text/markdown": [
       "`check_and_preprocess_inputs()`"
      ],
      "text/plain": [
       "<IPython.core.display.Markdown object>"
      ]
     },
     "metadata": {
      "scrapbook": {
       "mime_prefix": "",
       "name": "check_and_preprocess_inputs()"
      }
     },
     "output_type": "display_data"
    },
    {
     "data": {
      "text/markdown": [
       "`prob.check_config()`"
      ],
      "text/plain": [
       "<IPython.core.display.Markdown object>"
      ]
     },
     "metadata": {
      "scrapbook": {
       "mime_prefix": "",
       "name": "prob.check_config()"
      }
     },
     "output_type": "display_data"
    },
    {
     "data": {
      "text/markdown": [
       "`check_config()`"
      ],
      "text/plain": [
       "<IPython.core.display.Markdown object>"
      ]
     },
     "metadata": {
      "scrapbook": {
       "mime_prefix": "",
       "name": "check_config()"
      }
     },
     "output_type": "display_data"
    },
    {
     "data": {
      "text/markdown": [
       "`prob.check_partials()`"
      ],
      "text/plain": [
       "<IPython.core.display.Markdown object>"
      ]
     },
     "metadata": {
      "scrapbook": {
       "mime_prefix": "",
       "name": "prob.check_partials()"
      }
     },
     "output_type": "display_data"
    },
    {
     "data": {
      "text/markdown": [
       "`check_partials()`"
      ],
      "text/plain": [
       "<IPython.core.display.Markdown object>"
      ]
     },
     "metadata": {
      "scrapbook": {
       "mime_prefix": "",
       "name": "check_partials()"
      }
     },
     "output_type": "display_data"
    },
    {
     "data": {
      "text/markdown": [
       "`prob.check_totals()`"
      ],
      "text/plain": [
       "<IPython.core.display.Markdown object>"
      ]
     },
     "metadata": {
      "scrapbook": {
       "mime_prefix": "",
       "name": "prob.check_totals()"
      }
     },
     "output_type": "display_data"
    },
    {
     "data": {
      "text/markdown": [
       "`check_totals()`"
      ],
      "text/plain": [
       "<IPython.core.display.Markdown object>"
      ]
     },
     "metadata": {
      "scrapbook": {
       "mime_prefix": "",
       "name": "check_totals()"
      }
     },
     "output_type": "display_data"
    },
    {
     "data": {
      "text/markdown": [
       "`prob.cleanup()`"
      ],
      "text/plain": [
       "<IPython.core.display.Markdown object>"
      ]
     },
     "metadata": {
      "scrapbook": {
       "mime_prefix": "",
       "name": "prob.cleanup()"
      }
     },
     "output_type": "display_data"
    },
    {
     "data": {
      "text/markdown": [
       "`cleanup()`"
      ],
      "text/plain": [
       "<IPython.core.display.Markdown object>"
      ]
     },
     "metadata": {
      "scrapbook": {
       "mime_prefix": "",
       "name": "cleanup()"
      }
     },
     "output_type": "display_data"
    },
    {
     "data": {
      "text/markdown": [
       "`prob.compute_jacvec_product()`"
      ],
      "text/plain": [
       "<IPython.core.display.Markdown object>"
      ]
     },
     "metadata": {
      "scrapbook": {
       "mime_prefix": "",
       "name": "prob.compute_jacvec_product()"
      }
     },
     "output_type": "display_data"
    },
    {
     "data": {
      "text/markdown": [
       "`compute_jacvec_product()`"
      ],
      "text/plain": [
       "<IPython.core.display.Markdown object>"
      ]
     },
     "metadata": {
      "scrapbook": {
       "mime_prefix": "",
       "name": "compute_jacvec_product()"
      }
     },
     "output_type": "display_data"
    },
    {
     "data": {
      "text/markdown": [
       "`prob.compute_totals()`"
      ],
      "text/plain": [
       "<IPython.core.display.Markdown object>"
      ]
     },
     "metadata": {
      "scrapbook": {
       "mime_prefix": "",
       "name": "prob.compute_totals()"
      }
     },
     "output_type": "display_data"
    },
    {
     "data": {
      "text/markdown": [
       "`compute_totals()`"
      ],
      "text/plain": [
       "<IPython.core.display.Markdown object>"
      ]
     },
     "metadata": {
      "scrapbook": {
       "mime_prefix": "",
       "name": "compute_totals()"
      }
     },
     "output_type": "display_data"
    },
    {
     "data": {
      "text/markdown": [
       "`prob.fallout_mission()`"
      ],
      "text/plain": [
       "<IPython.core.display.Markdown object>"
      ]
     },
     "metadata": {
      "scrapbook": {
       "mime_prefix": "",
       "name": "prob.fallout_mission()"
      }
     },
     "output_type": "display_data"
    },
    {
     "data": {
      "text/markdown": [
       "`fallout_mission()`"
      ],
      "text/plain": [
       "<IPython.core.display.Markdown object>"
      ]
     },
     "metadata": {
      "scrapbook": {
       "mime_prefix": "",
       "name": "fallout_mission()"
      }
     },
     "output_type": "display_data"
    },
    {
     "data": {
      "text/markdown": [
       "`prob.final_setup()`"
      ],
      "text/plain": [
       "<IPython.core.display.Markdown object>"
      ]
     },
     "metadata": {
      "scrapbook": {
       "mime_prefix": "",
       "name": "prob.final_setup()"
      }
     },
     "output_type": "display_data"
    },
    {
     "data": {
      "text/markdown": [
       "`final_setup()`"
      ],
      "text/plain": [
       "<IPython.core.display.Markdown object>"
      ]
     },
     "metadata": {
      "scrapbook": {
       "mime_prefix": "",
       "name": "final_setup()"
      }
     },
     "output_type": "display_data"
    },
    {
     "data": {
      "text/markdown": [
       "`prob.get_coloring_dir()`"
      ],
      "text/plain": [
       "<IPython.core.display.Markdown object>"
      ]
     },
     "metadata": {
      "scrapbook": {
       "mime_prefix": "",
       "name": "prob.get_coloring_dir()"
      }
     },
     "output_type": "display_data"
    },
    {
     "data": {
      "text/markdown": [
       "`get_coloring_dir()`"
      ],
      "text/plain": [
       "<IPython.core.display.Markdown object>"
      ]
     },
     "metadata": {
      "scrapbook": {
       "mime_prefix": "",
       "name": "get_coloring_dir()"
      }
     },
     "output_type": "display_data"
    },
    {
     "data": {
      "text/markdown": [
       "`prob.get_outputs_dir()`"
      ],
      "text/plain": [
       "<IPython.core.display.Markdown object>"
      ]
     },
     "metadata": {
      "scrapbook": {
       "mime_prefix": "",
       "name": "prob.get_outputs_dir()"
      }
     },
     "output_type": "display_data"
    },
    {
     "data": {
      "text/markdown": [
       "`get_outputs_dir()`"
      ],
      "text/plain": [
       "<IPython.core.display.Markdown object>"
      ]
     },
     "metadata": {
      "scrapbook": {
       "mime_prefix": "",
       "name": "get_outputs_dir()"
      }
     },
     "output_type": "display_data"
    },
    {
     "data": {
      "text/markdown": [
       "`prob.get_reports_dir()`"
      ],
      "text/plain": [
       "<IPython.core.display.Markdown object>"
      ]
     },
     "metadata": {
      "scrapbook": {
       "mime_prefix": "",
       "name": "prob.get_reports_dir()"
      }
     },
     "output_type": "display_data"
    },
    {
     "data": {
      "text/markdown": [
       "`get_reports_dir()`"
      ],
      "text/plain": [
       "<IPython.core.display.Markdown object>"
      ]
     },
     "metadata": {
      "scrapbook": {
       "mime_prefix": "",
       "name": "get_reports_dir()"
      }
     },
     "output_type": "display_data"
    },
    {
     "data": {
      "text/markdown": [
       "`prob.get_total_coloring()`"
      ],
      "text/plain": [
       "<IPython.core.display.Markdown object>"
      ]
     },
     "metadata": {
      "scrapbook": {
       "mime_prefix": "",
       "name": "prob.get_total_coloring()"
      }
     },
     "output_type": "display_data"
    },
    {
     "data": {
      "text/markdown": [
       "`get_total_coloring()`"
      ],
      "text/plain": [
       "<IPython.core.display.Markdown object>"
      ]
     },
     "metadata": {
      "scrapbook": {
       "mime_prefix": "",
       "name": "get_total_coloring()"
      }
     },
     "output_type": "display_data"
    },
    {
     "data": {
      "text/markdown": [
       "`prob.get_val()`"
      ],
      "text/plain": [
       "<IPython.core.display.Markdown object>"
      ]
     },
     "metadata": {
      "scrapbook": {
       "mime_prefix": "",
       "name": "prob.get_val()"
      }
     },
     "output_type": "display_data"
    },
    {
     "data": {
      "text/markdown": [
       "`get_val()`"
      ],
      "text/plain": [
       "<IPython.core.display.Markdown object>"
      ]
     },
     "metadata": {
      "scrapbook": {
       "mime_prefix": "",
       "name": "get_val()"
      }
     },
     "output_type": "display_data"
    },
    {
     "data": {
      "text/markdown": [
       "`prob.is_local()`"
      ],
      "text/plain": [
       "<IPython.core.display.Markdown object>"
      ]
     },
     "metadata": {
      "scrapbook": {
       "mime_prefix": "",
       "name": "prob.is_local()"
      }
     },
     "output_type": "display_data"
    },
    {
     "data": {
      "text/markdown": [
       "`is_local()`"
      ],
      "text/plain": [
       "<IPython.core.display.Markdown object>"
      ]
     },
     "metadata": {
      "scrapbook": {
       "mime_prefix": "",
       "name": "is_local()"
      }
     },
     "output_type": "display_data"
    },
    {
     "data": {
      "text/markdown": [
       "`prob.iter_count_iter()`"
      ],
      "text/plain": [
       "<IPython.core.display.Markdown object>"
      ]
     },
     "metadata": {
      "scrapbook": {
       "mime_prefix": "",
       "name": "prob.iter_count_iter()"
      }
     },
     "output_type": "display_data"
    },
    {
     "data": {
      "text/markdown": [
       "`iter_count_iter()`"
      ],
      "text/plain": [
       "<IPython.core.display.Markdown object>"
      ]
     },
     "metadata": {
      "scrapbook": {
       "mime_prefix": "",
       "name": "iter_count_iter()"
      }
     },
     "output_type": "display_data"
    },
    {
     "data": {
      "text/markdown": [
       "`prob.link_phases()`"
      ],
      "text/plain": [
       "<IPython.core.display.Markdown object>"
      ]
     },
     "metadata": {
      "scrapbook": {
       "mime_prefix": "",
       "name": "prob.link_phases()"
      }
     },
     "output_type": "display_data"
    },
    {
     "data": {
      "text/markdown": [
       "`link_phases()`"
      ],
      "text/plain": [
       "<IPython.core.display.Markdown object>"
      ]
     },
     "metadata": {
      "scrapbook": {
       "mime_prefix": "",
       "name": "link_phases()"
      }
     },
     "output_type": "display_data"
    },
    {
     "data": {
      "text/markdown": [
       "`prob.list_driver_vars()`"
      ],
      "text/plain": [
       "<IPython.core.display.Markdown object>"
      ]
     },
     "metadata": {
      "scrapbook": {
       "mime_prefix": "",
       "name": "prob.list_driver_vars()"
      }
     },
     "output_type": "display_data"
    },
    {
     "data": {
      "text/markdown": [
       "`list_driver_vars()`"
      ],
      "text/plain": [
       "<IPython.core.display.Markdown object>"
      ]
     },
     "metadata": {
      "scrapbook": {
       "mime_prefix": "",
       "name": "list_driver_vars()"
      }
     },
     "output_type": "display_data"
    },
    {
     "data": {
      "text/markdown": [
       "`prob.list_indep_vars()`"
      ],
      "text/plain": [
       "<IPython.core.display.Markdown object>"
      ]
     },
     "metadata": {
      "scrapbook": {
       "mime_prefix": "",
       "name": "prob.list_indep_vars()"
      }
     },
     "output_type": "display_data"
    },
    {
     "data": {
      "text/markdown": [
       "`list_indep_vars()`"
      ],
      "text/plain": [
       "<IPython.core.display.Markdown object>"
      ]
     },
     "metadata": {
      "scrapbook": {
       "mime_prefix": "",
       "name": "list_indep_vars()"
      }
     },
     "output_type": "display_data"
    },
    {
     "data": {
      "text/markdown": [
       "`prob.list_pre_post()`"
      ],
      "text/plain": [
       "<IPython.core.display.Markdown object>"
      ]
     },
     "metadata": {
      "scrapbook": {
       "mime_prefix": "",
       "name": "prob.list_pre_post()"
      }
     },
     "output_type": "display_data"
    },
    {
     "data": {
      "text/markdown": [
       "`list_pre_post()`"
      ],
      "text/plain": [
       "<IPython.core.display.Markdown object>"
      ]
     },
     "metadata": {
      "scrapbook": {
       "mime_prefix": "",
       "name": "list_pre_post()"
      }
     },
     "output_type": "display_data"
    },
    {
     "data": {
      "text/markdown": [
       "`prob.list_problem_vars()`"
      ],
      "text/plain": [
       "<IPython.core.display.Markdown object>"
      ]
     },
     "metadata": {
      "scrapbook": {
       "mime_prefix": "",
       "name": "prob.list_problem_vars()"
      }
     },
     "output_type": "display_data"
    },
    {
     "data": {
      "text/markdown": [
       "`list_problem_vars()`"
      ],
      "text/plain": [
       "<IPython.core.display.Markdown object>"
      ]
     },
     "metadata": {
      "scrapbook": {
       "mime_prefix": "",
       "name": "list_problem_vars()"
      }
     },
     "output_type": "display_data"
    },
    {
     "data": {
      "text/markdown": [
       "`prob.load_case()`"
      ],
      "text/plain": [
       "<IPython.core.display.Markdown object>"
      ]
     },
     "metadata": {
      "scrapbook": {
       "mime_prefix": "",
       "name": "prob.load_case()"
      }
     },
     "output_type": "display_data"
    },
    {
     "data": {
      "text/markdown": [
       "`load_case()`"
      ],
      "text/plain": [
       "<IPython.core.display.Markdown object>"
      ]
     },
     "metadata": {
      "scrapbook": {
       "mime_prefix": "",
       "name": "load_case()"
      }
     },
     "output_type": "display_data"
    },
    {
     "data": {
      "text/markdown": [
       "`prob.load_inputs()`"
      ],
      "text/plain": [
       "<IPython.core.display.Markdown object>"
      ]
     },
     "metadata": {
      "scrapbook": {
       "mime_prefix": "",
       "name": "prob.load_inputs()"
      }
     },
     "output_type": "display_data"
    },
    {
     "data": {
      "text/markdown": [
       "`load_inputs()`"
      ],
      "text/plain": [
       "<IPython.core.display.Markdown object>"
      ]
     },
     "metadata": {
      "scrapbook": {
       "mime_prefix": "",
       "name": "load_inputs()"
      }
     },
     "output_type": "display_data"
    },
    {
     "data": {
      "text/markdown": [
       "`prob.phase_separator()`"
      ],
      "text/plain": [
       "<IPython.core.display.Markdown object>"
      ]
     },
     "metadata": {
      "scrapbook": {
       "mime_prefix": "",
       "name": "prob.phase_separator()"
      }
     },
     "output_type": "display_data"
    },
    {
     "data": {
      "text/markdown": [
       "`phase_separator()`"
      ],
      "text/plain": [
       "<IPython.core.display.Markdown object>"
      ]
     },
     "metadata": {
      "scrapbook": {
       "mime_prefix": "",
       "name": "phase_separator()"
      }
     },
     "output_type": "display_data"
    },
    {
     "data": {
      "text/markdown": [
       "`prob.record()`"
      ],
      "text/plain": [
       "<IPython.core.display.Markdown object>"
      ]
     },
     "metadata": {
      "scrapbook": {
       "mime_prefix": "",
       "name": "prob.record()"
      }
     },
     "output_type": "display_data"
    },
    {
     "data": {
      "text/markdown": [
       "`record()`"
      ],
      "text/plain": [
       "<IPython.core.display.Markdown object>"
      ]
     },
     "metadata": {
      "scrapbook": {
       "mime_prefix": "",
       "name": "record()"
      }
     },
     "output_type": "display_data"
    },
    {
     "data": {
      "text/markdown": [
       "`prob.run_aviary_problem()`"
      ],
      "text/plain": [
       "<IPython.core.display.Markdown object>"
      ]
     },
     "metadata": {
      "scrapbook": {
       "mime_prefix": "",
       "name": "prob.run_aviary_problem()"
      }
     },
     "output_type": "display_data"
    },
    {
     "data": {
      "text/markdown": [
       "`run_aviary_problem()`"
      ],
      "text/plain": [
       "<IPython.core.display.Markdown object>"
      ]
     },
     "metadata": {
      "scrapbook": {
       "mime_prefix": "",
       "name": "run_aviary_problem()"
      }
     },
     "output_type": "display_data"
    },
    {
     "data": {
      "text/markdown": [
       "`prob.run_driver()`"
      ],
      "text/plain": [
       "<IPython.core.display.Markdown object>"
      ]
     },
     "metadata": {
      "scrapbook": {
       "mime_prefix": "",
       "name": "prob.run_driver()"
      }
     },
     "output_type": "display_data"
    },
    {
     "data": {
      "text/markdown": [
       "`run_driver()`"
      ],
      "text/plain": [
       "<IPython.core.display.Markdown object>"
      ]
     },
     "metadata": {
      "scrapbook": {
       "mime_prefix": "",
       "name": "run_driver()"
      }
     },
     "output_type": "display_data"
    },
    {
     "data": {
      "text/markdown": [
       "`prob.run_model()`"
      ],
      "text/plain": [
       "<IPython.core.display.Markdown object>"
      ]
     },
     "metadata": {
      "scrapbook": {
       "mime_prefix": "",
       "name": "prob.run_model()"
      }
     },
     "output_type": "display_data"
    },
    {
     "data": {
      "text/markdown": [
       "`run_model()`"
      ],
      "text/plain": [
       "<IPython.core.display.Markdown object>"
      ]
     },
     "metadata": {
      "scrapbook": {
       "mime_prefix": "",
       "name": "run_model()"
      }
     },
     "output_type": "display_data"
    },
    {
     "data": {
      "text/markdown": [
       "`prob.save_sizing_to_json()`"
      ],
      "text/plain": [
       "<IPython.core.display.Markdown object>"
      ]
     },
     "metadata": {
      "scrapbook": {
       "mime_prefix": "",
       "name": "prob.save_sizing_to_json()"
      }
     },
     "output_type": "display_data"
    },
    {
     "data": {
      "text/markdown": [
       "`save_sizing_to_json()`"
      ],
      "text/plain": [
       "<IPython.core.display.Markdown object>"
      ]
     },
     "metadata": {
      "scrapbook": {
       "mime_prefix": "",
       "name": "save_sizing_to_json()"
      }
     },
     "output_type": "display_data"
    },
    {
     "data": {
      "text/markdown": [
       "`prob.set_complex_step_mode()`"
      ],
      "text/plain": [
       "<IPython.core.display.Markdown object>"
      ]
     },
     "metadata": {
      "scrapbook": {
       "mime_prefix": "",
       "name": "prob.set_complex_step_mode()"
      }
     },
     "output_type": "display_data"
    },
    {
     "data": {
      "text/markdown": [
       "`set_complex_step_mode()`"
      ],
      "text/plain": [
       "<IPython.core.display.Markdown object>"
      ]
     },
     "metadata": {
      "scrapbook": {
       "mime_prefix": "",
       "name": "set_complex_step_mode()"
      }
     },
     "output_type": "display_data"
    },
    {
     "data": {
      "text/markdown": [
       "`prob.set_initial_guesses()`"
      ],
      "text/plain": [
       "<IPython.core.display.Markdown object>"
      ]
     },
     "metadata": {
      "scrapbook": {
       "mime_prefix": "",
       "name": "prob.set_initial_guesses()"
      }
     },
     "output_type": "display_data"
    },
    {
     "data": {
      "text/markdown": [
       "`set_initial_guesses()`"
      ],
      "text/plain": [
       "<IPython.core.display.Markdown object>"
      ]
     },
     "metadata": {
      "scrapbook": {
       "mime_prefix": "",
       "name": "set_initial_guesses()"
      }
     },
     "output_type": "display_data"
    },
    {
     "data": {
      "text/markdown": [
       "`prob.set_solver_print()`"
      ],
      "text/plain": [
       "<IPython.core.display.Markdown object>"
      ]
     },
     "metadata": {
      "scrapbook": {
       "mime_prefix": "",
       "name": "prob.set_solver_print()"
      }
     },
     "output_type": "display_data"
    },
    {
     "data": {
      "text/markdown": [
       "`set_solver_print()`"
      ],
      "text/plain": [
       "<IPython.core.display.Markdown object>"
      ]
     },
     "metadata": {
      "scrapbook": {
       "mime_prefix": "",
       "name": "set_solver_print()"
      }
     },
     "output_type": "display_data"
    },
    {
     "data": {
      "text/markdown": [
       "`prob.set_val()`"
      ],
      "text/plain": [
       "<IPython.core.display.Markdown object>"
      ]
     },
     "metadata": {
      "scrapbook": {
       "mime_prefix": "",
       "name": "prob.set_val()"
      }
     },
     "output_type": "display_data"
    },
    {
     "data": {
      "text/markdown": [
       "`set_val()`"
      ],
      "text/plain": [
       "<IPython.core.display.Markdown object>"
      ]
     },
     "metadata": {
      "scrapbook": {
       "mime_prefix": "",
       "name": "set_val()"
      }
     },
     "output_type": "display_data"
    },
    {
     "data": {
      "text/markdown": [
       "`prob.setup()`"
      ],
      "text/plain": [
       "<IPython.core.display.Markdown object>"
      ]
     },
     "metadata": {
      "scrapbook": {
       "mime_prefix": "",
       "name": "prob.setup()"
      }
     },
     "output_type": "display_data"
    },
    {
     "data": {
      "text/markdown": [
       "`setup()`"
      ],
      "text/plain": [
       "<IPython.core.display.Markdown object>"
      ]
     },
     "metadata": {
      "scrapbook": {
       "mime_prefix": "",
       "name": "setup()"
      }
     },
     "output_type": "display_data"
    }
   ],
   "source": [
    "# Testing Cell\n",
    "import aviary.api as av\n",
    "from aviary.interface.methods_for_level2 import AviaryGroup, AviaryProblem\n",
    "from aviary.utils.doctape import glue_class_functions, glue_variable\n",
    "\n",
    "current_glued_vars = []\n",
    "\n",
    "glue_variable(av.EquationsOfMotion.HEIGHT_ENERGY.value, md_code=False)\n",
    "glue_variable(av.EquationsOfMotion.TWO_DEGREES_OF_FREEDOM.value, md_code=False)\n",
    "\n",
    "AnalysisScheme = av.AnalysisScheme\n",
    "glue_variable(AnalysisScheme.COLLOCATION.name.lower(), md_code=False)\n",
    "glue_variable(AnalysisScheme.SHOOTING.name.lower(), md_code=False)\n",
    "\n",
    "ag = AviaryGroup()\n",
    "opts = list(ag.options)\n",
    "for opt in opts:\n",
    "    glue_variable(opt, md_code=True)\n",
    "\n",
    "folder = 'examples/reserve_missions/'\n",
    "\n",
    "str_run_aviary_example = 'run_reserve_mission_multiphase.py'\n",
    "file_path = av.get_path(folder + str_run_aviary_example)\n",
    "glue_variable(file_path.name, md_code=True)\n",
    "\n",
    "str_run_aviary_example = 'run_2dof_reserve_mission_multiphase.py'\n",
    "file_path = av.get_path(folder + str_run_aviary_example)\n",
    "glue_variable(file_path.name, md_code=True)\n",
    "\n",
    "# Get all functions of class AviaryProblem\n",
    "glue_class_functions(AviaryProblem, current_glued_vars, pre_fix='prob')\n"
   ]
  },
  {
   "cell_type": "markdown",
   "metadata": {},
   "source": [
    "# Reserve Mission\n",
    "\n",
    "## Overview\n",
    "\n",
    "Reserve missions are enabled for the following mission types:\n",
    "\n",
    "* {glue:md}`height_energy` ({glue:md}`collocation`) (completed)\n",
    "* {glue:md}`2DOF` ({glue:md}`collocation`) (complete)\n",
    "* {glue:md}`2DOF` ({glue:md}`shooting`)    (in-progress)\n",
    "* {glue:md}`height_energy` ({glue:md}`shooting`)    (future work)\n",
    "\n",
    "A reserve mission can be created by appending one or more reserve phases to {glue:md}`phase_info` after the last phase of the regular mission.\n",
    "To create a simple reserve mission, copy your current cruise phase which is located in {glue:md}`phase_info`.\n",
    "\n",
    "```{note}\n",
    "You may need to revise some of your assumptions for the copied phase if you are making a reserve phase that is radically different than the original (i.e. original phase was to travel 3000km but reserve phase is 100km).\n",
    "```\n",
    "\n",
    "Append that phase to the end of {glue:md}`phase_info`, name it `reserve_cruise` and add `\"reserve\": True,` to `user_options` for this phase.\n",
    "There are two optional flags that can now be added to `user_options`.\n",
    "The `\"target_duration\"` option creates a phase requiring the aircraft to fly for a specific amount of time.\n",
    "The `\"target_distance\"` option creates a phase requiring the aircraft to fly for a specific distance.\n",
    "Avoid using the optional flag if you have a reserve phase (i.e climb or descent) where you just want that phase to be completed as quickly as possible.\n",
    "The optional flags should not be combined as they will create overlapping constraints creating an infeasible problem."
   ]
  },
  {
   "cell_type": "code",
   "execution_count": 1,
   "metadata": {
    "tags": [
     "remove-cell"
    ]
   },
   "outputs": [
    {
     "data": {
      "application/javascript": "(function(root) {\n  function now() {\n    return new Date();\n  }\n\n  var force = true;\n  var py_version = '3.3.2'.replace('rc', '-rc.').replace('.dev', '-dev.');\n  var reloading = false;\n  var Bokeh = root.Bokeh;\n\n  if (typeof (root._bokeh_timeout) === \"undefined\" || force) {\n    root._bokeh_timeout = Date.now() + 5000;\n    root._bokeh_failed_load = false;\n  }\n\n  function run_callbacks() {\n    try {\n      root._bokeh_onload_callbacks.forEach(function(callback) {\n        if (callback != null)\n          callback();\n      });\n    } finally {\n      delete root._bokeh_onload_callbacks;\n    }\n    console.debug(\"Bokeh: all callbacks have finished\");\n  }\n\n  function load_libs(css_urls, js_urls, js_modules, js_exports, callback) {\n    if (css_urls == null) css_urls = [];\n    if (js_urls == null) js_urls = [];\n    if (js_modules == null) js_modules = [];\n    if (js_exports == null) js_exports = {};\n\n    root._bokeh_onload_callbacks.push(callback);\n\n    if (root._bokeh_is_loading > 0) {\n      console.debug(\"Bokeh: BokehJS is being loaded, scheduling callback at\", now());\n      return null;\n    }\n    if (js_urls.length === 0 && js_modules.length === 0 && Object.keys(js_exports).length === 0) {\n      run_callbacks();\n      return null;\n    }\n    if (!reloading) {\n      console.debug(\"Bokeh: BokehJS not loaded, scheduling load and callback at\", now());\n    }\n\n    function on_load() {\n      root._bokeh_is_loading--;\n      if (root._bokeh_is_loading === 0) {\n        console.debug(\"Bokeh: all BokehJS libraries/stylesheets loaded\");\n        run_callbacks()\n      }\n    }\n    window._bokeh_on_load = on_load\n\n    function on_error() {\n      console.error(\"failed to load \" + url);\n    }\n\n    var skip = [];\n    if (window.requirejs) {\n      window.requirejs.config({'packages': {}, 'paths': {'jspanel': 'https://cdn.jsdelivr.net/npm/jspanel4@4.12.0/dist/jspanel', 'jspanel-modal': 'https://cdn.jsdelivr.net/npm/jspanel4@4.12.0/dist/extensions/modal/jspanel.modal', 'jspanel-tooltip': 'https://cdn.jsdelivr.net/npm/jspanel4@4.12.0/dist/extensions/tooltip/jspanel.tooltip', 'jspanel-hint': 'https://cdn.jsdelivr.net/npm/jspanel4@4.12.0/dist/extensions/hint/jspanel.hint', 'jspanel-layout': 'https://cdn.jsdelivr.net/npm/jspanel4@4.12.0/dist/extensions/layout/jspanel.layout', 'jspanel-contextmenu': 'https://cdn.jsdelivr.net/npm/jspanel4@4.12.0/dist/extensions/contextmenu/jspanel.contextmenu', 'jspanel-dock': 'https://cdn.jsdelivr.net/npm/jspanel4@4.12.0/dist/extensions/dock/jspanel.dock', 'gridstack': 'https://cdn.jsdelivr.net/npm/gridstack@7.2.3/dist/gridstack-all', 'notyf': 'https://cdn.jsdelivr.net/npm/notyf@3/notyf.min'}, 'shim': {'jspanel': {'exports': 'jsPanel'}, 'gridstack': {'exports': 'GridStack'}}});\n      require([\"jspanel\"], function(jsPanel) {\n\twindow.jsPanel = jsPanel\n\ton_load()\n      })\n      require([\"jspanel-modal\"], function() {\n\ton_load()\n      })\n      require([\"jspanel-tooltip\"], function() {\n\ton_load()\n      })\n      require([\"jspanel-hint\"], function() {\n\ton_load()\n      })\n      require([\"jspanel-layout\"], function() {\n\ton_load()\n      })\n      require([\"jspanel-contextmenu\"], function() {\n\ton_load()\n      })\n      require([\"jspanel-dock\"], function() {\n\ton_load()\n      })\n      require([\"gridstack\"], function(GridStack) {\n\twindow.GridStack = GridStack\n\ton_load()\n      })\n      require([\"notyf\"], function() {\n\ton_load()\n      })\n      root._bokeh_is_loading = css_urls.length + 9;\n    } else {\n      root._bokeh_is_loading = css_urls.length + js_urls.length + js_modules.length + Object.keys(js_exports).length;\n    }\n\n    var existing_stylesheets = []\n    var links = document.getElementsByTagName('link')\n    for (var i = 0; i < links.length; i++) {\n      var link = links[i]\n      if (link.href != null) {\n\texisting_stylesheets.push(link.href)\n      }\n    }\n    for (var i = 0; i < css_urls.length; i++) {\n      var url = css_urls[i];\n      if (existing_stylesheets.indexOf(url) !== -1) {\n\ton_load()\n\tcontinue;\n      }\n      const element = document.createElement(\"link\");\n      element.onload = on_load;\n      element.onerror = on_error;\n      element.rel = \"stylesheet\";\n      element.type = \"text/css\";\n      element.href = url;\n      console.debug(\"Bokeh: injecting link tag for BokehJS stylesheet: \", url);\n      document.body.appendChild(element);\n    }    if (((window['jsPanel'] !== undefined) && (!(window['jsPanel'] instanceof HTMLElement))) || window.requirejs) {\n      var urls = ['https://cdn.holoviz.org/panel/1.3.6/dist/bundled/floatpanel/jspanel4@4.12.0/dist/jspanel.js', 'https://cdn.holoviz.org/panel/1.3.6/dist/bundled/floatpanel/jspanel4@4.12.0/dist/extensions/modal/jspanel.modal.js', 'https://cdn.holoviz.org/panel/1.3.6/dist/bundled/floatpanel/jspanel4@4.12.0/dist/extensions/tooltip/jspanel.tooltip.js', 'https://cdn.holoviz.org/panel/1.3.6/dist/bundled/floatpanel/jspanel4@4.12.0/dist/extensions/hint/jspanel.hint.js', 'https://cdn.holoviz.org/panel/1.3.6/dist/bundled/floatpanel/jspanel4@4.12.0/dist/extensions/layout/jspanel.layout.js', 'https://cdn.holoviz.org/panel/1.3.6/dist/bundled/floatpanel/jspanel4@4.12.0/dist/extensions/contextmenu/jspanel.contextmenu.js', 'https://cdn.holoviz.org/panel/1.3.6/dist/bundled/floatpanel/jspanel4@4.12.0/dist/extensions/dock/jspanel.dock.js'];\n      for (var i = 0; i < urls.length; i++) {\n        skip.push(urls[i])\n      }\n    }    if (((window['GridStack'] !== undefined) && (!(window['GridStack'] instanceof HTMLElement))) || window.requirejs) {\n      var urls = ['https://cdn.holoviz.org/panel/1.3.6/dist/bundled/gridstack/gridstack@7.2.3/dist/gridstack-all.js'];\n      for (var i = 0; i < urls.length; i++) {\n        skip.push(urls[i])\n      }\n    }    if (((window['Notyf'] !== undefined) && (!(window['Notyf'] instanceof HTMLElement))) || window.requirejs) {\n      var urls = ['https://cdn.holoviz.org/panel/1.3.6/dist/bundled/notificationarea/notyf@3/notyf.min.js'];\n      for (var i = 0; i < urls.length; i++) {\n        skip.push(urls[i])\n      }\n    }    var existing_scripts = []\n    var scripts = document.getElementsByTagName('script')\n    for (var i = 0; i < scripts.length; i++) {\n      var script = scripts[i]\n      if (script.src != null) {\n\texisting_scripts.push(script.src)\n      }\n    }\n    for (var i = 0; i < js_urls.length; i++) {\n      var url = js_urls[i];\n      if (skip.indexOf(url) !== -1 || existing_scripts.indexOf(url) !== -1) {\n\tif (!window.requirejs) {\n\t  on_load();\n\t}\n\tcontinue;\n      }\n      var element = document.createElement('script');\n      element.onload = on_load;\n      element.onerror = on_error;\n      element.async = false;\n      element.src = url;\n      console.debug(\"Bokeh: injecting script tag for BokehJS library: \", url);\n      document.head.appendChild(element);\n    }\n    for (var i = 0; i < js_modules.length; i++) {\n      var url = js_modules[i];\n      if (skip.indexOf(url) !== -1 || existing_scripts.indexOf(url) !== -1) {\n\tif (!window.requirejs) {\n\t  on_load();\n\t}\n\tcontinue;\n      }\n      var element = document.createElement('script');\n      element.onload = on_load;\n      element.onerror = on_error;\n      element.async = false;\n      element.src = url;\n      element.type = \"module\";\n      console.debug(\"Bokeh: injecting script tag for BokehJS library: \", url);\n      document.head.appendChild(element);\n    }\n    for (const name in js_exports) {\n      var url = js_exports[name];\n      if (skip.indexOf(url) >= 0 || root[name] != null) {\n\tif (!window.requirejs) {\n\t  on_load();\n\t}\n\tcontinue;\n      }\n      var element = document.createElement('script');\n      element.onerror = on_error;\n      element.async = false;\n      element.type = \"module\";\n      console.debug(\"Bokeh: injecting script tag for BokehJS library: \", url);\n      element.textContent = `\n      import ${name} from \"${url}\"\n      window.${name} = ${name}\n      window._bokeh_on_load()\n      `\n      document.head.appendChild(element);\n    }\n    if (!js_urls.length && !js_modules.length) {\n      on_load()\n    }\n  };\n\n  function inject_raw_css(css) {\n    const element = document.createElement(\"style\");\n    element.appendChild(document.createTextNode(css));\n    document.body.appendChild(element);\n  }\n\n  var js_urls = [\"https://cdn.bokeh.org/bokeh/release/bokeh-3.3.2.min.js\", \"https://cdn.bokeh.org/bokeh/release/bokeh-gl-3.3.2.min.js\", \"https://cdn.bokeh.org/bokeh/release/bokeh-widgets-3.3.2.min.js\", \"https://cdn.bokeh.org/bokeh/release/bokeh-tables-3.3.2.min.js\", \"https://cdn.holoviz.org/panel/1.3.6/dist/panel.min.js\"];\n  var js_modules = [];\n  var js_exports = {};\n  var css_urls = [];\n  var inline_js = [    function(Bokeh) {\n      Bokeh.set_log_level(\"info\");\n    },\nfunction(Bokeh) {} // ensure no trailing comma for IE\n  ];\n\n  function run_inline_js() {\n    if ((root.Bokeh !== undefined) || (force === true)) {\n      for (var i = 0; i < inline_js.length; i++) {\n\ttry {\n          inline_js[i].call(root, root.Bokeh);\n\t} catch(e) {\n\t  if (!reloading) {\n\t    throw e;\n\t  }\n\t}\n      }\n      // Cache old bokeh versions\n      if (Bokeh != undefined && !reloading) {\n\tvar NewBokeh = root.Bokeh;\n\tif (Bokeh.versions === undefined) {\n\t  Bokeh.versions = new Map();\n\t}\n\tif (NewBokeh.version !== Bokeh.version) {\n\t  Bokeh.versions.set(NewBokeh.version, NewBokeh)\n\t}\n\troot.Bokeh = Bokeh;\n      }} else if (Date.now() < root._bokeh_timeout) {\n      setTimeout(run_inline_js, 100);\n    } else if (!root._bokeh_failed_load) {\n      console.log(\"Bokeh: BokehJS failed to load within specified timeout.\");\n      root._bokeh_failed_load = true;\n    }\n    root._bokeh_is_initializing = false\n  }\n\n  function load_or_wait() {\n    // Implement a backoff loop that tries to ensure we do not load multiple\n    // versions of Bokeh and its dependencies at the same time.\n    // In recent versions we use the root._bokeh_is_initializing flag\n    // to determine whether there is an ongoing attempt to initialize\n    // bokeh, however for backward compatibility we also try to ensure\n    // that we do not start loading a newer (Panel>=1.0 and Bokeh>3) version\n    // before older versions are fully initialized.\n    if (root._bokeh_is_initializing && Date.now() > root._bokeh_timeout) {\n      root._bokeh_is_initializing = false;\n      root._bokeh_onload_callbacks = undefined;\n      console.log(\"Bokeh: BokehJS was loaded multiple times but one version failed to initialize.\");\n      load_or_wait();\n    } else if (root._bokeh_is_initializing || (typeof root._bokeh_is_initializing === \"undefined\" && root._bokeh_onload_callbacks !== undefined)) {\n      setTimeout(load_or_wait, 100);\n    } else {\n      root._bokeh_is_initializing = true\n      root._bokeh_onload_callbacks = []\n      var bokeh_loaded = Bokeh != null && (Bokeh.version === py_version || (Bokeh.versions !== undefined && Bokeh.versions.has(py_version)));\n      if (!reloading && !bokeh_loaded) {\n\troot.Bokeh = undefined;\n      }\n      load_libs(css_urls, js_urls, js_modules, js_exports, function() {\n\tconsole.debug(\"Bokeh: BokehJS plotting callback run at\", now());\n\trun_inline_js();\n      });\n    }\n  }\n  // Give older versions of the autoload script a head-start to ensure\n  // they initialize before we start loading newer version.\n  setTimeout(load_or_wait, 100)\n}(window));",
      "application/vnd.holoviews_load.v0+json": ""
     },
     "metadata": {},
     "output_type": "display_data"
    },
    {
     "data": {
      "application/javascript": "\nif ((window.PyViz === undefined) || (window.PyViz instanceof HTMLElement)) {\n  window.PyViz = {comms: {}, comm_status:{}, kernels:{}, receivers: {}, plot_index: []}\n}\n\n\n    function JupyterCommManager() {\n    }\n\n    JupyterCommManager.prototype.register_target = function(plot_id, comm_id, msg_handler) {\n      if (window.comm_manager || ((window.Jupyter !== undefined) && (Jupyter.notebook.kernel != null))) {\n        var comm_manager = window.comm_manager || Jupyter.notebook.kernel.comm_manager;\n        comm_manager.register_target(comm_id, function(comm) {\n          comm.on_msg(msg_handler);\n        });\n      } else if ((plot_id in window.PyViz.kernels) && (window.PyViz.kernels[plot_id])) {\n        window.PyViz.kernels[plot_id].registerCommTarget(comm_id, function(comm) {\n          comm.onMsg = msg_handler;\n        });\n      } else if (typeof google != 'undefined' && google.colab.kernel != null) {\n        google.colab.kernel.comms.registerTarget(comm_id, (comm) => {\n          var messages = comm.messages[Symbol.asyncIterator]();\n          function processIteratorResult(result) {\n            var message = result.value;\n            console.log(message)\n            var content = {data: message.data, comm_id};\n            var buffers = []\n            for (var buffer of message.buffers || []) {\n              buffers.push(new DataView(buffer))\n            }\n            var metadata = message.metadata || {};\n            var msg = {content, buffers, metadata}\n            msg_handler(msg);\n            return messages.next().then(processIteratorResult);\n          }\n          return messages.next().then(processIteratorResult);\n        })\n      }\n    }\n\n    JupyterCommManager.prototype.get_client_comm = function(plot_id, comm_id, msg_handler) {\n      if (comm_id in window.PyViz.comms) {\n        return window.PyViz.comms[comm_id];\n      } else if (window.comm_manager || ((window.Jupyter !== undefined) && (Jupyter.notebook.kernel != null))) {\n        var comm_manager = window.comm_manager || Jupyter.notebook.kernel.comm_manager;\n        var comm = comm_manager.new_comm(comm_id, {}, {}, {}, comm_id);\n        if (msg_handler) {\n          comm.on_msg(msg_handler);\n        }\n      } else if ((plot_id in window.PyViz.kernels) && (window.PyViz.kernels[plot_id])) {\n        var comm = window.PyViz.kernels[plot_id].connectToComm(comm_id);\n        comm.open();\n        if (msg_handler) {\n          comm.onMsg = msg_handler;\n        }\n      } else if (typeof google != 'undefined' && google.colab.kernel != null) {\n        var comm_promise = google.colab.kernel.comms.open(comm_id)\n        comm_promise.then((comm) => {\n          window.PyViz.comms[comm_id] = comm;\n          if (msg_handler) {\n            var messages = comm.messages[Symbol.asyncIterator]();\n            function processIteratorResult(result) {\n              var message = result.value;\n              var content = {data: message.data};\n              var metadata = message.metadata || {comm_id};\n              var msg = {content, metadata}\n              msg_handler(msg);\n              return messages.next().then(processIteratorResult);\n            }\n            return messages.next().then(processIteratorResult);\n          }\n        }) \n        var sendClosure = (data, metadata, buffers, disposeOnDone) => {\n          return comm_promise.then((comm) => {\n            comm.send(data, metadata, buffers, disposeOnDone);\n          });\n        };\n        var comm = {\n          send: sendClosure\n        };\n      }\n      window.PyViz.comms[comm_id] = comm;\n      return comm;\n    }\n    window.PyViz.comm_manager = new JupyterCommManager();\n    \n\n\nvar JS_MIME_TYPE = 'application/javascript';\nvar HTML_MIME_TYPE = 'text/html';\nvar EXEC_MIME_TYPE = 'application/vnd.holoviews_exec.v0+json';\nvar CLASS_NAME = 'output';\n\n/**\n * Render data to the DOM node\n */\nfunction render(props, node) {\n  var div = document.createElement(\"div\");\n  var script = document.createElement(\"script\");\n  node.appendChild(div);\n  node.appendChild(script);\n}\n\n/**\n * Handle when a new output is added\n */\nfunction handle_add_output(event, handle) {\n  var output_area = handle.output_area;\n  var output = handle.output;\n  if ((output.data == undefined) || (!output.data.hasOwnProperty(EXEC_MIME_TYPE))) {\n    return\n  }\n  var id = output.metadata[EXEC_MIME_TYPE][\"id\"];\n  var toinsert = output_area.element.find(\".\" + CLASS_NAME.split(' ')[0]);\n  if (id !== undefined) {\n    var nchildren = toinsert.length;\n    var html_node = toinsert[nchildren-1].children[0];\n    html_node.innerHTML = output.data[HTML_MIME_TYPE];\n    var scripts = [];\n    var nodelist = html_node.querySelectorAll(\"script\");\n    for (var i in nodelist) {\n      if (nodelist.hasOwnProperty(i)) {\n        scripts.push(nodelist[i])\n      }\n    }\n\n    scripts.forEach( function (oldScript) {\n      var newScript = document.createElement(\"script\");\n      var attrs = [];\n      var nodemap = oldScript.attributes;\n      for (var j in nodemap) {\n        if (nodemap.hasOwnProperty(j)) {\n          attrs.push(nodemap[j])\n        }\n      }\n      attrs.forEach(function(attr) { newScript.setAttribute(attr.name, attr.value) });\n      newScript.appendChild(document.createTextNode(oldScript.innerHTML));\n      oldScript.parentNode.replaceChild(newScript, oldScript);\n    });\n    if (JS_MIME_TYPE in output.data) {\n      toinsert[nchildren-1].children[1].textContent = output.data[JS_MIME_TYPE];\n    }\n    output_area._hv_plot_id = id;\n    if ((window.Bokeh !== undefined) && (id in Bokeh.index)) {\n      window.PyViz.plot_index[id] = Bokeh.index[id];\n    } else {\n      window.PyViz.plot_index[id] = null;\n    }\n  } else if (output.metadata[EXEC_MIME_TYPE][\"server_id\"] !== undefined) {\n    var bk_div = document.createElement(\"div\");\n    bk_div.innerHTML = output.data[HTML_MIME_TYPE];\n    var script_attrs = bk_div.children[0].attributes;\n    for (var i = 0; i < script_attrs.length; i++) {\n      toinsert[toinsert.length - 1].childNodes[1].setAttribute(script_attrs[i].name, script_attrs[i].value);\n    }\n    // store reference to server id on output_area\n    output_area._bokeh_server_id = output.metadata[EXEC_MIME_TYPE][\"server_id\"];\n  }\n}\n\n/**\n * Handle when an output is cleared or removed\n */\nfunction handle_clear_output(event, handle) {\n  var id = handle.cell.output_area._hv_plot_id;\n  var server_id = handle.cell.output_area._bokeh_server_id;\n  if (((id === undefined) || !(id in PyViz.plot_index)) && (server_id !== undefined)) { return; }\n  var comm = window.PyViz.comm_manager.get_client_comm(\"hv-extension-comm\", \"hv-extension-comm\", function () {});\n  if (server_id !== null) {\n    comm.send({event_type: 'server_delete', 'id': server_id});\n    return;\n  } else if (comm !== null) {\n    comm.send({event_type: 'delete', 'id': id});\n  }\n  delete PyViz.plot_index[id];\n  if ((window.Bokeh !== undefined) & (id in window.Bokeh.index)) {\n    var doc = window.Bokeh.index[id].model.document\n    doc.clear();\n    const i = window.Bokeh.documents.indexOf(doc);\n    if (i > -1) {\n      window.Bokeh.documents.splice(i, 1);\n    }\n  }\n}\n\n/**\n * Handle kernel restart event\n */\nfunction handle_kernel_cleanup(event, handle) {\n  delete PyViz.comms[\"hv-extension-comm\"];\n  window.PyViz.plot_index = {}\n}\n\n/**\n * Handle update_display_data messages\n */\nfunction handle_update_output(event, handle) {\n  handle_clear_output(event, {cell: {output_area: handle.output_area}})\n  handle_add_output(event, handle)\n}\n\nfunction register_renderer(events, OutputArea) {\n  function append_mime(data, metadata, element) {\n    // create a DOM node to render to\n    var toinsert = this.create_output_subarea(\n    metadata,\n    CLASS_NAME,\n    EXEC_MIME_TYPE\n    );\n    this.keyboard_manager.register_events(toinsert);\n    // Render to node\n    var props = {data: data, metadata: metadata[EXEC_MIME_TYPE]};\n    render(props, toinsert[0]);\n    element.append(toinsert);\n    return toinsert\n  }\n\n  events.on('output_added.OutputArea', handle_add_output);\n  events.on('output_updated.OutputArea', handle_update_output);\n  events.on('clear_output.CodeCell', handle_clear_output);\n  events.on('delete.Cell', handle_clear_output);\n  events.on('kernel_ready.Kernel', handle_kernel_cleanup);\n\n  OutputArea.prototype.register_mime_type(EXEC_MIME_TYPE, append_mime, {\n    safe: true,\n    index: 0\n  });\n}\n\nif (window.Jupyter !== undefined) {\n  try {\n    var events = require('base/js/events');\n    var OutputArea = require('notebook/js/outputarea').OutputArea;\n    if (OutputArea.prototype.mime_types().indexOf(EXEC_MIME_TYPE) == -1) {\n      register_renderer(events, OutputArea);\n    }\n  } catch(err) {\n  }\n}\n",
      "application/vnd.holoviews_load.v0+json": ""
     },
     "metadata": {},
     "output_type": "display_data"
    },
    {
     "data": {
      "text/html": [
       "<style>*[data-root-id],\n",
       "*[data-root-id] > * {\n",
       "  box-sizing: border-box;\n",
       "  font-family: var(--jp-ui-font-family);\n",
       "  font-size: var(--jp-ui-font-size1);\n",
       "  color: var(--vscode-editor-foreground, var(--jp-ui-font-color1));\n",
       "}\n",
       "\n",
       "/* Override VSCode background color */\n",
       ".cell-output-ipywidget-background:has(\n",
       "    > .cell-output-ipywidget-background > .lm-Widget > *[data-root-id]\n",
       "  ),\n",
       ".cell-output-ipywidget-background:has(> .lm-Widget > *[data-root-id]) {\n",
       "  background-color: transparent !important;\n",
       "}\n",
       "</style>"
      ]
     },
     "metadata": {},
     "output_type": "display_data"
    },
    {
     "data": {
      "application/vnd.holoviews_exec.v0+json": "",
      "text/html": [
       "<div id='0bbcefce-00f9-466f-aae5-ca6305b7beb0'>\n",
       "  <div id=\"e8e560cf-14b0-4f15-98fa-fcc12f4d1f7a\" data-root-id=\"0bbcefce-00f9-466f-aae5-ca6305b7beb0\" style=\"display: contents;\"></div>\n",
       "</div>\n",
       "<script type=\"application/javascript\">(function(root) {\n",
       "  var docs_json = {\"5dcc1f54-f069-4c32-9564-af5eb4ea0493\":{\"version\":\"3.3.2\",\"title\":\"Bokeh Application\",\"roots\":[{\"type\":\"object\",\"name\":\"panel.models.browser.BrowserInfo\",\"id\":\"0bbcefce-00f9-466f-aae5-ca6305b7beb0\"},{\"type\":\"object\",\"name\":\"panel.models.comm_manager.CommManager\",\"id\":\"f9274441-ac70-4ca3-a10b-50dd9e3318b7\",\"attributes\":{\"plot_id\":\"0bbcefce-00f9-466f-aae5-ca6305b7beb0\",\"comm_id\":\"e679b28bc26f49de8a12047f179c9f5c\",\"client_comm_id\":\"771d3e0b28ff459280f1e1480f587cec\"}}],\"defs\":[{\"type\":\"model\",\"name\":\"ReactiveHTML1\"},{\"type\":\"model\",\"name\":\"FlexBox1\",\"properties\":[{\"name\":\"align_content\",\"kind\":\"Any\",\"default\":\"flex-start\"},{\"name\":\"align_items\",\"kind\":\"Any\",\"default\":\"flex-start\"},{\"name\":\"flex_direction\",\"kind\":\"Any\",\"default\":\"row\"},{\"name\":\"flex_wrap\",\"kind\":\"Any\",\"default\":\"wrap\"},{\"name\":\"justify_content\",\"kind\":\"Any\",\"default\":\"flex-start\"}]},{\"type\":\"model\",\"name\":\"FloatPanel1\",\"properties\":[{\"name\":\"config\",\"kind\":\"Any\",\"default\":{\"type\":\"map\"}},{\"name\":\"contained\",\"kind\":\"Any\",\"default\":true},{\"name\":\"position\",\"kind\":\"Any\",\"default\":\"right-top\"},{\"name\":\"offsetx\",\"kind\":\"Any\",\"default\":null},{\"name\":\"offsety\",\"kind\":\"Any\",\"default\":null},{\"name\":\"theme\",\"kind\":\"Any\",\"default\":\"primary\"},{\"name\":\"status\",\"kind\":\"Any\",\"default\":\"normalized\"}]},{\"type\":\"model\",\"name\":\"GridStack1\",\"properties\":[{\"name\":\"mode\",\"kind\":\"Any\",\"default\":\"warn\"},{\"name\":\"ncols\",\"kind\":\"Any\",\"default\":null},{\"name\":\"nrows\",\"kind\":\"Any\",\"default\":null},{\"name\":\"allow_resize\",\"kind\":\"Any\",\"default\":true},{\"name\":\"allow_drag\",\"kind\":\"Any\",\"default\":true},{\"name\":\"state\",\"kind\":\"Any\",\"default\":[]}]},{\"type\":\"model\",\"name\":\"drag1\",\"properties\":[{\"name\":\"slider_width\",\"kind\":\"Any\",\"default\":5},{\"name\":\"slider_color\",\"kind\":\"Any\",\"default\":\"black\"},{\"name\":\"value\",\"kind\":\"Any\",\"default\":50}]},{\"type\":\"model\",\"name\":\"click1\",\"properties\":[{\"name\":\"terminal_output\",\"kind\":\"Any\",\"default\":\"\"},{\"name\":\"debug_name\",\"kind\":\"Any\",\"default\":\"\"},{\"name\":\"clears\",\"kind\":\"Any\",\"default\":0}]},{\"type\":\"model\",\"name\":\"copy_to_clipboard1\",\"properties\":[{\"name\":\"fill\",\"kind\":\"Any\",\"default\":\"none\"},{\"name\":\"value\",\"kind\":\"Any\",\"default\":null}]},{\"type\":\"model\",\"name\":\"FastWrapper1\",\"properties\":[{\"name\":\"object\",\"kind\":\"Any\",\"default\":null},{\"name\":\"style\",\"kind\":\"Any\",\"default\":null}]},{\"type\":\"model\",\"name\":\"NotificationAreaBase1\",\"properties\":[{\"name\":\"js_events\",\"kind\":\"Any\",\"default\":{\"type\":\"map\"}},{\"name\":\"position\",\"kind\":\"Any\",\"default\":\"bottom-right\"},{\"name\":\"_clear\",\"kind\":\"Any\",\"default\":0}]},{\"type\":\"model\",\"name\":\"NotificationArea1\",\"properties\":[{\"name\":\"js_events\",\"kind\":\"Any\",\"default\":{\"type\":\"map\"}},{\"name\":\"notifications\",\"kind\":\"Any\",\"default\":[]},{\"name\":\"position\",\"kind\":\"Any\",\"default\":\"bottom-right\"},{\"name\":\"_clear\",\"kind\":\"Any\",\"default\":0},{\"name\":\"types\",\"kind\":\"Any\",\"default\":[{\"type\":\"map\",\"entries\":[[\"type\",\"warning\"],[\"background\",\"#ffc107\"],[\"icon\",{\"type\":\"map\",\"entries\":[[\"className\",\"fas fa-exclamation-triangle\"],[\"tagName\",\"i\"],[\"color\",\"white\"]]}]]},{\"type\":\"map\",\"entries\":[[\"type\",\"info\"],[\"background\",\"#007bff\"],[\"icon\",{\"type\":\"map\",\"entries\":[[\"className\",\"fas fa-info-circle\"],[\"tagName\",\"i\"],[\"color\",\"white\"]]}]]}]}]},{\"type\":\"model\",\"name\":\"Notification\",\"properties\":[{\"name\":\"background\",\"kind\":\"Any\",\"default\":null},{\"name\":\"duration\",\"kind\":\"Any\",\"default\":3000},{\"name\":\"icon\",\"kind\":\"Any\",\"default\":null},{\"name\":\"message\",\"kind\":\"Any\",\"default\":\"\"},{\"name\":\"notification_type\",\"kind\":\"Any\",\"default\":null},{\"name\":\"_destroyed\",\"kind\":\"Any\",\"default\":false}]},{\"type\":\"model\",\"name\":\"TemplateActions1\",\"properties\":[{\"name\":\"open_modal\",\"kind\":\"Any\",\"default\":0},{\"name\":\"close_modal\",\"kind\":\"Any\",\"default\":0}]},{\"type\":\"model\",\"name\":\"BootstrapTemplateActions1\",\"properties\":[{\"name\":\"open_modal\",\"kind\":\"Any\",\"default\":0},{\"name\":\"close_modal\",\"kind\":\"Any\",\"default\":0}]},{\"type\":\"model\",\"name\":\"MaterialTemplateActions1\",\"properties\":[{\"name\":\"open_modal\",\"kind\":\"Any\",\"default\":0},{\"name\":\"close_modal\",\"kind\":\"Any\",\"default\":0}]}]}};\n",
       "  var render_items = [{\"docid\":\"5dcc1f54-f069-4c32-9564-af5eb4ea0493\",\"roots\":{\"0bbcefce-00f9-466f-aae5-ca6305b7beb0\":\"e8e560cf-14b0-4f15-98fa-fcc12f4d1f7a\"},\"root_ids\":[\"0bbcefce-00f9-466f-aae5-ca6305b7beb0\"]}];\n",
       "  var docs = Object.values(docs_json)\n",
       "  if (!docs) {\n",
       "    return\n",
       "  }\n",
       "  const py_version = docs[0].version.replace('rc', '-rc.').replace('.dev', '-dev.')\n",
       "  function embed_document(root) {\n",
       "    var Bokeh = get_bokeh(root)\n",
       "    Bokeh.embed.embed_items_notebook(docs_json, render_items);\n",
       "    for (const render_item of render_items) {\n",
       "      for (const root_id of render_item.root_ids) {\n",
       "\tconst id_el = document.getElementById(root_id)\n",
       "\tif (id_el.children.length && (id_el.children[0].className === 'bk-root')) {\n",
       "\t  const root_el = id_el.children[0]\n",
       "\t  root_el.id = root_el.id + '-rendered'\n",
       "\t}\n",
       "      }\n",
       "    }\n",
       "  }\n",
       "  function get_bokeh(root) {\n",
       "    if (root.Bokeh === undefined) {\n",
       "      return null\n",
       "    } else if (root.Bokeh.version !== py_version) {\n",
       "      if (root.Bokeh.versions === undefined || !root.Bokeh.versions.has(py_version)) {\n",
       "\treturn null\n",
       "      }\n",
       "      return root.Bokeh.versions.get(py_version);\n",
       "    } else if (root.Bokeh.version === py_version) {\n",
       "      return root.Bokeh\n",
       "    }\n",
       "    return null\n",
       "  }\n",
       "  function is_loaded(root) {\n",
       "    var Bokeh = get_bokeh(root)\n",
       "    return (Bokeh != null && Bokeh.Panel !== undefined)\n",
       "  }\n",
       "  if (is_loaded(root)) {\n",
       "    embed_document(root);\n",
       "  } else {\n",
       "    var attempts = 0;\n",
       "    var timer = setInterval(function(root) {\n",
       "      if (is_loaded(root)) {\n",
       "        clearInterval(timer);\n",
       "        embed_document(root);\n",
       "      } else if (document.readyState == \"complete\") {\n",
       "        attempts++;\n",
       "        if (attempts > 200) {\n",
       "          clearInterval(timer);\n",
       "\t  var Bokeh = get_bokeh(root)\n",
       "\t  if (Bokeh == null || Bokeh.Panel == null) {\n",
       "            console.warn(\"Panel: ERROR: Unable to run Panel code because Bokeh or Panel library is missing\");\n",
       "\t  } else {\n",
       "\t    console.warn(\"Panel: WARNING: Attempting to render but not all required libraries could be resolved.\")\n",
       "\t    embed_document(root)\n",
       "\t  }\n",
       "        }\n",
       "      }\n",
       "    }, 25, root)\n",
       "  }\n",
       "})(window);</script>"
      ]
     },
     "metadata": {
      "application/vnd.holoviews_exec.v0+json": {
       "id": "0bbcefce-00f9-466f-aae5-ca6305b7beb0"
      }
     },
     "output_type": "display_data"
    },
    {
     "data": {
      "application/javascript": "(function(root) {\n  function now() {\n    return new Date();\n  }\n\n  var force = true;\n  var py_version = '3.3.2'.replace('rc', '-rc.').replace('.dev', '-dev.');\n  var reloading = true;\n  var Bokeh = root.Bokeh;\n\n  if (typeof (root._bokeh_timeout) === \"undefined\" || force) {\n    root._bokeh_timeout = Date.now() + 5000;\n    root._bokeh_failed_load = false;\n  }\n\n  function run_callbacks() {\n    try {\n      root._bokeh_onload_callbacks.forEach(function(callback) {\n        if (callback != null)\n          callback();\n      });\n    } finally {\n      delete root._bokeh_onload_callbacks;\n    }\n    console.debug(\"Bokeh: all callbacks have finished\");\n  }\n\n  function load_libs(css_urls, js_urls, js_modules, js_exports, callback) {\n    if (css_urls == null) css_urls = [];\n    if (js_urls == null) js_urls = [];\n    if (js_modules == null) js_modules = [];\n    if (js_exports == null) js_exports = {};\n\n    root._bokeh_onload_callbacks.push(callback);\n\n    if (root._bokeh_is_loading > 0) {\n      console.debug(\"Bokeh: BokehJS is being loaded, scheduling callback at\", now());\n      return null;\n    }\n    if (js_urls.length === 0 && js_modules.length === 0 && Object.keys(js_exports).length === 0) {\n      run_callbacks();\n      return null;\n    }\n    if (!reloading) {\n      console.debug(\"Bokeh: BokehJS not loaded, scheduling load and callback at\", now());\n    }\n\n    function on_load() {\n      root._bokeh_is_loading--;\n      if (root._bokeh_is_loading === 0) {\n        console.debug(\"Bokeh: all BokehJS libraries/stylesheets loaded\");\n        run_callbacks()\n      }\n    }\n    window._bokeh_on_load = on_load\n\n    function on_error() {\n      console.error(\"failed to load \" + url);\n    }\n\n    var skip = [];\n    if (window.requirejs) {\n      window.requirejs.config({'packages': {}, 'paths': {'tabulator': 'https://cdn.jsdelivr.net/npm/tabulator-tables@5.5.0/dist/js/tabulator.min', 'moment': 'https://cdn.jsdelivr.net/npm/luxon/build/global/luxon.min', 'jspanel': 'https://cdn.jsdelivr.net/npm/jspanel4@4.12.0/dist/jspanel', 'jspanel-modal': 'https://cdn.jsdelivr.net/npm/jspanel4@4.12.0/dist/extensions/modal/jspanel.modal', 'jspanel-tooltip': 'https://cdn.jsdelivr.net/npm/jspanel4@4.12.0/dist/extensions/tooltip/jspanel.tooltip', 'jspanel-hint': 'https://cdn.jsdelivr.net/npm/jspanel4@4.12.0/dist/extensions/hint/jspanel.hint', 'jspanel-layout': 'https://cdn.jsdelivr.net/npm/jspanel4@4.12.0/dist/extensions/layout/jspanel.layout', 'jspanel-contextmenu': 'https://cdn.jsdelivr.net/npm/jspanel4@4.12.0/dist/extensions/contextmenu/jspanel.contextmenu', 'jspanel-dock': 'https://cdn.jsdelivr.net/npm/jspanel4@4.12.0/dist/extensions/dock/jspanel.dock', 'gridstack': 'https://cdn.jsdelivr.net/npm/gridstack@7.2.3/dist/gridstack-all', 'notyf': 'https://cdn.jsdelivr.net/npm/notyf@3/notyf.min'}, 'shim': {'jspanel': {'exports': 'jsPanel'}, 'gridstack': {'exports': 'GridStack'}}});\n      require([\"tabulator\"], function(Tabulator) {\n\twindow.Tabulator = Tabulator\n\ton_load()\n      })\n      require([\"moment\"], function(moment) {\n\twindow.moment = moment\n\ton_load()\n      })\n      require([\"jspanel\"], function(jsPanel) {\n\twindow.jsPanel = jsPanel\n\ton_load()\n      })\n      require([\"jspanel-modal\"], function() {\n\ton_load()\n      })\n      require([\"jspanel-tooltip\"], function() {\n\ton_load()\n      })\n      require([\"jspanel-hint\"], function() {\n\ton_load()\n      })\n      require([\"jspanel-layout\"], function() {\n\ton_load()\n      })\n      require([\"jspanel-contextmenu\"], function() {\n\ton_load()\n      })\n      require([\"jspanel-dock\"], function() {\n\ton_load()\n      })\n      require([\"gridstack\"], function(GridStack) {\n\twindow.GridStack = GridStack\n\ton_load()\n      })\n      require([\"notyf\"], function() {\n\ton_load()\n      })\n      root._bokeh_is_loading = css_urls.length + 11;\n    } else {\n      root._bokeh_is_loading = css_urls.length + js_urls.length + js_modules.length + Object.keys(js_exports).length;\n    }\n\n    var existing_stylesheets = []\n    var links = document.getElementsByTagName('link')\n    for (var i = 0; i < links.length; i++) {\n      var link = links[i]\n      if (link.href != null) {\n\texisting_stylesheets.push(link.href)\n      }\n    }\n    for (var i = 0; i < css_urls.length; i++) {\n      var url = css_urls[i];\n      if (existing_stylesheets.indexOf(url) !== -1) {\n\ton_load()\n\tcontinue;\n      }\n      const element = document.createElement(\"link\");\n      element.onload = on_load;\n      element.onerror = on_error;\n      element.rel = \"stylesheet\";\n      element.type = \"text/css\";\n      element.href = url;\n      console.debug(\"Bokeh: injecting link tag for BokehJS stylesheet: \", url);\n      document.body.appendChild(element);\n    }    if (((window['Tabulator'] !== undefined) && (!(window['Tabulator'] instanceof HTMLElement))) || window.requirejs) {\n      var urls = ['https://cdn.holoviz.org/panel/1.3.6/dist/bundled/datatabulator/tabulator-tables@5.5.0/dist/js/tabulator.min.js'];\n      for (var i = 0; i < urls.length; i++) {\n        skip.push(urls[i])\n      }\n    }    if (((window['moment'] !== undefined) && (!(window['moment'] instanceof HTMLElement))) || window.requirejs) {\n      var urls = ['https://cdn.holoviz.org/panel/1.3.6/dist/bundled/datatabulator/luxon/build/global/luxon.min.js'];\n      for (var i = 0; i < urls.length; i++) {\n        skip.push(urls[i])\n      }\n    }    if (((window['jsPanel'] !== undefined) && (!(window['jsPanel'] instanceof HTMLElement))) || window.requirejs) {\n      var urls = ['https://cdn.holoviz.org/panel/1.3.6/dist/bundled/floatpanel/jspanel4@4.12.0/dist/jspanel.js', 'https://cdn.holoviz.org/panel/1.3.6/dist/bundled/floatpanel/jspanel4@4.12.0/dist/extensions/modal/jspanel.modal.js', 'https://cdn.holoviz.org/panel/1.3.6/dist/bundled/floatpanel/jspanel4@4.12.0/dist/extensions/tooltip/jspanel.tooltip.js', 'https://cdn.holoviz.org/panel/1.3.6/dist/bundled/floatpanel/jspanel4@4.12.0/dist/extensions/hint/jspanel.hint.js', 'https://cdn.holoviz.org/panel/1.3.6/dist/bundled/floatpanel/jspanel4@4.12.0/dist/extensions/layout/jspanel.layout.js', 'https://cdn.holoviz.org/panel/1.3.6/dist/bundled/floatpanel/jspanel4@4.12.0/dist/extensions/contextmenu/jspanel.contextmenu.js', 'https://cdn.holoviz.org/panel/1.3.6/dist/bundled/floatpanel/jspanel4@4.12.0/dist/extensions/dock/jspanel.dock.js'];\n      for (var i = 0; i < urls.length; i++) {\n        skip.push(urls[i])\n      }\n    }    if (((window['GridStack'] !== undefined) && (!(window['GridStack'] instanceof HTMLElement))) || window.requirejs) {\n      var urls = ['https://cdn.holoviz.org/panel/1.3.6/dist/bundled/gridstack/gridstack@7.2.3/dist/gridstack-all.js'];\n      for (var i = 0; i < urls.length; i++) {\n        skip.push(urls[i])\n      }\n    }    if (((window['Notyf'] !== undefined) && (!(window['Notyf'] instanceof HTMLElement))) || window.requirejs) {\n      var urls = ['https://cdn.holoviz.org/panel/1.3.6/dist/bundled/notificationarea/notyf@3/notyf.min.js'];\n      for (var i = 0; i < urls.length; i++) {\n        skip.push(urls[i])\n      }\n    }    var existing_scripts = []\n    var scripts = document.getElementsByTagName('script')\n    for (var i = 0; i < scripts.length; i++) {\n      var script = scripts[i]\n      if (script.src != null) {\n\texisting_scripts.push(script.src)\n      }\n    }\n    for (var i = 0; i < js_urls.length; i++) {\n      var url = js_urls[i];\n      if (skip.indexOf(url) !== -1 || existing_scripts.indexOf(url) !== -1) {\n\tif (!window.requirejs) {\n\t  on_load();\n\t}\n\tcontinue;\n      }\n      var element = document.createElement('script');\n      element.onload = on_load;\n      element.onerror = on_error;\n      element.async = false;\n      element.src = url;\n      console.debug(\"Bokeh: injecting script tag for BokehJS library: \", url);\n      document.head.appendChild(element);\n    }\n    for (var i = 0; i < js_modules.length; i++) {\n      var url = js_modules[i];\n      if (skip.indexOf(url) !== -1 || existing_scripts.indexOf(url) !== -1) {\n\tif (!window.requirejs) {\n\t  on_load();\n\t}\n\tcontinue;\n      }\n      var element = document.createElement('script');\n      element.onload = on_load;\n      element.onerror = on_error;\n      element.async = false;\n      element.src = url;\n      element.type = \"module\";\n      console.debug(\"Bokeh: injecting script tag for BokehJS library: \", url);\n      document.head.appendChild(element);\n    }\n    for (const name in js_exports) {\n      var url = js_exports[name];\n      if (skip.indexOf(url) >= 0 || root[name] != null) {\n\tif (!window.requirejs) {\n\t  on_load();\n\t}\n\tcontinue;\n      }\n      var element = document.createElement('script');\n      element.onerror = on_error;\n      element.async = false;\n      element.type = \"module\";\n      console.debug(\"Bokeh: injecting script tag for BokehJS library: \", url);\n      element.textContent = `\n      import ${name} from \"${url}\"\n      window.${name} = ${name}\n      window._bokeh_on_load()\n      `\n      document.head.appendChild(element);\n    }\n    if (!js_urls.length && !js_modules.length) {\n      on_load()\n    }\n  };\n\n  function inject_raw_css(css) {\n    const element = document.createElement(\"style\");\n    element.appendChild(document.createTextNode(css));\n    document.body.appendChild(element);\n  }\n\n  var js_urls = [\"https://cdn.holoviz.org/panel/1.3.6/dist/bundled/datatabulator/tabulator-tables@5.5.0/dist/js/tabulator.min.js\", \"https://cdn.holoviz.org/panel/1.3.6/dist/bundled/datatabulator/luxon/build/global/luxon.min.js\"];\n  var js_modules = [];\n  var js_exports = {};\n  var css_urls = [\"https://cdn.holoviz.org/panel/1.3.6/dist/bundled/datatabulator/tabulator-tables@5.5.0/dist/css/tabulator_simple.min.css\"];\n  var inline_js = [    function(Bokeh) {\n      Bokeh.set_log_level(\"info\");\n    },\nfunction(Bokeh) {} // ensure no trailing comma for IE\n  ];\n\n  function run_inline_js() {\n    if ((root.Bokeh !== undefined) || (force === true)) {\n      for (var i = 0; i < inline_js.length; i++) {\n\ttry {\n          inline_js[i].call(root, root.Bokeh);\n\t} catch(e) {\n\t  if (!reloading) {\n\t    throw e;\n\t  }\n\t}\n      }\n      // Cache old bokeh versions\n      if (Bokeh != undefined && !reloading) {\n\tvar NewBokeh = root.Bokeh;\n\tif (Bokeh.versions === undefined) {\n\t  Bokeh.versions = new Map();\n\t}\n\tif (NewBokeh.version !== Bokeh.version) {\n\t  Bokeh.versions.set(NewBokeh.version, NewBokeh)\n\t}\n\troot.Bokeh = Bokeh;\n      }} else if (Date.now() < root._bokeh_timeout) {\n      setTimeout(run_inline_js, 100);\n    } else if (!root._bokeh_failed_load) {\n      console.log(\"Bokeh: BokehJS failed to load within specified timeout.\");\n      root._bokeh_failed_load = true;\n    }\n    root._bokeh_is_initializing = false\n  }\n\n  function load_or_wait() {\n    // Implement a backoff loop that tries to ensure we do not load multiple\n    // versions of Bokeh and its dependencies at the same time.\n    // In recent versions we use the root._bokeh_is_initializing flag\n    // to determine whether there is an ongoing attempt to initialize\n    // bokeh, however for backward compatibility we also try to ensure\n    // that we do not start loading a newer (Panel>=1.0 and Bokeh>3) version\n    // before older versions are fully initialized.\n    if (root._bokeh_is_initializing && Date.now() > root._bokeh_timeout) {\n      root._bokeh_is_initializing = false;\n      root._bokeh_onload_callbacks = undefined;\n      console.log(\"Bokeh: BokehJS was loaded multiple times but one version failed to initialize.\");\n      load_or_wait();\n    } else if (root._bokeh_is_initializing || (typeof root._bokeh_is_initializing === \"undefined\" && root._bokeh_onload_callbacks !== undefined)) {\n      setTimeout(load_or_wait, 100);\n    } else {\n      root._bokeh_is_initializing = true\n      root._bokeh_onload_callbacks = []\n      var bokeh_loaded = Bokeh != null && (Bokeh.version === py_version || (Bokeh.versions !== undefined && Bokeh.versions.has(py_version)));\n      if (!reloading && !bokeh_loaded) {\n\troot.Bokeh = undefined;\n      }\n      load_libs(css_urls, js_urls, js_modules, js_exports, function() {\n\tconsole.debug(\"Bokeh: BokehJS plotting callback run at\", now());\n\trun_inline_js();\n      });\n    }\n  }\n  // Give older versions of the autoload script a head-start to ensure\n  // they initialize before we start loading newer version.\n  setTimeout(load_or_wait, 100)\n}(window));",
      "application/vnd.holoviews_load.v0+json": ""
     },
     "metadata": {},
     "output_type": "display_data"
    },
    {
     "data": {
      "application/javascript": "\nif ((window.PyViz === undefined) || (window.PyViz instanceof HTMLElement)) {\n  window.PyViz = {comms: {}, comm_status:{}, kernels:{}, receivers: {}, plot_index: []}\n}\n\n\n    function JupyterCommManager() {\n    }\n\n    JupyterCommManager.prototype.register_target = function(plot_id, comm_id, msg_handler) {\n      if (window.comm_manager || ((window.Jupyter !== undefined) && (Jupyter.notebook.kernel != null))) {\n        var comm_manager = window.comm_manager || Jupyter.notebook.kernel.comm_manager;\n        comm_manager.register_target(comm_id, function(comm) {\n          comm.on_msg(msg_handler);\n        });\n      } else if ((plot_id in window.PyViz.kernels) && (window.PyViz.kernels[plot_id])) {\n        window.PyViz.kernels[plot_id].registerCommTarget(comm_id, function(comm) {\n          comm.onMsg = msg_handler;\n        });\n      } else if (typeof google != 'undefined' && google.colab.kernel != null) {\n        google.colab.kernel.comms.registerTarget(comm_id, (comm) => {\n          var messages = comm.messages[Symbol.asyncIterator]();\n          function processIteratorResult(result) {\n            var message = result.value;\n            console.log(message)\n            var content = {data: message.data, comm_id};\n            var buffers = []\n            for (var buffer of message.buffers || []) {\n              buffers.push(new DataView(buffer))\n            }\n            var metadata = message.metadata || {};\n            var msg = {content, buffers, metadata}\n            msg_handler(msg);\n            return messages.next().then(processIteratorResult);\n          }\n          return messages.next().then(processIteratorResult);\n        })\n      }\n    }\n\n    JupyterCommManager.prototype.get_client_comm = function(plot_id, comm_id, msg_handler) {\n      if (comm_id in window.PyViz.comms) {\n        return window.PyViz.comms[comm_id];\n      } else if (window.comm_manager || ((window.Jupyter !== undefined) && (Jupyter.notebook.kernel != null))) {\n        var comm_manager = window.comm_manager || Jupyter.notebook.kernel.comm_manager;\n        var comm = comm_manager.new_comm(comm_id, {}, {}, {}, comm_id);\n        if (msg_handler) {\n          comm.on_msg(msg_handler);\n        }\n      } else if ((plot_id in window.PyViz.kernels) && (window.PyViz.kernels[plot_id])) {\n        var comm = window.PyViz.kernels[plot_id].connectToComm(comm_id);\n        comm.open();\n        if (msg_handler) {\n          comm.onMsg = msg_handler;\n        }\n      } else if (typeof google != 'undefined' && google.colab.kernel != null) {\n        var comm_promise = google.colab.kernel.comms.open(comm_id)\n        comm_promise.then((comm) => {\n          window.PyViz.comms[comm_id] = comm;\n          if (msg_handler) {\n            var messages = comm.messages[Symbol.asyncIterator]();\n            function processIteratorResult(result) {\n              var message = result.value;\n              var content = {data: message.data};\n              var metadata = message.metadata || {comm_id};\n              var msg = {content, metadata}\n              msg_handler(msg);\n              return messages.next().then(processIteratorResult);\n            }\n            return messages.next().then(processIteratorResult);\n          }\n        }) \n        var sendClosure = (data, metadata, buffers, disposeOnDone) => {\n          return comm_promise.then((comm) => {\n            comm.send(data, metadata, buffers, disposeOnDone);\n          });\n        };\n        var comm = {\n          send: sendClosure\n        };\n      }\n      window.PyViz.comms[comm_id] = comm;\n      return comm;\n    }\n    window.PyViz.comm_manager = new JupyterCommManager();\n    \n\n\nvar JS_MIME_TYPE = 'application/javascript';\nvar HTML_MIME_TYPE = 'text/html';\nvar EXEC_MIME_TYPE = 'application/vnd.holoviews_exec.v0+json';\nvar CLASS_NAME = 'output';\n\n/**\n * Render data to the DOM node\n */\nfunction render(props, node) {\n  var div = document.createElement(\"div\");\n  var script = document.createElement(\"script\");\n  node.appendChild(div);\n  node.appendChild(script);\n}\n\n/**\n * Handle when a new output is added\n */\nfunction handle_add_output(event, handle) {\n  var output_area = handle.output_area;\n  var output = handle.output;\n  if ((output.data == undefined) || (!output.data.hasOwnProperty(EXEC_MIME_TYPE))) {\n    return\n  }\n  var id = output.metadata[EXEC_MIME_TYPE][\"id\"];\n  var toinsert = output_area.element.find(\".\" + CLASS_NAME.split(' ')[0]);\n  if (id !== undefined) {\n    var nchildren = toinsert.length;\n    var html_node = toinsert[nchildren-1].children[0];\n    html_node.innerHTML = output.data[HTML_MIME_TYPE];\n    var scripts = [];\n    var nodelist = html_node.querySelectorAll(\"script\");\n    for (var i in nodelist) {\n      if (nodelist.hasOwnProperty(i)) {\n        scripts.push(nodelist[i])\n      }\n    }\n\n    scripts.forEach( function (oldScript) {\n      var newScript = document.createElement(\"script\");\n      var attrs = [];\n      var nodemap = oldScript.attributes;\n      for (var j in nodemap) {\n        if (nodemap.hasOwnProperty(j)) {\n          attrs.push(nodemap[j])\n        }\n      }\n      attrs.forEach(function(attr) { newScript.setAttribute(attr.name, attr.value) });\n      newScript.appendChild(document.createTextNode(oldScript.innerHTML));\n      oldScript.parentNode.replaceChild(newScript, oldScript);\n    });\n    if (JS_MIME_TYPE in output.data) {\n      toinsert[nchildren-1].children[1].textContent = output.data[JS_MIME_TYPE];\n    }\n    output_area._hv_plot_id = id;\n    if ((window.Bokeh !== undefined) && (id in Bokeh.index)) {\n      window.PyViz.plot_index[id] = Bokeh.index[id];\n    } else {\n      window.PyViz.plot_index[id] = null;\n    }\n  } else if (output.metadata[EXEC_MIME_TYPE][\"server_id\"] !== undefined) {\n    var bk_div = document.createElement(\"div\");\n    bk_div.innerHTML = output.data[HTML_MIME_TYPE];\n    var script_attrs = bk_div.children[0].attributes;\n    for (var i = 0; i < script_attrs.length; i++) {\n      toinsert[toinsert.length - 1].childNodes[1].setAttribute(script_attrs[i].name, script_attrs[i].value);\n    }\n    // store reference to server id on output_area\n    output_area._bokeh_server_id = output.metadata[EXEC_MIME_TYPE][\"server_id\"];\n  }\n}\n\n/**\n * Handle when an output is cleared or removed\n */\nfunction handle_clear_output(event, handle) {\n  var id = handle.cell.output_area._hv_plot_id;\n  var server_id = handle.cell.output_area._bokeh_server_id;\n  if (((id === undefined) || !(id in PyViz.plot_index)) && (server_id !== undefined)) { return; }\n  var comm = window.PyViz.comm_manager.get_client_comm(\"hv-extension-comm\", \"hv-extension-comm\", function () {});\n  if (server_id !== null) {\n    comm.send({event_type: 'server_delete', 'id': server_id});\n    return;\n  } else if (comm !== null) {\n    comm.send({event_type: 'delete', 'id': id});\n  }\n  delete PyViz.plot_index[id];\n  if ((window.Bokeh !== undefined) & (id in window.Bokeh.index)) {\n    var doc = window.Bokeh.index[id].model.document\n    doc.clear();\n    const i = window.Bokeh.documents.indexOf(doc);\n    if (i > -1) {\n      window.Bokeh.documents.splice(i, 1);\n    }\n  }\n}\n\n/**\n * Handle kernel restart event\n */\nfunction handle_kernel_cleanup(event, handle) {\n  delete PyViz.comms[\"hv-extension-comm\"];\n  window.PyViz.plot_index = {}\n}\n\n/**\n * Handle update_display_data messages\n */\nfunction handle_update_output(event, handle) {\n  handle_clear_output(event, {cell: {output_area: handle.output_area}})\n  handle_add_output(event, handle)\n}\n\nfunction register_renderer(events, OutputArea) {\n  function append_mime(data, metadata, element) {\n    // create a DOM node to render to\n    var toinsert = this.create_output_subarea(\n    metadata,\n    CLASS_NAME,\n    EXEC_MIME_TYPE\n    );\n    this.keyboard_manager.register_events(toinsert);\n    // Render to node\n    var props = {data: data, metadata: metadata[EXEC_MIME_TYPE]};\n    render(props, toinsert[0]);\n    element.append(toinsert);\n    return toinsert\n  }\n\n  events.on('output_added.OutputArea', handle_add_output);\n  events.on('output_updated.OutputArea', handle_update_output);\n  events.on('clear_output.CodeCell', handle_clear_output);\n  events.on('delete.Cell', handle_clear_output);\n  events.on('kernel_ready.Kernel', handle_kernel_cleanup);\n\n  OutputArea.prototype.register_mime_type(EXEC_MIME_TYPE, append_mime, {\n    safe: true,\n    index: 0\n  });\n}\n\nif (window.Jupyter !== undefined) {\n  try {\n    var events = require('base/js/events');\n    var OutputArea = require('notebook/js/outputarea').OutputArea;\n    if (OutputArea.prototype.mime_types().indexOf(EXEC_MIME_TYPE) == -1) {\n      register_renderer(events, OutputArea);\n    }\n  } catch(err) {\n  }\n}\n",
      "application/vnd.holoviews_load.v0+json": ""
     },
     "metadata": {},
     "output_type": "display_data"
    },
    {
     "data": {
      "text/html": [
       "<style>*[data-root-id],\n",
       "*[data-root-id] > * {\n",
       "  box-sizing: border-box;\n",
       "  font-family: var(--jp-ui-font-family);\n",
       "  font-size: var(--jp-ui-font-size1);\n",
       "  color: var(--vscode-editor-foreground, var(--jp-ui-font-color1));\n",
       "}\n",
       "\n",
       "/* Override VSCode background color */\n",
       ".cell-output-ipywidget-background:has(\n",
       "    > .cell-output-ipywidget-background > .lm-Widget > *[data-root-id]\n",
       "  ),\n",
       ".cell-output-ipywidget-background:has(> .lm-Widget > *[data-root-id]) {\n",
       "  background-color: transparent !important;\n",
       "}\n",
       "</style>"
      ]
     },
     "metadata": {},
     "output_type": "display_data"
    }
   ],
   "source": [
    "# Testing Cell\n",
    "from aviary.mission.flight_phase_builder import FlightPhaseBase\n",
    "import os\n",
    "import aviary.api as av\n",
    "from importlib.machinery import SourceFileLoader\n",
    "from aviary.utils.doctape import check_contains\n",
    "\n",
    "gasp_phase_path = av.get_path(os.path.join('mission','gasp_based','phases'))\n",
    "files = os.listdir(gasp_phase_path)\n",
    "phases = [FlightPhaseBase]\n",
    "for file in files:\n",
    "    if '_phase.py' in file:\n",
    "        file_path = os.path.join(str(gasp_phase_path),file)\n",
    "        phase_name = file.split('_phase.py')[0].capitalize()\n",
    "        module = SourceFileLoader(phase_name, file_path).load_module()\n",
    "        phases.append(getattr(module, phase_name+'Phase'))\n",
    "\n",
    "for phase in phases:\n",
    "    phase_name = phase().__class__.__name__\n",
    "    if 'Groundroll' in phase_name:\n",
    "        continue # no reserve groundroll\n",
    "    check_contains(\n",
    "        ['reserve','target_duration','target_distance'],\n",
    "        phase._meta_data_,\n",
    "        error_string=\"{var} is not a valid key for \"+str(phase_name)\n",
    "    )"
   ]
  },
  {
   "cell_type": "markdown",
   "metadata": {},
   "source": [
    "You can chain together multiple reserve phases to make a complete reserve mission (i.e. climb to altitude, cruise for range, cruise for time, then descend).\n",
    "Examples of this are shown in {glue:md}`run_reserve_mission_multiphase.py` and {glue:md}`run_2dof_reserve_mission_multiphase.py`."
   ]
  },
  {
   "cell_type": "code",
   "execution_count": 2,
   "metadata": {
    "tags": [
     "remove-cell"
    ]
   },
   "outputs": [],
   "source": [
    "# Testing Cell\n",
    "from aviary.utils.doctape import check_contains\n",
    "import aviary.api as av\n",
    "import os\n",
    "\n",
    "reserve_examples = av.get_path(os.path.join('examples','reserve_missions'))\n",
    "check_contains(\n",
    "    ('run_reserve_mission_multiphase.py','run_2dof_reserve_mission_multiphase.py'),\n",
    "    os.listdir(reserve_examples),\n",
    "    error_string=\"{var} not in \"+str(reserve_examples),\n",
    "    error_type=FileNotFoundError)\n"
   ]
  },
  {
   "cell_type": "code",
   "execution_count": null,
   "metadata": {
    "tags": [
     "remove-cell"
    ]
   },
   "outputs": [],
   "source": [
    "# Testing Cell\n",
    "from aviary.utils.doctape import glue_variable\n",
    "import aviary.api as av\n",
    "methods_for_level2 = av.get_path('interface/methods_for_level2.py').name\n",
    "glue_variable(str(methods_for_level2), md_code=True)\n",
    "\n",
    "setting_2DOF = av.Settings.EQUATIONS_OF_MOTION + ',' + av.EquationsOfMotion.TWO_DEGREES_OF_FREEDOM.value\n",
    "glue_variable('setting_2DOF', setting_2DOF, md_code=True)"
   ]
  },
  {
   "cell_type": "markdown",
   "metadata": {},
   "source": [
    "The first reserve phase will start at the same range and mass as the last regular phase, but all other states (i.e. altitude, Mach number) are not automatically connected.\n",
    "Thus you can fly climb, cruise, descent for regular phases and then immediately jump to an arbitrary altitude for the reserve mission.\n",
    "Or if you wanted to make things more realistic you could attach a climb phase and then add your reserve cruise.\n",
    "Make sure both the reserve climb and the reserve cruise phases both have `\"reserve\": True,` flag.\n",
    "\n",
    "### Examples\n",
    "\n",
    "Examples of single-phase and multi-phase reserve missions are presented in [Reserve Mission Examples](../examples/reserve_missions).\n",
    "\n",
    "### Caveats when using 2DOF\n",
    "\n",
    "If you are using {glue:md}`2DOF` equations of motion (EOM) in your problem (i.e. {glue:md}`setting_2DOF`) there are some additional things you need to be aware of.\n",
    "The name of the reserve phase should include one of the keywords to indicate which EOM from {glue:md}`2DOF` will be selected and the prefix `reserve_`.\n",
    "Valid keywords include: {glue:md}`rotation`, {glue:md}`accel`, {glue:md}`ascent`, {glue:md}`climb1`, {glue:md}`climb2`, {glue:md}`cruise`, {glue:md}`desc1`, {glue:md}`desc2`.\n",
    "This is because {glue:md}`2DOF` uses different EOMs for different phases and we need to let {glue:md}`methods_for_level2.py` know which method to select.\n",
    "This is why in the example in the first paragraph above, the phase was named `reserve_cruise`.\n",
    "Cruise phases can have additional information in suffixes, but this isn't necessary.\n",
    "Do not worry about phase naming if you are using Height-Energy EOM as all those EOMs are the same for every phase."
   ]
  },
  {
   "cell_type": "code",
   "execution_count": null,
   "metadata": {
    "tags": [
     "remove-cell"
    ]
   },
   "outputs": [],
   "source": [
    "# Testing Cell\n",
    "from aviary.interface.utils.check_phase_info import phase_keys_gasp\n",
    "from aviary.utils.doctape import check_contains, glue_variable\n",
    "\n",
    "two_DOF_phases = ['rotation','accel','ascent','climb1','climb2','cruise','desc1','desc2']\n",
    "expected_phases = [phase for phase in phase_keys_gasp if phase!='groundroll'] # no reserve groundroll\n",
    "check_contains(\n",
    "    two_DOF_phases,\n",
    "    expected_phases,\n",
    "    error_string=\"{var} is not a valid name for a 2DOF reserve phase, choose from \"+f\"{expected_phases}\"\n",
    "    )\n",
    "for ph in two_DOF_phases:\n",
    "    glue_variable(ph, md_code=True)"
   ]
  },
  {
   "cell_type": "markdown",
   "metadata": {},
   "source": [
    "## Theory\n",
    "\n",
    "When adding a reserve phase, {glue:md}`check_and_preprocess_inputs()` divides all the phases into two dictionaries: `regular_phases` which contain your nominal phases and `reserve_phases` which contains any phases with the `reserve` flag set to `True`.\n",
    "Additionally, {glue:md}`check_and_preprocess_inputs()` will add the `\"analytic\"` flag to each phase.\n",
    "This is used to indicate if a phase is an analytic phase (i.e. Breguet range) or a ordinary differential equation (ODE).\n",
    "\n",
    "Only the final mission mass and range from `regular_phases` are automatically connected to the first point of the `reserve_phases`.\n",
    "All other state variables (i.e. altitude, mach) are not automatically connected, allowing you to start the reserve mission at whatever altitude you want.\n",
    "\n",
    "The `\"analytic\"` flag helps to properly connect phases for {glue:md}`2DOF` missions.\n",
    "{glue:md}`2DOF` `cruise` missions are analytic because they use a Breguet range calculation instead of integrating an EOM. \n",
    "Analytic phases have a slightly different naming convention in order to access state/timeseries variables like distance, mass, and range compared with their non-analytic counterparts.\n",
    "\n",
    "You cannot create a reserve mission that enforces time or range constraints over multiple phases (i.e specify the total range covered by a climb + cruise + descent).\n",
    "This is because each constraint `\"target_distance\"` or `\"target_time\"` is only enforced on a single phase.\n",
    "\n",
    "It is essential that you run {glue:md}`prob.check_and_preprocess_inputs()` after {glue:md}`prob.load_inputs()` to make sure that regular and reserve phases are separated via `phase_separator()`."
   ]
  },
  {
   "cell_type": "code",
   "execution_count": null,
   "metadata": {
    "tags": [
     "remove-cell"
    ]
   },
   "outputs": [],
   "source": [
    "# Testing Cell\n",
    "from importlib.machinery import SourceFileLoader\n",
    "from aviary.interface.methods_for_level2 import AviaryProblem\n",
    "from aviary.interface.default_phase_info.two_dof import phase_info\n",
    "from aviary.interface.download_models import get_model\n",
    "from aviary.utils.doctape import check_contains\n",
    "import aviary.api as av\n",
    "import os\n",
    "\n",
    "prob = AviaryProblem()\n",
    "prob.load_inputs(get_model('aircraft_for_bench_GwGm.csv'), phase_info)\n",
    "prob.check_and_preprocess_inputs()\n",
    "\n",
    "gasp_phase_path = av.get_path(os.path.join('mission','gasp_based','phases'))\n",
    "for file in os.listdir(gasp_phase_path):\n",
    "    if '_phase.py' in file:\n",
    "        phase_name = file.split('_phase.py')[0].capitalize()\n",
    "        file_path = os.path.join(str(gasp_phase_path),file)\n",
    "        module = SourceFileLoader(phase_name, file_path).load_module()\n",
    "        check_contains(\n",
    "            'analytic',\n",
    "            getattr(module, phase_name+'Phase')._meta_data_,\n",
    "            error_string=f\"analytic is not a valid key for {phase_name}\",\n",
    "            error_type=NameError,\n",
    "        )"
   ]
  },
  {
   "cell_type": "markdown",
   "metadata": {},
   "source": [
    "### Advanced Users and Target Duration Phases\n",
    "\n",
    "For advanced users, instead of just copying a phase you used before, you might completely specify a new phase from scratch. \n",
    "When creating a `\"target_duration\"` reserve phase there are a number of values inside of `phase_info['user_options']` that are overwritten in {glue:md}`check_and_preprocess_inputs()`. \n",
    "Specifically, `duration_bounds`, `fixed_duration`, and `\"initial_guesses\": {\"time\"}` will be over-written. \n",
    "That is because if `\"target_duration\"` is specified, Aviary already knows what these other three values need to be: `target_duration = duration_bounds = \"initial_guesses\": {\"time\"}`, and `fix_duration = True`."
   ]
  },
  {
   "cell_type": "code",
   "execution_count": null,
   "metadata": {
    "tags": [
     "remove-cell"
    ]
   },
   "outputs": [],
   "source": [
    "# Testing Cell\n",
    "from aviary.interface.methods_for_level2 import AviaryProblem\n",
    "from aviary.interface.default_phase_info.two_dof import phase_info\n",
    "from aviary.interface.download_models import get_model\n",
    "from copy import deepcopy\n",
    "from aviary.utils.doctape import check_value\n",
    "\n",
    "climb1_info = deepcopy(phase_info['climb1'])\n",
    "phase_info_for_test = {'climb1': climb1_info}\n",
    "user_options = climb1_info['user_options']\n",
    "user_options['reserve'] = True\n",
    "user_options['target_duration'] = (10, 'min')\n",
    "user_options['duration_bounds'] = ((30, 300), 's')\n",
    "climb1_info['initial_guesses']['time'] = ([1., 2.], 'min')\n",
    "\n",
    "prob = AviaryProblem()\n",
    "prob.load_inputs(get_model('aircraft_for_bench_GwGm.csv'), phase_info_for_test)\n",
    "prob.check_and_preprocess_inputs()\n",
    "\n",
    "values_of_interest = {\n",
    "    'target_duration': user_options['target_duration'],\n",
    "    'duration_bounds': user_options['duration_bounds'],\n",
    "    'fix_duration': user_options['fix_duration'],\n",
    "    'time': climb1_info['initial_guesses']['time']\n",
    "    }\n",
    "expected_values = {\n",
    "    'target_duration': (10, 'min'),\n",
    "    'duration_bounds': ((10, 10), 'min'),\n",
    "    'fix_duration': True,\n",
    "    'time': ((10, 10), 'min')}\n",
    "check_value(values_of_interest, expected_values)"
   ]
  },
  {
   "cell_type": "markdown",
   "metadata": {},
   "source": [
    "### Fuel Burn Calculations\n",
    "\n",
    "Fuel burn during the regular mission ({glue:md}`Mission.Summary.FUEL_BURNED`) is calculated only based on `regular_phases`.\n",
    "\n",
    "Reserve fuel ({glue:md}`Mission.Design.RESERVE_FUEL`) is the sum of {glue:md}`Aircraft.Design.RESERVE_FUEL_ADDITIONAL`, {glue:md}`Aircraft.Design.RESERVE_FUEL_FRACTION`, and {glue:md}`Mission.Summary.RESERVE_FUEL_BURNED`.\n",
    "\n",
    "* {glue:md}`RESERVE_FUEL_ADDITIONAL` is a fixed value (i.e. 300kg)\n",
    "* {glue:md}`RESERVE_FUEL_FRACTION` is based on a fraction of {glue:md}`Mission.Summary.FUEL_BURNED`\n",
    "* {glue:md}`RESERVE_FUEL_BURNED` is sum of fuel burn in all `reserve_phases`\n"
   ]
  },
  {
   "cell_type": "code",
   "execution_count": null,
   "metadata": {
    "tags": [
     "remove-cell"
    ]
   },
   "outputs": [],
   "source": [
    "# Testing Cell\n",
    "from aviary.api import Aircraft, Mission\n",
    "from aviary.utils.doctape import get_variable_name, glue_variable\n",
    "Mission.Summary.FUEL_BURNED;\n",
    "Mission.Design.RESERVE_FUEL;\n",
    "Aircraft.Design.RESERVE_FUEL_ADDITIONAL;\n",
    "Aircraft.Design.RESERVE_FUEL_FRACTION;\n",
    "\n",
    "glue_variable(get_variable_name(Mission.Summary.FUEL_BURNED), md_code=True)\n",
    "glue_variable(get_variable_name(Mission.Design.RESERVE_FUEL), md_code=True)\n",
    "glue_variable(get_variable_name(Aircraft.Design.RESERVE_FUEL_ADDITIONAL), md_code=True)\n",
    "glue_variable(get_variable_name(Aircraft.Design.RESERVE_FUEL_FRACTION), md_code=True)\n",
    "glue_variable(get_variable_name(Mission.Summary.RESERVE_FUEL_BURNED), md_code=True)\n",
    "glue_variable(get_variable_name(Aircraft.Design.RESERVE_FUEL_ADDITIONAL).split('.')[2], md_code=True)\n",
    "glue_variable(get_variable_name(Aircraft.Design.RESERVE_FUEL_FRACTION).split('.')[2], md_code=True)\n",
    "glue_variable(get_variable_name(Mission.Summary.RESERVE_FUEL_BURNED).split('.')[2], md_code=True)"
   ]
  }
 ],
 "metadata": {
  "kernelspec": {
   "display_name": "av1",
   "language": "python",
   "name": "python3"
  },
  "language_info": {
   "codemirror_mode": {
    "name": "ipython",
    "version": 3
   },
   "file_extension": ".py",
   "mimetype": "text/x-python",
   "name": "python",
   "nbconvert_exporter": "python",
   "pygments_lexer": "ipython3",
   "version": "3.9.18"
  }
 },
 "nbformat": 4,
 "nbformat_minor": 2
}
