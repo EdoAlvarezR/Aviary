{
 "cells": [
  {
   "cell_type": "code",
   "execution_count": 3,
   "metadata": {
    "tags": [
     "remove-cell"
    ]
   },
   "outputs": [
    {
     "data": {
      "text/markdown": [
       "`check`"
      ],
      "text/plain": [
       "<IPython.core.display.Markdown object>"
      ]
     },
     "metadata": {
      "scrapbook": {
       "mime_prefix": "",
       "name": "check"
      }
     },
     "output_type": "display_data"
    },
    {
     "data": {
      "text/markdown": [
       "`fortran_to_aviary`"
      ],
      "text/plain": [
       "<IPython.core.display.Markdown object>"
      ]
     },
     "metadata": {
      "scrapbook": {
       "mime_prefix": "",
       "name": "fortran_to_aviary"
      }
     },
     "output_type": "display_data"
    },
    {
     "data": {
      "text/markdown": [
       "`run_mission`"
      ],
      "text/plain": [
       "<IPython.core.display.Markdown object>"
      ]
     },
     "metadata": {
      "scrapbook": {
       "mime_prefix": "",
       "name": "run_mission"
      }
     },
     "output_type": "display_data"
    },
    {
     "data": {
      "text/markdown": [
       "`draw_mission`"
      ],
      "text/plain": [
       "<IPython.core.display.Markdown object>"
      ]
     },
     "metadata": {
      "scrapbook": {
       "mime_prefix": "",
       "name": "draw_mission"
      }
     },
     "output_type": "display_data"
    },
    {
     "data": {
      "text/markdown": [
       "`dashboard`"
      ],
      "text/plain": [
       "<IPython.core.display.Markdown object>"
      ]
     },
     "metadata": {
      "scrapbook": {
       "mime_prefix": "",
       "name": "dashboard"
      }
     },
     "output_type": "display_data"
    },
    {
     "data": {
      "text/markdown": [
       "`hangar`"
      ],
      "text/plain": [
       "<IPython.core.display.Markdown object>"
      ]
     },
     "metadata": {
      "scrapbook": {
       "mime_prefix": "",
       "name": "hangar"
      }
     },
     "output_type": "display_data"
    },
    {
     "data": {
      "text/markdown": [
       "`convert_engine`"
      ],
      "text/plain": [
       "<IPython.core.display.Markdown object>"
      ]
     },
     "metadata": {
      "scrapbook": {
       "mime_prefix": "",
       "name": "convert_engine"
      }
     },
     "output_type": "display_data"
    },
    {
     "data": {
      "text/markdown": [
       "`convert_aero_table`"
      ],
      "text/plain": [
       "<IPython.core.display.Markdown object>"
      ]
     },
     "metadata": {
      "scrapbook": {
       "mime_prefix": "",
       "name": "convert_aero_table"
      }
     },
     "output_type": "display_data"
    },
    {
     "data": {
      "text/markdown": [
       "`convert_prop_table`"
      ],
      "text/plain": [
       "<IPython.core.display.Markdown object>"
      ]
     },
     "metadata": {
      "scrapbook": {
       "mime_prefix": "",
       "name": "convert_prop_table"
      }
     },
     "output_type": "display_data"
    },
    {
     "data": {
      "text/markdown": [
       "`plot_drag_polar`"
      ],
      "text/plain": [
       "<IPython.core.display.Markdown object>"
      ]
     },
     "metadata": {
      "scrapbook": {
       "mime_prefix": "",
       "name": "plot_drag_polar"
      }
     },
     "output_type": "display_data"
    },
    {
     "data": {
      "text/markdown": [
       "`aviary check`"
      ],
      "text/plain": [
       "<IPython.core.display.Markdown object>"
      ]
     },
     "metadata": {
      "scrapbook": {
       "mime_prefix": "",
       "name": "aviary check"
      }
     },
     "output_type": "display_data"
    },
    {
     "data": {
      "text/markdown": [
       "`aviary fortran_to_aviary`"
      ],
      "text/plain": [
       "<IPython.core.display.Markdown object>"
      ]
     },
     "metadata": {
      "scrapbook": {
       "mime_prefix": "",
       "name": "aviary fortran_to_aviary"
      }
     },
     "output_type": "display_data"
    },
    {
     "data": {
      "text/markdown": [
       "`aviary run_mission`"
      ],
      "text/plain": [
       "<IPython.core.display.Markdown object>"
      ]
     },
     "metadata": {
      "scrapbook": {
       "mime_prefix": "",
       "name": "aviary run_mission"
      }
     },
     "output_type": "display_data"
    },
    {
     "data": {
      "text/markdown": [
       "`aviary draw_mission`"
      ],
      "text/plain": [
       "<IPython.core.display.Markdown object>"
      ]
     },
     "metadata": {
      "scrapbook": {
       "mime_prefix": "",
       "name": "aviary draw_mission"
      }
     },
     "output_type": "display_data"
    },
    {
     "data": {
      "text/markdown": [
       "`aviary dashboard`"
      ],
      "text/plain": [
       "<IPython.core.display.Markdown object>"
      ]
     },
     "metadata": {
      "scrapbook": {
       "mime_prefix": "",
       "name": "aviary dashboard"
      }
     },
     "output_type": "display_data"
    },
    {
     "data": {
      "text/markdown": [
       "`aviary hangar`"
      ],
      "text/plain": [
       "<IPython.core.display.Markdown object>"
      ]
     },
     "metadata": {
      "scrapbook": {
       "mime_prefix": "",
       "name": "aviary hangar"
      }
     },
     "output_type": "display_data"
    },
    {
     "data": {
      "text/markdown": [
       "`aviary convert_engine`"
      ],
      "text/plain": [
       "<IPython.core.display.Markdown object>"
      ]
     },
     "metadata": {
      "scrapbook": {
       "mime_prefix": "",
       "name": "aviary convert_engine"
      }
     },
     "output_type": "display_data"
    },
    {
     "data": {
      "text/markdown": [
       "`aviary convert_aero_table`"
      ],
      "text/plain": [
       "<IPython.core.display.Markdown object>"
      ]
     },
     "metadata": {
      "scrapbook": {
       "mime_prefix": "",
       "name": "aviary convert_aero_table"
      }
     },
     "output_type": "display_data"
    },
    {
     "data": {
      "text/markdown": [
       "`aviary convert_prop_table`"
      ],
      "text/plain": [
       "<IPython.core.display.Markdown object>"
      ]
     },
     "metadata": {
      "scrapbook": {
       "mime_prefix": "",
       "name": "aviary convert_prop_table"
      }
     },
     "output_type": "display_data"
    },
    {
     "data": {
      "text/markdown": [
       "`aviary plot_drag_polar`"
      ],
      "text/plain": [
       "<IPython.core.display.Markdown object>"
      ]
     },
     "metadata": {
      "scrapbook": {
       "mime_prefix": "",
       "name": "aviary plot_drag_polar"
      }
     },
     "output_type": "display_data"
    }
   ],
   "source": [
    "# Testing Cell\n",
    "from aviary.interface.cmd_entry_points import _command_map\n",
    "from aviary.utils.doctape import glue_keys, glue_variable\n",
    "\n",
    "current_glued_vars = []\n",
    "\n",
    "# glue all the options of 'aviary'\n",
    "glue_keys(_command_map)\n",
    "for key in _command_map:\n",
    "    glue_variable('aviary ' + key, md_code=True)"
   ]
  },
  {
   "attachments": {},
   "cell_type": "markdown",
   "metadata": {},
   "source": [
    "# Command Line Tools\n",
    "\n",
    "Aviary has a number of command line tools that are available via the `aviary`\n",
    "command.\n",
    "\n",
    "```{note}\n",
    "When using a command line tool on a script that takes its own command line arguments, those\n",
    "arguments must be placed after a `--` on the command line.  Anything to the right of the\n",
    "`--` will be ignored by the Aviary command line parser and passed on to the user script.\n",
    "For example: `Aviary sub_command -o foo.html myscript.py -- -x --myarg=bar` would pass\n",
    "`-x` and `--myarg=bar` as args to `myscript.py`.\n",
    "```\n",
    "\n",
    "All available `aviary` sub-commands can be shown using the following command:"
   ]
  },
  {
   "cell_type": "markdown",
   "metadata": {},
   "source": [
    "```\n",
    "aviary -h\n",
    "```"
   ]
  },
  {
   "cell_type": "code",
   "execution_count": 4,
   "metadata": {
    "tags": [
     "remove-input"
    ]
   },
   "outputs": [
    {
     "name": "stdout",
     "output_type": "stream",
     "text": [
      "usage: aviary [-h] [--version]  ...\n",
      "\n",
      "aviary Command Line Tools\n",
      "\n",
      "options:\n",
      "  -h, --help            show this help message and exit\n",
      "  --version             show version and exit\n",
      "\n",
      "Tools:\n",
      "  \n",
      "    check               Verifies Aviary installation\n",
      "    convert_aero_table  Converts FLOPS- or GASP-formatted aero data files into\n",
      "                        Aviary csv format.\n",
      "    convert_engine      Converts FLOPS- or GASP-formatted engine decks into\n",
      "                        Aviary csv format. FLOPS decks are changed from\n",
      "                        column-delimited to csv format with added headers.\n",
      "                        GASP decks are reorganized into column based csv. T4\n",
      "                        is recovered through calculation. Data points whose T4\n",
      "                        exceeds T4max are removed.\n",
      "    convert_prop_table  Converts GASP-formatted propeller map file into Aviary\n",
      "                        csv format.\n",
      "    dashboard           Run the Dashboard tool\n",
      "    draw_mission        Allows users to draw a mission profile for use in\n",
      "                        Aviary.\n",
      "    fortran_to_aviary   Converts legacy Fortran input decks to Aviary csv\n",
      "                        based decks\n",
      "    hangar              Allows users that pip installed Aviary to download\n",
      "                        models from the Aviary hangar\n",
      "    plot_drag_polar     Plot a Drag Polar Graph using a provided polar data\n",
      "                        csv input\n",
      "    run_mission         Runs Aviary using a provided input deck\n"
     ]
    }
   ],
   "source": [
    "!aviary -h 2>/dev/null"
   ]
  },
  {
   "cell_type": "markdown",
   "metadata": {},
   "source": [
    "To get further info on any sub-command, follow the command with a *-h*.  For example:"
   ]
  },
  {
   "cell_type": "markdown",
   "metadata": {},
   "source": [
    "```\n",
    "aviary run_mission -h\n",
    "```"
   ]
  },
  {
   "cell_type": "code",
   "execution_count": 5,
   "metadata": {
    "tags": [
     "remove-input"
    ]
   },
   "outputs": [
    {
     "name": "stdout",
     "output_type": "stream",
     "text": [
      "usage: aviary run_mission [-h] [--optimizer {SNOPT,IPOPT,SLSQP,None}]\n",
      "                          [--phase_info PHASE_INFO] [--max_iter MAX_ITER]\n",
      "                          [--verbosity {0,1,2,3}]\n",
      "                          indeck\n",
      "\n",
      "positional arguments:\n",
      "  indeck                Name of vehicle input deck file\n",
      "\n",
      "options:\n",
      "  -h, --help            show this help message and exit\n",
      "  --optimizer {SNOPT,IPOPT,SLSQP,None}\n",
      "                        Name of optimizer\n",
      "  --phase_info PHASE_INFO\n",
      "                        Path to phase info file\n",
      "  --max_iter MAX_ITER   maximum number of iterations\n",
      "  --verbosity {0,1,2,3}\n",
      "                        verbosity settings: 0=quiet, 1=brief, 2=verbose,\n",
      "                        3=debug\n"
     ]
    }
   ],
   "source": [
    "!aviary run_mission -h 2>/dev/null"
   ]
  },
  {
   "cell_type": "markdown",
   "metadata": {},
   "source": [
    "## Available Commands and Their Usage\n",
    "\n",
    "\n",
    "(aviary-run_mission-command)=\n",
    "### aviary run_mission\n",
    "\n",
    "{glue:md}`run_mission` is a command line interface that will run an analysis on a given csv input file."
   ]
  },
  {
   "cell_type": "markdown",
   "metadata": {},
   "source": [
    "```\n",
    "aviary run_mission -h\n",
    "```"
   ]
  },
  {
   "cell_type": "code",
   "execution_count": 6,
   "metadata": {
    "tags": [
     "remove-cell"
    ]
   },
   "outputs": [
    {
     "name": "stdout",
     "output_type": "stream",
     "text": [
      "usage: aviary run_mission [-h] [--optimizer {SNOPT,IPOPT,SLSQP,None}]\n",
      "                          [--phase_info PHASE_INFO] [--max_iter MAX_ITER]\n",
      "                          [--verbosity {0,1,2,3}]\n",
      "                          indeck\n",
      "\n",
      "positional arguments:\n",
      "  indeck                Name of vehicle input deck file\n",
      "\n",
      "options:\n",
      "  -h, --help            show this help message and exit\n",
      "  --optimizer {SNOPT,IPOPT,SLSQP,None}\n",
      "                        Name of optimizer\n",
      "  --phase_info PHASE_INFO\n",
      "                        Path to phase info file\n",
      "  --max_iter MAX_ITER   maximum number of iterations\n",
      "  --verbosity {0,1,2,3}\n",
      "                        verbosity settings: 0=quiet, 1=brief, 2=verbose,\n",
      "                        3=debug\n"
     ]
    }
   ],
   "source": [
    "!aviary run_mission -h 2>/dev/null"
   ]
  },
  {
   "cell_type": "markdown",
   "metadata": {},
   "source": [
    "To use {glue:md}`small_single_aisle_GASP.csv`, run the command\n",
    "{glue:md}`aviary run_mission models/aircraft/small_single_aisle/small_single_aisle_GASP.csv` in\n",
    "{glue:md}`aviary/models/aircraft/small_single_aisle`\n",
    "\n",
    "SNOPT is the default optimizer, but IPOPT is available as well."
   ]
  },
  {
   "cell_type": "code",
   "execution_count": 7,
   "metadata": {
    "tags": [
     "remove-cell"
    ]
   },
   "outputs": [
    {
     "data": {
      "text/markdown": [
       "`aviary/models/aircraft/small_single_aisle`"
      ],
      "text/plain": [
       "<IPython.core.display.Markdown object>"
      ]
     },
     "metadata": {
      "scrapbook": {
       "mime_prefix": "",
       "name": "aviary/models/aircraft/small_single_aisle"
      }
     },
     "output_type": "display_data"
    },
    {
     "data": {
      "text/markdown": [
       "small_single_aisle_GASP.csv"
      ],
      "text/plain": [
       "<IPython.core.display.Markdown object>"
      ]
     },
     "metadata": {
      "scrapbook": {
       "mime_prefix": "",
       "name": "small_single_aisle_GASP.csv"
      }
     },
     "output_type": "display_data"
    },
    {
     "data": {
      "text/markdown": [
       "`aviary run_mission models/aircraft/small_single_aisle/small_single_aisle_GASP.csv`"
      ],
      "text/plain": [
       "<IPython.core.display.Markdown object>"
      ]
     },
     "metadata": {
      "scrapbook": {
       "mime_prefix": "",
       "name": "aviary run_mission models/aircraft/small_single_aisle/small_single_aisle_GASP.csv"
      }
     },
     "output_type": "display_data"
    },
    {
     "name": "stdout",
     "output_type": "stream",
     "text": [
      "Loaded default phase_info for 2dof equations of motion.\n"
     ]
    },
    {
     "name": "stderr",
     "output_type": "stream",
     "text": [
      "Warning: No CARGO variables detected, assume CARGO_MASS, Design.MAX_CARGO_MASS, and Design.CARGO_MASS equal to 0.\n",
      "\n",
      "Warning: Mount location for engines of type <turbofan_23k_1> not specified. Wing-mounted engines are assumed.\n",
      "\n"
     ]
    },
    {
     "name": "stdout",
     "output_type": "stream",
     "text": [
      "\n",
      "'rhs_checking' is disabled for 'DirectSolver in 'traj.phases.ascent' <class Phase>' but that solver has redundant adjoint solves. If it is expensive to compute derivatives for this solver, turning on 'rhs_checking' may improve performance.\n",
      "\n",
      "\n",
      "'rhs_checking' is disabled for 'DirectSolver in 'traj.phases.climb1' <class Phase>' but that solver has redundant adjoint solves. If it is expensive to compute derivatives for this solver, turning on 'rhs_checking' may improve performance.\n",
      "\n",
      "\n",
      "'rhs_checking' is disabled for 'DirectSolver in 'traj.phases.desc1' <class Phase>' but that solver has redundant adjoint solves. If it is expensive to compute derivatives for this solver, turning on 'rhs_checking' may improve performance.\n",
      "\n",
      "Warning: req_fuel_mass > max_wingfuel_mass, adding a body tank\n",
      "Warning: req_fuel_mass > max_wingfuel_mass, adding a body tank\n",
      "Warning: req_fuel_mass > max_wingfuel_mass, adding a body tank\n",
      "Warning: req_fuel_mass > max_wingfuel_mass, adding a body tank\n",
      "Warning: req_fuel_mass > max_wingfuel_mass, adding a body tank\n",
      "Warning: req_fuel_mass > max_wingfuel_mass, adding a body tank\n"
     ]
    },
    {
     "name": "stderr",
     "output_type": "stream",
     "text": [
      "Traceback (most recent call last):\n",
      "  File \"/home0/xjiang/miniforge3/envs/OpenMDAO/openmdao/drivers/pyoptsparse_driver.py\", line 526, in run\n",
      "    opt = getattr(_tmp, optimizer)()\n",
      "          ^^^^^^^^^^^^^^^^^^^^^^^^^^\n",
      "  File \"/home0/xjiang/pyoptsparse/pyoptsparse/pyIPOPT/pyIPOPT.py\", line 39, in __init__\n",
      "    raise ImportError(\"Could not import cyipopt\")\n",
      "ImportError: Could not import cyipopt\n",
      "\n",
      "During handling of the above exception, another exception occurred:\n",
      "\n",
      "Traceback (most recent call last):\n",
      "  File \"/home0/xjiang/miniforge3/bin/aviary\", line 8, in <module>\n",
      "    sys.exit(aviary_cmd())\n",
      "             ^^^^^^^^^^^^\n",
      "  File \"/home0/xjiang/workspace/Aviary_XJ/om-Aviary/aviary/interface/cmd_entry_points.py\", line 149, in aviary_cmd\n",
      "    options.executor(options, user_args)\n",
      "  File \"/home0/xjiang/workspace/Aviary_XJ/om-Aviary/aviary/interface/methods_for_level1.py\", line 180, in _exec_level1\n",
      "    run_level_1(\n",
      "  File \"/home0/xjiang/workspace/Aviary_XJ/om-Aviary/aviary/interface/methods_for_level1.py\", line 141, in run_level_1\n",
      "    prob = run_aviary(input_deck, phase_info, **kwargs)\n",
      "           ^^^^^^^^^^^^^^^^^^^^^^^^^^^^^^^^^^^^^^^^^^^^\n",
      "  File \"/home0/xjiang/workspace/Aviary_XJ/om-Aviary/aviary/interface/methods_for_level1.py\", line 112, in run_aviary\n",
      "    prob.run_aviary_problem(\n",
      "  File \"/home0/xjiang/workspace/Aviary_XJ/om-Aviary/aviary/interface/methods_for_level2.py\", line 689, in run_aviary_problem\n",
      "    failed = dm.run_problem(\n",
      "             ^^^^^^^^^^^^^^^\n",
      "  File \"/home0/xjiang/miniforge3/lib/python3.12/site-packages/dymos/run_problem.py\", line 97, in run_problem\n",
      "    failed = _refine_iter(problem, refine_iteration_limit, refine_method, case_prefix=case_prefix,\n",
      "             ^^^^^^^^^^^^^^^^^^^^^^^^^^^^^^^^^^^^^^^^^^^^^^^^^^^^^^^^^^^^^^^^^^^^^^^^^^^^^^^^^^^^^\n",
      "  File \"/home0/xjiang/miniforge3/lib/python3.12/site-packages/dymos/grid_refinement/refinement.py\", line 38, in _refine_iter\n",
      "    failed = problem.run_driver(case_prefix=case_prefix if refine_iteration_limit > 0 else _case_prefix,\n",
      "             ^^^^^^^^^^^^^^^^^^^^^^^^^^^^^^^^^^^^^^^^^^^^^^^^^^^^^^^^^^^^^^^^^^^^^^^^^^^^^^^^^^^^^^^^^^^\n",
      "  File \"/home0/xjiang/miniforge3/envs/OpenMDAO/openmdao/utils/hooks.py\", line 369, in __call__\n",
      "    ret = self.func(*args, **kwargs)\n",
      "          ^^^^^^^^^^^^^^^^^^^^^^^^^^\n",
      "  File \"/home0/xjiang/miniforge3/envs/OpenMDAO/openmdao/core/problem.py\", line 732, in run_driver\n",
      "    return driver._run()\n",
      "           ^^^^^^^^^^^^^\n",
      "  File \"/home0/xjiang/miniforge3/envs/OpenMDAO/openmdao/core/driver.py\", line 822, in _run\n",
      "    self.result.success = not self.run()\n",
      "                              ^^^^^^^^^^\n",
      "  File \"/home0/xjiang/miniforge3/envs/OpenMDAO/openmdao/drivers/pyoptsparse_driver.py\", line 532, in run\n",
      "    raise ImportError(msg)\n",
      "ImportError: Optimizer IPOPT is not available in this installation.\n",
      "sys:1: DeprecationWarning: builtin type swigvarlink has no __module__ attribute\n"
     ]
    },
    {
     "ename": "CalledProcessError",
     "evalue": "Command '['aviary', 'run_mission', 'models/aircraft/small_single_aisle/small_single_aisle_GASP.csv', '--max_iter', '0', '--optimizer', 'IPOPT']' returned non-zero exit status 1.",
     "output_type": "error",
     "traceback": [
      "\u001b[31m---------------------------------------------------------------------------\u001b[39m",
      "\u001b[31mCalledProcessError\u001b[39m                        Traceback (most recent call last)",
      "\u001b[36mCell\u001b[39m\u001b[36m \u001b[39m\u001b[32mIn[7]\u001b[39m\u001b[32m, line 21\u001b[39m\n\u001b[32m     19\u001b[39m glue_variable(command, md_code=\u001b[38;5;28;01mTrue\u001b[39;00m)\n\u001b[32m     20\u001b[39m command += \u001b[33m'\u001b[39m\u001b[33m --max_iter 0 --optimizer IPOPT\u001b[39m\u001b[33m'\u001b[39m  \u001b[38;5;66;03m# max_iter to limit build time, IPOPT to run on CI\u001b[39;00m\n\u001b[32m---> \u001b[39m\u001b[32m21\u001b[39m \u001b[43msubprocess\u001b[49m\u001b[43m.\u001b[49m\u001b[43mrun\u001b[49m\u001b[43m(\u001b[49m\u001b[43mcommand\u001b[49m\u001b[43m.\u001b[49m\u001b[43msplit\u001b[49m\u001b[43m(\u001b[49m\u001b[43m)\u001b[49m\u001b[43m)\u001b[49m\u001b[43m.\u001b[49m\u001b[43mcheck_returncode\u001b[49m\u001b[43m(\u001b[49m\u001b[43m)\u001b[49m\n",
      "\u001b[36mFile \u001b[39m\u001b[32m~/miniforge3/lib/python3.12/subprocess.py:504\u001b[39m, in \u001b[36mCompletedProcess.check_returncode\u001b[39m\u001b[34m(self)\u001b[39m\n\u001b[32m    502\u001b[39m \u001b[38;5;250m\u001b[39m\u001b[33;03m\"\"\"Raise CalledProcessError if the exit code is non-zero.\"\"\"\u001b[39;00m\n\u001b[32m    503\u001b[39m \u001b[38;5;28;01mif\u001b[39;00m \u001b[38;5;28mself\u001b[39m.returncode:\n\u001b[32m--> \u001b[39m\u001b[32m504\u001b[39m     \u001b[38;5;28;01mraise\u001b[39;00m CalledProcessError(\u001b[38;5;28mself\u001b[39m.returncode, \u001b[38;5;28mself\u001b[39m.args, \u001b[38;5;28mself\u001b[39m.stdout,\n\u001b[32m    505\u001b[39m                              \u001b[38;5;28mself\u001b[39m.stderr)\n",
      "\u001b[31mCalledProcessError\u001b[39m: Command '['aviary', 'run_mission', 'models/aircraft/small_single_aisle/small_single_aisle_GASP.csv', '--max_iter', '0', '--optimizer', 'IPOPT']' returned non-zero exit status 1."
     ]
    }
   ],
   "source": [
    "# Testing Cell\n",
    "import os\n",
    "import subprocess\n",
    "\n",
    "import aviary.api as av\n",
    "from aviary.utils.doctape import glue_variable\n",
    "\n",
    "str_folder = 'models/aircraft/small_single_aisle'\n",
    "folder = av.get_path(str_folder)\n",
    "model_dir = folder.relative_to(av.top_dir.parent)\n",
    "glue_variable(model_dir, md_code=True)\n",
    "\n",
    "str_model = 'small_single_aisle_GASP.csv'\n",
    "folder = av.get_path(str_folder) / (str_model)\n",
    "file_name = os.path.basename(folder)\n",
    "glue_variable(file_name, md_code=False)\n",
    "\n",
    "command = 'aviary run_mission ' + str_folder + '/' + str_model\n",
    "glue_variable(command, md_code=True)\n",
    "command += ' --max_iter 0 --optimizer IPOPT'  # max_iter to limit build time, IPOPT to run on CI\n",
    "subprocess.run(command.split()).check_returncode()"
   ]
  },
  {
   "cell_type": "code",
   "execution_count": 8,
   "metadata": {
    "tags": [
     "remove-cell"
    ]
   },
   "outputs": [
    {
     "data": {
      "text/markdown": [
       "`-h`"
      ],
      "text/plain": [
       "<IPython.core.display.Markdown object>"
      ]
     },
     "metadata": {
      "scrapbook": {
       "mime_prefix": "",
       "name": "-h"
      }
     },
     "output_type": "display_data"
    },
    {
     "data": {
      "text/markdown": [
       "`--help`"
      ],
      "text/plain": [
       "<IPython.core.display.Markdown object>"
      ]
     },
     "metadata": {
      "scrapbook": {
       "mime_prefix": "",
       "name": "--help"
      }
     },
     "output_type": "display_data"
    },
    {
     "data": {
      "text/markdown": [
       "`help`"
      ],
      "text/plain": [
       "<IPython.core.display.Markdown object>"
      ]
     },
     "metadata": {
      "scrapbook": {
       "mime_prefix": "",
       "name": "help"
      }
     },
     "output_type": "display_data"
    },
    {
     "data": {
      "text/markdown": [
       "`--optimizer`"
      ],
      "text/plain": [
       "<IPython.core.display.Markdown object>"
      ]
     },
     "metadata": {
      "scrapbook": {
       "mime_prefix": "",
       "name": "--optimizer"
      }
     },
     "output_type": "display_data"
    },
    {
     "data": {
      "text/markdown": [
       "`optimizer`"
      ],
      "text/plain": [
       "<IPython.core.display.Markdown object>"
      ]
     },
     "metadata": {
      "scrapbook": {
       "mime_prefix": "",
       "name": "optimizer"
      }
     },
     "output_type": "display_data"
    },
    {
     "data": {
      "text/markdown": [
       "`--phase_info`"
      ],
      "text/plain": [
       "<IPython.core.display.Markdown object>"
      ]
     },
     "metadata": {
      "scrapbook": {
       "mime_prefix": "",
       "name": "--phase_info"
      }
     },
     "output_type": "display_data"
    },
    {
     "data": {
      "text/markdown": [
       "`phase_info`"
      ],
      "text/plain": [
       "<IPython.core.display.Markdown object>"
      ]
     },
     "metadata": {
      "scrapbook": {
       "mime_prefix": "",
       "name": "phase_info"
      }
     },
     "output_type": "display_data"
    },
    {
     "data": {
      "text/markdown": [
       "`--max_iter`"
      ],
      "text/plain": [
       "<IPython.core.display.Markdown object>"
      ]
     },
     "metadata": {
      "scrapbook": {
       "mime_prefix": "",
       "name": "--max_iter"
      }
     },
     "output_type": "display_data"
    },
    {
     "data": {
      "text/markdown": [
       "`max_iter`"
      ],
      "text/plain": [
       "<IPython.core.display.Markdown object>"
      ]
     },
     "metadata": {
      "scrapbook": {
       "mime_prefix": "",
       "name": "max_iter"
      }
     },
     "output_type": "display_data"
    },
    {
     "data": {
      "text/markdown": [
       "`--verbosity`"
      ],
      "text/plain": [
       "<IPython.core.display.Markdown object>"
      ]
     },
     "metadata": {
      "scrapbook": {
       "mime_prefix": "",
       "name": "--verbosity"
      }
     },
     "output_type": "display_data"
    },
    {
     "data": {
      "text/markdown": [
       "`verbosity`"
      ],
      "text/plain": [
       "<IPython.core.display.Markdown object>"
      ]
     },
     "metadata": {
      "scrapbook": {
       "mime_prefix": "",
       "name": "verbosity"
      }
     },
     "output_type": "display_data"
    },
    {
     "data": {
      "text/markdown": [
       "`input_deck`"
      ],
      "text/plain": [
       "<IPython.core.display.Markdown object>"
      ]
     },
     "metadata": {
      "scrapbook": {
       "mime_prefix": "",
       "name": "input_deck"
      }
     },
     "output_type": "display_data"
    },
    {
     "data": {
      "text/markdown": [
       "height_energy"
      ],
      "text/plain": [
       "<IPython.core.display.Markdown object>"
      ]
     },
     "metadata": {
      "scrapbook": {
       "mime_prefix": "",
       "name": "height_energy"
      }
     },
     "output_type": "display_data"
    },
    {
     "data": {
      "text/markdown": [
       "2DOF"
      ],
      "text/plain": [
       "<IPython.core.display.Markdown object>"
      ]
     },
     "metadata": {
      "scrapbook": {
       "mime_prefix": "",
       "name": "2DOF"
      }
     },
     "output_type": "display_data"
    },
    {
     "data": {
      "text/markdown": [
       "solved_2DOF"
      ],
      "text/plain": [
       "<IPython.core.display.Markdown object>"
      ]
     },
     "metadata": {
      "scrapbook": {
       "mime_prefix": "",
       "name": "solved_2DOF"
      }
     },
     "output_type": "display_data"
    },
    {
     "data": {
      "text/markdown": [
       "settings:equations_of_motion"
      ],
      "text/plain": [
       "<IPython.core.display.Markdown object>"
      ]
     },
     "metadata": {
      "scrapbook": {
       "mime_prefix": "",
       "name": "equations_of_motion"
      }
     },
     "output_type": "display_data"
    }
   ],
   "source": [
    "# Testing Cell\n",
    "import inspect\n",
    "\n",
    "import aviary.api as av\n",
    "from aviary.interface.methods_for_level1 import run_level_1\n",
    "from aviary.utils.doctape import glue_actions, glue_variable\n",
    "from aviary.variable_info.variables import Settings\n",
    "\n",
    "# glue all the options of 'aviary run_mission'\n",
    "glue_actions('run_mission', current_glued_vars, md_code=True)\n",
    "\n",
    "glue_variable(av.EquationsOfMotion.HEIGHT_ENERGY.value, md_code=False, display=True)\n",
    "glue_variable(av.EquationsOfMotion.TWO_DEGREES_OF_FREEDOM.value, md_code=False, display=True)\n",
    "glue_variable(av.EquationsOfMotion.SOLVED_2DOF.value, md_code=False, display=True)\n",
    "glue_variable('equations_of_motion', Settings.EQUATIONS_OF_MOTION, display=True)\n",
    "\n",
    "# obtain the default value of maximum number of iterations from function run_level_1().\n",
    "max_iter = inspect.signature(run_level_1).parameters['max_iter'].default\n",
    "if 'max_iter' not in current_glued_vars:\n",
    "    glue_variable('max_iter', str(max_iter), md_code=False)\n",
    "    current_glued_vars.append('max_iter')"
   ]
  },
  {
   "cell_type": "markdown",
   "metadata": {},
   "source": [
    "{glue:md}`input_deck` is the path to vehicle input deck .csv file.\n",
    "{glue:md}`--optimizer` is the name of the optimizer. The default is `IPOPT`.\n",
    "{glue:md}`--phase_info` is the path to phase info file. If it is missing, it depends on the mission method (`equations_of_motion` with value of {glue:md}`2DOF` or {glue:md}`height_energy`) which is defined in the .csv input file.\n",
    "{glue:md}`--max_iter` is the maximum number of iterations. The default is {glue:md}`max_iter`.\n",
    "\n",
    "More detailed information and examples can be found in the [Level 1 interface](../getting_started/onboarding_level1.ipynb)."
   ]
  },
  {
   "cell_type": "code",
   "execution_count": 9,
   "metadata": {
    "tags": [
     "remove-cell"
    ]
   },
   "outputs": [
    {
     "data": {
      "text/markdown": [
       "`-o`"
      ],
      "text/plain": [
       "<IPython.core.display.Markdown object>"
      ]
     },
     "metadata": {
      "scrapbook": {
       "mime_prefix": "",
       "name": "-o"
      }
     },
     "output_type": "display_data"
    },
    {
     "data": {
      "text/markdown": [
       "`--out_file`"
      ],
      "text/plain": [
       "<IPython.core.display.Markdown object>"
      ]
     },
     "metadata": {
      "scrapbook": {
       "mime_prefix": "",
       "name": "--out_file"
      }
     },
     "output_type": "display_data"
    },
    {
     "data": {
      "text/markdown": [
       "`out_file`"
      ],
      "text/plain": [
       "<IPython.core.display.Markdown object>"
      ]
     },
     "metadata": {
      "scrapbook": {
       "mime_prefix": "",
       "name": "out_file"
      }
     },
     "output_type": "display_data"
    },
    {
     "data": {
      "text/markdown": [
       "`-l`"
      ],
      "text/plain": [
       "<IPython.core.display.Markdown object>"
      ]
     },
     "metadata": {
      "scrapbook": {
       "mime_prefix": "",
       "name": "-l"
      }
     },
     "output_type": "display_data"
    },
    {
     "data": {
      "text/markdown": [
       "`--legacy_code`"
      ],
      "text/plain": [
       "<IPython.core.display.Markdown object>"
      ]
     },
     "metadata": {
      "scrapbook": {
       "mime_prefix": "",
       "name": "--legacy_code"
      }
     },
     "output_type": "display_data"
    },
    {
     "data": {
      "text/markdown": [
       "`legacy_code`"
      ],
      "text/plain": [
       "<IPython.core.display.Markdown object>"
      ]
     },
     "metadata": {
      "scrapbook": {
       "mime_prefix": "",
       "name": "legacy_code"
      }
     },
     "output_type": "display_data"
    },
    {
     "data": {
      "text/markdown": [
       "`--force`"
      ],
      "text/plain": [
       "<IPython.core.display.Markdown object>"
      ]
     },
     "metadata": {
      "scrapbook": {
       "mime_prefix": "",
       "name": "--force"
      }
     },
     "output_type": "display_data"
    },
    {
     "data": {
      "text/markdown": [
       "`force`"
      ],
      "text/plain": [
       "<IPython.core.display.Markdown object>"
      ]
     },
     "metadata": {
      "scrapbook": {
       "mime_prefix": "",
       "name": "force"
      }
     },
     "output_type": "display_data"
    },
    {
     "data": {
      "text/markdown": [
       "`-v`"
      ],
      "text/plain": [
       "<IPython.core.display.Markdown object>"
      ]
     },
     "metadata": {
      "scrapbook": {
       "mime_prefix": "",
       "name": "-v"
      }
     },
     "output_type": "display_data"
    }
   ],
   "source": [
    "# Testing Cell\n",
    "from aviary.utils.doctape import glue_actions\n",
    "\n",
    "# glue all the options of 'aviary fortran_to_aviary'\n",
    "glue_actions('fortran_to_aviary', current_glued_vars, md_code=True)"
   ]
  },
  {
   "attachments": {},
   "cell_type": "markdown",
   "metadata": {},
   "source": [
    "(aviary-fortran_to_aviary-command)=\n",
    "### aviary fortran_to_aviary\n",
    "\n",
    "The {glue:md}`aviary fortran_to_aviary` command will convert a Fortran input deck to an Aviary csv.\n",
    "\n"
   ]
  },
  {
   "cell_type": "markdown",
   "metadata": {},
   "source": [
    "```\n",
    "aviary fortran_to_aviary -h\n",
    "```"
   ]
  },
  {
   "cell_type": "code",
   "execution_count": 10,
   "metadata": {
    "tags": [
     "remove-input"
    ]
   },
   "outputs": [
    {
     "name": "stdout",
     "output_type": "stream",
     "text": [
      "usage: aviary fortran_to_aviary [-h] [-o OUT_FILE] -l {GASP,FLOPS} [--force]\n",
      "                                [-v {0,1,2,3}]\n",
      "                                input_deck\n",
      "\n",
      "positional arguments:\n",
      "  input_deck            Filename of vehicle input deck, including partial or\n",
      "                        complete path.\n",
      "\n",
      "options:\n",
      "  -h, --help            show this help message and exit\n",
      "  -o OUT_FILE, --out_file OUT_FILE\n",
      "                        Filename for converted input deck, including partial\n",
      "                        or complete path.\n",
      "  -l {GASP,FLOPS}, --legacy_code {GASP,FLOPS}\n",
      "                        Name of the legacy code the deck originated from\n",
      "  --force               Allow overwriting existing output files\n",
      "  -v {0,1,2,3}, --verbosity {0,1,2,3}\n",
      "                        Set level of print statements\n"
     ]
    }
   ],
   "source": [
    "!aviary fortran_to_aviary -h 2>/dev/null"
   ]
  },
  {
   "cell_type": "markdown",
   "metadata": {},
   "source": [
    "The only two required inputs are the filepath to the input deck and {glue:md}`-l` (for {glue:md}`--legacy_code` with options `FLOPS` and `GASP`).\n",
    "When this command is run, a brief message is printed. To print more messages, one can set verbosity level higher. For example, `-v 3` will result in debug messages being printed. See [Controlling Display Levels](../developer_guide/coding_standards.ipynb) for more details.\n",
    "If an invalid filepath is given, pre-packaged resources will be checked for input decks with a matching name.\n",
    "If the output file name is not specified, a detault name is assumed to be the trunk of the input file name with `csv` as file extension. For example, an input file `sample.dat` will result in `sample_converted.csv`.\n",
    "If the output file exists, the command will not run unless the user specifies {glue:md}`--force` to force the overwritten action.\n",
    "\n",
    "Here, pre-packaged resources are absolute path, relative path, Aviary based path, and relative path relative to the Aviary models folder.\n",
    "\n",
    "Notes for input decks:\n",
    "- When specifying variables from FORTRAN, they should be in the appropriate NAMELIST\n",
    "- Names are not case-sensitive\n",
    "- Comments can be added using \"!\"\n",
    "- Lists can be entered by separating values with commas on the same line\n",
    "- For GASP variables where required, individual list elements can be specified by adding an index after the variable name\n",
    "    - (NOTE: 1 indexing is used inside NAMELISTS, while 0 indexing is used outside NAMELISTS)\n",
    "\n",
    "Example inputs (GASP-style file):\n",
    "```\n",
    "$INGASP\n",
    "DELP = 7.34797 ! typical GASP input\n",
    "ARNGE(1) = 3600 ! variable with specified index\n",
    "ACLS = 0.0,0.40,0.60,0.80,1.00,1.20, 1.40,1.60,1.80, ! values given as array\n",
    "```\n",
    "\n",
    "Example usage:\n",
    "`aviary fortran_to_aviary --legacy_code GASP --force GASP_test.dat` Converts the GASP input deck to Aviary (even if a file with the name GASP_test.dat already exists)."
   ]
  },
  {
   "cell_type": "code",
   "execution_count": 11,
   "metadata": {
    "tags": [
     "remove-cell"
    ]
   },
   "outputs": [
    {
     "data": {
      "text/markdown": [
       "`-f`"
      ],
      "text/plain": [
       "<IPython.core.display.Markdown object>"
      ]
     },
     "metadata": {
      "scrapbook": {
       "mime_prefix": "",
       "name": "-f"
      }
     },
     "output_type": "display_data"
    },
    {
     "data": {
      "text/markdown": [
       "`--data_format`"
      ],
      "text/plain": [
       "<IPython.core.display.Markdown object>"
      ]
     },
     "metadata": {
      "scrapbook": {
       "mime_prefix": "",
       "name": "--data_format"
      }
     },
     "output_type": "display_data"
    },
    {
     "data": {
      "text/markdown": [
       "`data_format`"
      ],
      "text/plain": [
       "<IPython.core.display.Markdown object>"
      ]
     },
     "metadata": {
      "scrapbook": {
       "mime_prefix": "",
       "name": "data_format"
      }
     },
     "output_type": "display_data"
    },
    {
     "data": {
      "text/markdown": [
       "`--round`"
      ],
      "text/plain": [
       "<IPython.core.display.Markdown object>"
      ]
     },
     "metadata": {
      "scrapbook": {
       "mime_prefix": "",
       "name": "--round"
      }
     },
     "output_type": "display_data"
    },
    {
     "data": {
      "text/markdown": [
       "`round`"
      ],
      "text/plain": [
       "<IPython.core.display.Markdown object>"
      ]
     },
     "metadata": {
      "scrapbook": {
       "mime_prefix": "",
       "name": "round"
      }
     },
     "output_type": "display_data"
    },
    {
     "data": {
      "text/markdown": [
       "`input_file`"
      ],
      "text/plain": [
       "<IPython.core.display.Markdown object>"
      ]
     },
     "metadata": {
      "scrapbook": {
       "mime_prefix": "",
       "name": "input_file"
      }
     },
     "output_type": "display_data"
    },
    {
     "data": {
      "text/markdown": [
       "`output_file`"
      ],
      "text/plain": [
       "<IPython.core.display.Markdown object>"
      ]
     },
     "metadata": {
      "scrapbook": {
       "mime_prefix": "",
       "name": "output_file"
      }
     },
     "output_type": "display_data"
    }
   ],
   "source": [
    "# Testing Cell\n",
    "\n",
    "# glue all the options of 'aviary convert_engine'\n",
    "glue_actions('convert_engine', current_glued_vars, md_code=True)"
   ]
  },
  {
   "cell_type": "markdown",
   "metadata": {},
   "source": [
    "(aviary-hangar-command)=\n",
    "### aviary hangar\n",
    "\n",
    "The {glue:md}`aviary hangar` command will copy files and folders from the Aviary hangar to an accessible directory.\n",
    "This is useful for users that have pip installed Aviary, but want to experiment with the included examples.\n",
    "\n",
    "\n"
   ]
  },
  {
   "cell_type": "markdown",
   "metadata": {},
   "source": [
    "```\n",
    "aviary hangar -h\n",
    "```"
   ]
  },
  {
   "cell_type": "code",
   "execution_count": 12,
   "metadata": {
    "tags": [
     "remove-input"
    ]
   },
   "outputs": [
    {
     "name": "stdout",
     "output_type": "stream",
     "text": [
      "usage: aviary hangar [-h] [-o OUTDIR] [-v] indecks [indecks ...]\n",
      "\n",
      "positional arguments:\n",
      "  indecks               Name of file or folder to download from Aviary/models\n",
      "\n",
      "options:\n",
      "  -h, --help            show this help message and exit\n",
      "  -o OUTDIR, --outdir OUTDIR\n",
      "                        Directory to write outputs. Defaults to aviary_models\n",
      "                        in the current directory.\n",
      "  -v, --verbose         Enable verbose outputs\n"
     ]
    }
   ],
   "source": [
    "!aviary hangar -h 2>/dev/null"
   ]
  },
  {
   "cell_type": "markdown",
   "metadata": {},
   "source": [
    "The only required input is the name of an input deck.\n",
    "This can be specified as the name of the file, the path from [aviary/models](https://github.com/OpenMDAO/Aviary/tree/main/aviary/models), the name of a folder in aviary/models. Multiple files and folders can be copied at once.\n",
    "Optionally, the output directory can be specified; if it is not, the files will be copied into the current working directory in a folder called `aviary_models`.\n",
    "If specified, the output directory will be created as needed.\n",
    "\n",
    "Example usage:\n",
    "```\n",
    "# Copy all files in the engines folder\n",
    "aviary hangar engines\n",
    "# Copy the 22k turbofan deck\n",
    "aviary hangar turbofan_22k.txt\n",
    "# Copy the N3CC data\n",
    "aviary hangar advanced_single_aisle/advanced_single_aisle_data.py\n",
    "# Copy the Fortran and Aviary input decks for the small single aisle\n",
    "aviary hangar small_single_aisle_GwGm.dat small_single_aisle_GwGm.csv\n",
    "# Copy the engine model into ~/example_files\n",
    "aviary hangar turbofan_22k.txt -o ~/example_files\n",
    "```"
   ]
  },
  {
   "cell_type": "code",
   "execution_count": 13,
   "metadata": {
    "tags": [
     "remove-cell"
    ]
   },
   "outputs": [],
   "source": [
    "# Testing Cell\n",
    "import os\n",
    "import subprocess\n",
    "import tempfile\n",
    "\n",
    "commands = [\n",
    "    'engines',\n",
    "    'turbofan_22k.csv',\n",
    "    'advanced_single_aisle/advanced_single_aisle_data.py',\n",
    "    'small_single_aisle_GASP.dat small_single_aisle_GASP.csv',\n",
    "    'turbofan_22k.csv -o ~/example_files',\n",
    "]\n",
    "# Save the current directory\n",
    "original_cwd = os.getcwd()\n",
    "\n",
    "try:\n",
    "    with tempfile.TemporaryDirectory() as tempdir:\n",
    "        os.chdir(tempdir)\n",
    "        for command in commands:\n",
    "            command = 'aviary hangar ' + command\n",
    "            subprocess.run(command.split()).check_returncode()\n",
    "finally:\n",
    "    # Always restore the original directory\n",
    "    os.chdir(original_cwd)"
   ]
  },
  {
   "cell_type": "markdown",
   "metadata": {},
   "source": [
    "(aviary-EDC-command)=\n",
    "### aviary convert_engine\n",
    "\n",
    "The {glue:md}`aviary convert_engine` command will convert a legacy formatted (FLOPS or GASP) engine deck into an Aviary formatted engine deck."
   ]
  },
  {
   "cell_type": "markdown",
   "metadata": {},
   "source": [
    "```\n",
    "aviary convert_engine -h\n",
    "```"
   ]
  },
  {
   "cell_type": "code",
   "execution_count": 14,
   "metadata": {
    "tags": [
     "remove-input"
    ]
   },
   "outputs": [
    {
     "name": "stdout",
     "output_type": "stream",
     "text": [
      "usage: aviary convert_engine [-h] [-f {FLOPS,GASP,GASP_TS}] [--round]\n",
      "                             input_file [output_file]\n",
      "\n",
      "positional arguments:\n",
      "  input_file            path to engine deck file to be converted\n",
      "  output_file           path to file where new converted data will be written\n",
      "\n",
      "options:\n",
      "  -h, --help            show this help message and exit\n",
      "  -f {FLOPS,GASP,GASP_TS}, --data_format {FLOPS,GASP,GASP_TS}\n",
      "                        data format used by input_file\n",
      "  --round               round data to improve readability\n"
     ]
    }
   ],
   "source": [
    "!aviary convert_engine -h 2>/dev/null"
   ]
  },
  {
   "cell_type": "markdown",
   "metadata": {},
   "source": [
    "Users must provide the path or name of an input deck, and the engine format being converted.\n",
    "If an invalid filepath is given for the input file, pre-packaged resources will be checked for input decks with a matching name.\n",
    "\n",
    "The path to the output file name is optional. If it is missing, the output file name takes the \n",
    "trunk of the input file name with `deck` as default file extension. For example, an input file `sample.eng` will result in `sample.csv` unless the user specifies the output file name.\n",
    "\n",
    "If the output file exists, it will be overwritten.\n",
    "\n",
    "The engine format is specified by {glue:md}`-f` or {glue:md}`--data_format` with one of `FLOPS`, `GASP`, and `GASP_TS` string (`TS` stands for turboshaft). If multiple are specified, the last one will be used.\n",
    "\n",
    "Notes for input decks:\n",
    "- Turbofan decks for both FLOPS and GASP can be converted\n",
    "- Turboshaft decks for GASP can also be converted\n",
    "- Comments can be added using #\n",
    "\n",
    "\n",
    "Example usage:\n",
    "\n",
    "```\n",
    "# Convert a GASP based turbofan\n",
    "aviary convert_engine turbofan_23k_1.eng turbofan_23k_1.csv -f GASP \n",
    "# Convert a FLOPS based turbofan\n",
    "aviary convert_engine turbofan_22k.eng turbofan_22k.csv -f FLOPS \n",
    "# Convert a GASP based turboshaft\n",
    "aviary convert_engine turboshaft_4465hp.eng turboshaft_4465hp.csv --data_format GASP_TS\n",
    "```"
   ]
  },
  {
   "cell_type": "code",
   "execution_count": 15,
   "metadata": {
    "tags": [
     "remove-cell"
    ]
   },
   "outputs": [],
   "source": [
    "# Testing Cell\n",
    "from aviary.utils.doctape import run_command_no_file_error\n",
    "\n",
    "commands = [\n",
    "    'utils/test/data/turbofan_23k_1.eng turbofan_23k_1.csv -f GASP',\n",
    "    'utils/test/data/turbofan_22k.txt turbofan_22k.csv -f FLOPS',\n",
    "    'utils/test/data/turboshaft_4465hp.eng turboshaft_4465hp.csv -f GASP_TS',\n",
    "]\n",
    "for command in commands:\n",
    "    run_command_no_file_error('aviary convert_engine ' + command)"
   ]
  },
  {
   "cell_type": "code",
   "execution_count": 16,
   "metadata": {
    "tags": [
     "remove-cell"
    ]
   },
   "outputs": [],
   "source": [
    "# Testing Cell\n",
    "\n",
    "# glue all the options of 'aviary convert_aero_table'\n",
    "glue_actions('convert_aero_table', current_glued_vars, md_code=True)"
   ]
  },
  {
   "cell_type": "markdown",
   "metadata": {},
   "source": [
    "(aviary-ATC-command)=\n",
    "### aviary convert_aero_table\n",
    "\n",
    "The {glue:md}`aviary convert_aero_table` command will convert a legacy formatted (FLOPS or GASP) aero table into an Aviary formatted aero table.\n"
   ]
  },
  {
   "cell_type": "markdown",
   "metadata": {},
   "source": [
    "```\n",
    "aviary convert_aero_table -h\n",
    "```"
   ]
  },
  {
   "cell_type": "code",
   "execution_count": 17,
   "metadata": {
    "tags": [
     "remove-input"
    ]
   },
   "outputs": [
    {
     "name": "stdout",
     "output_type": "stream",
     "text": [
      "usage: aviary convert_aero_table [-h] [-f {FLOPS,GASP,GASP_ALT}]\n",
      "                                 input_file [output_file]\n",
      "\n",
      "positional arguments:\n",
      "  input_file            path to aero data file to be converted\n",
      "  output_file           path to file where new converted data will be written\n",
      "\n",
      "options:\n",
      "  -h, --help            show this help message and exit\n",
      "  -f {FLOPS,GASP,GASP_ALT}, --data_format {FLOPS,GASP,GASP_ALT}\n",
      "                        data format used by input_file\n"
     ]
    }
   ],
   "source": [
    "!aviary convert_aero_table -h 2>/dev/null"
   ]
  },
  {
   "cell_type": "markdown",
   "metadata": {},
   "source": [
    "Users must provide the path or name of an input deck and the data format being converted.\n",
    "Optionally, the path to the output file can also be specified, otherwise the default output file will be in the same location and have the same name as input file, but with '_aviary' appended to the end of filename trunk while the file extension is preserved. For example, an input file `sample.txt` will result in `sample_aviary.txt` unless the user specifies the output file name.\n",
    "If both {glue:md}`-f` and {glue:md}`--data_format` are specified, the later one is taken.\n",
    "If an existing file has the same name as output file name, the existing file will be overwritten.\n",
    "If an invalid filepath is given for the input file, pre-packaged resources will be checked for input decks with a matching name.\n",
    "\n",
    "Notes for input decks:\n",
    "- Aero tables for both FLOPS and GASP can be converted\n",
    "- GASP tables will create a single file containing all the lift and drag information\n",
    "- There are two types of GASP tables. The first one combines CL and CD into one single table. The second one has them separated with a possible CD0 table. We name the first one as `GASP` and the second one as `GASP_ALT`. The second one is usually obtained by high fidelity CFD tools.\n",
    "- FLOPS tables will create two files, one containing the lift-dependent drag and the other containing the lift-independent drag.\n",
    "- Comments can be added using #\n",
    "\n",
    "\n",
    "Example usage:\n",
    "```\n",
    "# Converts a GASP based aero table \n",
    "aviary convert_aero_table -f GASP utils/test/data/aero_free_GASP.txt large_single_aisle_1_aero_flaps.csv\n",
    "# Converts a GASP based alternative aero table \n",
    "aviary convert_aero_table -f GASP_ALT utils/test/data/aero_BWB_modified_GASP.txt generic_BWB_GASP_aero.csv\n",
    "# Converts a FLOPS based aero table\n",
    "aviary convert_aero_table -f FLOPS utils/test/data/flops_test_polar.txt aviary_flops_polar.txt\n",
    "```"
   ]
  },
  {
   "cell_type": "code",
   "execution_count": null,
   "metadata": {
    "tags": [
     "remove-cell"
    ]
   },
   "outputs": [],
   "source": [
    "# Testing Cell\n",
    "from aviary.utils.doctape import run_command_no_file_error\n",
    "\n",
    "commands = [\n",
    "    '-f GASP utils/test/data/aero_free_GASP.txt large_single_aisle_1_aero_flaps.csv',\n",
    "    '-f GASP_ALT utils/test/data/aero_BWB_modified_GASP.txt',\n",
    "    '-f FLOPS utils/test/data/flops_test_polar.txt aviary_flops_polar.txt',\n",
    "]\n",
    "for command in commands:\n",
    "    run_command_no_file_error('aviary convert_aero_table ' + command)"
   ]
  },
  {
   "cell_type": "markdown",
   "metadata": {},
   "source": [
    "(aviary-PMC-command)=\n",
    "### aviary convert_prop_table\n",
    "\n",
    "The {glue:md}`aviary convert_prop_table` command converts a legacy formatted (GASP) propeller map into an Aviary formatted propeller map. Currently, GASP is the only format supported."
   ]
  },
  {
   "cell_type": "markdown",
   "metadata": {},
   "source": [
    "```\n",
    "aviary convert_prop_table -h\n",
    "```"
   ]
  },
  {
   "cell_type": "code",
   "execution_count": null,
   "metadata": {
    "tags": [
     "remove-input"
    ]
   },
   "outputs": [],
   "source": [
    "!aviary convert_prop_table -h 2>/dev/null"
   ]
  },
  {
   "cell_type": "markdown",
   "metadata": {},
   "source": [
    "Users must provide the path or name of an input deck, and optionally the path to the desired output file. If not provided, the output file will have the same filename as the input file but with the exension `.prop`. This is arbitrary, and `.prop` is not a required file extension for propeller data files, but it is designed to help users recognize the purpose of the data table without needing to open it.\n",
    "If an invalid filepath is given for the input file, Aviary's files will be checked for input decks with a matching name.\n",
    "\n",
    "Notes for input decks:\n",
    "- There are two options for Mach number: Mach number and helical Mach number at 75% radius. We provide one example for each. This is the first integer on the first line of the input file. (1 = Mach, 2 = helical Mach)\n",
    "- Comments can be added using #\n",
    "\n",
    "\n",
    "Example usage:\n",
    "\n",
    "```\n",
    "# Convert GASP based propeller map PropFan.map to Aviary data table PropFan.csv\n",
    "aviary convert_prop_table PropFan.map PropFan.csv\n",
    "# Convert GASP based propeller map general_aviation.map to Aviary data table general_aviation.csv\n",
    "aviary convert_prop_table general_aviation.map general_aviation.csv\n",
    "# Convert GASP based propeller map general_aviation.map to Aviary data table general_aviation.csv\n",
    "aviary convert_prop_table general_aviation.map\n",
    "```\n",
    "The first example uses Mach number and the second example uses helical Mach number. \n",
    "Note that the output file name was not specified in the third example."
   ]
  },
  {
   "cell_type": "code",
   "execution_count": null,
   "metadata": {
    "tags": [
     "remove-cell"
    ]
   },
   "outputs": [],
   "source": [
    "# Testing Cell\n",
    "from aviary.utils.doctape import run_command_no_file_error\n",
    "\n",
    "commands = [\n",
    "    'models/engines/propellers/PropFan.map PropFan.csv',\n",
    "    'models/engines/propellers/general_aviation.map general_aviation.csv',\n",
    "    'models/engines/propellers/general_aviation.map',\n",
    "]\n",
    "for command in commands:\n",
    "    run_command_no_file_error('aviary convert_prop_table ' + command)"
   ]
  },
  {
   "cell_type": "code",
   "execution_count": null,
   "metadata": {
    "tags": [
     "remove-cell"
    ]
   },
   "outputs": [],
   "source": [
    "# glue all the options of 'aviary convert_prop_table'\n",
    "glue_actions('convert_prop_table', current_glued_vars, md_code=True)"
   ]
  },
  {
   "cell_type": "markdown",
   "metadata": {},
   "source": [
    "(aviary-draw-command)=\n",
    "### aviary draw_mission\n",
    "\n",
    "The {glue:md}`aviary draw_mission` command will bring up a new graphical interface for users to create a  mission. This command does not have an input. More details can be found at [Drawing and running simple missions](drawing_and_running_simple_missions.ipynb)."
   ]
  },
  {
   "cell_type": "markdown",
   "metadata": {},
   "source": [
    "(aviary-plot-command)=\n",
    "### aviary plot_drag_polar\n",
    "\n",
    "The {glue:md}`aviary plot_drag_polar` command will bring up a new graphical interface for users to draw drag polar. No options are needed on the command line but a file explorer window will pop-up to allow the user to select a drag polar file (a `.csv` file). It is not working at this time."
   ]
  },
  {
   "cell_type": "markdown",
   "metadata": {},
   "source": [
    "```\n",
    "aviary plot_drag_polar -h\n",
    "```"
   ]
  },
  {
   "cell_type": "code",
   "execution_count": null,
   "metadata": {
    "tags": [
     "remove-input"
    ]
   },
   "outputs": [],
   "source": [
    "!aviary plot_drag_polar -h 2>/dev/null"
   ]
  },
  {
   "cell_type": "code",
   "execution_count": null,
   "metadata": {
    "tags": [
     "remove-cell"
    ]
   },
   "outputs": [],
   "source": [
    "# Testing Cell\n",
    "\n",
    "# glue all the options of 'aviary dashboard'\n",
    "glue_actions('dashboard', current_glued_vars, glue_default=True, md_code=True)"
   ]
  },
  {
   "cell_type": "markdown",
   "metadata": {},
   "source": [
    "(aviary-dashboard-command)=\n",
    "### aviary dashboard\n",
    "\n",
    "The {glue:md}`aviary dashboard` command will bring up a dashboard that lets the user easily browse between the reports and files that are generated during an Aviary run."
   ]
  },
  {
   "cell_type": "markdown",
   "metadata": {},
   "source": [
    "```\n",
    "aviary dashboard -h\n",
    "```"
   ]
  },
  {
   "cell_type": "code",
   "execution_count": null,
   "metadata": {
    "tags": [
     "remove-input"
    ]
   },
   "outputs": [],
   "source": [
    "!aviary dashboard -h 2>/dev/null"
   ]
  },
  {
   "cell_type": "markdown",
   "metadata": {},
   "source": [
    "To use this utility, either a problem has been run or a run script is provided.\n",
    "\n",
    "{glue:md}`--problem_recorder` is an input. Default is {glue:md}`problem_recorder_default`.\n",
    "{glue:md}`--driver_recorder` is an optional input.\n",
    "{glue:md}`--port` is the dashboard server port ID. The default is {glue:md}`port_default` meaning any free port.\n",
    "{glue:md}`-b` or {glue:md}`--background` indicates to run in background. Default is `False`.\n",
    "{glue:md}`-d` or {glue:md}`--debug` indicates to show debugging output. Default is `False`.\n",
    "{glue:md}`--save` is the name of zip file in which dashboard files are saved. If no argument given, use the script name to name the zip file.\n",
    "{glue:md}`--force` indicates to overwrite the saved zip file. The default is `False`.\n",
    "{glue:md}`script_name` is the name of aviary script that was run (not including .py), or the csv input filename if the user runs a Level 1 script.\n"
   ]
  },
  {
   "cell_type": "markdown",
   "metadata": {},
   "source": [
    "More discussion on {glue:md}`aviary dashboard` command can be found in [Postprocessing and Visualizing Results from Aviary](postprocessing_and_visualizing_results.ipynb)."
   ]
  }
 ],
 "metadata": {
  "kernelspec": {
   "display_name": "base",
   "language": "python",
   "name": "python3"
  },
  "language_info": {
   "codemirror_mode": {
    "name": "ipython",
    "version": 3
   },
   "file_extension": ".py",
   "mimetype": "text/x-python",
   "name": "python",
   "nbconvert_exporter": "python",
   "pygments_lexer": "ipython3",
   "version": "3.12.9"
  }
 },
 "nbformat": 4,
 "nbformat_minor": 4
}
