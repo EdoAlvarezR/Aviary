{
 "cells": [
  {
   "cell_type": "markdown",
   "metadata": {},
   "source": [
    "# Creating a Turboprop Powered Aircraft Example\n",
    "\n",
    "Here we will create an aircraft using a more advanced `EngineModel`, the `TurbopropModel`. This is a more complicated type of engine that combines several different models into a single unit. The `TurbopropModel` has three individual pieces needed to create it - a \"shaft power model\" that describes how the turboprop turns energy into shaft power, such as a turboshaft or motor, a \"gearbox model\" for adjusting the shaft RPM, and a \"propeller model\" to convert shaft power into thrust. Let's walk through two examples: first building a turboprop-powered aircraft with a minimum amount of information, and then a second example where we electrify the aircraft by replacing the default models in the `TurbopropModel` with custom ones.\n",
    "\n",
    "## Basic Turboprop Aircraft Example"
   ]
  },
  {
   "cell_type": "code",
   "execution_count": 3,
   "metadata": {},
   "outputs": [
    {
     "name": "stderr",
     "output_type": "stream",
     "text": [
      "/home0/jkirk5/python/Aviary/aviary/subsystems/propulsion/engine_deck.py:236: UserWarning: <aircraft:engine:scale_performance> is a required option for EngineDecks, but has not been specified for EngineDeck <engine_deck>. The default value True will be used.\n",
      "  warnings.warn(\n",
      "/home0/jkirk5/python/Aviary/aviary/subsystems/propulsion/engine_deck.py:236: UserWarning: <aircraft:engine:ignore_negative_thrust> is a required option for EngineDecks, but has not been specified for EngineDeck <engine_deck>. The default value False will be used.\n",
      "  warnings.warn(\n",
      "/home0/jkirk5/python/Aviary/aviary/subsystems/propulsion/engine_deck.py:236: UserWarning: <aircraft:engine:geopotential_alt> is a required option for EngineDecks, but has not been specified for EngineDeck <engine_deck>. The default value False will be used.\n",
      "  warnings.warn(\n",
      "/home0/jkirk5/python/Aviary/aviary/subsystems/propulsion/engine_deck.py:236: UserWarning: <aircraft:engine:generate_flight_idle> is a required option for EngineDecks, but has not been specified for EngineDeck <engine_deck>. The default value False will be used.\n",
      "  warnings.warn(\n",
      "/home0/jkirk5/python/Aviary/aviary/subsystems/propulsion/engine_deck.py:236: UserWarning: <aircraft:engine:interpolation_method> is a required option for EngineDecks, but has not been specified for EngineDeck <engine_deck>. The default value slinear will be used.\n",
      "  warnings.warn(\n",
      "/home0/jkirk5/python/Aviary/aviary/subsystems/propulsion/engine_deck.py:236: UserWarning: <mission:summary:fuel_flow_scaler> is a required option for EngineDecks, but has not been specified for EngineDeck <engine_deck>. The default value 1.0 will be used.\n",
      "  warnings.warn(\n",
      "/home0/jkirk5/python/Aviary/aviary/utils/process_input_decks.py:207: UserWarning: Variable 'aircraft:fuselage:wetted_area_factor' is not in meta_data nor in 'guess_names'. It will be ignored.\n",
      "  warnings.warn(\n",
      "/home0/jkirk5/python/Aviary/aviary/utils/preprocessors.py:525: UserWarning: Mount location for engines of type <turboprop_example> not specified. Wing-mounted engines are assumed.\n",
      "  warnings.warn(\n"
     ]
    },
    {
     "name": "stdout",
     "output_type": "stream",
     "text": [
      "Unable to locate 'models/large_turboprop_freighter/large_turboprop_freighter_GASP.csv' as an absolute or relative path. Trying Aviary package path: /home0/jkirk5/python/Aviary/aviary/models/large_turboprop_freighter/large_turboprop_freighter_GASP.csv\n",
      "Using /home0/jkirk5/python/Aviary/aviary/models/large_turboprop_freighter/large_turboprop_freighter_GASP.csv for file.\n",
      "WARNING: User has only set Aircraft.CrewPayload.CARGO_MASS 0.                         For backwards compatiability, Aviary is assuming user intended to set Design.MAX_CARGO_MASS = (0).                         Setting Aircraft.CrewPayload.CARGO_MASS and Aircraft.CrewPayload.Design.CARGO_MASS = 0\n",
      "WARNING: as flown payload (11400) > design payload                 (0) . Consider potential need to re-design the aircraft!\n",
      "No design variables for Fallout missions\n"
     ]
    },
    {
     "ename": "TypeError",
     "evalue": "'pre_mission.core_propulsion' <class PropulsionPreMission>: Value ([4]) of option 'aircraft:engine:num_engines' has type 'ndarray', but one of types ('list', 'int') was expected.",
     "output_type": "error",
     "traceback": [
      "\u001b[0;31m---------------------------------------------------------------------------\u001b[0m",
      "\u001b[0;31mTypeError\u001b[0m                                 Traceback (most recent call last)",
      "Cell \u001b[0;32mIn[3], line 50\u001b[0m\n\u001b[1;32m     48\u001b[0m prob\u001b[38;5;241m.\u001b[39madd_design_variables()\n\u001b[1;32m     49\u001b[0m prob\u001b[38;5;241m.\u001b[39madd_objective()\n\u001b[0;32m---> 50\u001b[0m \u001b[43mprob\u001b[49m\u001b[38;5;241;43m.\u001b[39;49m\u001b[43msetup\u001b[49m\u001b[43m(\u001b[49m\u001b[43m)\u001b[49m\n\u001b[1;32m     52\u001b[0m prob\u001b[38;5;241m.\u001b[39mset_initial_guesses()\n\u001b[1;32m     53\u001b[0m prob\u001b[38;5;241m.\u001b[39mrun_aviary_problem(suppress_solver_print\u001b[38;5;241m=\u001b[39m\u001b[38;5;28;01mTrue\u001b[39;00m, make_plots\u001b[38;5;241m=\u001b[39m\u001b[38;5;28;01mFalse\u001b[39;00m)\n",
      "File \u001b[0;32m~/python/Aviary/aviary/interface/methods_for_level2.py:1432\u001b[0m, in \u001b[0;36mAviaryProblem.setup\u001b[0;34m(self, **kwargs)\u001b[0m\n\u001b[1;32m   1429\u001b[0m warnings\u001b[38;5;241m.\u001b[39msimplefilter(\u001b[38;5;124m\"\u001b[39m\u001b[38;5;124mignore\u001b[39m\u001b[38;5;124m\"\u001b[39m, om\u001b[38;5;241m.\u001b[39mOpenMDAOWarning)\n\u001b[1;32m   1430\u001b[0m warnings\u001b[38;5;241m.\u001b[39msimplefilter(\u001b[38;5;124m\"\u001b[39m\u001b[38;5;124mignore\u001b[39m\u001b[38;5;124m\"\u001b[39m, om\u001b[38;5;241m.\u001b[39mPromotionWarning)\n\u001b[0;32m-> 1432\u001b[0m \u001b[38;5;28;43msuper\u001b[39;49m\u001b[43m(\u001b[49m\u001b[43m)\u001b[49m\u001b[38;5;241;43m.\u001b[39;49m\u001b[43msetup\u001b[49m\u001b[43m(\u001b[49m\u001b[38;5;241;43m*\u001b[39;49m\u001b[38;5;241;43m*\u001b[39;49m\u001b[43mkwargs\u001b[49m\u001b[43m)\u001b[49m\n",
      "File \u001b[0;32m~/miniconda3/envs/aviary/lib/python3.12/site-packages/openmdao/core/problem.py:1060\u001b[0m, in \u001b[0;36mProblem.setup\u001b[0;34m(self, check, logger, mode, force_alloc_complex, distributed_vector_class, local_vector_class, derivatives, parent)\u001b[0m\n\u001b[1;32m   1057\u001b[0m \u001b[38;5;28mself\u001b[39m\u001b[38;5;241m.\u001b[39m_metadata[\u001b[38;5;124m'\u001b[39m\u001b[38;5;124mreports_dir\u001b[39m\u001b[38;5;124m'\u001b[39m] \u001b[38;5;241m=\u001b[39m \u001b[38;5;28mself\u001b[39m\u001b[38;5;241m.\u001b[39mget_reports_dir(force\u001b[38;5;241m=\u001b[39m\u001b[38;5;28;01mFalse\u001b[39;00m)\n\u001b[1;32m   1059\u001b[0m \u001b[38;5;28;01mtry\u001b[39;00m:\n\u001b[0;32m-> 1060\u001b[0m     \u001b[43mmodel\u001b[49m\u001b[38;5;241;43m.\u001b[39;49m\u001b[43m_setup\u001b[49m\u001b[43m(\u001b[49m\u001b[43mmodel_comm\u001b[49m\u001b[43m,\u001b[49m\u001b[43m \u001b[49m\u001b[38;5;28;43mself\u001b[39;49m\u001b[38;5;241;43m.\u001b[39;49m\u001b[43m_metadata\u001b[49m\u001b[43m)\u001b[49m\n\u001b[1;32m   1061\u001b[0m \u001b[38;5;28;01mfinally\u001b[39;00m:\n\u001b[1;32m   1062\u001b[0m     \u001b[38;5;66;03m# whenever we're outside of model._setup, static mode should be True so that anything\u001b[39;00m\n\u001b[1;32m   1063\u001b[0m     \u001b[38;5;66;03m# added outside of _setup will persist.\u001b[39;00m\n\u001b[1;32m   1064\u001b[0m     \u001b[38;5;28mself\u001b[39m\u001b[38;5;241m.\u001b[39m_metadata[\u001b[38;5;124m'\u001b[39m\u001b[38;5;124mstatic_mode\u001b[39m\u001b[38;5;124m'\u001b[39m] \u001b[38;5;241m=\u001b[39m \u001b[38;5;28;01mTrue\u001b[39;00m\n",
      "File \u001b[0;32m~/miniconda3/envs/aviary/lib/python3.12/site-packages/openmdao/core/group.py:777\u001b[0m, in \u001b[0;36mGroup._setup\u001b[0;34m(self, comm, prob_meta)\u001b[0m\n\u001b[1;32m    774\u001b[0m \u001b[38;5;28mself\u001b[39m\u001b[38;5;241m.\u001b[39m_post_components \u001b[38;5;241m=\u001b[39m \u001b[38;5;28;01mNone\u001b[39;00m\n\u001b[1;32m    776\u001b[0m \u001b[38;5;66;03m# Besides setting up the processors, this method also builds the model hierarchy.\u001b[39;00m\n\u001b[0;32m--> 777\u001b[0m \u001b[38;5;28;43mself\u001b[39;49m\u001b[38;5;241;43m.\u001b[39;49m\u001b[43m_setup_procs\u001b[49m\u001b[43m(\u001b[49m\u001b[38;5;28;43mself\u001b[39;49m\u001b[38;5;241;43m.\u001b[39;49m\u001b[43mpathname\u001b[49m\u001b[43m,\u001b[49m\u001b[43m \u001b[49m\u001b[43mcomm\u001b[49m\u001b[43m,\u001b[49m\u001b[43m \u001b[49m\u001b[38;5;28;43mself\u001b[39;49m\u001b[38;5;241;43m.\u001b[39;49m\u001b[43m_problem_meta\u001b[49m\u001b[43m)\u001b[49m\n\u001b[1;32m    779\u001b[0m prob_meta[\u001b[38;5;124m'\u001b[39m\u001b[38;5;124mconfig_info\u001b[39m\u001b[38;5;124m'\u001b[39m] \u001b[38;5;241m=\u001b[39m _ConfigInfo()\n\u001b[1;32m    781\u001b[0m \u001b[38;5;28;01mtry\u001b[39;00m:\n\u001b[1;32m    782\u001b[0m     \u001b[38;5;66;03m# Recurse model from the bottom to the top for configuring.\u001b[39;00m\n",
      "File \u001b[0;32m~/miniconda3/envs/aviary/lib/python3.12/site-packages/openmdao/core/group.py:659\u001b[0m, in \u001b[0;36mGroup._setup_procs\u001b[0;34m(self, pathname, comm, prob_meta)\u001b[0m\n\u001b[1;32m    657\u001b[0m \u001b[38;5;66;03m# Perform recursion\u001b[39;00m\n\u001b[1;32m    658\u001b[0m \u001b[38;5;28;01mfor\u001b[39;00m subsys \u001b[38;5;129;01min\u001b[39;00m \u001b[38;5;28mself\u001b[39m\u001b[38;5;241m.\u001b[39m_subsystems_myproc:\n\u001b[0;32m--> 659\u001b[0m     \u001b[43msubsys\u001b[49m\u001b[38;5;241;43m.\u001b[39;49m\u001b[43m_setup_procs\u001b[49m\u001b[43m(\u001b[49m\u001b[43msubsys\u001b[49m\u001b[38;5;241;43m.\u001b[39;49m\u001b[43mpathname\u001b[49m\u001b[43m,\u001b[49m\u001b[43m \u001b[49m\u001b[43msub_comm\u001b[49m\u001b[43m,\u001b[49m\u001b[43m \u001b[49m\u001b[43mprob_meta\u001b[49m\u001b[43m)\u001b[49m\n\u001b[1;32m    661\u001b[0m \u001b[38;5;66;03m# build a list of local subgroups to speed up later loops\u001b[39;00m\n\u001b[1;32m    662\u001b[0m \u001b[38;5;28mself\u001b[39m\u001b[38;5;241m.\u001b[39m_subgroups_myproc \u001b[38;5;241m=\u001b[39m [s \u001b[38;5;28;01mfor\u001b[39;00m s \u001b[38;5;129;01min\u001b[39;00m \u001b[38;5;28mself\u001b[39m\u001b[38;5;241m.\u001b[39m_subsystems_myproc \u001b[38;5;28;01mif\u001b[39;00m \u001b[38;5;28misinstance\u001b[39m(s, Group)]\n",
      "File \u001b[0;32m~/miniconda3/envs/aviary/lib/python3.12/site-packages/openmdao/core/group.py:659\u001b[0m, in \u001b[0;36mGroup._setup_procs\u001b[0;34m(self, pathname, comm, prob_meta)\u001b[0m\n\u001b[1;32m    657\u001b[0m \u001b[38;5;66;03m# Perform recursion\u001b[39;00m\n\u001b[1;32m    658\u001b[0m \u001b[38;5;28;01mfor\u001b[39;00m subsys \u001b[38;5;129;01min\u001b[39;00m \u001b[38;5;28mself\u001b[39m\u001b[38;5;241m.\u001b[39m_subsystems_myproc:\n\u001b[0;32m--> 659\u001b[0m     \u001b[43msubsys\u001b[49m\u001b[38;5;241;43m.\u001b[39;49m\u001b[43m_setup_procs\u001b[49m\u001b[43m(\u001b[49m\u001b[43msubsys\u001b[49m\u001b[38;5;241;43m.\u001b[39;49m\u001b[43mpathname\u001b[49m\u001b[43m,\u001b[49m\u001b[43m \u001b[49m\u001b[43msub_comm\u001b[49m\u001b[43m,\u001b[49m\u001b[43m \u001b[49m\u001b[43mprob_meta\u001b[49m\u001b[43m)\u001b[49m\n\u001b[1;32m    661\u001b[0m \u001b[38;5;66;03m# build a list of local subgroups to speed up later loops\u001b[39;00m\n\u001b[1;32m    662\u001b[0m \u001b[38;5;28mself\u001b[39m\u001b[38;5;241m.\u001b[39m_subgroups_myproc \u001b[38;5;241m=\u001b[39m [s \u001b[38;5;28;01mfor\u001b[39;00m s \u001b[38;5;129;01min\u001b[39;00m \u001b[38;5;28mself\u001b[39m\u001b[38;5;241m.\u001b[39m_subsystems_myproc \u001b[38;5;28;01mif\u001b[39;00m \u001b[38;5;28misinstance\u001b[39m(s, Group)]\n",
      "File \u001b[0;32m~/miniconda3/envs/aviary/lib/python3.12/site-packages/openmdao/core/group.py:574\u001b[0m, in \u001b[0;36mGroup._setup_procs\u001b[0;34m(self, pathname, comm, prob_meta)\u001b[0m\n\u001b[1;32m    558\u001b[0m \u001b[38;5;28;01mdef\u001b[39;00m\u001b[38;5;250m \u001b[39m\u001b[38;5;21m_setup_procs\u001b[39m(\u001b[38;5;28mself\u001b[39m, pathname, comm, prob_meta):\n\u001b[1;32m    559\u001b[0m \u001b[38;5;250m    \u001b[39m\u001b[38;5;124;03m\"\"\"\u001b[39;00m\n\u001b[1;32m    560\u001b[0m \u001b[38;5;124;03m    Execute first phase of the setup process.\u001b[39;00m\n\u001b[1;32m    561\u001b[0m \n\u001b[0;32m   (...)\u001b[0m\n\u001b[1;32m    572\u001b[0m \u001b[38;5;124;03m        Problem level metadata.\u001b[39;00m\n\u001b[1;32m    573\u001b[0m \u001b[38;5;124;03m    \"\"\"\u001b[39;00m\n\u001b[0;32m--> 574\u001b[0m     \u001b[38;5;28;43msuper\u001b[39;49m\u001b[43m(\u001b[49m\u001b[43m)\u001b[49m\u001b[38;5;241;43m.\u001b[39;49m\u001b[43m_setup_procs\u001b[49m\u001b[43m(\u001b[49m\u001b[43mpathname\u001b[49m\u001b[43m,\u001b[49m\u001b[43m \u001b[49m\u001b[43mcomm\u001b[49m\u001b[43m,\u001b[49m\u001b[43m \u001b[49m\u001b[43mprob_meta\u001b[49m\u001b[43m)\u001b[49m\n\u001b[1;32m    576\u001b[0m     nproc \u001b[38;5;241m=\u001b[39m comm\u001b[38;5;241m.\u001b[39msize\n\u001b[1;32m    578\u001b[0m     \u001b[38;5;28;01mif\u001b[39;00m \u001b[38;5;28mself\u001b[39m\u001b[38;5;241m.\u001b[39m_num_par_fd \u001b[38;5;241m>\u001b[39m \u001b[38;5;241m1\u001b[39m:\n",
      "File \u001b[0;32m~/miniconda3/envs/aviary/lib/python3.12/site-packages/openmdao/core/system.py:2160\u001b[0m, in \u001b[0;36mSystem._setup_procs\u001b[0;34m(self, pathname, comm, prob_meta)\u001b[0m\n\u001b[1;32m   2158\u001b[0m \u001b[38;5;28mself\u001b[39m\u001b[38;5;241m.\u001b[39mpathname \u001b[38;5;241m=\u001b[39m pathname\n\u001b[1;32m   2159\u001b[0m \u001b[38;5;28mself\u001b[39m\u001b[38;5;241m.\u001b[39m_set_problem_meta(prob_meta)\n\u001b[0;32m-> 2160\u001b[0m \u001b[38;5;28;43mself\u001b[39;49m\u001b[38;5;241;43m.\u001b[39;49m\u001b[43mload_model_options\u001b[49m\u001b[43m(\u001b[49m\u001b[43m)\u001b[49m\n",
      "File \u001b[0;32m~/miniconda3/envs/aviary/lib/python3.12/site-packages/openmdao/core/system.py:4983\u001b[0m, in \u001b[0;36mSystem.load_model_options\u001b[0;34m(self)\u001b[0m\n\u001b[1;32m   4981\u001b[0m \u001b[38;5;28;01mfor\u001b[39;00m option, val \u001b[38;5;129;01min\u001b[39;00m path_options\u001b[38;5;241m.\u001b[39mitems():\n\u001b[1;32m   4982\u001b[0m     \u001b[38;5;28;01mif\u001b[39;00m option \u001b[38;5;129;01min\u001b[39;00m \u001b[38;5;28mself\u001b[39m\u001b[38;5;241m.\u001b[39moptions:\n\u001b[0;32m-> 4983\u001b[0m         \u001b[38;5;28;43mself\u001b[39;49m\u001b[38;5;241;43m.\u001b[39;49m\u001b[43moptions\u001b[49m\u001b[43m[\u001b[49m\u001b[43moption\u001b[49m\u001b[43m]\u001b[49m \u001b[38;5;241m=\u001b[39m val\n",
      "File \u001b[0;32m~/miniconda3/envs/aviary/lib/python3.12/site-packages/openmdao/utils/options_dictionary.py:514\u001b[0m, in \u001b[0;36mOptionsDictionary.__setitem__\u001b[0;34m(self, name, value)\u001b[0m\n\u001b[1;32m    511\u001b[0m \u001b[38;5;28;01mif\u001b[39;00m meta[\u001b[38;5;124m'\u001b[39m\u001b[38;5;124mdeprecation\u001b[39m\u001b[38;5;124m'\u001b[39m] \u001b[38;5;129;01mis\u001b[39;00m \u001b[38;5;129;01mnot\u001b[39;00m \u001b[38;5;28;01mNone\u001b[39;00m:\n\u001b[1;32m    512\u001b[0m     name, meta \u001b[38;5;241m=\u001b[39m \u001b[38;5;28mself\u001b[39m\u001b[38;5;241m.\u001b[39m_handle_deprecation(name, meta)\n\u001b[0;32m--> 514\u001b[0m \u001b[38;5;28;43mself\u001b[39;49m\u001b[38;5;241;43m.\u001b[39;49m\u001b[43m_assert_valid\u001b[49m\u001b[43m(\u001b[49m\u001b[43mname\u001b[49m\u001b[43m,\u001b[49m\u001b[43m \u001b[49m\u001b[43mvalue\u001b[49m\u001b[43m)\u001b[49m\n\u001b[1;32m    516\u001b[0m \u001b[38;5;66;03m# General function test\u001b[39;00m\n\u001b[1;32m    517\u001b[0m \u001b[38;5;28;01mif\u001b[39;00m meta[\u001b[38;5;124m'\u001b[39m\u001b[38;5;124mset_function\u001b[39m\u001b[38;5;124m'\u001b[39m] \u001b[38;5;129;01mis\u001b[39;00m \u001b[38;5;129;01mnot\u001b[39;00m \u001b[38;5;28;01mNone\u001b[39;00m:\n",
      "File \u001b[0;32m~/miniconda3/envs/aviary/lib/python3.12/site-packages/openmdao/utils/options_dictionary.py:284\u001b[0m, in \u001b[0;36mOptionsDictionary._assert_valid\u001b[0;34m(self, name, value)\u001b[0m\n\u001b[1;32m    282\u001b[0m \u001b[38;5;28;01mif\u001b[39;00m \u001b[38;5;28misinstance\u001b[39m(types, (\u001b[38;5;28mset\u001b[39m, \u001b[38;5;28mtuple\u001b[39m, \u001b[38;5;28mlist\u001b[39m)):\n\u001b[1;32m    283\u001b[0m     typs \u001b[38;5;241m=\u001b[39m \u001b[38;5;28mtuple\u001b[39m([type_\u001b[38;5;241m.\u001b[39m\u001b[38;5;18m__name__\u001b[39m \u001b[38;5;28;01mfor\u001b[39;00m type_ \u001b[38;5;129;01min\u001b[39;00m types])\n\u001b[0;32m--> 284\u001b[0m     \u001b[38;5;28;43mself\u001b[39;49m\u001b[38;5;241;43m.\u001b[39;49m\u001b[43m_raise\u001b[49m\u001b[43m(\u001b[49m\u001b[38;5;124;43m\"\u001b[39;49m\u001b[38;5;124;43mValue (\u001b[39;49m\u001b[38;5;132;43;01m{}\u001b[39;49;00m\u001b[38;5;124;43m) of option \u001b[39;49m\u001b[38;5;124;43m'\u001b[39;49m\u001b[38;5;132;43;01m{}\u001b[39;49;00m\u001b[38;5;124;43m'\u001b[39;49m\u001b[38;5;124;43m has type \u001b[39;49m\u001b[38;5;124;43m'\u001b[39;49m\u001b[38;5;132;43;01m{}\u001b[39;49;00m\u001b[38;5;124;43m'\u001b[39;49m\u001b[38;5;124;43m, but one of \u001b[39;49m\u001b[38;5;124;43m\"\u001b[39;49m\n\u001b[1;32m    285\u001b[0m \u001b[43m                \u001b[49m\u001b[38;5;124;43m\"\u001b[39;49m\u001b[38;5;124;43mtypes \u001b[39;49m\u001b[38;5;132;43;01m{}\u001b[39;49;00m\u001b[38;5;124;43m was expected.\u001b[39;49m\u001b[38;5;124;43m\"\u001b[39;49m\u001b[38;5;241;43m.\u001b[39;49m\u001b[43mformat\u001b[49m\u001b[43m(\u001b[49m\u001b[43mvalue\u001b[49m\u001b[43m,\u001b[49m\u001b[43m \u001b[49m\u001b[43mname\u001b[49m\u001b[43m,\u001b[49m\u001b[43m \u001b[49m\u001b[43mvtype\u001b[49m\u001b[43m,\u001b[49m\u001b[43m \u001b[49m\u001b[43mtyps\u001b[49m\u001b[43m)\u001b[49m\u001b[43m,\u001b[49m\n\u001b[1;32m    286\u001b[0m \u001b[43m                \u001b[49m\u001b[43mexc_type\u001b[49m\u001b[38;5;241;43m=\u001b[39;49m\u001b[38;5;167;43;01mTypeError\u001b[39;49;00m\u001b[43m)\u001b[49m\n\u001b[1;32m    287\u001b[0m \u001b[38;5;28;01melse\u001b[39;00m:\n\u001b[1;32m    288\u001b[0m     \u001b[38;5;28mself\u001b[39m\u001b[38;5;241m.\u001b[39m_raise(\u001b[38;5;124m\"\u001b[39m\u001b[38;5;124mValue (\u001b[39m\u001b[38;5;132;01m{}\u001b[39;00m\u001b[38;5;124m) of option \u001b[39m\u001b[38;5;124m'\u001b[39m\u001b[38;5;132;01m{}\u001b[39;00m\u001b[38;5;124m'\u001b[39m\u001b[38;5;124m has type \u001b[39m\u001b[38;5;124m'\u001b[39m\u001b[38;5;132;01m{}\u001b[39;00m\u001b[38;5;124m'\u001b[39m\u001b[38;5;124m, but type \u001b[39m\u001b[38;5;124m'\u001b[39m\u001b[38;5;132;01m{}\u001b[39;00m\u001b[38;5;124m'\u001b[39m\u001b[38;5;124m \u001b[39m\u001b[38;5;124m\"\u001b[39m\n\u001b[1;32m    289\u001b[0m                 \u001b[38;5;124m\"\u001b[39m\u001b[38;5;124mwas expected.\u001b[39m\u001b[38;5;124m\"\u001b[39m\u001b[38;5;241m.\u001b[39mformat(value, name, vtype, types\u001b[38;5;241m.\u001b[39m\u001b[38;5;18m__name__\u001b[39m),\n\u001b[1;32m    290\u001b[0m                 exc_type\u001b[38;5;241m=\u001b[39m\u001b[38;5;167;01mTypeError\u001b[39;00m)\n",
      "File \u001b[0;32m~/miniconda3/envs/aviary/lib/python3.12/site-packages/openmdao/utils/options_dictionary.py:240\u001b[0m, in \u001b[0;36mOptionsDictionary._raise\u001b[0;34m(self, msg, exc_type)\u001b[0m\n\u001b[1;32m    238\u001b[0m \u001b[38;5;28;01melse\u001b[39;00m:\n\u001b[1;32m    239\u001b[0m     full_msg \u001b[38;5;241m=\u001b[39m \u001b[38;5;124m'\u001b[39m\u001b[38;5;132;01m{}\u001b[39;00m\u001b[38;5;124m: \u001b[39m\u001b[38;5;132;01m{}\u001b[39;00m\u001b[38;5;124m'\u001b[39m\u001b[38;5;241m.\u001b[39mformat(\u001b[38;5;28mself\u001b[39m\u001b[38;5;241m.\u001b[39m_parent_name, msg)\n\u001b[0;32m--> 240\u001b[0m \u001b[38;5;28;01mraise\u001b[39;00m exc_type(full_msg)\n",
      "\u001b[0;31mTypeError\u001b[0m: 'pre_mission.core_propulsion' <class PropulsionPreMission>: Value ([4]) of option 'aircraft:engine:num_engines' has type 'ndarray', but one of types ('list', 'int') was expected."
     ]
    }
   ],
   "source": [
    "import aviary.api as av\n",
    "from aviary.models.large_turboprop_freighter.phase_info import two_dof_phase_info\n",
    "\n",
    "Aircraft = av.Aircraft\n",
    "Mission = av.Mission\n",
    "Dynamic = av.Dynamic\n",
    "\n",
    "# define the minimum option set for a turboprop\n",
    "options = av.AviaryValues()\n",
    "options.set_val(av.Settings.VERBOSITY, 0) # quiet unneeded printouts\n",
    "options.set_val(Aircraft.Engine.FIXED_RPM, 13820, units='rpm')\n",
    "\n",
    "# EngineDeck minimum option set\n",
    "options.set_val(\n",
    "    Aircraft.Engine.DATA_FILE,\n",
    "    av.get_path('models/engines/turboshaft_4465hp.deck')\n",
    ")\n",
    "\n",
    "# Gearbox model minimum option set\n",
    "options.set_val(Aircraft.Engine.Gearbox.GEAR_RATIO, 13.55, 'unitless')\n",
    "options.set_val(Aircraft.Engine.Gearbox.SHAFT_POWER_DESIGN, 4465, 'hp')\n",
    "\n",
    "# Hamilton Standard propeller minimum option set\n",
    "options.set_val(Aircraft.Engine.Propeller.TIP_MACH_MAX, 1.0)\n",
    "options.set_val(Aircraft.Engine.Propeller.NUM_BLADES, val=4, units='unitless')\n",
    "options.set_val(Aircraft.Engine.Propeller.COMPUTE_INSTALLATION_LOSS, True)\n",
    "\n",
    "# Initialize turboprop model. Model uses an EngineDeck built from `options`, basic \n",
    "# gearbox model with default efficiency of 1, and the Hamilton Standard propeller model\n",
    "# \"turboprop\" is ready to be included in an AviaryProblem\n",
    "turboprop = av.TurbopropModel(name='turboprop_example', options=options)\n",
    "\n",
    "# Build and run AviaryProblem using the Level2 interface\n",
    "prob = av.AviaryProblem()\n",
    "\n",
    "prob.load_inputs(\n",
    "    \"models/large_turboprop_freighter/large_turboprop_freighter_GASP.csv\",\n",
    "    two_dof_phase_info,\n",
    "    engine_builders=[turboprop],\n",
    ")\n",
    "\n",
    "prob.check_and_preprocess_inputs()\n",
    "prob.add_pre_mission_systems()\n",
    "prob.add_phases()\n",
    "prob.add_post_mission_systems()\n",
    "prob.link_phases()\n",
    "prob.add_driver(\"IPOPT\", max_iter=0, verbosity=0)\n",
    "prob.add_design_variables()\n",
    "prob.add_objective()\n",
    "prob.setup()\n",
    "\n",
    "prob.set_initial_guesses()\n",
    "prob.run_aviary_problem(suppress_solver_print=True, make_plots=False)"
   ]
  },
  {
   "cell_type": "markdown",
   "metadata": {},
   "source": [
    "## Electrified Propeller Aircraft Example\n",
    "\n",
    "This model is a WIP and will be coming soon"
   ]
  }
 ],
 "metadata": {
  "kernelspec": {
   "display_name": "aviary",
   "language": "python",
   "name": "python3"
  },
  "language_info": {
   "codemirror_mode": {
    "name": "ipython",
    "version": 3
   },
   "file_extension": ".py",
   "mimetype": "text/x-python",
   "name": "python",
   "nbconvert_exporter": "python",
   "pygments_lexer": "ipython3",
   "version": "3.12.8"
  }
 },
 "nbformat": 4,
 "nbformat_minor": 2
}
