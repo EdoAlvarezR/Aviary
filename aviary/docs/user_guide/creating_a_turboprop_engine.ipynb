{
 "cells": [
  {
   "cell_type": "markdown",
   "metadata": {},
   "source": [
    "# Creating a Turboprop Powered Aircraft Example\n",
    "\n",
    "Here we will create a more advanced `EngineModel`, the `TurbopropModel`. This is a complicated type of engine that combines several different models into a single unit. The `TurbopropModel` has three individual pieces needed to create it - a \"shaft power model\" that describes how the turboprop turns energy into shaft power, such as a turboshaft or motor, a \"gearbox model\" for modifying the shaft RPM, and a \"propeller model\" to convert shaft power into thrust. Let's walk through two examples: first building a turboprop with the minimum amount of required information, and then a second example where we replace individual models in the `TurbopropModel` with custom ones of our own choice.\n",
    "\n"
   ]
  },
  {
   "cell_type": "code",
   "execution_count": null,
   "metadata": {},
   "outputs": [],
   "source": [
    "import aviary.api as av\n",
    "\n",
    "engine_options = av.AviaryValues()\n",
    "\n",
    "\n",
    "av.TurbopropModel(name='Turboprop_Example', options='XXXX')"
   ]
  },
  {
   "cell_type": "markdown",
   "metadata": {},
   "source": []
  }
 ],
 "metadata": {
  "language_info": {
   "name": "python"
  }
 },
 "nbformat": 4,
 "nbformat_minor": 2
}
