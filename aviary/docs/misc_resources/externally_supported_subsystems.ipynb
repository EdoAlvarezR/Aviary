{
 "cells": [
  {
   "cell_type": "markdown",
   "metadata": {},
   "source": [
    "# Externally Supported Subsystems\n",
    "\n",
    "Aviary supports any generic subsystem that a user adds.\n",
    "We include some examples within the Aviary repo within the `aviary/examples/external_subsystems` folder."
   ]
  }
 ],
 "metadata": {
  "language_info": {
   "name": "python"
  }
 },
 "nbformat": 4,
 "nbformat_minor": 2
}
