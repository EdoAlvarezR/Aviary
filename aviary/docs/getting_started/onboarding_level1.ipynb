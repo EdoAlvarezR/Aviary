{
 "cells": [
  {
   "cell_type": "code",
   "execution_count": 1,
   "id": "3b749fb0",
   "metadata": {
    "tags": [
     "remove-cell"
    ]
   },
   "outputs": [
    {
     "data": {
      "application/javascript": "(function(root) {\n  function now() {\n    return new Date();\n  }\n\n  var force = true;\n  var py_version = '3.3.2'.replace('rc', '-rc.').replace('.dev', '-dev.');\n  var reloading = false;\n  var Bokeh = root.Bokeh;\n\n  if (typeof (root._bokeh_timeout) === \"undefined\" || force) {\n    root._bokeh_timeout = Date.now() + 5000;\n    root._bokeh_failed_load = false;\n  }\n\n  function run_callbacks() {\n    try {\n      root._bokeh_onload_callbacks.forEach(function(callback) {\n        if (callback != null)\n          callback();\n      });\n    } finally {\n      delete root._bokeh_onload_callbacks;\n    }\n    console.debug(\"Bokeh: all callbacks have finished\");\n  }\n\n  function load_libs(css_urls, js_urls, js_modules, js_exports, callback) {\n    if (css_urls == null) css_urls = [];\n    if (js_urls == null) js_urls = [];\n    if (js_modules == null) js_modules = [];\n    if (js_exports == null) js_exports = {};\n\n    root._bokeh_onload_callbacks.push(callback);\n\n    if (root._bokeh_is_loading > 0) {\n      console.debug(\"Bokeh: BokehJS is being loaded, scheduling callback at\", now());\n      return null;\n    }\n    if (js_urls.length === 0 && js_modules.length === 0 && Object.keys(js_exports).length === 0) {\n      run_callbacks();\n      return null;\n    }\n    if (!reloading) {\n      console.debug(\"Bokeh: BokehJS not loaded, scheduling load and callback at\", now());\n    }\n\n    function on_load() {\n      root._bokeh_is_loading--;\n      if (root._bokeh_is_loading === 0) {\n        console.debug(\"Bokeh: all BokehJS libraries/stylesheets loaded\");\n        run_callbacks()\n      }\n    }\n    window._bokeh_on_load = on_load\n\n    function on_error() {\n      console.error(\"failed to load \" + url);\n    }\n\n    var skip = [];\n    if (window.requirejs) {\n      window.requirejs.config({'packages': {}, 'paths': {'jspanel': 'https://cdn.jsdelivr.net/npm/jspanel4@4.12.0/dist/jspanel', 'jspanel-modal': 'https://cdn.jsdelivr.net/npm/jspanel4@4.12.0/dist/extensions/modal/jspanel.modal', 'jspanel-tooltip': 'https://cdn.jsdelivr.net/npm/jspanel4@4.12.0/dist/extensions/tooltip/jspanel.tooltip', 'jspanel-hint': 'https://cdn.jsdelivr.net/npm/jspanel4@4.12.0/dist/extensions/hint/jspanel.hint', 'jspanel-layout': 'https://cdn.jsdelivr.net/npm/jspanel4@4.12.0/dist/extensions/layout/jspanel.layout', 'jspanel-contextmenu': 'https://cdn.jsdelivr.net/npm/jspanel4@4.12.0/dist/extensions/contextmenu/jspanel.contextmenu', 'jspanel-dock': 'https://cdn.jsdelivr.net/npm/jspanel4@4.12.0/dist/extensions/dock/jspanel.dock', 'gridstack': 'https://cdn.jsdelivr.net/npm/gridstack@7.2.3/dist/gridstack-all', 'notyf': 'https://cdn.jsdelivr.net/npm/notyf@3/notyf.min'}, 'shim': {'jspanel': {'exports': 'jsPanel'}, 'gridstack': {'exports': 'GridStack'}}});\n      require([\"jspanel\"], function(jsPanel) {\n\twindow.jsPanel = jsPanel\n\ton_load()\n      })\n      require([\"jspanel-modal\"], function() {\n\ton_load()\n      })\n      require([\"jspanel-tooltip\"], function() {\n\ton_load()\n      })\n      require([\"jspanel-hint\"], function() {\n\ton_load()\n      })\n      require([\"jspanel-layout\"], function() {\n\ton_load()\n      })\n      require([\"jspanel-contextmenu\"], function() {\n\ton_load()\n      })\n      require([\"jspanel-dock\"], function() {\n\ton_load()\n      })\n      require([\"gridstack\"], function(GridStack) {\n\twindow.GridStack = GridStack\n\ton_load()\n      })\n      require([\"notyf\"], function() {\n\ton_load()\n      })\n      root._bokeh_is_loading = css_urls.length + 9;\n    } else {\n      root._bokeh_is_loading = css_urls.length + js_urls.length + js_modules.length + Object.keys(js_exports).length;\n    }\n\n    var existing_stylesheets = []\n    var links = document.getElementsByTagName('link')\n    for (var i = 0; i < links.length; i++) {\n      var link = links[i]\n      if (link.href != null) {\n\texisting_stylesheets.push(link.href)\n      }\n    }\n    for (var i = 0; i < css_urls.length; i++) {\n      var url = css_urls[i];\n      if (existing_stylesheets.indexOf(url) !== -1) {\n\ton_load()\n\tcontinue;\n      }\n      const element = document.createElement(\"link\");\n      element.onload = on_load;\n      element.onerror = on_error;\n      element.rel = \"stylesheet\";\n      element.type = \"text/css\";\n      element.href = url;\n      console.debug(\"Bokeh: injecting link tag for BokehJS stylesheet: \", url);\n      document.body.appendChild(element);\n    }    if (((window['jsPanel'] !== undefined) && (!(window['jsPanel'] instanceof HTMLElement))) || window.requirejs) {\n      var urls = ['https://cdn.holoviz.org/panel/1.3.6/dist/bundled/floatpanel/jspanel4@4.12.0/dist/jspanel.js', 'https://cdn.holoviz.org/panel/1.3.6/dist/bundled/floatpanel/jspanel4@4.12.0/dist/extensions/modal/jspanel.modal.js', 'https://cdn.holoviz.org/panel/1.3.6/dist/bundled/floatpanel/jspanel4@4.12.0/dist/extensions/tooltip/jspanel.tooltip.js', 'https://cdn.holoviz.org/panel/1.3.6/dist/bundled/floatpanel/jspanel4@4.12.0/dist/extensions/hint/jspanel.hint.js', 'https://cdn.holoviz.org/panel/1.3.6/dist/bundled/floatpanel/jspanel4@4.12.0/dist/extensions/layout/jspanel.layout.js', 'https://cdn.holoviz.org/panel/1.3.6/dist/bundled/floatpanel/jspanel4@4.12.0/dist/extensions/contextmenu/jspanel.contextmenu.js', 'https://cdn.holoviz.org/panel/1.3.6/dist/bundled/floatpanel/jspanel4@4.12.0/dist/extensions/dock/jspanel.dock.js'];\n      for (var i = 0; i < urls.length; i++) {\n        skip.push(urls[i])\n      }\n    }    if (((window['GridStack'] !== undefined) && (!(window['GridStack'] instanceof HTMLElement))) || window.requirejs) {\n      var urls = ['https://cdn.holoviz.org/panel/1.3.6/dist/bundled/gridstack/gridstack@7.2.3/dist/gridstack-all.js'];\n      for (var i = 0; i < urls.length; i++) {\n        skip.push(urls[i])\n      }\n    }    if (((window['Notyf'] !== undefined) && (!(window['Notyf'] instanceof HTMLElement))) || window.requirejs) {\n      var urls = ['https://cdn.holoviz.org/panel/1.3.6/dist/bundled/notificationarea/notyf@3/notyf.min.js'];\n      for (var i = 0; i < urls.length; i++) {\n        skip.push(urls[i])\n      }\n    }    var existing_scripts = []\n    var scripts = document.getElementsByTagName('script')\n    for (var i = 0; i < scripts.length; i++) {\n      var script = scripts[i]\n      if (script.src != null) {\n\texisting_scripts.push(script.src)\n      }\n    }\n    for (var i = 0; i < js_urls.length; i++) {\n      var url = js_urls[i];\n      if (skip.indexOf(url) !== -1 || existing_scripts.indexOf(url) !== -1) {\n\tif (!window.requirejs) {\n\t  on_load();\n\t}\n\tcontinue;\n      }\n      var element = document.createElement('script');\n      element.onload = on_load;\n      element.onerror = on_error;\n      element.async = false;\n      element.src = url;\n      console.debug(\"Bokeh: injecting script tag for BokehJS library: \", url);\n      document.head.appendChild(element);\n    }\n    for (var i = 0; i < js_modules.length; i++) {\n      var url = js_modules[i];\n      if (skip.indexOf(url) !== -1 || existing_scripts.indexOf(url) !== -1) {\n\tif (!window.requirejs) {\n\t  on_load();\n\t}\n\tcontinue;\n      }\n      var element = document.createElement('script');\n      element.onload = on_load;\n      element.onerror = on_error;\n      element.async = false;\n      element.src = url;\n      element.type = \"module\";\n      console.debug(\"Bokeh: injecting script tag for BokehJS library: \", url);\n      document.head.appendChild(element);\n    }\n    for (const name in js_exports) {\n      var url = js_exports[name];\n      if (skip.indexOf(url) >= 0 || root[name] != null) {\n\tif (!window.requirejs) {\n\t  on_load();\n\t}\n\tcontinue;\n      }\n      var element = document.createElement('script');\n      element.onerror = on_error;\n      element.async = false;\n      element.type = \"module\";\n      console.debug(\"Bokeh: injecting script tag for BokehJS library: \", url);\n      element.textContent = `\n      import ${name} from \"${url}\"\n      window.${name} = ${name}\n      window._bokeh_on_load()\n      `\n      document.head.appendChild(element);\n    }\n    if (!js_urls.length && !js_modules.length) {\n      on_load()\n    }\n  };\n\n  function inject_raw_css(css) {\n    const element = document.createElement(\"style\");\n    element.appendChild(document.createTextNode(css));\n    document.body.appendChild(element);\n  }\n\n  var js_urls = [\"https://cdn.bokeh.org/bokeh/release/bokeh-3.3.2.min.js\", \"https://cdn.bokeh.org/bokeh/release/bokeh-gl-3.3.2.min.js\", \"https://cdn.bokeh.org/bokeh/release/bokeh-widgets-3.3.2.min.js\", \"https://cdn.bokeh.org/bokeh/release/bokeh-tables-3.3.2.min.js\", \"https://cdn.holoviz.org/panel/1.3.6/dist/panel.min.js\"];\n  var js_modules = [];\n  var js_exports = {};\n  var css_urls = [];\n  var inline_js = [    function(Bokeh) {\n      Bokeh.set_log_level(\"info\");\n    },\nfunction(Bokeh) {} // ensure no trailing comma for IE\n  ];\n\n  function run_inline_js() {\n    if ((root.Bokeh !== undefined) || (force === true)) {\n      for (var i = 0; i < inline_js.length; i++) {\n\ttry {\n          inline_js[i].call(root, root.Bokeh);\n\t} catch(e) {\n\t  if (!reloading) {\n\t    throw e;\n\t  }\n\t}\n      }\n      // Cache old bokeh versions\n      if (Bokeh != undefined && !reloading) {\n\tvar NewBokeh = root.Bokeh;\n\tif (Bokeh.versions === undefined) {\n\t  Bokeh.versions = new Map();\n\t}\n\tif (NewBokeh.version !== Bokeh.version) {\n\t  Bokeh.versions.set(NewBokeh.version, NewBokeh)\n\t}\n\troot.Bokeh = Bokeh;\n      }} else if (Date.now() < root._bokeh_timeout) {\n      setTimeout(run_inline_js, 100);\n    } else if (!root._bokeh_failed_load) {\n      console.log(\"Bokeh: BokehJS failed to load within specified timeout.\");\n      root._bokeh_failed_load = true;\n    }\n    root._bokeh_is_initializing = false\n  }\n\n  function load_or_wait() {\n    // Implement a backoff loop that tries to ensure we do not load multiple\n    // versions of Bokeh and its dependencies at the same time.\n    // In recent versions we use the root._bokeh_is_initializing flag\n    // to determine whether there is an ongoing attempt to initialize\n    // bokeh, however for backward compatibility we also try to ensure\n    // that we do not start loading a newer (Panel>=1.0 and Bokeh>3) version\n    // before older versions are fully initialized.\n    if (root._bokeh_is_initializing && Date.now() > root._bokeh_timeout) {\n      root._bokeh_is_initializing = false;\n      root._bokeh_onload_callbacks = undefined;\n      console.log(\"Bokeh: BokehJS was loaded multiple times but one version failed to initialize.\");\n      load_or_wait();\n    } else if (root._bokeh_is_initializing || (typeof root._bokeh_is_initializing === \"undefined\" && root._bokeh_onload_callbacks !== undefined)) {\n      setTimeout(load_or_wait, 100);\n    } else {\n      root._bokeh_is_initializing = true\n      root._bokeh_onload_callbacks = []\n      var bokeh_loaded = Bokeh != null && (Bokeh.version === py_version || (Bokeh.versions !== undefined && Bokeh.versions.has(py_version)));\n      if (!reloading && !bokeh_loaded) {\n\troot.Bokeh = undefined;\n      }\n      load_libs(css_urls, js_urls, js_modules, js_exports, function() {\n\tconsole.debug(\"Bokeh: BokehJS plotting callback run at\", now());\n\trun_inline_js();\n      });\n    }\n  }\n  // Give older versions of the autoload script a head-start to ensure\n  // they initialize before we start loading newer version.\n  setTimeout(load_or_wait, 100)\n}(window));",
      "application/vnd.holoviews_load.v0+json": ""
     },
     "metadata": {},
     "output_type": "display_data"
    },
    {
     "data": {
      "application/javascript": "\nif ((window.PyViz === undefined) || (window.PyViz instanceof HTMLElement)) {\n  window.PyViz = {comms: {}, comm_status:{}, kernels:{}, receivers: {}, plot_index: []}\n}\n\n\n    function JupyterCommManager() {\n    }\n\n    JupyterCommManager.prototype.register_target = function(plot_id, comm_id, msg_handler) {\n      if (window.comm_manager || ((window.Jupyter !== undefined) && (Jupyter.notebook.kernel != null))) {\n        var comm_manager = window.comm_manager || Jupyter.notebook.kernel.comm_manager;\n        comm_manager.register_target(comm_id, function(comm) {\n          comm.on_msg(msg_handler);\n        });\n      } else if ((plot_id in window.PyViz.kernels) && (window.PyViz.kernels[plot_id])) {\n        window.PyViz.kernels[plot_id].registerCommTarget(comm_id, function(comm) {\n          comm.onMsg = msg_handler;\n        });\n      } else if (typeof google != 'undefined' && google.colab.kernel != null) {\n        google.colab.kernel.comms.registerTarget(comm_id, (comm) => {\n          var messages = comm.messages[Symbol.asyncIterator]();\n          function processIteratorResult(result) {\n            var message = result.value;\n            console.log(message)\n            var content = {data: message.data, comm_id};\n            var buffers = []\n            for (var buffer of message.buffers || []) {\n              buffers.push(new DataView(buffer))\n            }\n            var metadata = message.metadata || {};\n            var msg = {content, buffers, metadata}\n            msg_handler(msg);\n            return messages.next().then(processIteratorResult);\n          }\n          return messages.next().then(processIteratorResult);\n        })\n      }\n    }\n\n    JupyterCommManager.prototype.get_client_comm = function(plot_id, comm_id, msg_handler) {\n      if (comm_id in window.PyViz.comms) {\n        return window.PyViz.comms[comm_id];\n      } else if (window.comm_manager || ((window.Jupyter !== undefined) && (Jupyter.notebook.kernel != null))) {\n        var comm_manager = window.comm_manager || Jupyter.notebook.kernel.comm_manager;\n        var comm = comm_manager.new_comm(comm_id, {}, {}, {}, comm_id);\n        if (msg_handler) {\n          comm.on_msg(msg_handler);\n        }\n      } else if ((plot_id in window.PyViz.kernels) && (window.PyViz.kernels[plot_id])) {\n        var comm = window.PyViz.kernels[plot_id].connectToComm(comm_id);\n        comm.open();\n        if (msg_handler) {\n          comm.onMsg = msg_handler;\n        }\n      } else if (typeof google != 'undefined' && google.colab.kernel != null) {\n        var comm_promise = google.colab.kernel.comms.open(comm_id)\n        comm_promise.then((comm) => {\n          window.PyViz.comms[comm_id] = comm;\n          if (msg_handler) {\n            var messages = comm.messages[Symbol.asyncIterator]();\n            function processIteratorResult(result) {\n              var message = result.value;\n              var content = {data: message.data};\n              var metadata = message.metadata || {comm_id};\n              var msg = {content, metadata}\n              msg_handler(msg);\n              return messages.next().then(processIteratorResult);\n            }\n            return messages.next().then(processIteratorResult);\n          }\n        }) \n        var sendClosure = (data, metadata, buffers, disposeOnDone) => {\n          return comm_promise.then((comm) => {\n            comm.send(data, metadata, buffers, disposeOnDone);\n          });\n        };\n        var comm = {\n          send: sendClosure\n        };\n      }\n      window.PyViz.comms[comm_id] = comm;\n      return comm;\n    }\n    window.PyViz.comm_manager = new JupyterCommManager();\n    \n\n\nvar JS_MIME_TYPE = 'application/javascript';\nvar HTML_MIME_TYPE = 'text/html';\nvar EXEC_MIME_TYPE = 'application/vnd.holoviews_exec.v0+json';\nvar CLASS_NAME = 'output';\n\n/**\n * Render data to the DOM node\n */\nfunction render(props, node) {\n  var div = document.createElement(\"div\");\n  var script = document.createElement(\"script\");\n  node.appendChild(div);\n  node.appendChild(script);\n}\n\n/**\n * Handle when a new output is added\n */\nfunction handle_add_output(event, handle) {\n  var output_area = handle.output_area;\n  var output = handle.output;\n  if ((output.data == undefined) || (!output.data.hasOwnProperty(EXEC_MIME_TYPE))) {\n    return\n  }\n  var id = output.metadata[EXEC_MIME_TYPE][\"id\"];\n  var toinsert = output_area.element.find(\".\" + CLASS_NAME.split(' ')[0]);\n  if (id !== undefined) {\n    var nchildren = toinsert.length;\n    var html_node = toinsert[nchildren-1].children[0];\n    html_node.innerHTML = output.data[HTML_MIME_TYPE];\n    var scripts = [];\n    var nodelist = html_node.querySelectorAll(\"script\");\n    for (var i in nodelist) {\n      if (nodelist.hasOwnProperty(i)) {\n        scripts.push(nodelist[i])\n      }\n    }\n\n    scripts.forEach( function (oldScript) {\n      var newScript = document.createElement(\"script\");\n      var attrs = [];\n      var nodemap = oldScript.attributes;\n      for (var j in nodemap) {\n        if (nodemap.hasOwnProperty(j)) {\n          attrs.push(nodemap[j])\n        }\n      }\n      attrs.forEach(function(attr) { newScript.setAttribute(attr.name, attr.value) });\n      newScript.appendChild(document.createTextNode(oldScript.innerHTML));\n      oldScript.parentNode.replaceChild(newScript, oldScript);\n    });\n    if (JS_MIME_TYPE in output.data) {\n      toinsert[nchildren-1].children[1].textContent = output.data[JS_MIME_TYPE];\n    }\n    output_area._hv_plot_id = id;\n    if ((window.Bokeh !== undefined) && (id in Bokeh.index)) {\n      window.PyViz.plot_index[id] = Bokeh.index[id];\n    } else {\n      window.PyViz.plot_index[id] = null;\n    }\n  } else if (output.metadata[EXEC_MIME_TYPE][\"server_id\"] !== undefined) {\n    var bk_div = document.createElement(\"div\");\n    bk_div.innerHTML = output.data[HTML_MIME_TYPE];\n    var script_attrs = bk_div.children[0].attributes;\n    for (var i = 0; i < script_attrs.length; i++) {\n      toinsert[toinsert.length - 1].childNodes[1].setAttribute(script_attrs[i].name, script_attrs[i].value);\n    }\n    // store reference to server id on output_area\n    output_area._bokeh_server_id = output.metadata[EXEC_MIME_TYPE][\"server_id\"];\n  }\n}\n\n/**\n * Handle when an output is cleared or removed\n */\nfunction handle_clear_output(event, handle) {\n  var id = handle.cell.output_area._hv_plot_id;\n  var server_id = handle.cell.output_area._bokeh_server_id;\n  if (((id === undefined) || !(id in PyViz.plot_index)) && (server_id !== undefined)) { return; }\n  var comm = window.PyViz.comm_manager.get_client_comm(\"hv-extension-comm\", \"hv-extension-comm\", function () {});\n  if (server_id !== null) {\n    comm.send({event_type: 'server_delete', 'id': server_id});\n    return;\n  } else if (comm !== null) {\n    comm.send({event_type: 'delete', 'id': id});\n  }\n  delete PyViz.plot_index[id];\n  if ((window.Bokeh !== undefined) & (id in window.Bokeh.index)) {\n    var doc = window.Bokeh.index[id].model.document\n    doc.clear();\n    const i = window.Bokeh.documents.indexOf(doc);\n    if (i > -1) {\n      window.Bokeh.documents.splice(i, 1);\n    }\n  }\n}\n\n/**\n * Handle kernel restart event\n */\nfunction handle_kernel_cleanup(event, handle) {\n  delete PyViz.comms[\"hv-extension-comm\"];\n  window.PyViz.plot_index = {}\n}\n\n/**\n * Handle update_display_data messages\n */\nfunction handle_update_output(event, handle) {\n  handle_clear_output(event, {cell: {output_area: handle.output_area}})\n  handle_add_output(event, handle)\n}\n\nfunction register_renderer(events, OutputArea) {\n  function append_mime(data, metadata, element) {\n    // create a DOM node to render to\n    var toinsert = this.create_output_subarea(\n    metadata,\n    CLASS_NAME,\n    EXEC_MIME_TYPE\n    );\n    this.keyboard_manager.register_events(toinsert);\n    // Render to node\n    var props = {data: data, metadata: metadata[EXEC_MIME_TYPE]};\n    render(props, toinsert[0]);\n    element.append(toinsert);\n    return toinsert\n  }\n\n  events.on('output_added.OutputArea', handle_add_output);\n  events.on('output_updated.OutputArea', handle_update_output);\n  events.on('clear_output.CodeCell', handle_clear_output);\n  events.on('delete.Cell', handle_clear_output);\n  events.on('kernel_ready.Kernel', handle_kernel_cleanup);\n\n  OutputArea.prototype.register_mime_type(EXEC_MIME_TYPE, append_mime, {\n    safe: true,\n    index: 0\n  });\n}\n\nif (window.Jupyter !== undefined) {\n  try {\n    var events = require('base/js/events');\n    var OutputArea = require('notebook/js/outputarea').OutputArea;\n    if (OutputArea.prototype.mime_types().indexOf(EXEC_MIME_TYPE) == -1) {\n      register_renderer(events, OutputArea);\n    }\n  } catch(err) {\n  }\n}\n",
      "application/vnd.holoviews_load.v0+json": ""
     },
     "metadata": {},
     "output_type": "display_data"
    },
    {
     "data": {
      "text/html": [
       "<style>*[data-root-id],\n",
       "*[data-root-id] > * {\n",
       "  box-sizing: border-box;\n",
       "  font-family: var(--jp-ui-font-family);\n",
       "  font-size: var(--jp-ui-font-size1);\n",
       "  color: var(--vscode-editor-foreground, var(--jp-ui-font-color1));\n",
       "}\n",
       "\n",
       "/* Override VSCode background color */\n",
       ".cell-output-ipywidget-background:has(\n",
       "    > .cell-output-ipywidget-background > .lm-Widget > *[data-root-id]\n",
       "  ),\n",
       ".cell-output-ipywidget-background:has(> .lm-Widget > *[data-root-id]) {\n",
       "  background-color: transparent !important;\n",
       "}\n",
       "</style>"
      ]
     },
     "metadata": {},
     "output_type": "display_data"
    },
    {
     "data": {
      "application/vnd.holoviews_exec.v0+json": "",
      "text/html": [
       "<div id='4765d1c6-03d2-4864-9ef9-18e2cc2b7cd8'>\n",
       "  <div id=\"ae35acac-b846-42f6-bbdb-bebeece7e430\" data-root-id=\"4765d1c6-03d2-4864-9ef9-18e2cc2b7cd8\" style=\"display: contents;\"></div>\n",
       "</div>\n",
       "<script type=\"application/javascript\">(function(root) {\n",
       "  var docs_json = {\"514fbab7-7453-4e7e-abca-b8b09d2bca37\":{\"version\":\"3.3.2\",\"title\":\"Bokeh Application\",\"roots\":[{\"type\":\"object\",\"name\":\"panel.models.browser.BrowserInfo\",\"id\":\"4765d1c6-03d2-4864-9ef9-18e2cc2b7cd8\"},{\"type\":\"object\",\"name\":\"panel.models.comm_manager.CommManager\",\"id\":\"e2cabdaf-9d2f-4868-9908-39f4f75ab721\",\"attributes\":{\"plot_id\":\"4765d1c6-03d2-4864-9ef9-18e2cc2b7cd8\",\"comm_id\":\"e183a84336aa48d0b5771e90723c564a\",\"client_comm_id\":\"3b4d6de2e7a6474191c4e7355f9ac36c\"}}],\"defs\":[{\"type\":\"model\",\"name\":\"ReactiveHTML1\"},{\"type\":\"model\",\"name\":\"FlexBox1\",\"properties\":[{\"name\":\"align_content\",\"kind\":\"Any\",\"default\":\"flex-start\"},{\"name\":\"align_items\",\"kind\":\"Any\",\"default\":\"flex-start\"},{\"name\":\"flex_direction\",\"kind\":\"Any\",\"default\":\"row\"},{\"name\":\"flex_wrap\",\"kind\":\"Any\",\"default\":\"wrap\"},{\"name\":\"justify_content\",\"kind\":\"Any\",\"default\":\"flex-start\"}]},{\"type\":\"model\",\"name\":\"FloatPanel1\",\"properties\":[{\"name\":\"config\",\"kind\":\"Any\",\"default\":{\"type\":\"map\"}},{\"name\":\"contained\",\"kind\":\"Any\",\"default\":true},{\"name\":\"position\",\"kind\":\"Any\",\"default\":\"right-top\"},{\"name\":\"offsetx\",\"kind\":\"Any\",\"default\":null},{\"name\":\"offsety\",\"kind\":\"Any\",\"default\":null},{\"name\":\"theme\",\"kind\":\"Any\",\"default\":\"primary\"},{\"name\":\"status\",\"kind\":\"Any\",\"default\":\"normalized\"}]},{\"type\":\"model\",\"name\":\"GridStack1\",\"properties\":[{\"name\":\"mode\",\"kind\":\"Any\",\"default\":\"warn\"},{\"name\":\"ncols\",\"kind\":\"Any\",\"default\":null},{\"name\":\"nrows\",\"kind\":\"Any\",\"default\":null},{\"name\":\"allow_resize\",\"kind\":\"Any\",\"default\":true},{\"name\":\"allow_drag\",\"kind\":\"Any\",\"default\":true},{\"name\":\"state\",\"kind\":\"Any\",\"default\":[]}]},{\"type\":\"model\",\"name\":\"drag1\",\"properties\":[{\"name\":\"slider_width\",\"kind\":\"Any\",\"default\":5},{\"name\":\"slider_color\",\"kind\":\"Any\",\"default\":\"black\"},{\"name\":\"value\",\"kind\":\"Any\",\"default\":50}]},{\"type\":\"model\",\"name\":\"click1\",\"properties\":[{\"name\":\"terminal_output\",\"kind\":\"Any\",\"default\":\"\"},{\"name\":\"debug_name\",\"kind\":\"Any\",\"default\":\"\"},{\"name\":\"clears\",\"kind\":\"Any\",\"default\":0}]},{\"type\":\"model\",\"name\":\"copy_to_clipboard1\",\"properties\":[{\"name\":\"fill\",\"kind\":\"Any\",\"default\":\"none\"},{\"name\":\"value\",\"kind\":\"Any\",\"default\":null}]},{\"type\":\"model\",\"name\":\"FastWrapper1\",\"properties\":[{\"name\":\"object\",\"kind\":\"Any\",\"default\":null},{\"name\":\"style\",\"kind\":\"Any\",\"default\":null}]},{\"type\":\"model\",\"name\":\"NotificationAreaBase1\",\"properties\":[{\"name\":\"js_events\",\"kind\":\"Any\",\"default\":{\"type\":\"map\"}},{\"name\":\"position\",\"kind\":\"Any\",\"default\":\"bottom-right\"},{\"name\":\"_clear\",\"kind\":\"Any\",\"default\":0}]},{\"type\":\"model\",\"name\":\"NotificationArea1\",\"properties\":[{\"name\":\"js_events\",\"kind\":\"Any\",\"default\":{\"type\":\"map\"}},{\"name\":\"notifications\",\"kind\":\"Any\",\"default\":[]},{\"name\":\"position\",\"kind\":\"Any\",\"default\":\"bottom-right\"},{\"name\":\"_clear\",\"kind\":\"Any\",\"default\":0},{\"name\":\"types\",\"kind\":\"Any\",\"default\":[{\"type\":\"map\",\"entries\":[[\"type\",\"warning\"],[\"background\",\"#ffc107\"],[\"icon\",{\"type\":\"map\",\"entries\":[[\"className\",\"fas fa-exclamation-triangle\"],[\"tagName\",\"i\"],[\"color\",\"white\"]]}]]},{\"type\":\"map\",\"entries\":[[\"type\",\"info\"],[\"background\",\"#007bff\"],[\"icon\",{\"type\":\"map\",\"entries\":[[\"className\",\"fas fa-info-circle\"],[\"tagName\",\"i\"],[\"color\",\"white\"]]}]]}]}]},{\"type\":\"model\",\"name\":\"Notification\",\"properties\":[{\"name\":\"background\",\"kind\":\"Any\",\"default\":null},{\"name\":\"duration\",\"kind\":\"Any\",\"default\":3000},{\"name\":\"icon\",\"kind\":\"Any\",\"default\":null},{\"name\":\"message\",\"kind\":\"Any\",\"default\":\"\"},{\"name\":\"notification_type\",\"kind\":\"Any\",\"default\":null},{\"name\":\"_destroyed\",\"kind\":\"Any\",\"default\":false}]},{\"type\":\"model\",\"name\":\"TemplateActions1\",\"properties\":[{\"name\":\"open_modal\",\"kind\":\"Any\",\"default\":0},{\"name\":\"close_modal\",\"kind\":\"Any\",\"default\":0}]},{\"type\":\"model\",\"name\":\"BootstrapTemplateActions1\",\"properties\":[{\"name\":\"open_modal\",\"kind\":\"Any\",\"default\":0},{\"name\":\"close_modal\",\"kind\":\"Any\",\"default\":0}]},{\"type\":\"model\",\"name\":\"MaterialTemplateActions1\",\"properties\":[{\"name\":\"open_modal\",\"kind\":\"Any\",\"default\":0},{\"name\":\"close_modal\",\"kind\":\"Any\",\"default\":0}]}]}};\n",
       "  var render_items = [{\"docid\":\"514fbab7-7453-4e7e-abca-b8b09d2bca37\",\"roots\":{\"4765d1c6-03d2-4864-9ef9-18e2cc2b7cd8\":\"ae35acac-b846-42f6-bbdb-bebeece7e430\"},\"root_ids\":[\"4765d1c6-03d2-4864-9ef9-18e2cc2b7cd8\"]}];\n",
       "  var docs = Object.values(docs_json)\n",
       "  if (!docs) {\n",
       "    return\n",
       "  }\n",
       "  const py_version = docs[0].version.replace('rc', '-rc.').replace('.dev', '-dev.')\n",
       "  function embed_document(root) {\n",
       "    var Bokeh = get_bokeh(root)\n",
       "    Bokeh.embed.embed_items_notebook(docs_json, render_items);\n",
       "    for (const render_item of render_items) {\n",
       "      for (const root_id of render_item.root_ids) {\n",
       "\tconst id_el = document.getElementById(root_id)\n",
       "\tif (id_el.children.length && (id_el.children[0].className === 'bk-root')) {\n",
       "\t  const root_el = id_el.children[0]\n",
       "\t  root_el.id = root_el.id + '-rendered'\n",
       "\t}\n",
       "      }\n",
       "    }\n",
       "  }\n",
       "  function get_bokeh(root) {\n",
       "    if (root.Bokeh === undefined) {\n",
       "      return null\n",
       "    } else if (root.Bokeh.version !== py_version) {\n",
       "      if (root.Bokeh.versions === undefined || !root.Bokeh.versions.has(py_version)) {\n",
       "\treturn null\n",
       "      }\n",
       "      return root.Bokeh.versions.get(py_version);\n",
       "    } else if (root.Bokeh.version === py_version) {\n",
       "      return root.Bokeh\n",
       "    }\n",
       "    return null\n",
       "  }\n",
       "  function is_loaded(root) {\n",
       "    var Bokeh = get_bokeh(root)\n",
       "    return (Bokeh != null && Bokeh.Panel !== undefined)\n",
       "  }\n",
       "  if (is_loaded(root)) {\n",
       "    embed_document(root);\n",
       "  } else {\n",
       "    var attempts = 0;\n",
       "    var timer = setInterval(function(root) {\n",
       "      if (is_loaded(root)) {\n",
       "        clearInterval(timer);\n",
       "        embed_document(root);\n",
       "      } else if (document.readyState == \"complete\") {\n",
       "        attempts++;\n",
       "        if (attempts > 200) {\n",
       "          clearInterval(timer);\n",
       "\t  var Bokeh = get_bokeh(root)\n",
       "\t  if (Bokeh == null || Bokeh.Panel == null) {\n",
       "            console.warn(\"Panel: ERROR: Unable to run Panel code because Bokeh or Panel library is missing\");\n",
       "\t  } else {\n",
       "\t    console.warn(\"Panel: WARNING: Attempting to render but not all required libraries could be resolved.\")\n",
       "\t    embed_document(root)\n",
       "\t  }\n",
       "        }\n",
       "      }\n",
       "    }, 25, root)\n",
       "  }\n",
       "})(window);</script>"
      ]
     },
     "metadata": {
      "application/vnd.holoviews_exec.v0+json": {
       "id": "4765d1c6-03d2-4864-9ef9-18e2cc2b7cd8"
      }
     },
     "output_type": "display_data"
    },
    {
     "data": {
      "application/javascript": "(function(root) {\n  function now() {\n    return new Date();\n  }\n\n  var force = true;\n  var py_version = '3.3.2'.replace('rc', '-rc.').replace('.dev', '-dev.');\n  var reloading = true;\n  var Bokeh = root.Bokeh;\n\n  if (typeof (root._bokeh_timeout) === \"undefined\" || force) {\n    root._bokeh_timeout = Date.now() + 5000;\n    root._bokeh_failed_load = false;\n  }\n\n  function run_callbacks() {\n    try {\n      root._bokeh_onload_callbacks.forEach(function(callback) {\n        if (callback != null)\n          callback();\n      });\n    } finally {\n      delete root._bokeh_onload_callbacks;\n    }\n    console.debug(\"Bokeh: all callbacks have finished\");\n  }\n\n  function load_libs(css_urls, js_urls, js_modules, js_exports, callback) {\n    if (css_urls == null) css_urls = [];\n    if (js_urls == null) js_urls = [];\n    if (js_modules == null) js_modules = [];\n    if (js_exports == null) js_exports = {};\n\n    root._bokeh_onload_callbacks.push(callback);\n\n    if (root._bokeh_is_loading > 0) {\n      console.debug(\"Bokeh: BokehJS is being loaded, scheduling callback at\", now());\n      return null;\n    }\n    if (js_urls.length === 0 && js_modules.length === 0 && Object.keys(js_exports).length === 0) {\n      run_callbacks();\n      return null;\n    }\n    if (!reloading) {\n      console.debug(\"Bokeh: BokehJS not loaded, scheduling load and callback at\", now());\n    }\n\n    function on_load() {\n      root._bokeh_is_loading--;\n      if (root._bokeh_is_loading === 0) {\n        console.debug(\"Bokeh: all BokehJS libraries/stylesheets loaded\");\n        run_callbacks()\n      }\n    }\n    window._bokeh_on_load = on_load\n\n    function on_error() {\n      console.error(\"failed to load \" + url);\n    }\n\n    var skip = [];\n    if (window.requirejs) {\n      window.requirejs.config({'packages': {}, 'paths': {'tabulator': 'https://cdn.jsdelivr.net/npm/tabulator-tables@5.5.0/dist/js/tabulator.min', 'moment': 'https://cdn.jsdelivr.net/npm/luxon/build/global/luxon.min', 'jspanel': 'https://cdn.jsdelivr.net/npm/jspanel4@4.12.0/dist/jspanel', 'jspanel-modal': 'https://cdn.jsdelivr.net/npm/jspanel4@4.12.0/dist/extensions/modal/jspanel.modal', 'jspanel-tooltip': 'https://cdn.jsdelivr.net/npm/jspanel4@4.12.0/dist/extensions/tooltip/jspanel.tooltip', 'jspanel-hint': 'https://cdn.jsdelivr.net/npm/jspanel4@4.12.0/dist/extensions/hint/jspanel.hint', 'jspanel-layout': 'https://cdn.jsdelivr.net/npm/jspanel4@4.12.0/dist/extensions/layout/jspanel.layout', 'jspanel-contextmenu': 'https://cdn.jsdelivr.net/npm/jspanel4@4.12.0/dist/extensions/contextmenu/jspanel.contextmenu', 'jspanel-dock': 'https://cdn.jsdelivr.net/npm/jspanel4@4.12.0/dist/extensions/dock/jspanel.dock', 'gridstack': 'https://cdn.jsdelivr.net/npm/gridstack@7.2.3/dist/gridstack-all', 'notyf': 'https://cdn.jsdelivr.net/npm/notyf@3/notyf.min'}, 'shim': {'jspanel': {'exports': 'jsPanel'}, 'gridstack': {'exports': 'GridStack'}}});\n      require([\"tabulator\"], function(Tabulator) {\n\twindow.Tabulator = Tabulator\n\ton_load()\n      })\n      require([\"moment\"], function(moment) {\n\twindow.moment = moment\n\ton_load()\n      })\n      require([\"jspanel\"], function(jsPanel) {\n\twindow.jsPanel = jsPanel\n\ton_load()\n      })\n      require([\"jspanel-modal\"], function() {\n\ton_load()\n      })\n      require([\"jspanel-tooltip\"], function() {\n\ton_load()\n      })\n      require([\"jspanel-hint\"], function() {\n\ton_load()\n      })\n      require([\"jspanel-layout\"], function() {\n\ton_load()\n      })\n      require([\"jspanel-contextmenu\"], function() {\n\ton_load()\n      })\n      require([\"jspanel-dock\"], function() {\n\ton_load()\n      })\n      require([\"gridstack\"], function(GridStack) {\n\twindow.GridStack = GridStack\n\ton_load()\n      })\n      require([\"notyf\"], function() {\n\ton_load()\n      })\n      root._bokeh_is_loading = css_urls.length + 11;\n    } else {\n      root._bokeh_is_loading = css_urls.length + js_urls.length + js_modules.length + Object.keys(js_exports).length;\n    }\n\n    var existing_stylesheets = []\n    var links = document.getElementsByTagName('link')\n    for (var i = 0; i < links.length; i++) {\n      var link = links[i]\n      if (link.href != null) {\n\texisting_stylesheets.push(link.href)\n      }\n    }\n    for (var i = 0; i < css_urls.length; i++) {\n      var url = css_urls[i];\n      if (existing_stylesheets.indexOf(url) !== -1) {\n\ton_load()\n\tcontinue;\n      }\n      const element = document.createElement(\"link\");\n      element.onload = on_load;\n      element.onerror = on_error;\n      element.rel = \"stylesheet\";\n      element.type = \"text/css\";\n      element.href = url;\n      console.debug(\"Bokeh: injecting link tag for BokehJS stylesheet: \", url);\n      document.body.appendChild(element);\n    }    if (((window['Tabulator'] !== undefined) && (!(window['Tabulator'] instanceof HTMLElement))) || window.requirejs) {\n      var urls = ['https://cdn.holoviz.org/panel/1.3.6/dist/bundled/datatabulator/tabulator-tables@5.5.0/dist/js/tabulator.min.js'];\n      for (var i = 0; i < urls.length; i++) {\n        skip.push(urls[i])\n      }\n    }    if (((window['moment'] !== undefined) && (!(window['moment'] instanceof HTMLElement))) || window.requirejs) {\n      var urls = ['https://cdn.holoviz.org/panel/1.3.6/dist/bundled/datatabulator/luxon/build/global/luxon.min.js'];\n      for (var i = 0; i < urls.length; i++) {\n        skip.push(urls[i])\n      }\n    }    if (((window['jsPanel'] !== undefined) && (!(window['jsPanel'] instanceof HTMLElement))) || window.requirejs) {\n      var urls = ['https://cdn.holoviz.org/panel/1.3.6/dist/bundled/floatpanel/jspanel4@4.12.0/dist/jspanel.js', 'https://cdn.holoviz.org/panel/1.3.6/dist/bundled/floatpanel/jspanel4@4.12.0/dist/extensions/modal/jspanel.modal.js', 'https://cdn.holoviz.org/panel/1.3.6/dist/bundled/floatpanel/jspanel4@4.12.0/dist/extensions/tooltip/jspanel.tooltip.js', 'https://cdn.holoviz.org/panel/1.3.6/dist/bundled/floatpanel/jspanel4@4.12.0/dist/extensions/hint/jspanel.hint.js', 'https://cdn.holoviz.org/panel/1.3.6/dist/bundled/floatpanel/jspanel4@4.12.0/dist/extensions/layout/jspanel.layout.js', 'https://cdn.holoviz.org/panel/1.3.6/dist/bundled/floatpanel/jspanel4@4.12.0/dist/extensions/contextmenu/jspanel.contextmenu.js', 'https://cdn.holoviz.org/panel/1.3.6/dist/bundled/floatpanel/jspanel4@4.12.0/dist/extensions/dock/jspanel.dock.js'];\n      for (var i = 0; i < urls.length; i++) {\n        skip.push(urls[i])\n      }\n    }    if (((window['GridStack'] !== undefined) && (!(window['GridStack'] instanceof HTMLElement))) || window.requirejs) {\n      var urls = ['https://cdn.holoviz.org/panel/1.3.6/dist/bundled/gridstack/gridstack@7.2.3/dist/gridstack-all.js'];\n      for (var i = 0; i < urls.length; i++) {\n        skip.push(urls[i])\n      }\n    }    if (((window['Notyf'] !== undefined) && (!(window['Notyf'] instanceof HTMLElement))) || window.requirejs) {\n      var urls = ['https://cdn.holoviz.org/panel/1.3.6/dist/bundled/notificationarea/notyf@3/notyf.min.js'];\n      for (var i = 0; i < urls.length; i++) {\n        skip.push(urls[i])\n      }\n    }    var existing_scripts = []\n    var scripts = document.getElementsByTagName('script')\n    for (var i = 0; i < scripts.length; i++) {\n      var script = scripts[i]\n      if (script.src != null) {\n\texisting_scripts.push(script.src)\n      }\n    }\n    for (var i = 0; i < js_urls.length; i++) {\n      var url = js_urls[i];\n      if (skip.indexOf(url) !== -1 || existing_scripts.indexOf(url) !== -1) {\n\tif (!window.requirejs) {\n\t  on_load();\n\t}\n\tcontinue;\n      }\n      var element = document.createElement('script');\n      element.onload = on_load;\n      element.onerror = on_error;\n      element.async = false;\n      element.src = url;\n      console.debug(\"Bokeh: injecting script tag for BokehJS library: \", url);\n      document.head.appendChild(element);\n    }\n    for (var i = 0; i < js_modules.length; i++) {\n      var url = js_modules[i];\n      if (skip.indexOf(url) !== -1 || existing_scripts.indexOf(url) !== -1) {\n\tif (!window.requirejs) {\n\t  on_load();\n\t}\n\tcontinue;\n      }\n      var element = document.createElement('script');\n      element.onload = on_load;\n      element.onerror = on_error;\n      element.async = false;\n      element.src = url;\n      element.type = \"module\";\n      console.debug(\"Bokeh: injecting script tag for BokehJS library: \", url);\n      document.head.appendChild(element);\n    }\n    for (const name in js_exports) {\n      var url = js_exports[name];\n      if (skip.indexOf(url) >= 0 || root[name] != null) {\n\tif (!window.requirejs) {\n\t  on_load();\n\t}\n\tcontinue;\n      }\n      var element = document.createElement('script');\n      element.onerror = on_error;\n      element.async = false;\n      element.type = \"module\";\n      console.debug(\"Bokeh: injecting script tag for BokehJS library: \", url);\n      element.textContent = `\n      import ${name} from \"${url}\"\n      window.${name} = ${name}\n      window._bokeh_on_load()\n      `\n      document.head.appendChild(element);\n    }\n    if (!js_urls.length && !js_modules.length) {\n      on_load()\n    }\n  };\n\n  function inject_raw_css(css) {\n    const element = document.createElement(\"style\");\n    element.appendChild(document.createTextNode(css));\n    document.body.appendChild(element);\n  }\n\n  var js_urls = [\"https://cdn.holoviz.org/panel/1.3.6/dist/bundled/datatabulator/tabulator-tables@5.5.0/dist/js/tabulator.min.js\", \"https://cdn.holoviz.org/panel/1.3.6/dist/bundled/datatabulator/luxon/build/global/luxon.min.js\"];\n  var js_modules = [];\n  var js_exports = {};\n  var css_urls = [\"https://cdn.holoviz.org/panel/1.3.6/dist/bundled/datatabulator/tabulator-tables@5.5.0/dist/css/tabulator_simple.min.css\"];\n  var inline_js = [    function(Bokeh) {\n      Bokeh.set_log_level(\"info\");\n    },\nfunction(Bokeh) {} // ensure no trailing comma for IE\n  ];\n\n  function run_inline_js() {\n    if ((root.Bokeh !== undefined) || (force === true)) {\n      for (var i = 0; i < inline_js.length; i++) {\n\ttry {\n          inline_js[i].call(root, root.Bokeh);\n\t} catch(e) {\n\t  if (!reloading) {\n\t    throw e;\n\t  }\n\t}\n      }\n      // Cache old bokeh versions\n      if (Bokeh != undefined && !reloading) {\n\tvar NewBokeh = root.Bokeh;\n\tif (Bokeh.versions === undefined) {\n\t  Bokeh.versions = new Map();\n\t}\n\tif (NewBokeh.version !== Bokeh.version) {\n\t  Bokeh.versions.set(NewBokeh.version, NewBokeh)\n\t}\n\troot.Bokeh = Bokeh;\n      }} else if (Date.now() < root._bokeh_timeout) {\n      setTimeout(run_inline_js, 100);\n    } else if (!root._bokeh_failed_load) {\n      console.log(\"Bokeh: BokehJS failed to load within specified timeout.\");\n      root._bokeh_failed_load = true;\n    }\n    root._bokeh_is_initializing = false\n  }\n\n  function load_or_wait() {\n    // Implement a backoff loop that tries to ensure we do not load multiple\n    // versions of Bokeh and its dependencies at the same time.\n    // In recent versions we use the root._bokeh_is_initializing flag\n    // to determine whether there is an ongoing attempt to initialize\n    // bokeh, however for backward compatibility we also try to ensure\n    // that we do not start loading a newer (Panel>=1.0 and Bokeh>3) version\n    // before older versions are fully initialized.\n    if (root._bokeh_is_initializing && Date.now() > root._bokeh_timeout) {\n      root._bokeh_is_initializing = false;\n      root._bokeh_onload_callbacks = undefined;\n      console.log(\"Bokeh: BokehJS was loaded multiple times but one version failed to initialize.\");\n      load_or_wait();\n    } else if (root._bokeh_is_initializing || (typeof root._bokeh_is_initializing === \"undefined\" && root._bokeh_onload_callbacks !== undefined)) {\n      setTimeout(load_or_wait, 100);\n    } else {\n      root._bokeh_is_initializing = true\n      root._bokeh_onload_callbacks = []\n      var bokeh_loaded = Bokeh != null && (Bokeh.version === py_version || (Bokeh.versions !== undefined && Bokeh.versions.has(py_version)));\n      if (!reloading && !bokeh_loaded) {\n\troot.Bokeh = undefined;\n      }\n      load_libs(css_urls, js_urls, js_modules, js_exports, function() {\n\tconsole.debug(\"Bokeh: BokehJS plotting callback run at\", now());\n\trun_inline_js();\n      });\n    }\n  }\n  // Give older versions of the autoload script a head-start to ensure\n  // they initialize before we start loading newer version.\n  setTimeout(load_or_wait, 100)\n}(window));",
      "application/vnd.holoviews_load.v0+json": ""
     },
     "metadata": {},
     "output_type": "display_data"
    },
    {
     "data": {
      "application/javascript": "\nif ((window.PyViz === undefined) || (window.PyViz instanceof HTMLElement)) {\n  window.PyViz = {comms: {}, comm_status:{}, kernels:{}, receivers: {}, plot_index: []}\n}\n\n\n    function JupyterCommManager() {\n    }\n\n    JupyterCommManager.prototype.register_target = function(plot_id, comm_id, msg_handler) {\n      if (window.comm_manager || ((window.Jupyter !== undefined) && (Jupyter.notebook.kernel != null))) {\n        var comm_manager = window.comm_manager || Jupyter.notebook.kernel.comm_manager;\n        comm_manager.register_target(comm_id, function(comm) {\n          comm.on_msg(msg_handler);\n        });\n      } else if ((plot_id in window.PyViz.kernels) && (window.PyViz.kernels[plot_id])) {\n        window.PyViz.kernels[plot_id].registerCommTarget(comm_id, function(comm) {\n          comm.onMsg = msg_handler;\n        });\n      } else if (typeof google != 'undefined' && google.colab.kernel != null) {\n        google.colab.kernel.comms.registerTarget(comm_id, (comm) => {\n          var messages = comm.messages[Symbol.asyncIterator]();\n          function processIteratorResult(result) {\n            var message = result.value;\n            console.log(message)\n            var content = {data: message.data, comm_id};\n            var buffers = []\n            for (var buffer of message.buffers || []) {\n              buffers.push(new DataView(buffer))\n            }\n            var metadata = message.metadata || {};\n            var msg = {content, buffers, metadata}\n            msg_handler(msg);\n            return messages.next().then(processIteratorResult);\n          }\n          return messages.next().then(processIteratorResult);\n        })\n      }\n    }\n\n    JupyterCommManager.prototype.get_client_comm = function(plot_id, comm_id, msg_handler) {\n      if (comm_id in window.PyViz.comms) {\n        return window.PyViz.comms[comm_id];\n      } else if (window.comm_manager || ((window.Jupyter !== undefined) && (Jupyter.notebook.kernel != null))) {\n        var comm_manager = window.comm_manager || Jupyter.notebook.kernel.comm_manager;\n        var comm = comm_manager.new_comm(comm_id, {}, {}, {}, comm_id);\n        if (msg_handler) {\n          comm.on_msg(msg_handler);\n        }\n      } else if ((plot_id in window.PyViz.kernels) && (window.PyViz.kernels[plot_id])) {\n        var comm = window.PyViz.kernels[plot_id].connectToComm(comm_id);\n        comm.open();\n        if (msg_handler) {\n          comm.onMsg = msg_handler;\n        }\n      } else if (typeof google != 'undefined' && google.colab.kernel != null) {\n        var comm_promise = google.colab.kernel.comms.open(comm_id)\n        comm_promise.then((comm) => {\n          window.PyViz.comms[comm_id] = comm;\n          if (msg_handler) {\n            var messages = comm.messages[Symbol.asyncIterator]();\n            function processIteratorResult(result) {\n              var message = result.value;\n              var content = {data: message.data};\n              var metadata = message.metadata || {comm_id};\n              var msg = {content, metadata}\n              msg_handler(msg);\n              return messages.next().then(processIteratorResult);\n            }\n            return messages.next().then(processIteratorResult);\n          }\n        }) \n        var sendClosure = (data, metadata, buffers, disposeOnDone) => {\n          return comm_promise.then((comm) => {\n            comm.send(data, metadata, buffers, disposeOnDone);\n          });\n        };\n        var comm = {\n          send: sendClosure\n        };\n      }\n      window.PyViz.comms[comm_id] = comm;\n      return comm;\n    }\n    window.PyViz.comm_manager = new JupyterCommManager();\n    \n\n\nvar JS_MIME_TYPE = 'application/javascript';\nvar HTML_MIME_TYPE = 'text/html';\nvar EXEC_MIME_TYPE = 'application/vnd.holoviews_exec.v0+json';\nvar CLASS_NAME = 'output';\n\n/**\n * Render data to the DOM node\n */\nfunction render(props, node) {\n  var div = document.createElement(\"div\");\n  var script = document.createElement(\"script\");\n  node.appendChild(div);\n  node.appendChild(script);\n}\n\n/**\n * Handle when a new output is added\n */\nfunction handle_add_output(event, handle) {\n  var output_area = handle.output_area;\n  var output = handle.output;\n  if ((output.data == undefined) || (!output.data.hasOwnProperty(EXEC_MIME_TYPE))) {\n    return\n  }\n  var id = output.metadata[EXEC_MIME_TYPE][\"id\"];\n  var toinsert = output_area.element.find(\".\" + CLASS_NAME.split(' ')[0]);\n  if (id !== undefined) {\n    var nchildren = toinsert.length;\n    var html_node = toinsert[nchildren-1].children[0];\n    html_node.innerHTML = output.data[HTML_MIME_TYPE];\n    var scripts = [];\n    var nodelist = html_node.querySelectorAll(\"script\");\n    for (var i in nodelist) {\n      if (nodelist.hasOwnProperty(i)) {\n        scripts.push(nodelist[i])\n      }\n    }\n\n    scripts.forEach( function (oldScript) {\n      var newScript = document.createElement(\"script\");\n      var attrs = [];\n      var nodemap = oldScript.attributes;\n      for (var j in nodemap) {\n        if (nodemap.hasOwnProperty(j)) {\n          attrs.push(nodemap[j])\n        }\n      }\n      attrs.forEach(function(attr) { newScript.setAttribute(attr.name, attr.value) });\n      newScript.appendChild(document.createTextNode(oldScript.innerHTML));\n      oldScript.parentNode.replaceChild(newScript, oldScript);\n    });\n    if (JS_MIME_TYPE in output.data) {\n      toinsert[nchildren-1].children[1].textContent = output.data[JS_MIME_TYPE];\n    }\n    output_area._hv_plot_id = id;\n    if ((window.Bokeh !== undefined) && (id in Bokeh.index)) {\n      window.PyViz.plot_index[id] = Bokeh.index[id];\n    } else {\n      window.PyViz.plot_index[id] = null;\n    }\n  } else if (output.metadata[EXEC_MIME_TYPE][\"server_id\"] !== undefined) {\n    var bk_div = document.createElement(\"div\");\n    bk_div.innerHTML = output.data[HTML_MIME_TYPE];\n    var script_attrs = bk_div.children[0].attributes;\n    for (var i = 0; i < script_attrs.length; i++) {\n      toinsert[toinsert.length - 1].childNodes[1].setAttribute(script_attrs[i].name, script_attrs[i].value);\n    }\n    // store reference to server id on output_area\n    output_area._bokeh_server_id = output.metadata[EXEC_MIME_TYPE][\"server_id\"];\n  }\n}\n\n/**\n * Handle when an output is cleared or removed\n */\nfunction handle_clear_output(event, handle) {\n  var id = handle.cell.output_area._hv_plot_id;\n  var server_id = handle.cell.output_area._bokeh_server_id;\n  if (((id === undefined) || !(id in PyViz.plot_index)) && (server_id !== undefined)) { return; }\n  var comm = window.PyViz.comm_manager.get_client_comm(\"hv-extension-comm\", \"hv-extension-comm\", function () {});\n  if (server_id !== null) {\n    comm.send({event_type: 'server_delete', 'id': server_id});\n    return;\n  } else if (comm !== null) {\n    comm.send({event_type: 'delete', 'id': id});\n  }\n  delete PyViz.plot_index[id];\n  if ((window.Bokeh !== undefined) & (id in window.Bokeh.index)) {\n    var doc = window.Bokeh.index[id].model.document\n    doc.clear();\n    const i = window.Bokeh.documents.indexOf(doc);\n    if (i > -1) {\n      window.Bokeh.documents.splice(i, 1);\n    }\n  }\n}\n\n/**\n * Handle kernel restart event\n */\nfunction handle_kernel_cleanup(event, handle) {\n  delete PyViz.comms[\"hv-extension-comm\"];\n  window.PyViz.plot_index = {}\n}\n\n/**\n * Handle update_display_data messages\n */\nfunction handle_update_output(event, handle) {\n  handle_clear_output(event, {cell: {output_area: handle.output_area}})\n  handle_add_output(event, handle)\n}\n\nfunction register_renderer(events, OutputArea) {\n  function append_mime(data, metadata, element) {\n    // create a DOM node to render to\n    var toinsert = this.create_output_subarea(\n    metadata,\n    CLASS_NAME,\n    EXEC_MIME_TYPE\n    );\n    this.keyboard_manager.register_events(toinsert);\n    // Render to node\n    var props = {data: data, metadata: metadata[EXEC_MIME_TYPE]};\n    render(props, toinsert[0]);\n    element.append(toinsert);\n    return toinsert\n  }\n\n  events.on('output_added.OutputArea', handle_add_output);\n  events.on('output_updated.OutputArea', handle_update_output);\n  events.on('clear_output.CodeCell', handle_clear_output);\n  events.on('delete.Cell', handle_clear_output);\n  events.on('kernel_ready.Kernel', handle_kernel_cleanup);\n\n  OutputArea.prototype.register_mime_type(EXEC_MIME_TYPE, append_mime, {\n    safe: true,\n    index: 0\n  });\n}\n\nif (window.Jupyter !== undefined) {\n  try {\n    var events = require('base/js/events');\n    var OutputArea = require('notebook/js/outputarea').OutputArea;\n    if (OutputArea.prototype.mime_types().indexOf(EXEC_MIME_TYPE) == -1) {\n      register_renderer(events, OutputArea);\n    }\n  } catch(err) {\n  }\n}\n",
      "application/vnd.holoviews_load.v0+json": ""
     },
     "metadata": {},
     "output_type": "display_data"
    },
    {
     "data": {
      "text/html": [
       "<style>*[data-root-id],\n",
       "*[data-root-id] > * {\n",
       "  box-sizing: border-box;\n",
       "  font-family: var(--jp-ui-font-family);\n",
       "  font-size: var(--jp-ui-font-size1);\n",
       "  color: var(--vscode-editor-foreground, var(--jp-ui-font-color1));\n",
       "}\n",
       "\n",
       "/* Override VSCode background color */\n",
       ".cell-output-ipywidget-background:has(\n",
       "    > .cell-output-ipywidget-background > .lm-Widget > *[data-root-id]\n",
       "  ),\n",
       ".cell-output-ipywidget-background:has(> .lm-Widget > *[data-root-id]) {\n",
       "  background-color: transparent !important;\n",
       "}\n",
       "</style>"
      ]
     },
     "metadata": {},
     "output_type": "display_data"
    },
    {
     "data": {
      "text/markdown": [
       "`assembled_jac_type`"
      ],
      "text/plain": [
       "<IPython.core.display.Markdown object>"
      ]
     },
     "metadata": {
      "scrapbook": {
       "mime_prefix": "",
       "name": "assembled_jac_type"
      }
     },
     "output_type": "display_data"
    },
    {
     "data": {
      "text/markdown": [
       "`derivs_method`"
      ],
      "text/plain": [
       "<IPython.core.display.Markdown object>"
      ]
     },
     "metadata": {
      "scrapbook": {
       "mime_prefix": "",
       "name": "derivs_method"
      }
     },
     "output_type": "display_data"
    },
    {
     "data": {
      "text/markdown": [
       "`aviary_options`"
      ],
      "text/plain": [
       "<IPython.core.display.Markdown object>"
      ]
     },
     "metadata": {
      "scrapbook": {
       "mime_prefix": "",
       "name": "aviary_options"
      }
     },
     "output_type": "display_data"
    },
    {
     "data": {
      "text/markdown": [
       "`aviary_metadata`"
      ],
      "text/plain": [
       "<IPython.core.display.Markdown object>"
      ]
     },
     "metadata": {
      "scrapbook": {
       "mime_prefix": "",
       "name": "aviary_metadata"
      }
     },
     "output_type": "display_data"
    },
    {
     "data": {
      "text/markdown": [
       "`phase_info`"
      ],
      "text/plain": [
       "<IPython.core.display.Markdown object>"
      ]
     },
     "metadata": {
      "scrapbook": {
       "mime_prefix": "",
       "name": "phase_info"
      }
     },
     "output_type": "display_data"
    },
    {
     "data": {
      "text/markdown": [
       "`auto_order`"
      ],
      "text/plain": [
       "<IPython.core.display.Markdown object>"
      ]
     },
     "metadata": {
      "scrapbook": {
       "mime_prefix": "",
       "name": "auto_order"
      }
     },
     "output_type": "display_data"
    }
   ],
   "source": [
    "# Testing Cell\n",
    "from aviary.interface.methods_for_level2 import AviaryGroup\n",
    "from aviary.utils.doctape import glue_class_options\n",
    "\n",
    "current_glued_vars = []\n",
    "\n",
    "glue_class_options(AviaryGroup, current_glued_vars, md_code=True)\n",
    "\n"
   ]
  },
  {
   "cell_type": "markdown",
   "id": "e78c2158",
   "metadata": {},
   "source": [
    "# Level 1\n",
    "\n",
    "## What is level 1\n",
    "\n",
    "This part is a tutorial type introduction. We assume users have read [Aviary User Interface](../user_guide/user_interface). In this doc page we discuss Level 1's interface, but also other details, such as inputs and outputs.\n",
    "\n",
    "If you have not yet, make sure to [install Aviary](installation).\n",
    "\n",
    "To run Aviary in the Level 1 command-line interface (CLI), type this in a terminal:"
   ]
  },
  {
   "cell_type": "code",
   "execution_count": null,
   "id": "4e8edc4a",
   "metadata": {},
   "outputs": [],
   "source": [
    "!aviary"
   ]
  },
  {
   "cell_type": "code",
   "execution_count": 2,
   "id": "51f42a8c",
   "metadata": {
    "tags": [
     "remove-cell"
    ]
   },
   "outputs": [
    {
     "data": {
      "text/markdown": [
       "50"
      ],
      "text/plain": [
       "<IPython.core.display.Markdown object>"
      ]
     },
     "metadata": {
      "scrapbook": {
       "mime_prefix": "",
       "name": "num_max_iter"
      }
     },
     "output_type": "display_data"
    },
    {
     "data": {
      "text/markdown": [
       "`aircraft_for_bench_GwGm`"
      ],
      "text/plain": [
       "<IPython.core.display.Markdown object>"
      ]
     },
     "metadata": {
      "scrapbook": {
       "mime_prefix": "",
       "name": "aircraft_for_bench_GwGm"
      }
     },
     "output_type": "display_data"
    },
    {
     "data": {
      "text/markdown": [
       "`aircraft_for_bench_GwGm.csv`"
      ],
      "text/plain": [
       "<IPython.core.display.Markdown object>"
      ]
     },
     "metadata": {
      "scrapbook": {
       "mime_prefix": "",
       "name": "aircraft_for_bench_GwGm.csv"
      }
     },
     "output_type": "display_data"
    },
    {
     "data": {
      "text/markdown": [
       "`models/test_aircraft/aircraft_for_bench_GwGm.csv`"
      ],
      "text/plain": [
       "<IPython.core.display.Markdown object>"
      ]
     },
     "metadata": {
      "scrapbook": {
       "mime_prefix": "",
       "name": "models/test_aircraft/aircraft_for_bench_GwGm.csv"
      }
     },
     "output_type": "display_data"
    },
    {
     "data": {
      "text/markdown": [
       "dos2unix aircraft_for_bench_GwGm.csv"
      ],
      "text/plain": [
       "<IPython.core.display.Markdown object>"
      ]
     },
     "metadata": {
      "scrapbook": {
       "mime_prefix": "",
       "name": "dos2unix aircraft_for_bench_GwGm.csv"
      }
     },
     "output_type": "display_data"
    },
    {
     "data": {
      "text/markdown": [
       "`aviary/models`"
      ],
      "text/plain": [
       "<IPython.core.display.Markdown object>"
      ]
     },
     "metadata": {
      "scrapbook": {
       "mime_prefix": "",
       "name": "aviary/models"
      }
     },
     "output_type": "display_data"
    },
    {
     "data": {
      "text/markdown": [
       "`aviary/models/test_aircraft`"
      ],
      "text/plain": [
       "<IPython.core.display.Markdown object>"
      ]
     },
     "metadata": {
      "scrapbook": {
       "mime_prefix": "",
       "name": "aviary/models/test_aircraft"
      }
     },
     "output_type": "display_data"
    }
   ],
   "source": [
    "# Testing Cell\n",
    "import inspect\n",
    "\n",
    "import aviary.api as av\n",
    "from aviary.utils.functions import get_model, get_path\n",
    "from aviary.interface.methods_for_level1 import run_level_1\n",
    "from aviary.utils.doctape import check_value, glue_variable\n",
    "\n",
    "# obtain the default value of maximum number of iterations from function run_level_1().\n",
    "num_max_iter = inspect.signature(run_level_1).parameters['max_iter'].default\n",
    "glue_variable('num_max_iter', str(num_max_iter), md_code=False)\n",
    "\n",
    "# check if aircraft_for_bench_GwGm.csv exists in models/test_aircraft/.\n",
    "csv_file_stem = 'aircraft_for_bench_GwGm'\n",
    "csv_file_name = csv_file_stem + '.csv'\n",
    "get_model(csv_file_name)\n",
    "csv_file_path = 'models/test_aircraft/' + csv_file_name\n",
    "\n",
    "glue_variable(csv_file_stem, md_code=True)\n",
    "glue_variable(csv_file_name, md_code=True)\n",
    "glue_variable(csv_file_path, md_code=True)\n",
    "\n",
    "glue_dos2unix = 'dos2unix ' + csv_file_name\n",
    "glue_variable('dos2unix aircraft_for_bench_GwGm.csv', glue_dos2unix, md_code=False)\n",
    "\n",
    "path=get_path('models').relative_to(av.top_dir.parent)\n",
    "glue_variable(str(path), md_code=True)\n",
    "path=get_path('models/test_aircraft').relative_to(av.top_dir.parent)\n",
    "glue_variable(str(path), md_code=True)\n",
    "\n",
    "check_value(av.EquationsOfMotion.HEIGHT_ENERGY.value, 'height_energy')\n",
    "check_value(av.EquationsOfMotion.TWO_DEGREES_OF_FREEDOM.value, '2DOF')\n",
    "check_value(av.EquationsOfMotion.SOLVED_2DOF.value, 'solved_2DOF')\n"
   ]
  },
  {
   "cell_type": "markdown",
   "id": "eebbbea4",
   "metadata": {},
   "source": [
    "We'll now discuss the different parts of the CLI, starting with how to run an Aviary problem.\n",
    "\n",
    "## First level 1 run\n",
    "\n",
    "We are ready to run some models. By default, Aviary runs the optimizer for up to {glue:md}`num_max_iter` iterations. In order to reduce the run time, we will limit the maximum number of iterations to 1. It will be faster for these examples, but you will not get optimal solutions. Issue the following command:"
   ]
  },
  {
   "cell_type": "code",
   "execution_count": null,
   "id": "844ca5ad",
   "metadata": {},
   "outputs": [],
   "source": [
    "!aviary run_mission models/test_aircraft/aircraft_for_bench_GwGm.csv --optimizer IPOPT --max_iter 1"
   ]
  },
  {
   "cell_type": "markdown",
   "id": "386ca993",
   "metadata": {},
   "source": [
    "The argument {glue:md}`models/test_aircraft/aircraft_for_bench_GwGm.csv` shows where the aircraft csv file lives. This argument must be one of the following three options:\n",
    "\n",
    "- an absolute path,\n",
    "- a relative path relative to the current working directory,\n",
    "- a relative path relative to the Aviary package.\n",
    "\n",
    "Aviary searches for the given dataset in this order. If a dataset file exists in multiple directories, the first one Aviary finds will be used.\n",
    "\n",
    "```{note}\n",
    "When you run Aviary all of the outputs will be saved in the location where you run the command or run script.\n",
    "Outputs files such as optimization history and Dymos output files are saved at that location.\n",
    "A folder named 'report' will also be created there, and contains all of the associated report files for your runs.\n",
    "These reports include [optimization and trajectory reports generated by OpenMDAO and Dymos](https://openmdao.org/newdocs/versions/latest/features/reports/reports_system.html).\n",
    "```\n",
    "\n",
    "## Warning messages\n",
    "\n",
    "During your first run you may notice some warning messages in the Aviary output. Frequently seen warnings are:\n",
    "\n",
    "- **PromotionWarning:** Issued when there is ambiguity due to variable promotion (an [OpenMDAO warning](https://openmdao.org/newdocs/versions/latest/features/warning_control/warnings.html)).\n",
    "- **RuntimeWarning:** Issued for warnings about dubious runtime features (a [Python warning](https://docs.python.org/3/library/warnings.html)).\n",
    "- **UserWarning:** Issued for warnings about potential OpenMDAO, Dymos, and/or Aviary problems.\n",
    "- **DerivativesWarning:** Issued when the approximated partials or coloring cannot be evaluated as expected (an [OpenMDAO warning](https://openmdao.org/newdocs/versions/latest/features/warning_control/warnings.html)).\n",
    "\n",
    "Some of these warnings are expected and can be ignored. For example, the following warnings are expected when running the {glue:md}`aircraft_for_bench_GwGm.csv` model:\n",
    "\n",
    "```\n",
    "~/workspace/OpenMDAO/openmdao/core/group.py:326: PromotionWarning:<class Group>: Setting input defaults for input 'mission:takeoff:ascent_duration' which override previously set defaults for ['auto', 'prom', 'src_shape', 'val'].\n",
    "~/workspace/dymos/dymos/phase/phase.py:2007: RuntimeWarning: Invalid options for non-optimal control 'throttle' in phase 'groundroll': lower, upper\n",
    "  warnings.warn(f\"Invalid options for non-optimal control '{name}' in phase \"\n",
    "~/workspace/dymos/dymos/phase/phase.py:1967: UserWarning: Phase time options have no effect because fix_initial=True or input_initial=True for phase 'traj.phases.rotation': initial_ref\n",
    "  warnings.warn(f'Phase time options have no effect because fix_initial=True '\n",
    "```\n",
    "\n",
    "For now, we can ignore the warning messages and continue.\n",
    "<!-- TODO: expand this section -->\n",
    "\n",
    "## Level 1 run options\n",
    "In addition to a model input file, this option has additional options that are important, as seen here:"
   ]
  },
  {
   "cell_type": "code",
   "execution_count": null,
   "id": "6fda6ed7",
   "metadata": {},
   "outputs": [],
   "source": [
    "!aviary run_mission -h"
   ]
  },
  {
   "cell_type": "code",
   "execution_count": 3,
   "id": "b7878ec1",
   "metadata": {
    "tags": [
     "remove-cell"
    ]
   },
   "outputs": [
    {
     "data": {
      "text/markdown": [
       "`-h`"
      ],
      "text/plain": [
       "<IPython.core.display.Markdown object>"
      ]
     },
     "metadata": {
      "scrapbook": {
       "mime_prefix": "",
       "name": "-h"
      }
     },
     "output_type": "display_data"
    },
    {
     "data": {
      "text/markdown": [
       "`--help`"
      ],
      "text/plain": [
       "<IPython.core.display.Markdown object>"
      ]
     },
     "metadata": {
      "scrapbook": {
       "mime_prefix": "",
       "name": "--help"
      }
     },
     "output_type": "display_data"
    },
    {
     "data": {
      "text/markdown": [
       "`help`"
      ],
      "text/plain": [
       "<IPython.core.display.Markdown object>"
      ]
     },
     "metadata": {
      "scrapbook": {
       "mime_prefix": "",
       "name": "help"
      }
     },
     "output_type": "display_data"
    },
    {
     "data": {
      "text/markdown": [
       "`==SUPPRESS==`"
      ],
      "text/plain": [
       "<IPython.core.display.Markdown object>"
      ]
     },
     "metadata": {
      "scrapbook": {
       "mime_prefix": "",
       "name": "==SUPPRESS=="
      }
     },
     "output_type": "display_data"
    },
    {
     "data": {
      "text/markdown": [
       "`--optimizer`"
      ],
      "text/plain": [
       "<IPython.core.display.Markdown object>"
      ]
     },
     "metadata": {
      "scrapbook": {
       "mime_prefix": "",
       "name": "--optimizer"
      }
     },
     "output_type": "display_data"
    },
    {
     "data": {
      "text/markdown": [
       "`optimizer`"
      ],
      "text/plain": [
       "<IPython.core.display.Markdown object>"
      ]
     },
     "metadata": {
      "scrapbook": {
       "mime_prefix": "",
       "name": "optimizer"
      }
     },
     "output_type": "display_data"
    },
    {
     "data": {
      "text/markdown": [
       "`IPOPT`"
      ],
      "text/plain": [
       "<IPython.core.display.Markdown object>"
      ]
     },
     "metadata": {
      "scrapbook": {
       "mime_prefix": "",
       "name": "IPOPT"
      }
     },
     "output_type": "display_data"
    },
    {
     "data": {
      "text/markdown": [
       "`SNOPT`"
      ],
      "text/plain": [
       "<IPython.core.display.Markdown object>"
      ]
     },
     "metadata": {
      "scrapbook": {
       "mime_prefix": "",
       "name": "SNOPT"
      }
     },
     "output_type": "display_data"
    },
    {
     "data": {
      "text/markdown": [
       "`SLSQP`"
      ],
      "text/plain": [
       "<IPython.core.display.Markdown object>"
      ]
     },
     "metadata": {
      "scrapbook": {
       "mime_prefix": "",
       "name": "SLSQP"
      }
     },
     "output_type": "display_data"
    },
    {
     "data": {
      "text/markdown": [
       "`None`"
      ],
      "text/plain": [
       "<IPython.core.display.Markdown object>"
      ]
     },
     "metadata": {
      "scrapbook": {
       "mime_prefix": "",
       "name": "None"
      }
     },
     "output_type": "display_data"
    },
    {
     "data": {
      "text/markdown": [
       "`--phase_info`"
      ],
      "text/plain": [
       "<IPython.core.display.Markdown object>"
      ]
     },
     "metadata": {
      "scrapbook": {
       "mime_prefix": "",
       "name": "--phase_info"
      }
     },
     "output_type": "display_data"
    },
    {
     "data": {
      "text/markdown": [
       "`--max_iter`"
      ],
      "text/plain": [
       "<IPython.core.display.Markdown object>"
      ]
     },
     "metadata": {
      "scrapbook": {
       "mime_prefix": "",
       "name": "--max_iter"
      }
     },
     "output_type": "display_data"
    },
    {
     "data": {
      "text/markdown": [
       "`max_iter`"
      ],
      "text/plain": [
       "<IPython.core.display.Markdown object>"
      ]
     },
     "metadata": {
      "scrapbook": {
       "mime_prefix": "",
       "name": "max_iter"
      }
     },
     "output_type": "display_data"
    },
    {
     "data": {
      "text/markdown": [
       "`50`"
      ],
      "text/plain": [
       "<IPython.core.display.Markdown object>"
      ]
     },
     "metadata": {
      "scrapbook": {
       "mime_prefix": "",
       "name": "50"
      }
     },
     "output_type": "display_data"
    },
    {
     "data": {
      "text/markdown": [
       "`--shooting`"
      ],
      "text/plain": [
       "<IPython.core.display.Markdown object>"
      ]
     },
     "metadata": {
      "scrapbook": {
       "mime_prefix": "",
       "name": "--shooting"
      }
     },
     "output_type": "display_data"
    },
    {
     "data": {
      "text/markdown": [
       "`shooting`"
      ],
      "text/plain": [
       "<IPython.core.display.Markdown object>"
      ]
     },
     "metadata": {
      "scrapbook": {
       "mime_prefix": "",
       "name": "shooting"
      }
     },
     "output_type": "display_data"
    },
    {
     "data": {
      "text/markdown": [
       "`False`"
      ],
      "text/plain": [
       "<IPython.core.display.Markdown object>"
      ]
     },
     "metadata": {
      "scrapbook": {
       "mime_prefix": "",
       "name": "False"
      }
     },
     "output_type": "display_data"
    },
    {
     "data": {
      "text/markdown": [
       "`--verbosity`"
      ],
      "text/plain": [
       "<IPython.core.display.Markdown object>"
      ]
     },
     "metadata": {
      "scrapbook": {
       "mime_prefix": "",
       "name": "--verbosity"
      }
     },
     "output_type": "display_data"
    },
    {
     "data": {
      "text/markdown": [
       "`verbosity`"
      ],
      "text/plain": [
       "<IPython.core.display.Markdown object>"
      ]
     },
     "metadata": {
      "scrapbook": {
       "mime_prefix": "",
       "name": "verbosity"
      }
     },
     "output_type": "display_data"
    },
    {
     "data": {
      "text/markdown": [
       "`1`"
      ],
      "text/plain": [
       "<IPython.core.display.Markdown object>"
      ]
     },
     "metadata": {
      "scrapbook": {
       "mime_prefix": "",
       "name": "1"
      }
     },
     "output_type": "display_data"
    },
    {
     "data": {
      "text/markdown": [
       "`0`"
      ],
      "text/plain": [
       "<IPython.core.display.Markdown object>"
      ]
     },
     "metadata": {
      "scrapbook": {
       "mime_prefix": "",
       "name": "0"
      }
     },
     "output_type": "display_data"
    },
    {
     "data": {
      "text/markdown": [
       "`2`"
      ],
      "text/plain": [
       "<IPython.core.display.Markdown object>"
      ]
     },
     "metadata": {
      "scrapbook": {
       "mime_prefix": "",
       "name": "2"
      }
     },
     "output_type": "display_data"
    },
    {
     "data": {
      "text/markdown": [
       "`3`"
      ],
      "text/plain": [
       "<IPython.core.display.Markdown object>"
      ]
     },
     "metadata": {
      "scrapbook": {
       "mime_prefix": "",
       "name": "3"
      }
     },
     "output_type": "display_data"
    },
    {
     "data": {
      "text/markdown": [
       "`input_deck`"
      ],
      "text/plain": [
       "<IPython.core.display.Markdown object>"
      ]
     },
     "metadata": {
      "scrapbook": {
       "mime_prefix": "",
       "name": "input_deck"
      }
     },
     "output_type": "display_data"
    },
    {
     "data": {
      "text/markdown": [
       "`Aircraft`"
      ],
      "text/plain": [
       "<IPython.core.display.Markdown object>"
      ]
     },
     "metadata": {
      "scrapbook": {
       "mime_prefix": "",
       "name": "Aircraft"
      }
     },
     "output_type": "display_data"
    },
    {
     "data": {
      "text/markdown": [
       "`Mission`"
      ],
      "text/plain": [
       "<IPython.core.display.Markdown object>"
      ]
     },
     "metadata": {
      "scrapbook": {
       "mime_prefix": "",
       "name": "Mission"
      }
     },
     "output_type": "display_data"
    },
    {
     "data": {
      "text/markdown": [
       "`aircraft`"
      ],
      "text/plain": [
       "<IPython.core.display.Markdown object>"
      ]
     },
     "metadata": {
      "scrapbook": {
       "mime_prefix": "",
       "name": "aircraft"
      }
     },
     "output_type": "display_data"
    },
    {
     "data": {
      "text/markdown": [
       "`mission`"
      ],
      "text/plain": [
       "<IPython.core.display.Markdown object>"
      ]
     },
     "metadata": {
      "scrapbook": {
       "mime_prefix": "",
       "name": "mission"
      }
     },
     "output_type": "display_data"
    }
   ],
   "source": [
    "# Testing Cell\n",
    "import argparse\n",
    "from aviary.interface.methods_for_level1 import _setup_level1_parser\n",
    "from aviary.utils.doctape import glue_variable, glue_actions\n",
    "from aviary.variable_info.variables import Aircraft, Mission\n",
    "\n",
    "glue_actions('run_mission', current_glued_vars, glue_default=True, glue_choices=True)\n",
    "\n",
    "glue_variable(Aircraft.__name__, md_code=True)\n",
    "glue_variable(Mission.__name__, md_code=True)\n",
    "glue_variable(Aircraft.__name__.lower(), md_code=True)\n",
    "glue_variable(Mission.__name__.lower(), md_code=True)\n"
   ]
  },
  {
   "cell_type": "markdown",
   "id": "01f6c52c",
   "metadata": {},
   "source": [
    "Let us discuss these in more detail:\n",
    "\n",
    "- {glue:md}`--optimizer`: Name of optimizer. Choices are: {glue:md}`SNOPT`, {glue:md}`IPOPT`, {glue:md}`SLSQP`, and `None`. The default is {glue:md}`SNOPT`. If optimizer is `None`, it will be set to {glue:md}`IPOPT` or {glue:md}`SNOPT` depending on the analysis scheme. The optimization objective is fuel burn for level 1 runs. The objective is\n",
    "  - `mission:objectives:fuel` if `mission_method` is `GASP` \n",
    "  - `fuel_burned` if `mission_method` is `FLOPS`.\n",
    "\n",
    "- {glue:md}`--phase_info`: Path to phase info file. If not provided, it is {glue:md}`default_phase_info/two_dof.py` if mission origin is {glue:md}`TWO_DEGREES_OF_FREEDOM` and {glue:md}`default_phase_info/height_energy.py` for `simple`.\n",
    "\n",
    "- {glue:md}`--max_iter`: Maximum number of iterations. Default is {glue:md}`num_max_iter`.\n",
    "\n",
    "- {glue:md}`--shooting`: Use shooting instead of collocation.\n",
    "\n",
    "For the  {glue:md}`aircraft_for_bench_GwGm.csv` example so far, we have used the {glue:md}`IPOPT` optimizer because it is publicly available through [pyOptSparse](https://mdolab-pyoptsparse.readthedocs-hosted.com/en/latest/)."
   ]
  },
  {
   "cell_type": "code",
   "execution_count": 4,
   "id": "df82c6d7",
   "metadata": {
    "tags": [
     "remove-cell"
    ]
   },
   "outputs": [
    {
     "data": {
      "text/markdown": [
       "`run_mission`"
      ],
      "text/plain": [
       "<IPython.core.display.Markdown object>"
      ]
     },
     "metadata": {
      "scrapbook": {
       "mime_prefix": "",
       "name": "run_mission"
      }
     },
     "output_type": "display_data"
    },
    {
     "data": {
      "text/markdown": [
       "`aviary run_mission`"
      ],
      "text/plain": [
       "<IPython.core.display.Markdown object>"
      ]
     },
     "metadata": {
      "scrapbook": {
       "mime_prefix": "",
       "name": "aviary run_mission"
      }
     },
     "output_type": "display_data"
    },
    {
     "data": {
      "text/markdown": [
       "`fortran_to_aviary`"
      ],
      "text/plain": [
       "<IPython.core.display.Markdown object>"
      ]
     },
     "metadata": {
      "scrapbook": {
       "mime_prefix": "",
       "name": "fortran_to_aviary"
      }
     },
     "output_type": "display_data"
    }
   ],
   "source": [
    "# Testing Cell\n",
    "from aviary.interface.cmd_entry_points import _command_map\n",
    "run_mission = 'run_mission'\n",
    "_command_map[run_mission];\n",
    "command = 'aviary ' + run_mission\n",
    "glue_variable(run_mission, md_code=True)\n",
    "glue_variable(command, md_code=True)\n",
    "f_to_a = 'fortran_to_aviary'\n",
    "_command_map[f_to_a];\n",
    "glue_variable(f_to_a, md_code=True)"
   ]
  },
  {
   "cell_type": "markdown",
   "id": "92de3e87",
   "metadata": {},
   "source": [
    "## Aviary run_mission command\n",
    "\n",
    "The Level 1 CLI (i.e. {glue:md}`run_mission` option) is designed to offer the lowest barrier to entry for new users.\n",
    "Analysts who have experience with legacy tools, such as `FLOPS` and `GASP`, should find the switch from FORTRAN namelists to csv-based input decks to be straightforward. Aviary input decks allow the user the ability to set aircraft characteristics and basic mission parameters,\n",
    "such as cruise Mach number and altitude, in a simple text-based format that does not require any familiarity with Python or OpenMDAO.\n",
    "\n",
    "Aviary can then be executed by calling {glue:md}`aviary run_mission` with the csv input deck.\n",
    "Although the order of the variables in the input deck is not important, you might find it helpful to separate the variables based on if they're used as initial guesses or in the metadata."
   ]
  },
  {
   "cell_type": "markdown",
   "id": "b1f051a0",
   "metadata": {},
   "source": [
    "## First aircraft model\n",
    "\n",
    "We have a few sample aircraft csv files in {glue:md}`aviary/models`. They are all `.csv` files. For example, {glue:md}`aircraft_for_bench_GwGm.csv` (in {glue:md}`aviary/models/test_aircraft`) is a large single aisle aircraft mission model."
   ]
  },
  {
   "cell_type": "code",
   "execution_count": 5,
   "id": "ae01a81f",
   "metadata": {
    "tags": [
     "remove-cell"
    ]
   },
   "outputs": [
    {
     "data": {
      "text/markdown": [
       "`aircraft:wing:aspect_ratio`"
      ],
      "text/plain": [
       "<IPython.core.display.Markdown object>"
      ]
     },
     "metadata": {
      "scrapbook": {
       "mime_prefix": "",
       "name": "aircraft:wing:aspect_ratio"
      }
     },
     "output_type": "display_data"
    },
    {
     "data": {
      "text/markdown": [
       "`Aircraft.Wing.ASPECT_RATIO`"
      ],
      "text/plain": [
       "<IPython.core.display.Markdown object>"
      ]
     },
     "metadata": {
      "scrapbook": {
       "mime_prefix": "",
       "name": "Aircraft.Wing.ASPECT_RATIO"
      }
     },
     "output_type": "display_data"
    },
    {
     "data": {
      "text/markdown": [
       "`climb_range`"
      ],
      "text/plain": [
       "<IPython.core.display.Markdown object>"
      ]
     },
     "metadata": {
      "scrapbook": {
       "mime_prefix": "",
       "name": "climb_range"
      }
     },
     "output_type": "display_data"
    },
    {
     "data": {
      "text/markdown": [
       "```\n",
       "aircraft:air_conditioning:mass_coefficient,1.65,unitless\n",
       "aircraft:anti_icing:mass,551,lbm\n",
       "aircraft:apu:mass,928,lbm\n",
       "......\n",
       "mission:design:cruise_altitude,37500,ft\n",
       "mission:design:gross_mass,175400,lbm\n",
       "mission:design:mach,0.8,unitless\n",
       "......\n",
       "settings:equations_of_motion,2DOF\n",
       "settings:mass_method,GASP\n",
       "......\n",
       "actual_takeoff_mass,0\n",
       "climb_range,0\n",
       "cruise_mass_final,0\n",
       "......\n",
       "INGASP.ALR,1.11\n",
       "INGASP.BENGOB,0.05\n",
       "INGASP.CINP,0.11\n",
       "......\n",
       "...\n",
       "```"
      ],
      "text/plain": [
       "<IPython.core.display.Markdown object>"
      ]
     },
     "metadata": {
      "scrapbook": {
       "mime_prefix": "",
       "name": "csv_snippet"
      }
     },
     "output_type": "display_data"
    }
   ],
   "source": [
    "# Testing Cell\n",
    "from aviary.utils.functions import get_model, get_path\n",
    "get_path('models/test_aircraft/aircraft_for_bench_GwGm.csv')\n",
    "\n",
    "csv_snippet = '```\\n'\n",
    "filename = 'aircraft_for_bench_GwGm.csv'\n",
    "with open(get_model(filename)) as f_in:\n",
    "    lines = f_in.readlines()\n",
    "    n = len(lines)\n",
    "    l_aircraft = []\n",
    "    l_mission = []\n",
    "    l_settings = []\n",
    "    l_init = []\n",
    "    l_GASP = []\n",
    "    cnt_aircraft = 0\n",
    "    cnt_mission = 0\n",
    "    cnt_settings = 0\n",
    "    cnt_initial = 0\n",
    "    cnt_gasp = 0\n",
    "    for idx in range(n):\n",
    "        s = lines[idx]\n",
    "        if 'aircraft:wing:aspect_ratio' in s:\n",
    "            glue_variable('aircraft:wing:aspect_ratio', md_code=True)\n",
    "            glue_variable('Aircraft.Wing.ASPECT_RATIO', md_code=True)\n",
    "            pass\n",
    "        elif 'climb_range' in s:\n",
    "            glue_variable('climb_range', md_code=True)\n",
    "        if s.startswith('aircraft') and cnt_aircraft < 3:\n",
    "            l_aircraft.append(s)\n",
    "            cnt_aircraft += 1\n",
    "        elif s.startswith('mission') and cnt_mission < 3:\n",
    "            l_mission.append(s)\n",
    "            cnt_mission += 1\n",
    "        elif s.startswith('settings') and cnt_settings < 3:\n",
    "            l_settings.append(s)\n",
    "            cnt_settings += 1\n",
    "        elif s.count(',') == 1 and cnt_initial < 3:\n",
    "            l_init.append(s)\n",
    "            cnt_initial += 1\n",
    "        elif s.startswith('INGASP') and cnt_gasp < 3:\n",
    "            l_GASP.append(s)\n",
    "            cnt_gasp = cnt_gasp + 1\n",
    "    l = l_aircraft\n",
    "    l.extend(['......\\n'])\n",
    "    l.extend(l_mission)\n",
    "    l.extend(['......\\n'])\n",
    "    l.extend(l_settings)\n",
    "    l.extend(['......\\n'])\n",
    "    l.extend(l_init)\n",
    "    l.extend(['......\\n'])\n",
    "    l.extend(l_GASP)\n",
    "    l.extend(['......\\n'])\n",
    "    csv_snippet+=''.join(l)\n",
    "\n",
    "csv_snippet+='...\\n```'\n",
    "glue_variable('csv_snippet', csv_snippet, md_code=False)"
   ]
  },
  {
   "cell_type": "markdown",
   "id": "d0094350",
   "metadata": {},
   "source": [
    "Open {glue:md}`aircraft_for_bench_GwGm.csv` using your favorite editor (e.g., MS Excel or VS Code). If you choose to use MS Excel, you need to take extra steps to make sure that it is in the original format. We recommend running dos2unix first (e.g. {glue:md}`dos2unix aircraft_for_bench_GwGm.csv`).\n",
    "\n",
    "The file {glue:md}`aircraft_for_bench_GwGm.csv` is a data input file modeling large single aisle aircraft which was converted from a `GASP` input deck.\n",
    "Here is a snippet of the file:\n",
    "\n",
    "```{glue:md} csv_snippet\n",
    ":format: myst\n",
    "```\n",
    "\n",
    "The input `.csv` file defines the aircraft and mission. In an Aviary input file you see a list of Aviary variables, their values, and units. Aviary variables are colon delimited strings (e.g. `aircraft:wing:aspect_ratio`). An Aviary variable name usually has three words. The first word is `aircraft` or `mission`, the second word is a subsystem name and the third is the variable name. Each variable has a value and units. Aviary requires units for every variable because it reduces errors and is a good engineering practice.\n",
    "\n",
    "```{note}\n",
    "If you have used the {glue:md}`fortran_to_aviary` tool to create a `.csv` file you must check the outputted variable values and units to ensure the file is valid and what you expect.\n",
    "```\n",
    "\n",
    "Be aware that some variables do not follow the standard naming format (e.g. {glue:md}`climb_range`). These are used for the initial guessing of the trajectory. They are intentionally separate to prevent conflicts with some similarly named variables. They are only used once to set up the problem and then are discarded.\n",
    "\n",
    "Finally we see a list of `GASP` variables that are not converted. Not all variables are converted to Aviary right now. They may represent some features in `FLOPS` and `GASP` that we haven't implemented in Aviary yet.\n",
    "\n",
    "To find information about a variable (e.g. description, data type, etc.), users should read the [Variable Metadata Doc](../user_guide/variable_metadata).\n",
    "\n",
    "There are special rules for the mapping from the input file variable names to the metadata. For example, variable `aircraft:wing:aspect_ratio` in {glue:md}`aircraft_for_bench_GwGm.csv` is mapped to {glue:md}`Aircraft.Wing.ASPECT_RATIO` in `aviary/variable_info/variable_meta_data.py`. So, the first part (e.g., {glue:md}`aircraft` or {glue:md}`mission`) is mapped to the same word but with the first letter capitalized (e.g., {glue:md}`Aircraft` or {glue:md}`Mission`). The third word is all caps (e.g., `ASPECT_RATIO`). The middle part (e.g., `wing`) is a little more complicated. In most cases, this part capitalizes the first letter (e.g., `Wing`). The following words have special mappings:\n",
    "\n",
    "- `air_conditioning -> AirConditioning`\n",
    "- `anti_icing -> AntiIcing`\n",
    "- `blended_wing_body -> BWB`\n",
    "- `crew_and_payload -> CrewPayload`\n",
    "- `horizontal_tail -> HorizontalTail`\n",
    "- `landing_gear -> LandingGear`\n",
    "- `tail_boom -> TailBoom`\n",
    "- `vertical_tail -> VerticalTail`\n",
    "\n",
    "This can be summarized as to capitalize the leading letter and to capitalize the first letter after special character “`_`”.\n",
    "\n",
    "File {glue:md}`aviary/variable_info/variables.py` is a variable hierarchy that is for a single mission. Each mission gets a copy of this hierarchy. Below is a snippet of this file:"
   ]
  },
  {
   "cell_type": "code",
   "execution_count": 6,
   "id": "d3c818d7",
   "metadata": {
    "tags": [
     "remove-cell"
    ]
   },
   "outputs": [
    {
     "data": {
      "text/markdown": [
       "`aviary/variable_info/variables.py`"
      ],
      "text/plain": [
       "<IPython.core.display.Markdown object>"
      ]
     },
     "metadata": {
      "scrapbook": {
       "mime_prefix": "",
       "name": "aviary/variable_info/variables.py"
      }
     },
     "output_type": "display_data"
    }
   ],
   "source": [
    "# Testing Cell\n",
    "file_path = av.get_path('variable_info/variables.py')\n",
    "glue_variable(str(file_path.relative_to(av.top_dir.parent)), md_code=True)"
   ]
  },
  {
   "cell_type": "code",
   "execution_count": 5,
   "id": "f57d6c96",
   "metadata": {
    "tags": [
     "remove-input"
    ]
   },
   "outputs": [
    {
     "data": {
      "text/markdown": [
       "`aviary/variable_info/variables.py`"
      ],
      "text/plain": [
       "<IPython.core.display.Markdown object>"
      ]
     },
     "metadata": {
      "scrapbook": {
       "mime_prefix": "",
       "name": "aviary/variable_info/variables.py"
      }
     },
     "output_type": "display_data"
    },
    {
     "name": "stdout",
     "output_type": "stream",
     "text": [
      "'''\n",
      "This is a variable hierarchy that is for a single mission. Each mission\n",
      "gets a copy of this hierarchy.\n",
      "'''\n",
      "\n",
      "\n",
      "class Aircraft:\n",
      "    \"\"\"Aircraft data hierarchy\"\"\"\n",
      "\n",
      "    class AirConditioning:\n",
      "        MASS = 'aircraft:air_conditioning:mass'\n",
      "        MASS_COEFFICIENT = 'aircraft:air_conditioning:mass_coefficient'\n",
      "        MASS_SCALER = 'aircraft:air_conditioning:mass_scaler'\n",
      "\n",
      "    class AntiIcing:\n",
      "        MASS = 'aircraft:anti_icing:mass'\n",
      "        MASS_SCALER = 'aircraft:anti_icing:mass_scaler'\n"
     ]
    }
   ],
   "source": [
    "import aviary.api as av\n",
    "\n",
    "# Get the path of variables.py within the aviary package\n",
    "file_path = av.get_path('variable_info/variables.py')\n",
    "\n",
    "# Read and print the first 17 lines of the file\n",
    "with open(file_path, 'r') as file:\n",
    "    for i in range(17):\n",
    "        print(file.readline().strip('\\n'))"
   ]
  },
  {
   "cell_type": "markdown",
   "id": "b597474e",
   "metadata": {},
   "source": [
    "Aviary variables are always set to default values before the input file is read in. Then Aviary will update the values based on the user-provided `.csv` input file. If you want to set different values, you can set them in the `.csv` input file."
   ]
  },
  {
   "cell_type": "code",
   "execution_count": 7,
   "id": "2b10a4df",
   "metadata": {
    "tags": [
     "remove-cell"
    ]
   },
   "outputs": [
    {
     "data": {
      "text/markdown": [
       "`large_single_aisle_1`"
      ],
      "text/plain": [
       "<IPython.core.display.Markdown object>"
      ]
     },
     "metadata": {
      "scrapbook": {
       "mime_prefix": "",
       "name": "large_single_aisle_1"
      }
     },
     "output_type": "display_data"
    },
    {
     "data": {
      "text/markdown": [
       "```\n",
       "aviary/models/N3CC/N3CC_FLOPS.csv\n",
       "aviary/models/large_single_aisle_1/large_single_aisle_1_GASP.csv\n",
       "aviary/models/small_single_aisle/small_single_aisle_GASP.csv\n",
       "aviary/models/test_aircraft/configuration_test_GASP.csv"
      ],
      "text/plain": [
       "<IPython.core.display.Markdown object>"
      ]
     },
     "metadata": {
      "scrapbook": {
       "mime_prefix": "",
       "name": "other_models"
      }
     },
     "output_type": "display_data"
    }
   ],
   "source": [
    "# Testing Cell\n",
    "import aviary.api as av\n",
    "from aviary.utils.doctape import glue_variable\n",
    "\n",
    "# check if the following model files exist.\n",
    "\n",
    "other_models = '```\\n'\n",
    "filename = 'models/N3CC/N3CC_FLOPS.csv'\n",
    "filepath = av.get_path(filename)\n",
    "other_models += 'aviary/' + filename + '\\n'\n",
    "\n",
    "filename = 'models/large_single_aisle_1/large_single_aisle_1_GASP.csv'\n",
    "filepath = av.get_path(filename)\n",
    "other_models += 'aviary/' + filename + '\\n'\n",
    "glue_variable('large_single_aisle_1', md_code=True)\n",
    "\n",
    "filename = 'models/small_single_aisle/small_single_aisle_GASP.csv'\n",
    "filepath = av.get_path(filename)\n",
    "other_models += 'aviary/' + filename + '\\n'\n",
    "\n",
    "filename = 'models/test_aircraft/configuration_test_GASP.csv'\n",
    "filepath = av.get_path(filename)\n",
    "other_models += 'aviary/' + filename\n",
    "\n",
    "glue_variable('other_models', other_models, md_code=False)"
   ]
  },
  {
   "cell_type": "markdown",
   "id": "74c88a21",
   "metadata": {},
   "source": [
    "## Other available input files\n",
    "\n",
    "Other input files reside in aviary/models. They include:\n",
    "\n",
    "```{glue:md} other_models\n",
    ":format: myst\n",
    "```\n",
    "\n",
    "For example, to run {glue:md}`large_single_aisle_1` model, you execute the following command:"
   ]
  },
  {
   "cell_type": "code",
   "execution_count": null,
   "id": "1f10bc75",
   "metadata": {},
   "outputs": [],
   "source": [
    "!aviary run_mission models/large_single_aisle_1/large_single_aisle_1_GASP.csv --max_iter 1 --optimizer IPOPT"
   ]
  },
  {
   "cell_type": "markdown",
   "id": "c64a853c",
   "metadata": {},
   "source": [
    "For FLOPS-derived models, let us run:"
   ]
  },
  {
   "cell_type": "code",
   "execution_count": null,
   "id": "5217ccc8",
   "metadata": {},
   "outputs": [],
   "source": [
    "!aviary run_mission models/test_aircraft/aircraft_for_bench_FwFm.csv --max_iter 1 --optimizer IPOPT"
   ]
  },
  {
   "cell_type": "markdown",
   "id": "215c53c1",
   "metadata": {},
   "source": [
    "## Aviary fortran_to_aviary command\n",
    "\n",
    "```{note}\n",
    "You only need to use the {glue:md}`fortran_to_aviary` command if you are converting a FLOPS or GASP deck to Aviary's csv format.\n",
    "```\n",
    "\n",
    "This {glue:md}`fortran_to_aviary` tool (see [Aviary Commands](../user_guide/aviary_commands) for details) converts FORTRAN namelists into Aviary's csv based format using the mappings found in the `historical_name` section of the [variable_meta_data](../user_guide/variable_metadata). The resulting csv is automatically sorted into three sections:\n",
    "1. **Input Values:**\n",
    "    Any FORTRAN variables that were mapped to input variables in Aviary components\n",
    "2. **Initial Guesses:**\n",
    "    Some variables are only used as initial guesses for the trajectory.\n",
    "    These are displayed separately from the Input Values because they will not be passed directly to components\n",
    "3. **Unconverted Values:**\n",
    "    If the {glue:md}`fortran_to_aviary` converter can't find an Aviary variable that matches the FORTRAN variable, it is added to the end of the csv file.\n",
    "    We recommend that you check this section after converting a namelist to ensure that there aren't any variables you expected to be converted here.\n",
    "    Many of these unconverted variables represent features or options that are not used in Aviary and can be safely ignored. Variables related to mission definition are important, but Aviary defines mission profiles in a significantly different way. Currently, the user must build a new [mission definition file](../examples/simple_mission_example) that recreates the mission.\n",
    "    Aviary will ignore unconverted variables when loading the csv, so you can safely leave them.\n"
   ]
  },
  {
   "cell_type": "code",
   "execution_count": 8,
   "id": "117aea9a",
   "metadata": {
    "tags": [
     "remove-cell"
    ]
   },
   "outputs": [],
   "source": [
    "# Testing Cell\n",
    "from aviary.interface.cmd_entry_points import _command_map\n",
    "_command_map['fortran_to_aviary'];"
   ]
  },
  {
   "cell_type": "markdown",
   "id": "30ec0526",
   "metadata": {},
   "source": [
    "## Phase info\n",
    "\n",
    "Aviary runs depend not only on input `*.csv` files, but also on {glue:md}`phase_info` dictionaries. A {glue:md}`phase_info` dictionary defines the mission and any analysis settings used within Aviary. It is used by Aviary to build a mission trajectory (e.g., from take-off to landing).\n",
    "\n",
    "A [Python dictionary](https://www.w3schools.com/python/python_dictionaries.asp) is a set of key-value pairs. Most keys in {glue:md}`phase_info` are self-explained. Users should read Dymos' [Phase Options](https://openmdao.github.io/dymos/api/phase_api.html). For more details about phase_info keys, especially their example usages, please read [onboarding phase information](input_csv_phase_info).\n",
    "\n",
    "### Default TWO_DEGREES_OF_FREEDOM phases\n",
    "\n",
    "The {glue:md}`aviary/interface/default_phase_info/two_dof.py` file is shown below:"
   ]
  },
  {
   "cell_type": "code",
   "execution_count": null,
   "id": "b52be376",
   "metadata": {
    "tags": [
     "remove-input"
    ]
   },
   "outputs": [],
   "source": [
    "import aviary.api as av\n",
    "\n",
    "# Get the path of variables.py within the aviary package\n",
    "file_path = av.get_path('interface/default_phase_info/two_dof.py')\n",
    "\n",
    "# Read the file contents\n",
    "with open(file_path, 'r') as file:\n",
    "    # Find the line that starts with 'phase_info ='\n",
    "    for line in file:\n",
    "        if line.startswith('phase_info ='):\n",
    "            print(line.strip('\\n'))\n",
    "            break\n",
    "    \n",
    "    # Print the remaining lines\n",
    "    for line in file:\n",
    "        print(line.strip('\\n'))\n"
   ]
  },
  {
   "cell_type": "code",
   "execution_count": null,
   "id": "83ea2df6",
   "metadata": {
    "tags": [
     "remove-cell"
    ]
   },
   "outputs": [],
   "source": [
    "# Testing Cell\n",
    "from aviary.interface.default_phase_info.two_dof import phase_info\n",
    "from aviary.interface.utils.check_phase_info import check_phase_info, TWO_DEGREES_OF_FREEDOM\n",
    "from aviary.utils.doctape import check_value, glue_keys\n",
    "\n",
    "# make sure that the default values in two_dof.py are not changed.\n",
    "\n",
    "check_phase_info(phase_info, TWO_DEGREES_OF_FREEDOM)\n",
    "duration_bounds_val, duration_bounds_unit = phase_info['groundroll']['user_options']['duration_bounds']\n",
    "duration_bounds_lower = duration_bounds_val[0]\n",
    "duration_bounds_upper = duration_bounds_val[1]\n",
    "check_value(str(duration_bounds_unit), 's')\n",
    "check_value(duration_bounds_lower, 1.0)\n",
    "check_value(duration_bounds_upper, 100.0)\n",
    "\n",
    "duration_ref_val, duration_ref_unit = phase_info['groundroll']['user_options']['duration_ref']\n",
    "check_value(duration_ref_val, 50.0)\n",
    "check_value(duration_ref_unit, 's')\n",
    "velocity_lower_val, velocity_lower_unit = phase_info['groundroll']['user_options']['velocity_lower']\n",
    "check_value(velocity_lower_val, 0)\n",
    "check_value(velocity_lower_unit, 'kn')\n",
    "velocity_upper_val, velocity_upper_unit = phase_info['groundroll']['user_options']['velocity_upper']\n",
    "check_value(velocity_upper_val, 1000)\n",
    "check_value(velocity_upper_unit, 'kn')\n",
    "velocity_ref_val, velocity_ref_unit = phase_info['groundroll']['user_options']['velocity_ref']\n",
    "check_value(velocity_ref_val, 150)\n",
    "check_value(velocity_ref_unit, 'kn')\n",
    "\n",
    "distance_ref_val, distance_ref_unit = phase_info['groundroll']['user_options']['distance_ref']\n",
    "check_value(distance_ref_val, 3000)\n",
    "check_value(distance_ref_unit, 'ft')\n",
    "distance_lower_val, distance_lower_unit = phase_info['groundroll']['user_options']['distance_lower']\n",
    "check_value(distance_lower_val, 0)\n",
    "check_value(distance_lower_unit, 'ft')\n",
    "distance_upper_val, distance_upper_unit = phase_info['groundroll']['user_options']['distance_upper']\n",
    "check_value(distance_upper_val, 10.e3)\n",
    "check_value(distance_upper_unit, 'ft')\n",
    "\n",
    "mass_ref_val, mass_ref_unit = phase_info['groundroll']['user_options']['mass_ref']\n",
    "check_value(mass_ref_val, 150_000)\n",
    "check_value(mass_ref_unit, 'lbm')\n",
    "mass_lower_val, mass_lower_unit = phase_info['groundroll']['user_options']['mass_lower']\n",
    "check_value(mass_lower_val, 0)\n",
    "check_value(mass_lower_unit, 'lbm')\n",
    "mass_upper_val, mass_upper_unit = phase_info['groundroll']['user_options']['mass_upper']\n",
    "check_value(mass_upper_val, None)\n",
    "check_value(mass_upper_unit, 'lbm')\n",
    "\n",
    "throttle_val, throttle_unit = phase_info['groundroll']['initial_guesses']['throttle']\n",
    "check_value(throttle_val, [0.956, 0.956])\n",
    "check_value(throttle_unit, 'unitless')\n",
    "\n",
    "num_segments = phase_info['groundroll']['user_options']['num_segments']\n",
    "check_value(num_segments, 1)\n",
    "\n",
    "order = phase_info['groundroll']['user_options']['order']\n",
    "check_value(order, 3)\n",
    "\n",
    "connect_initial_mass = phase_info['groundroll']['user_options']['connect_initial_mass']\n",
    "check_value(connect_initial_mass, False)\n",
    "\n",
    "fix_initial = phase_info['groundroll']['user_options']['fix_initial']\n",
    "check_value(fix_initial, True)\n",
    "\n",
    "glue_keys(phase_info)\n"
   ]
  },
  {
   "cell_type": "markdown",
   "id": "73ee7276",
   "metadata": {},
   "source": [
    "The file {glue:md}`default_phase_info/two_dof.py` contains the following phases:\n",
    "\n",
    "{glue:md}`groundroll`, {glue:md}`rotation`, {glue:md}`ascent`, {glue:md}`accel`, {glue:md}`climb1`, {glue:md}`climb2`, {glue:md}`cruise`, {glue:md}`desc1`, {glue:md}`desc2`.\n",
    "\n",
    "All of the above phases belong to mission. No pre-mission phase is provided. If `pre_mission` is missing, a default `pre_mission` is provided:\n",
    "```\n",
    "    'pre_mission': {\n",
    "        'include_takeoff': True,\n",
    "        'external_subsystems': [],\n",
    "    }\n",
    "```\n",
    "\n",
    "Similarly, if no post-mission phase is provided, then a default `post_mission` is provided:\n",
    "```\n",
    "    'post_mission': {\n",
    "        'include_landing': True,\n",
    "        'external_subsystems': [],\n",
    "    },\n",
    "```\n",
    "\n",
    "For `GASP' missions, taxi is considered part of pre-mission and landing is considered part of post-mission."
   ]
  },
  {
   "cell_type": "markdown",
   "id": "831d9967",
   "metadata": {},
   "source": [
    "#### Groundroll phase\n",
    "\n",
    "Let us discuss the groundroll phase in detail as an example.\n",
    "\n",
    "In {glue:md}`groundroll` phase, we are given {glue:md}`duration_bounds` of range `((1., 100.), 's')` and a reference value {glue:md}`duration_ref` of value `(50., 's')`. Here, {glue:md}`duration_bounds` is a tuple of (lower, upper) bounds for the duration of the integration variable across the phase and {glue:md}`duration_ref` is the unit-reference value for the duration of the integration variable across the phase (see [Dymos Variables](https://openmdao.github.io/dymos/features/phases/variables.html)). This implies a time range of `(0.2, 2)` in {glue:md}`groundroll` phase, or:\n",
    "```\n",
    "0.02 ≤ traj.groundroll.t_duration ≤ 2.\n",
    "```\n",
    "We see {glue:md}`velocity_lower` of value `(0, 'kn')`, {glue:md}`velocity_upper` of value `(1000, 'kn')`, and {glue:md}`velocity_ref` of value `(150, 'kn')`. They result in `velocity` as a design variable with a range: `(0, 6.66667)`, or\n",
    "```\n",
    "0 ≤ traj.groundroll.states:velocity ≤ 6.66667.\n",
    "```\n",
    "Similarly, we get:\n",
    "```\n",
    "0 ≤ traj.groundroll.states:distance ≤ 3.33333\n",
    "```\n",
    "The mass parameter is a little bit different because we have {glue:md}`mass_upper`: `(None, 'lbm')` (and {glue:md}`mass_lower`: `(0, 'lbm')`). In this situation, OpenMDAO replaces `None` with an actual upper bound that is very large. We get:\n",
    "```\n",
    "0 ≤ traj.groundroll.states:mass ≤ 6.66667e+15.\n",
    "```\n",
    "Comparing to `velocity` and `distance`, `mass` is not scaled to the same range. This is okay because aircraft mass is actually a constant in this phase. A huge upper bound will not have an impact.\n",
    "\n",
    "In {glue:md}`groundroll` phase, initial guess of {glue:md}`throttle` setting is set to maximum `(0.956, 0.956)`. Aviary sets a phase parameter:\n",
    "```\n",
    "Dynamic.Vehicle.Propulsion.THROTTLE = 1.0\n",
    "```\n",
    "For the [`COLLOCATION`](https://openmdao.github.io/dymos/getting_started/collocation.html) setting, there is one [segment](https://openmdao.github.io/dymos/getting_started/intro_to_dymos/intro_segments.html) (`'num_segments': 1`) and polynomial interpolation degree is 3 (`'order': 3`). Increasing the number of segments and/or increasing the degree of polynomial will improve accuracy but will also increase the complexity of computation. For groundroll, it is unnecessary.\n",
    "\n",
    "Since {glue:md}`groundroll` is the first phase, {glue:md}`connect_initial_mass` is set to `False`. {glue:md}`fix_initial` is set to `True`, but {glue:md}`fix_initial_mass` to `False` because aircraft total mass is a design parameter.\n",
    "\n",
    "For parameter {glue:md}`mass_defect_ref`, we see values to `(150_000, 'lbm')`. Defect is a residual that measures how accurately the proposed state and control history obeyed the ODE governing the system dynamics. For distance, the defect reference {glue:md}`distance_ref` is `3000` ft.\n",
    "\n",
    "#### Other phases\n",
    "\n",
    "We will not discuss the other phases in detail.\n",
    "\n",
    "Phase {glue:md}`climb1` is for climb up to 10,000 ft and phase {glue:md}`climb2` is for climb to cruise phase. Phase {glue:md}`desc1` is for descent down to `10,000` ft and phase {glue:md}`desc2` is for descent from `10,000` ft down to `1,000` ft."
   ]
  },
  {
   "cell_type": "code",
   "execution_count": 9,
   "id": "f4362df8",
   "metadata": {
    "tags": [
     "remove-cell"
    ]
   },
   "outputs": [
    {
     "data": {
      "text/markdown": [
       "`aviary/interface/default_phase_info/height_energy.py`"
      ],
      "text/plain": [
       "<IPython.core.display.Markdown object>"
      ]
     },
     "metadata": {
      "scrapbook": {
       "mime_prefix": "",
       "name": "aviary/interface/default_phase_info/height_energy.py"
      }
     },
     "output_type": "display_data"
    },
    {
     "data": {
      "text/markdown": [
       "`default_phase_info/height_energy.py`"
      ],
      "text/plain": [
       "<IPython.core.display.Markdown object>"
      ]
     },
     "metadata": {
      "scrapbook": {
       "mime_prefix": "",
       "name": "default_phase_info/height_energy.py"
      }
     },
     "output_type": "display_data"
    },
    {
     "data": {
      "text/markdown": [
       "`aviary/interface/default_phase_info/two_dof.py`"
      ],
      "text/plain": [
       "<IPython.core.display.Markdown object>"
      ]
     },
     "metadata": {
      "scrapbook": {
       "mime_prefix": "",
       "name": "aviary/interface/default_phase_info/two_dof.py"
      }
     },
     "output_type": "display_data"
    },
    {
     "data": {
      "text/markdown": [
       "`default_phase_info/two_dof.py`"
      ],
      "text/plain": [
       "<IPython.core.display.Markdown object>"
      ]
     },
     "metadata": {
      "scrapbook": {
       "mime_prefix": "",
       "name": "default_phase_info/two_dof.py"
      }
     },
     "output_type": "display_data"
    },
    {
     "data": {
      "text/markdown": [
       "`HEIGHT_ENERGY`"
      ],
      "text/plain": [
       "<IPython.core.display.Markdown object>"
      ]
     },
     "metadata": {
      "scrapbook": {
       "mime_prefix": "",
       "name": "HEIGHT_ENERGY"
      }
     },
     "output_type": "display_data"
    },
    {
     "data": {
      "text/markdown": [
       "`TWO_DEGREES_OF_FREEDOM`"
      ],
      "text/plain": [
       "<IPython.core.display.Markdown object>"
      ]
     },
     "metadata": {
      "scrapbook": {
       "mime_prefix": "",
       "name": "TWO_DEGREES_OF_FREEDOM"
      }
     },
     "output_type": "display_data"
    },
    {
     "data": {
      "text/markdown": [
       "`pre_mission`"
      ],
      "text/plain": [
       "<IPython.core.display.Markdown object>"
      ]
     },
     "metadata": {
      "scrapbook": {
       "mime_prefix": "",
       "name": "pre_mission"
      }
     },
     "output_type": "display_data"
    },
    {
     "data": {
      "text/markdown": [
       "`climb`"
      ],
      "text/plain": [
       "<IPython.core.display.Markdown object>"
      ]
     },
     "metadata": {
      "scrapbook": {
       "mime_prefix": "",
       "name": "climb"
      }
     },
     "output_type": "display_data"
    },
    {
     "data": {
      "text/markdown": [
       "`descent`"
      ],
      "text/plain": [
       "<IPython.core.display.Markdown object>"
      ]
     },
     "metadata": {
      "scrapbook": {
       "mime_prefix": "",
       "name": "descent"
      }
     },
     "output_type": "display_data"
    },
    {
     "data": {
      "text/markdown": [
       "`post_mission`"
      ],
      "text/plain": [
       "<IPython.core.display.Markdown object>"
      ]
     },
     "metadata": {
      "scrapbook": {
       "mime_prefix": "",
       "name": "post_mission"
      }
     },
     "output_type": "display_data"
    }
   ],
   "source": [
    "# Testing Cell\n",
    "import aviary.api as av\n",
    "#from aviary.interface.default_phase_info.height_energy import phase_info\n",
    "from aviary.interface.utils.check_phase_info import check_phase_info, HEIGHT_ENERGY, TWO_DEGREES_OF_FREEDOM\n",
    "from aviary.utils.doctape import check_value, get_variable_name, get_all_keys\n",
    "\n",
    "str_phase_infos = ['height_energy', 'two_dof']\n",
    "for str_phase_info in str_phase_infos:\n",
    "    file_path = av.get_path('interface/default_phase_info/' + str_phase_info + '.py')\n",
    "    # Now the file exists. Glue it.\n",
    "    file_path = file_path.relative_to(av.top_dir.parent)\n",
    "    glue_variable(str(file_path), md_code=True)\n",
    "    # remove \"aviary/interface\" from file_path\n",
    "    glue_variable(str(file_path.relative_to('aviary/interface')), md_code=True)\n",
    "\n",
    "glue_variable(HEIGHT_ENERGY.name, md_code=True)\n",
    "glue_variable(TWO_DEGREES_OF_FREEDOM.name, md_code=True)\n",
    "\n",
    "# glue new phase name (skip 'cruise' to avoid duplicate key)\n",
    "for key in ['pre_mission', 'climb', 'descent', 'post_mission']:\n",
    "    glue_variable(key, md_code=True)"
   ]
  },
  {
   "cell_type": "markdown",
   "id": "086a4719",
   "metadata": {},
   "source": [
    "### Default HEIGHT_ENERGY phases\n",
    "\n",
    "The file {glue:md}`aviary/interface/default_phase_info/height_energy.py` contains the following phases:\n",
    "\n",
    "{glue:md}`pre_mission`, {glue:md}`climb`, {glue:md}`cruise`, {glue:md}`descent`, {glue:md}`post_mission`\n",
    "\n",
    "The differences between `HEIGHT_ENERGY` and `TWO_DEGREES_OF_FREEDOM` phases are due to how `FLOPS` and `GASP` implement trajectory analysis.\n",
    "\n",
    "```{note}\n",
    "File {glue:md}`aviary/interface/default_phase_info/height_energy.py` has a {glue:md}`pre_mission` phase and a {glue:md}`post_mission` phase. In {glue:md}`pre_mission`, `takeoff` is the simplified takeoff and in `post_mission`, `landing` is the simplified landing. For {glue:md}`HEIGHT_ENERGY` missions, there are [detailed takeoff and landing](../user_guide/FLOPS_based_detailed_takeoff_and_landing) available. But they are not used in `default_phase_info/flops.py`. The other phases are mission phases.\n",
    "```"
   ]
  },
  {
   "cell_type": "markdown",
   "id": "0d519d21",
   "metadata": {},
   "source": [
    "## Outputted files and how to read them\n",
    "\n",
    "```{note}\n",
    "Please also see [this doc page](../user_guide/postprocessing_and_visualizing_results) for more info about the Aviary dashboard and the information is contains.\n",
    "We usually expect that users access these reports through the dashboard, though you can also access the html files directly.\n",
    "```\n",
    "\n",
    "Each standard run generates several output files. Which output files are generated depend on the run options. In this section, we assume that we've set `max_iter` = {glue:md}`num_max_iter` to ensure convergence. The following screenshots used in this article are all from a run using {glue:md}`aircraft_for_bench_GwGm.csv`.\n",
    "\n",
    "First, there is always a sub-folder `reports/case_name` where `case_name` is the csv file name. In our case, it is `reports/aircraft_for_bench_GwGm`. It contains a few HTML files:\n",
    "\n",
    "- `driver_scaling_report.html`\n",
    "- `inputs.html`\n",
    "- `n2.html`\n",
    "- `opt_report.html`\n",
    "- `total_coloring.html`\n",
    "- `traj_linkage_report.html`\n",
    "- `traj_results_report.html`"
   ]
  },
  {
   "cell_type": "markdown",
   "id": "3794fb45",
   "metadata": {},
   "source": [
    "### File `driver_scaling_report.html`\n",
    "\n",
    "This file is a summary of driver scaling information. After all design variables, objectives, and constraints are declared and the problem has been set up, this report presents all the design variables and constraints in all phases as well as the objectives. The file is divided to three blocks: `Design Variables`, `Constraints`, and `Objectives`. It contains the following columns: name, size, indices, driver value and units, model value and units, ref, ref0, scaler, adder, etc. It also shows `Jacobian Info` - responses with respect to design variables (`DV`). A screen shot of design variables is shown here:\n",
    "\n",
    "> ![Sample driver_scaling_report.html (top lines)](images/driver_scaling_report_top.PNG)\n",
    "\n",
    "This file is needed when you are debugging. New users can skip it."
   ]
  },
  {
   "cell_type": "markdown",
   "id": "7b66d5d3",
   "metadata": {},
   "source": [
    "### File `inputs.html`\n",
    "\n",
    "File `inputs.html`  is a sortable and filterable input report of input variables in different phases. It contains all the input variables (with possibly duplicate names for different phases) but only shows those in `Source is IVC` (abbreviation for [IndepVarComp](https://openmdao.org/newdocs/versions/latest/features/core_features/working_with_components/indepvarcomp.html)) on opening up. Users can choose to show other inputs by selecting and deselecting this checkbox. Users can filter their inputs by input name, source name, units, shape, tags,  values (`Val`), or design variables (`Source is DV`). Here is a screen shot (top part) when it is opened:\n",
    "\n",
    "> ![Sample inputs.html (top lines)](images/inputs_html_top.PNG)\n",
    "\n",
    "New users can choose to use `input_list.txt` instead (see below) if `settings:verbosity` is set to 2 or higher. Note that this file lives in the current folder."
   ]
  },
  {
   "cell_type": "markdown",
   "id": "25a81fa7",
   "metadata": {},
   "source": [
    "### File `n2.html`\n",
    "\n",
    "[N2](https://openmdao.org/newdocs/versions/latest/features/model_visualization/n2_details/n2_details.html), sometimes referred to as an eXtended Design Structure Matrix (XDSM), is a powerful tool for understanding your model in OpenMDAO. It is an N-squared diagram in the shape of a matrix representing functional or physical interfaces between system elements. It can be used to systematically identify, define, tabulate, design, and analyze functional and physical interfaces.\n",
    "\n",
    "```{note}\n",
    "We *strongly* recommend that you understand N2 diagrams well, especially if you are debugging a model or adding external subsystems. Here is a [doc page](https://openmdao.github.io/PracticalMDO/Notebooks/ModelConstruction/using_n2.html) featuring an informative video on how to use N2 diagrams effectively. MDO lab has another resource for learning about N2 and [XDSM](https://mdolab-pyxdsm.readthedocs-hosted.com/).\n",
    "```\n",
    "\n",
    " Here is a screenshot of an N2 diagram after we run `aviary run_mission models/test_aircraft/aircraft_for_bench_GwGm.csv`.\n",
    "\n",
    "> ![Sample n2.html (on start)](images/N2_start.PNG)\n",
    "\n",
    "At level 1, we are interested in the phases, so let us `Hide solvers`. So from `model`, zoom into `traj`, then into `phases`. We see the phases from `groundroll` to `desc2` as expected. To see how those phases are connected, we click on `Show all connections in view`. Here is what we see:\n",
    "\n",
    "> ![Sample n2.html (on phases)](images/N2_phases.PNG)\n",
    "\n",
    "The solid arrow connections show how outputs of one phase feed as inputs to the next. As you can see, the input of each phase is linked from the previous phase and its output is linked to the next phase. This is pretty much what we expect. The dashed arrows are links to and/or from other places not in the view. If you are curious where those links go, you must zoom out. This can be done by clicking the vertical bar on the left. Let us click it twice. Here is what we get:\n",
    "\n",
    "> ![Sample n2.html (on phases)](images/N2_phases_links.PNG)\n",
    "\n",
    "For {glue:md}`TWO_DEGREES_OF_FREEDOM` missions, there is a takeoff subsystem (including `taxi` phase) within `pre_mission`. For {glue:md}`HEIGHT_ENERGY` missions, there is a takeoff subsystem within `pre_mission` in which a `takeoff` phase is added. It is added after `static_analysis` in `add_pre_mission_systems` method.\n",
    "\n",
    "Similarly, there is a `landing` phase within `post_mission`."
   ]
  },
  {
   "cell_type": "markdown",
   "id": "aacb7268",
   "metadata": {},
   "source": [
    "### File `opt_report.html`\n",
    "\n",
    "This file is OpenMDAO Optimization Report. All values are in unscaled, physical units. On the top is a summary of the optimization, followed by the objective, design variables, constraints, and optimizer settings. Here is a screenshot:\n",
    "\n",
    "> ![Sample opt_report.html (top lines)](images/opt_report_top.PNG)\n",
    "\n",
    "This file is important when dissecting optimal results produced by Aviary."
   ]
  },
  {
   "cell_type": "markdown",
   "id": "0b9ccf6b",
   "metadata": {},
   "source": [
    "### Coloring files\n",
    "\n",
    "There is a sub-folder `coloring_files`. Those are used internally by OpenMDAO for derivative computation. Users should generally skip those files."
   ]
  },
  {
   "cell_type": "markdown",
   "id": "4e04587c",
   "metadata": {},
   "source": [
    "### File `traj_linkage_report.html`\n",
    "\n",
    "This is a dymos linkage report in a customized N2 diagram. It provides a report detailing how phases are linked together via constraint or connection. It can be used to identify errant linkages between fixed quantities.\n",
    "\n",
    "> ![Sample traj_linkage_report.html (top of timeseries)](images/traj_linkage_report_top.PNG)\n",
    "\n",
    "We clearly see how those mission phases are linked."
   ]
  },
  {
   "cell_type": "markdown",
   "id": "7cf04bea",
   "metadata": {},
   "source": [
    "### File `traj_results_report.html`\n",
    "\n",
    "```{note}\n",
    "This is one of the most important files produced by Aviary. It will help you visualize and understand the optimal trajectory produced by Aviary.\n",
    "```\n",
    "\n",
    "This file contains timeseries and phase parameters in different tabs. For our {glue:md}`aircraft_for_bench_GwGm` run, they are: {glue:md}`groundroll`, {glue:md}`rotation`,  {glue:md}`ascent`, {glue:md}`accel`, {glue:md}`climb1`, {glue:md}`climb2`, {glue:md}`cruise`, {glue:md}`desc1`, and {glue:md}`desc2` parameters. On the timeseries tab, users can select which phases to view. The following are the top of timeseries tab and ascent parameters tab:\n",
    "\n",
    "> ![Sample traj_results_report.html (top part of timeseries)](images/traj_results_report_top.PNG)\n",
    "\n",
    "Let's find the altitude chart. Move the cursor to the top of climb2. We see that the aircraft climbs to 37500 feet at 1200 second. Then it enters to cruise phase. At 28090 second, it starts descent from 40000 feet.\n",
    "\n",
    "> ![Sample traj_results_report.html (altitude)](images/traj_results_report_altitude.PNG)\n",
    "\n",
    "Let's switch to `ascent` tab. We see the following:\n",
    "\n",
    "> ![Sample traj_results_report.html (top lines) of ascent](images/traj_results_report_top_ascent.PNG)\n",
    "\n",
    "This file is quite important. Users should play with it and try to grasp all possible features. For example, you can hover the mouse over the solution points to see solution value; you can save the interesting images; you can zoom into a particular region for details, etc."
   ]
  },
  {
   "cell_type": "markdown",
   "id": "0ef908f2",
   "metadata": {},
   "source": [
    "### Optimizer output\n",
    "\n",
    "If {glue:md}`IPOPT` is the optimizer, `IPOPT.out` is generated. If {glue:md}`SLSQP` is the optimizer and `pyOptSparseDriver` is the driver, `SLSQP.out` is generated. Generally speaking, {glue:md}`IPOPT` and {glue:md}`SNOPT` converge Aviary optimization problems better than {glue:md}`SLSQP`, but {glue:md}`SLSQP` is bundled with Scipy by default, making it more widely available."
   ]
  },
  {
   "cell_type": "markdown",
   "id": "9da1571f",
   "metadata": {},
   "source": [
    "### SQLite database file\n",
    "\n",
    "There is a `.db` file after run. By default, it is `problem_history.db` in the current directory. This is an SQLite database file. In level 2 and level 3, we will be able to choose a different name. Our run is recorded into this file. You generally shouldn't need to parse through this file on your own, but it is available if you're seeking additional problem information."
   ]
  },
  {
   "cell_type": "code",
   "execution_count": 10,
   "id": "b671348f",
   "metadata": {
    "tags": [
     "remove-cell"
    ]
   },
   "outputs": [
    {
     "data": {
      "text/markdown": [
       "`VERBOSITY`"
      ],
      "text/plain": [
       "<IPython.core.display.Markdown object>"
      ]
     },
     "metadata": {
      "scrapbook": {
       "mime_prefix": "",
       "name": "VERBOSITY"
      }
     },
     "output_type": "display_data"
    },
    {
     "data": {
      "text/markdown": [
       "`BRIEF`"
      ],
      "text/plain": [
       "<IPython.core.display.Markdown object>"
      ]
     },
     "metadata": {
      "scrapbook": {
       "mime_prefix": "",
       "name": "BRIEF"
      }
     },
     "output_type": "display_data"
    },
    {
     "data": {
      "text/markdown": [
       "`VERBOSE`"
      ],
      "text/plain": [
       "<IPython.core.display.Markdown object>"
      ]
     },
     "metadata": {
      "scrapbook": {
       "mime_prefix": "",
       "name": "VERBOSE"
      }
     },
     "output_type": "display_data"
    }
   ],
   "source": [
    "# Testing Cell\n",
    "import aviary.api as av\n",
    "from aviary.utils.doctape import get_attribute_name, glue_variable\n",
    "Verbosity = av.Verbosity;\n",
    "\n",
    "verbosity = get_attribute_name(av.Settings,av.Settings.VERBOSITY)\n",
    "glue_variable('VERBOSITY',verbosity, md_code=True)\n",
    "glue_variable('BRIEF',av.Verbosity.BRIEF.name, md_code=True)\n",
    "glue_variable('VERBOSE',av.Verbosity.VERBOSE.name, md_code=True)\n",
    "# glue_variable(av.Settings.VERBOSITY)"
   ]
  },
  {
   "cell_type": "markdown",
   "id": "bc26df51",
   "metadata": {},
   "source": [
    "### Plain text inputs and outputs\n",
    "\n",
    "If {glue:md}`VERBOSITY` is set to `2` ({glue:md}`VERBOSE`) or higher, `input_list.txt` and `output_list.txt` are generated. We recommend this parameter be set to `1` ({glue:md}`BRIEF`) for beginners. See [Coding Standards](../developer_guide/coding_standards.ipynb) for more details.\n",
    "\n",
    "Let us look at `input_list.txt`:\n",
    "\n",
    "> ![Sample input_list.txt (top lines)](images/input_list_top.PNG)\n",
    "\n",
    "In this screenshot, we see a tree structure. There are three columns. The left column is a list of variable names. The middle column is the value and the right column is the [promoted](https://openmdao.org/newdocs/versions/latest/basic_user_guide/multidisciplinary_optimization/linking_vars.html) variable name. `pre_mission` is a phase, `static_analysis` is a subgroup which contains other subcomponents (e.g. `propulsion_group`). `engine` is a component under which is a list of input variables (e.g. `aircraft:engine:scaled_sls_thrust`).\n",
    "\n",
    "An input variable can appear under different phases and within different components. Note that its values can be different because its value has been updated during the computation. On the top-left corner is the total number of inputs. That number counts the duplicates because one variable can appear in different phases. Aviary variable structure are discussed in [Understanding the Variable Hierarchy](https://github.com/OpenMDAO/Aviary/blob/main/aviary/docs/user_guide/variable_hierarchy) and [Understanding the Variable Metadata](https://github.com/OpenMDAO/Aviary/blob/main/aviary/docs/user_guide/variable_metadata).\n",
    "\n",
    "If you zoom the N2 diagram into `propulsion_group` and `gasp_based_geom`, you see the exact same tree structure:\n",
    "\n",
    "> ![Sample N2 Diagram (top blocks)](images/N2_top.PNG)\n",
    "\n",
    "File `output_list.txt` follows the same pattern. But there is another tree for implicit outputs. That helps when debugging is needed."
   ]
  },
  {
   "cell_type": "markdown",
   "id": "4dbd3cd1",
   "metadata": {},
   "source": [
    "### Additional messages\n",
    "\n",
    "When Aviary is run, some messages are printed on the command line and they are important. For example, the following constraint report tells us whether our desired constraints are met:\n",
    "\n",
    "```\n",
    "--- Constraint Report [traj] ---\n",
    "    --- groundroll ---\n",
    "        None\n",
    "    --- rotation ---\n",
    "        [final]   0.0000e+00 == normal_force [lbf]\n",
    "    --- ascent ---\n",
    "        [final]   5.0000e+02 == altitude [ft]\n",
    "        [path]    0.0000e+00 <= load_factor <= 1.1000e+00  [unitless]\n",
    "        [path]    0.0000e+00 <= fuselage_pitch <= 1.5000e+01  [deg]\n",
    "    --- accel ---\n",
    "        [final]   2.5000e+02 == EAS [kn]\n",
    "    --- climb1 ---\n",
    "        [final]   1.0000e+04 == altitude [ft]\n",
    "    --- climb2 ---\n",
    "        [final]   3.7500e+04 == altitude [ft]\n",
    "        [final]   1.0000e-01 <= altitude_rate  [ft/min]\n",
    "        [final]   8.0000e-01 == mach [unitless]\n",
    "    --- cruise ---\n",
    "        None\n",
    "    --- desc1 ---\n",
    "        [final]   1.0000e+04 == altitude [ft]\n",
    "    --- desc2 ---\n",
    "        [final]   1.0000e+03 == altitude [ft]\n",
    "```"
   ]
  },
  {
   "cell_type": "code",
   "execution_count": 11,
   "id": "18e1c3c6",
   "metadata": {
    "tags": [
     "remove-output"
    ]
   },
   "outputs": [
    {
     "data": {
      "text/markdown": [
       "`Mission.Objectives.FUEL`"
      ],
      "text/plain": [
       "<IPython.core.display.Markdown object>"
      ]
     },
     "metadata": {
      "scrapbook": {
       "mime_prefix": "",
       "name": "Mission.Objectives.FUEL"
      }
     },
     "output_type": "display_data"
    },
    {
     "data": {
      "text/markdown": [
       "`Mission.Objectives.RANGE`"
      ],
      "text/plain": [
       "<IPython.core.display.Markdown object>"
      ]
     },
     "metadata": {
      "scrapbook": {
       "mime_prefix": "",
       "name": "Mission.Objectives.RANGE"
      }
     },
     "output_type": "display_data"
    },
    {
     "data": {
      "text/markdown": [
       "`BatteryBuilder`"
      ],
      "text/plain": [
       "<IPython.core.display.Markdown object>"
      ]
     },
     "metadata": {
      "scrapbook": {
       "mime_prefix": "",
       "name": "BatteryBuilder"
      }
     },
     "output_type": "display_data"
    }
   ],
   "source": [
    "# Testing Cell\n",
    "from aviary.api import Mission\n",
    "from aviary.examples.external_subsystems.battery.battery_builder import BatteryBuilder\n",
    "from aviary.utils.doctape import glue_variable, get_variable_name\n",
    "\n",
    "glue_variable(get_variable_name(Mission.Objectives.FUEL), md_code=True)\n",
    "glue_variable(get_variable_name(Mission.Objectives.RANGE), md_code=True)\n",
    "glue_variable(get_variable_name(BatteryBuilder), md_code=True)"
   ]
  },
  {
   "cell_type": "markdown",
   "id": "15e1f0b4",
   "metadata": {},
   "source": [
    "## Beyond level 1\n",
    "\n",
    "Aviary Level 1 is quite capable yet limited in how much is exposed to the user. If you need additional flexibility or want to add your own subsystems, you will need to move to Levels 2 or 3. Let us briefly discuss some of the possible reasons for you to move to Levels 2 or 3.\n",
    "\n",
    "If you examine the Aviary metadata, you find that Aviary has two choices of objectives: {glue:md}`Mission.Objectives.FUEL` and {glue:md}`Mission.Objectives.RANGE`. But in level 1, you are limited to minimizing fuel. Users will be able to make other choices in level 2 and level 3.\n",
    "\n",
    "Level 1 uses the default {glue:md}`phase_info` dictionaries, though there is an option to use a customized {glue:md}`phase_info`.\n",
    "For more details, please read [drawing and running simple missions](../user_guide/drawing_and_running_simple_missions).\n",
    "\n",
    "There may be more or fewer key-value pairs in each of the phases. For example, if you have an external subsystem, say, a battery with {glue:md}`BatteryBuilder`, you can add a key `external_subsystems` with value {glue:md}`BatteryBuilder`. We will go into details later (see [here](onboarding_ext_subsystem)).\n",
    "\n",
    "No matter what mission method users choose, they can create their own phase sequences and run Aviary using either level 2 or 3 interface.\n",
    "\n",
    "\n",
    "We are ready to move on to [Level 2](onboarding_level2)."
   ]
  }
 ],
 "metadata": {
  "kernelspec": {
   "display_name": "av1",
   "language": "python",
   "name": "python3"
  },
  "language_info": {
   "codemirror_mode": {
    "name": "ipython",
    "version": 3
   },
   "file_extension": ".py",
   "mimetype": "text/x-python",
   "name": "python",
   "nbconvert_exporter": "python",
   "pygments_lexer": "ipython3",
   "version": "3.9.18"
  }
 },
 "nbformat": 4,
 "nbformat_minor": 5
}
