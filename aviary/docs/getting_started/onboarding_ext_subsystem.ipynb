{
 "cells": [
  {
   "cell_type": "code",
   "execution_count": null,
   "id": "16100856",
   "metadata": {
    "tags": [
     "remove-cell"
    ]
   },
   "outputs": [],
   "source": [
    "# Testing Cell\n",
    "from aviary.interface.methods_for_level2 import AviaryGroup\n",
    "from aviary.utils.doctape import glue_class_options\n",
    "\n",
    "current_glued_vars = []\n",
    "\n",
    "glue_class_options(AviaryGroup, current_glued_vars, md_code=True)\n"
   ]
  },
  {
   "cell_type": "markdown",
   "id": "ac9434a4",
   "metadata": {},
   "source": [
    "# Models with External Subsystems\n",
    "\n",
    "In level 2, we have given simple examples of defining external subsystems in {glue:md}`phase_info`. The subsystems that we gave were all dummy subsystems and are not really used in simulation. Assume you have an external subsystem and you want to use it. Let us show you how to achieve this goal."
   ]
  },
  {
   "cell_type": "markdown",
   "id": "c60ff00e",
   "metadata": {},
   "source": [
    "## Installation of Aviary examples\n",
    "\n",
    "The Aviary team has provided a few external subsystems for you to use.\n",
    "These are included in the {glue:md}`aviary/examples/external_subsystems` directory.\n",
    "We'll now discuss them here and show you how to use them."
   ]
  },
  {
   "cell_type": "code",
   "execution_count": 1,
   "id": "4e161ef2",
   "metadata": {
    "tags": [
     "remove-cell"
    ]
   },
   "outputs": [
    {
     "data": {
      "application/javascript": "(function(root) {\n  function now() {\n    return new Date();\n  }\n\n  var force = true;\n  var py_version = '3.3.2'.replace('rc', '-rc.').replace('.dev', '-dev.');\n  var reloading = false;\n  var Bokeh = root.Bokeh;\n\n  if (typeof (root._bokeh_timeout) === \"undefined\" || force) {\n    root._bokeh_timeout = Date.now() + 5000;\n    root._bokeh_failed_load = false;\n  }\n\n  function run_callbacks() {\n    try {\n      root._bokeh_onload_callbacks.forEach(function(callback) {\n        if (callback != null)\n          callback();\n      });\n    } finally {\n      delete root._bokeh_onload_callbacks;\n    }\n    console.debug(\"Bokeh: all callbacks have finished\");\n  }\n\n  function load_libs(css_urls, js_urls, js_modules, js_exports, callback) {\n    if (css_urls == null) css_urls = [];\n    if (js_urls == null) js_urls = [];\n    if (js_modules == null) js_modules = [];\n    if (js_exports == null) js_exports = {};\n\n    root._bokeh_onload_callbacks.push(callback);\n\n    if (root._bokeh_is_loading > 0) {\n      console.debug(\"Bokeh: BokehJS is being loaded, scheduling callback at\", now());\n      return null;\n    }\n    if (js_urls.length === 0 && js_modules.length === 0 && Object.keys(js_exports).length === 0) {\n      run_callbacks();\n      return null;\n    }\n    if (!reloading) {\n      console.debug(\"Bokeh: BokehJS not loaded, scheduling load and callback at\", now());\n    }\n\n    function on_load() {\n      root._bokeh_is_loading--;\n      if (root._bokeh_is_loading === 0) {\n        console.debug(\"Bokeh: all BokehJS libraries/stylesheets loaded\");\n        run_callbacks()\n      }\n    }\n    window._bokeh_on_load = on_load\n\n    function on_error() {\n      console.error(\"failed to load \" + url);\n    }\n\n    var skip = [];\n    if (window.requirejs) {\n      window.requirejs.config({'packages': {}, 'paths': {'jspanel': 'https://cdn.jsdelivr.net/npm/jspanel4@4.12.0/dist/jspanel', 'jspanel-modal': 'https://cdn.jsdelivr.net/npm/jspanel4@4.12.0/dist/extensions/modal/jspanel.modal', 'jspanel-tooltip': 'https://cdn.jsdelivr.net/npm/jspanel4@4.12.0/dist/extensions/tooltip/jspanel.tooltip', 'jspanel-hint': 'https://cdn.jsdelivr.net/npm/jspanel4@4.12.0/dist/extensions/hint/jspanel.hint', 'jspanel-layout': 'https://cdn.jsdelivr.net/npm/jspanel4@4.12.0/dist/extensions/layout/jspanel.layout', 'jspanel-contextmenu': 'https://cdn.jsdelivr.net/npm/jspanel4@4.12.0/dist/extensions/contextmenu/jspanel.contextmenu', 'jspanel-dock': 'https://cdn.jsdelivr.net/npm/jspanel4@4.12.0/dist/extensions/dock/jspanel.dock', 'gridstack': 'https://cdn.jsdelivr.net/npm/gridstack@7.2.3/dist/gridstack-all', 'notyf': 'https://cdn.jsdelivr.net/npm/notyf@3/notyf.min'}, 'shim': {'jspanel': {'exports': 'jsPanel'}, 'gridstack': {'exports': 'GridStack'}}});\n      require([\"jspanel\"], function(jsPanel) {\n\twindow.jsPanel = jsPanel\n\ton_load()\n      })\n      require([\"jspanel-modal\"], function() {\n\ton_load()\n      })\n      require([\"jspanel-tooltip\"], function() {\n\ton_load()\n      })\n      require([\"jspanel-hint\"], function() {\n\ton_load()\n      })\n      require([\"jspanel-layout\"], function() {\n\ton_load()\n      })\n      require([\"jspanel-contextmenu\"], function() {\n\ton_load()\n      })\n      require([\"jspanel-dock\"], function() {\n\ton_load()\n      })\n      require([\"gridstack\"], function(GridStack) {\n\twindow.GridStack = GridStack\n\ton_load()\n      })\n      require([\"notyf\"], function() {\n\ton_load()\n      })\n      root._bokeh_is_loading = css_urls.length + 9;\n    } else {\n      root._bokeh_is_loading = css_urls.length + js_urls.length + js_modules.length + Object.keys(js_exports).length;\n    }\n\n    var existing_stylesheets = []\n    var links = document.getElementsByTagName('link')\n    for (var i = 0; i < links.length; i++) {\n      var link = links[i]\n      if (link.href != null) {\n\texisting_stylesheets.push(link.href)\n      }\n    }\n    for (var i = 0; i < css_urls.length; i++) {\n      var url = css_urls[i];\n      if (existing_stylesheets.indexOf(url) !== -1) {\n\ton_load()\n\tcontinue;\n      }\n      const element = document.createElement(\"link\");\n      element.onload = on_load;\n      element.onerror = on_error;\n      element.rel = \"stylesheet\";\n      element.type = \"text/css\";\n      element.href = url;\n      console.debug(\"Bokeh: injecting link tag for BokehJS stylesheet: \", url);\n      document.body.appendChild(element);\n    }    if (((window['jsPanel'] !== undefined) && (!(window['jsPanel'] instanceof HTMLElement))) || window.requirejs) {\n      var urls = ['https://cdn.holoviz.org/panel/1.3.6/dist/bundled/floatpanel/jspanel4@4.12.0/dist/jspanel.js', 'https://cdn.holoviz.org/panel/1.3.6/dist/bundled/floatpanel/jspanel4@4.12.0/dist/extensions/modal/jspanel.modal.js', 'https://cdn.holoviz.org/panel/1.3.6/dist/bundled/floatpanel/jspanel4@4.12.0/dist/extensions/tooltip/jspanel.tooltip.js', 'https://cdn.holoviz.org/panel/1.3.6/dist/bundled/floatpanel/jspanel4@4.12.0/dist/extensions/hint/jspanel.hint.js', 'https://cdn.holoviz.org/panel/1.3.6/dist/bundled/floatpanel/jspanel4@4.12.0/dist/extensions/layout/jspanel.layout.js', 'https://cdn.holoviz.org/panel/1.3.6/dist/bundled/floatpanel/jspanel4@4.12.0/dist/extensions/contextmenu/jspanel.contextmenu.js', 'https://cdn.holoviz.org/panel/1.3.6/dist/bundled/floatpanel/jspanel4@4.12.0/dist/extensions/dock/jspanel.dock.js'];\n      for (var i = 0; i < urls.length; i++) {\n        skip.push(urls[i])\n      }\n    }    if (((window['GridStack'] !== undefined) && (!(window['GridStack'] instanceof HTMLElement))) || window.requirejs) {\n      var urls = ['https://cdn.holoviz.org/panel/1.3.6/dist/bundled/gridstack/gridstack@7.2.3/dist/gridstack-all.js'];\n      for (var i = 0; i < urls.length; i++) {\n        skip.push(urls[i])\n      }\n    }    if (((window['Notyf'] !== undefined) && (!(window['Notyf'] instanceof HTMLElement))) || window.requirejs) {\n      var urls = ['https://cdn.holoviz.org/panel/1.3.6/dist/bundled/notificationarea/notyf@3/notyf.min.js'];\n      for (var i = 0; i < urls.length; i++) {\n        skip.push(urls[i])\n      }\n    }    var existing_scripts = []\n    var scripts = document.getElementsByTagName('script')\n    for (var i = 0; i < scripts.length; i++) {\n      var script = scripts[i]\n      if (script.src != null) {\n\texisting_scripts.push(script.src)\n      }\n    }\n    for (var i = 0; i < js_urls.length; i++) {\n      var url = js_urls[i];\n      if (skip.indexOf(url) !== -1 || existing_scripts.indexOf(url) !== -1) {\n\tif (!window.requirejs) {\n\t  on_load();\n\t}\n\tcontinue;\n      }\n      var element = document.createElement('script');\n      element.onload = on_load;\n      element.onerror = on_error;\n      element.async = false;\n      element.src = url;\n      console.debug(\"Bokeh: injecting script tag for BokehJS library: \", url);\n      document.head.appendChild(element);\n    }\n    for (var i = 0; i < js_modules.length; i++) {\n      var url = js_modules[i];\n      if (skip.indexOf(url) !== -1 || existing_scripts.indexOf(url) !== -1) {\n\tif (!window.requirejs) {\n\t  on_load();\n\t}\n\tcontinue;\n      }\n      var element = document.createElement('script');\n      element.onload = on_load;\n      element.onerror = on_error;\n      element.async = false;\n      element.src = url;\n      element.type = \"module\";\n      console.debug(\"Bokeh: injecting script tag for BokehJS library: \", url);\n      document.head.appendChild(element);\n    }\n    for (const name in js_exports) {\n      var url = js_exports[name];\n      if (skip.indexOf(url) >= 0 || root[name] != null) {\n\tif (!window.requirejs) {\n\t  on_load();\n\t}\n\tcontinue;\n      }\n      var element = document.createElement('script');\n      element.onerror = on_error;\n      element.async = false;\n      element.type = \"module\";\n      console.debug(\"Bokeh: injecting script tag for BokehJS library: \", url);\n      element.textContent = `\n      import ${name} from \"${url}\"\n      window.${name} = ${name}\n      window._bokeh_on_load()\n      `\n      document.head.appendChild(element);\n    }\n    if (!js_urls.length && !js_modules.length) {\n      on_load()\n    }\n  };\n\n  function inject_raw_css(css) {\n    const element = document.createElement(\"style\");\n    element.appendChild(document.createTextNode(css));\n    document.body.appendChild(element);\n  }\n\n  var js_urls = [\"https://cdn.bokeh.org/bokeh/release/bokeh-3.3.2.min.js\", \"https://cdn.bokeh.org/bokeh/release/bokeh-gl-3.3.2.min.js\", \"https://cdn.bokeh.org/bokeh/release/bokeh-widgets-3.3.2.min.js\", \"https://cdn.bokeh.org/bokeh/release/bokeh-tables-3.3.2.min.js\", \"https://cdn.holoviz.org/panel/1.3.6/dist/panel.min.js\"];\n  var js_modules = [];\n  var js_exports = {};\n  var css_urls = [];\n  var inline_js = [    function(Bokeh) {\n      Bokeh.set_log_level(\"info\");\n    },\nfunction(Bokeh) {} // ensure no trailing comma for IE\n  ];\n\n  function run_inline_js() {\n    if ((root.Bokeh !== undefined) || (force === true)) {\n      for (var i = 0; i < inline_js.length; i++) {\n\ttry {\n          inline_js[i].call(root, root.Bokeh);\n\t} catch(e) {\n\t  if (!reloading) {\n\t    throw e;\n\t  }\n\t}\n      }\n      // Cache old bokeh versions\n      if (Bokeh != undefined && !reloading) {\n\tvar NewBokeh = root.Bokeh;\n\tif (Bokeh.versions === undefined) {\n\t  Bokeh.versions = new Map();\n\t}\n\tif (NewBokeh.version !== Bokeh.version) {\n\t  Bokeh.versions.set(NewBokeh.version, NewBokeh)\n\t}\n\troot.Bokeh = Bokeh;\n      }} else if (Date.now() < root._bokeh_timeout) {\n      setTimeout(run_inline_js, 100);\n    } else if (!root._bokeh_failed_load) {\n      console.log(\"Bokeh: BokehJS failed to load within specified timeout.\");\n      root._bokeh_failed_load = true;\n    }\n    root._bokeh_is_initializing = false\n  }\n\n  function load_or_wait() {\n    // Implement a backoff loop that tries to ensure we do not load multiple\n    // versions of Bokeh and its dependencies at the same time.\n    // In recent versions we use the root._bokeh_is_initializing flag\n    // to determine whether there is an ongoing attempt to initialize\n    // bokeh, however for backward compatibility we also try to ensure\n    // that we do not start loading a newer (Panel>=1.0 and Bokeh>3) version\n    // before older versions are fully initialized.\n    if (root._bokeh_is_initializing && Date.now() > root._bokeh_timeout) {\n      root._bokeh_is_initializing = false;\n      root._bokeh_onload_callbacks = undefined;\n      console.log(\"Bokeh: BokehJS was loaded multiple times but one version failed to initialize.\");\n      load_or_wait();\n    } else if (root._bokeh_is_initializing || (typeof root._bokeh_is_initializing === \"undefined\" && root._bokeh_onload_callbacks !== undefined)) {\n      setTimeout(load_or_wait, 100);\n    } else {\n      root._bokeh_is_initializing = true\n      root._bokeh_onload_callbacks = []\n      var bokeh_loaded = Bokeh != null && (Bokeh.version === py_version || (Bokeh.versions !== undefined && Bokeh.versions.has(py_version)));\n      if (!reloading && !bokeh_loaded) {\n\troot.Bokeh = undefined;\n      }\n      load_libs(css_urls, js_urls, js_modules, js_exports, function() {\n\tconsole.debug(\"Bokeh: BokehJS plotting callback run at\", now());\n\trun_inline_js();\n      });\n    }\n  }\n  // Give older versions of the autoload script a head-start to ensure\n  // they initialize before we start loading newer version.\n  setTimeout(load_or_wait, 100)\n}(window));",
      "application/vnd.holoviews_load.v0+json": ""
     },
     "metadata": {},
     "output_type": "display_data"
    },
    {
     "data": {
      "application/javascript": "\nif ((window.PyViz === undefined) || (window.PyViz instanceof HTMLElement)) {\n  window.PyViz = {comms: {}, comm_status:{}, kernels:{}, receivers: {}, plot_index: []}\n}\n\n\n    function JupyterCommManager() {\n    }\n\n    JupyterCommManager.prototype.register_target = function(plot_id, comm_id, msg_handler) {\n      if (window.comm_manager || ((window.Jupyter !== undefined) && (Jupyter.notebook.kernel != null))) {\n        var comm_manager = window.comm_manager || Jupyter.notebook.kernel.comm_manager;\n        comm_manager.register_target(comm_id, function(comm) {\n          comm.on_msg(msg_handler);\n        });\n      } else if ((plot_id in window.PyViz.kernels) && (window.PyViz.kernels[plot_id])) {\n        window.PyViz.kernels[plot_id].registerCommTarget(comm_id, function(comm) {\n          comm.onMsg = msg_handler;\n        });\n      } else if (typeof google != 'undefined' && google.colab.kernel != null) {\n        google.colab.kernel.comms.registerTarget(comm_id, (comm) => {\n          var messages = comm.messages[Symbol.asyncIterator]();\n          function processIteratorResult(result) {\n            var message = result.value;\n            console.log(message)\n            var content = {data: message.data, comm_id};\n            var buffers = []\n            for (var buffer of message.buffers || []) {\n              buffers.push(new DataView(buffer))\n            }\n            var metadata = message.metadata || {};\n            var msg = {content, buffers, metadata}\n            msg_handler(msg);\n            return messages.next().then(processIteratorResult);\n          }\n          return messages.next().then(processIteratorResult);\n        })\n      }\n    }\n\n    JupyterCommManager.prototype.get_client_comm = function(plot_id, comm_id, msg_handler) {\n      if (comm_id in window.PyViz.comms) {\n        return window.PyViz.comms[comm_id];\n      } else if (window.comm_manager || ((window.Jupyter !== undefined) && (Jupyter.notebook.kernel != null))) {\n        var comm_manager = window.comm_manager || Jupyter.notebook.kernel.comm_manager;\n        var comm = comm_manager.new_comm(comm_id, {}, {}, {}, comm_id);\n        if (msg_handler) {\n          comm.on_msg(msg_handler);\n        }\n      } else if ((plot_id in window.PyViz.kernels) && (window.PyViz.kernels[plot_id])) {\n        var comm = window.PyViz.kernels[plot_id].connectToComm(comm_id);\n        comm.open();\n        if (msg_handler) {\n          comm.onMsg = msg_handler;\n        }\n      } else if (typeof google != 'undefined' && google.colab.kernel != null) {\n        var comm_promise = google.colab.kernel.comms.open(comm_id)\n        comm_promise.then((comm) => {\n          window.PyViz.comms[comm_id] = comm;\n          if (msg_handler) {\n            var messages = comm.messages[Symbol.asyncIterator]();\n            function processIteratorResult(result) {\n              var message = result.value;\n              var content = {data: message.data};\n              var metadata = message.metadata || {comm_id};\n              var msg = {content, metadata}\n              msg_handler(msg);\n              return messages.next().then(processIteratorResult);\n            }\n            return messages.next().then(processIteratorResult);\n          }\n        }) \n        var sendClosure = (data, metadata, buffers, disposeOnDone) => {\n          return comm_promise.then((comm) => {\n            comm.send(data, metadata, buffers, disposeOnDone);\n          });\n        };\n        var comm = {\n          send: sendClosure\n        };\n      }\n      window.PyViz.comms[comm_id] = comm;\n      return comm;\n    }\n    window.PyViz.comm_manager = new JupyterCommManager();\n    \n\n\nvar JS_MIME_TYPE = 'application/javascript';\nvar HTML_MIME_TYPE = 'text/html';\nvar EXEC_MIME_TYPE = 'application/vnd.holoviews_exec.v0+json';\nvar CLASS_NAME = 'output';\n\n/**\n * Render data to the DOM node\n */\nfunction render(props, node) {\n  var div = document.createElement(\"div\");\n  var script = document.createElement(\"script\");\n  node.appendChild(div);\n  node.appendChild(script);\n}\n\n/**\n * Handle when a new output is added\n */\nfunction handle_add_output(event, handle) {\n  var output_area = handle.output_area;\n  var output = handle.output;\n  if ((output.data == undefined) || (!output.data.hasOwnProperty(EXEC_MIME_TYPE))) {\n    return\n  }\n  var id = output.metadata[EXEC_MIME_TYPE][\"id\"];\n  var toinsert = output_area.element.find(\".\" + CLASS_NAME.split(' ')[0]);\n  if (id !== undefined) {\n    var nchildren = toinsert.length;\n    var html_node = toinsert[nchildren-1].children[0];\n    html_node.innerHTML = output.data[HTML_MIME_TYPE];\n    var scripts = [];\n    var nodelist = html_node.querySelectorAll(\"script\");\n    for (var i in nodelist) {\n      if (nodelist.hasOwnProperty(i)) {\n        scripts.push(nodelist[i])\n      }\n    }\n\n    scripts.forEach( function (oldScript) {\n      var newScript = document.createElement(\"script\");\n      var attrs = [];\n      var nodemap = oldScript.attributes;\n      for (var j in nodemap) {\n        if (nodemap.hasOwnProperty(j)) {\n          attrs.push(nodemap[j])\n        }\n      }\n      attrs.forEach(function(attr) { newScript.setAttribute(attr.name, attr.value) });\n      newScript.appendChild(document.createTextNode(oldScript.innerHTML));\n      oldScript.parentNode.replaceChild(newScript, oldScript);\n    });\n    if (JS_MIME_TYPE in output.data) {\n      toinsert[nchildren-1].children[1].textContent = output.data[JS_MIME_TYPE];\n    }\n    output_area._hv_plot_id = id;\n    if ((window.Bokeh !== undefined) && (id in Bokeh.index)) {\n      window.PyViz.plot_index[id] = Bokeh.index[id];\n    } else {\n      window.PyViz.plot_index[id] = null;\n    }\n  } else if (output.metadata[EXEC_MIME_TYPE][\"server_id\"] !== undefined) {\n    var bk_div = document.createElement(\"div\");\n    bk_div.innerHTML = output.data[HTML_MIME_TYPE];\n    var script_attrs = bk_div.children[0].attributes;\n    for (var i = 0; i < script_attrs.length; i++) {\n      toinsert[toinsert.length - 1].childNodes[1].setAttribute(script_attrs[i].name, script_attrs[i].value);\n    }\n    // store reference to server id on output_area\n    output_area._bokeh_server_id = output.metadata[EXEC_MIME_TYPE][\"server_id\"];\n  }\n}\n\n/**\n * Handle when an output is cleared or removed\n */\nfunction handle_clear_output(event, handle) {\n  var id = handle.cell.output_area._hv_plot_id;\n  var server_id = handle.cell.output_area._bokeh_server_id;\n  if (((id === undefined) || !(id in PyViz.plot_index)) && (server_id !== undefined)) { return; }\n  var comm = window.PyViz.comm_manager.get_client_comm(\"hv-extension-comm\", \"hv-extension-comm\", function () {});\n  if (server_id !== null) {\n    comm.send({event_type: 'server_delete', 'id': server_id});\n    return;\n  } else if (comm !== null) {\n    comm.send({event_type: 'delete', 'id': id});\n  }\n  delete PyViz.plot_index[id];\n  if ((window.Bokeh !== undefined) & (id in window.Bokeh.index)) {\n    var doc = window.Bokeh.index[id].model.document\n    doc.clear();\n    const i = window.Bokeh.documents.indexOf(doc);\n    if (i > -1) {\n      window.Bokeh.documents.splice(i, 1);\n    }\n  }\n}\n\n/**\n * Handle kernel restart event\n */\nfunction handle_kernel_cleanup(event, handle) {\n  delete PyViz.comms[\"hv-extension-comm\"];\n  window.PyViz.plot_index = {}\n}\n\n/**\n * Handle update_display_data messages\n */\nfunction handle_update_output(event, handle) {\n  handle_clear_output(event, {cell: {output_area: handle.output_area}})\n  handle_add_output(event, handle)\n}\n\nfunction register_renderer(events, OutputArea) {\n  function append_mime(data, metadata, element) {\n    // create a DOM node to render to\n    var toinsert = this.create_output_subarea(\n    metadata,\n    CLASS_NAME,\n    EXEC_MIME_TYPE\n    );\n    this.keyboard_manager.register_events(toinsert);\n    // Render to node\n    var props = {data: data, metadata: metadata[EXEC_MIME_TYPE]};\n    render(props, toinsert[0]);\n    element.append(toinsert);\n    return toinsert\n  }\n\n  events.on('output_added.OutputArea', handle_add_output);\n  events.on('output_updated.OutputArea', handle_update_output);\n  events.on('clear_output.CodeCell', handle_clear_output);\n  events.on('delete.Cell', handle_clear_output);\n  events.on('kernel_ready.Kernel', handle_kernel_cleanup);\n\n  OutputArea.prototype.register_mime_type(EXEC_MIME_TYPE, append_mime, {\n    safe: true,\n    index: 0\n  });\n}\n\nif (window.Jupyter !== undefined) {\n  try {\n    var events = require('base/js/events');\n    var OutputArea = require('notebook/js/outputarea').OutputArea;\n    if (OutputArea.prototype.mime_types().indexOf(EXEC_MIME_TYPE) == -1) {\n      register_renderer(events, OutputArea);\n    }\n  } catch(err) {\n  }\n}\n",
      "application/vnd.holoviews_load.v0+json": ""
     },
     "metadata": {},
     "output_type": "display_data"
    },
    {
     "data": {
      "text/html": [
       "<style>*[data-root-id],\n",
       "*[data-root-id] > * {\n",
       "  box-sizing: border-box;\n",
       "  font-family: var(--jp-ui-font-family);\n",
       "  font-size: var(--jp-ui-font-size1);\n",
       "  color: var(--vscode-editor-foreground, var(--jp-ui-font-color1));\n",
       "}\n",
       "\n",
       "/* Override VSCode background color */\n",
       ".cell-output-ipywidget-background:has(\n",
       "    > .cell-output-ipywidget-background > .lm-Widget > *[data-root-id]\n",
       "  ),\n",
       ".cell-output-ipywidget-background:has(> .lm-Widget > *[data-root-id]) {\n",
       "  background-color: transparent !important;\n",
       "}\n",
       "</style>"
      ]
     },
     "metadata": {},
     "output_type": "display_data"
    },
    {
     "data": {
      "application/vnd.holoviews_exec.v0+json": "",
      "text/html": [
       "<div id='f4ec43dc-6fac-4284-8ce7-c61565745554'>\n",
       "  <div id=\"d2451a30-4d34-48e4-81d1-6cd23e41d56f\" data-root-id=\"f4ec43dc-6fac-4284-8ce7-c61565745554\" style=\"display: contents;\"></div>\n",
       "</div>\n",
       "<script type=\"application/javascript\">(function(root) {\n",
       "  var docs_json = {\"11665c79-8947-451c-be92-ff80b2163d18\":{\"version\":\"3.3.2\",\"title\":\"Bokeh Application\",\"roots\":[{\"type\":\"object\",\"name\":\"panel.models.browser.BrowserInfo\",\"id\":\"f4ec43dc-6fac-4284-8ce7-c61565745554\"},{\"type\":\"object\",\"name\":\"panel.models.comm_manager.CommManager\",\"id\":\"9f697dad-98c2-4a21-8966-1b69a67a6aab\",\"attributes\":{\"plot_id\":\"f4ec43dc-6fac-4284-8ce7-c61565745554\",\"comm_id\":\"a09e720474754da08e3ca58e2386091c\",\"client_comm_id\":\"2853e1f748444a2fb6ec81e70e8cedd1\"}}],\"defs\":[{\"type\":\"model\",\"name\":\"ReactiveHTML1\"},{\"type\":\"model\",\"name\":\"FlexBox1\",\"properties\":[{\"name\":\"align_content\",\"kind\":\"Any\",\"default\":\"flex-start\"},{\"name\":\"align_items\",\"kind\":\"Any\",\"default\":\"flex-start\"},{\"name\":\"flex_direction\",\"kind\":\"Any\",\"default\":\"row\"},{\"name\":\"flex_wrap\",\"kind\":\"Any\",\"default\":\"wrap\"},{\"name\":\"justify_content\",\"kind\":\"Any\",\"default\":\"flex-start\"}]},{\"type\":\"model\",\"name\":\"FloatPanel1\",\"properties\":[{\"name\":\"config\",\"kind\":\"Any\",\"default\":{\"type\":\"map\"}},{\"name\":\"contained\",\"kind\":\"Any\",\"default\":true},{\"name\":\"position\",\"kind\":\"Any\",\"default\":\"right-top\"},{\"name\":\"offsetx\",\"kind\":\"Any\",\"default\":null},{\"name\":\"offsety\",\"kind\":\"Any\",\"default\":null},{\"name\":\"theme\",\"kind\":\"Any\",\"default\":\"primary\"},{\"name\":\"status\",\"kind\":\"Any\",\"default\":\"normalized\"}]},{\"type\":\"model\",\"name\":\"GridStack1\",\"properties\":[{\"name\":\"mode\",\"kind\":\"Any\",\"default\":\"warn\"},{\"name\":\"ncols\",\"kind\":\"Any\",\"default\":null},{\"name\":\"nrows\",\"kind\":\"Any\",\"default\":null},{\"name\":\"allow_resize\",\"kind\":\"Any\",\"default\":true},{\"name\":\"allow_drag\",\"kind\":\"Any\",\"default\":true},{\"name\":\"state\",\"kind\":\"Any\",\"default\":[]}]},{\"type\":\"model\",\"name\":\"drag1\",\"properties\":[{\"name\":\"slider_width\",\"kind\":\"Any\",\"default\":5},{\"name\":\"slider_color\",\"kind\":\"Any\",\"default\":\"black\"},{\"name\":\"value\",\"kind\":\"Any\",\"default\":50}]},{\"type\":\"model\",\"name\":\"click1\",\"properties\":[{\"name\":\"terminal_output\",\"kind\":\"Any\",\"default\":\"\"},{\"name\":\"debug_name\",\"kind\":\"Any\",\"default\":\"\"},{\"name\":\"clears\",\"kind\":\"Any\",\"default\":0}]},{\"type\":\"model\",\"name\":\"copy_to_clipboard1\",\"properties\":[{\"name\":\"fill\",\"kind\":\"Any\",\"default\":\"none\"},{\"name\":\"value\",\"kind\":\"Any\",\"default\":null}]},{\"type\":\"model\",\"name\":\"FastWrapper1\",\"properties\":[{\"name\":\"object\",\"kind\":\"Any\",\"default\":null},{\"name\":\"style\",\"kind\":\"Any\",\"default\":null}]},{\"type\":\"model\",\"name\":\"NotificationAreaBase1\",\"properties\":[{\"name\":\"js_events\",\"kind\":\"Any\",\"default\":{\"type\":\"map\"}},{\"name\":\"position\",\"kind\":\"Any\",\"default\":\"bottom-right\"},{\"name\":\"_clear\",\"kind\":\"Any\",\"default\":0}]},{\"type\":\"model\",\"name\":\"NotificationArea1\",\"properties\":[{\"name\":\"js_events\",\"kind\":\"Any\",\"default\":{\"type\":\"map\"}},{\"name\":\"notifications\",\"kind\":\"Any\",\"default\":[]},{\"name\":\"position\",\"kind\":\"Any\",\"default\":\"bottom-right\"},{\"name\":\"_clear\",\"kind\":\"Any\",\"default\":0},{\"name\":\"types\",\"kind\":\"Any\",\"default\":[{\"type\":\"map\",\"entries\":[[\"type\",\"warning\"],[\"background\",\"#ffc107\"],[\"icon\",{\"type\":\"map\",\"entries\":[[\"className\",\"fas fa-exclamation-triangle\"],[\"tagName\",\"i\"],[\"color\",\"white\"]]}]]},{\"type\":\"map\",\"entries\":[[\"type\",\"info\"],[\"background\",\"#007bff\"],[\"icon\",{\"type\":\"map\",\"entries\":[[\"className\",\"fas fa-info-circle\"],[\"tagName\",\"i\"],[\"color\",\"white\"]]}]]}]}]},{\"type\":\"model\",\"name\":\"Notification\",\"properties\":[{\"name\":\"background\",\"kind\":\"Any\",\"default\":null},{\"name\":\"duration\",\"kind\":\"Any\",\"default\":3000},{\"name\":\"icon\",\"kind\":\"Any\",\"default\":null},{\"name\":\"message\",\"kind\":\"Any\",\"default\":\"\"},{\"name\":\"notification_type\",\"kind\":\"Any\",\"default\":null},{\"name\":\"_destroyed\",\"kind\":\"Any\",\"default\":false}]},{\"type\":\"model\",\"name\":\"TemplateActions1\",\"properties\":[{\"name\":\"open_modal\",\"kind\":\"Any\",\"default\":0},{\"name\":\"close_modal\",\"kind\":\"Any\",\"default\":0}]},{\"type\":\"model\",\"name\":\"BootstrapTemplateActions1\",\"properties\":[{\"name\":\"open_modal\",\"kind\":\"Any\",\"default\":0},{\"name\":\"close_modal\",\"kind\":\"Any\",\"default\":0}]},{\"type\":\"model\",\"name\":\"MaterialTemplateActions1\",\"properties\":[{\"name\":\"open_modal\",\"kind\":\"Any\",\"default\":0},{\"name\":\"close_modal\",\"kind\":\"Any\",\"default\":0}]}]}};\n",
       "  var render_items = [{\"docid\":\"11665c79-8947-451c-be92-ff80b2163d18\",\"roots\":{\"f4ec43dc-6fac-4284-8ce7-c61565745554\":\"d2451a30-4d34-48e4-81d1-6cd23e41d56f\"},\"root_ids\":[\"f4ec43dc-6fac-4284-8ce7-c61565745554\"]}];\n",
       "  var docs = Object.values(docs_json)\n",
       "  if (!docs) {\n",
       "    return\n",
       "  }\n",
       "  const py_version = docs[0].version.replace('rc', '-rc.').replace('.dev', '-dev.')\n",
       "  function embed_document(root) {\n",
       "    var Bokeh = get_bokeh(root)\n",
       "    Bokeh.embed.embed_items_notebook(docs_json, render_items);\n",
       "    for (const render_item of render_items) {\n",
       "      for (const root_id of render_item.root_ids) {\n",
       "\tconst id_el = document.getElementById(root_id)\n",
       "\tif (id_el.children.length && (id_el.children[0].className === 'bk-root')) {\n",
       "\t  const root_el = id_el.children[0]\n",
       "\t  root_el.id = root_el.id + '-rendered'\n",
       "\t}\n",
       "      }\n",
       "    }\n",
       "  }\n",
       "  function get_bokeh(root) {\n",
       "    if (root.Bokeh === undefined) {\n",
       "      return null\n",
       "    } else if (root.Bokeh.version !== py_version) {\n",
       "      if (root.Bokeh.versions === undefined || !root.Bokeh.versions.has(py_version)) {\n",
       "\treturn null\n",
       "      }\n",
       "      return root.Bokeh.versions.get(py_version);\n",
       "    } else if (root.Bokeh.version === py_version) {\n",
       "      return root.Bokeh\n",
       "    }\n",
       "    return null\n",
       "  }\n",
       "  function is_loaded(root) {\n",
       "    var Bokeh = get_bokeh(root)\n",
       "    return (Bokeh != null && Bokeh.Panel !== undefined)\n",
       "  }\n",
       "  if (is_loaded(root)) {\n",
       "    embed_document(root);\n",
       "  } else {\n",
       "    var attempts = 0;\n",
       "    var timer = setInterval(function(root) {\n",
       "      if (is_loaded(root)) {\n",
       "        clearInterval(timer);\n",
       "        embed_document(root);\n",
       "      } else if (document.readyState == \"complete\") {\n",
       "        attempts++;\n",
       "        if (attempts > 200) {\n",
       "          clearInterval(timer);\n",
       "\t  var Bokeh = get_bokeh(root)\n",
       "\t  if (Bokeh == null || Bokeh.Panel == null) {\n",
       "            console.warn(\"Panel: ERROR: Unable to run Panel code because Bokeh or Panel library is missing\");\n",
       "\t  } else {\n",
       "\t    console.warn(\"Panel: WARNING: Attempting to render but not all required libraries could be resolved.\")\n",
       "\t    embed_document(root)\n",
       "\t  }\n",
       "        }\n",
       "      }\n",
       "    }, 25, root)\n",
       "  }\n",
       "})(window);</script>"
      ]
     },
     "metadata": {
      "application/vnd.holoviews_exec.v0+json": {
       "id": "f4ec43dc-6fac-4284-8ce7-c61565745554"
      }
     },
     "output_type": "display_data"
    },
    {
     "data": {
      "application/javascript": "(function(root) {\n  function now() {\n    return new Date();\n  }\n\n  var force = true;\n  var py_version = '3.3.2'.replace('rc', '-rc.').replace('.dev', '-dev.');\n  var reloading = true;\n  var Bokeh = root.Bokeh;\n\n  if (typeof (root._bokeh_timeout) === \"undefined\" || force) {\n    root._bokeh_timeout = Date.now() + 5000;\n    root._bokeh_failed_load = false;\n  }\n\n  function run_callbacks() {\n    try {\n      root._bokeh_onload_callbacks.forEach(function(callback) {\n        if (callback != null)\n          callback();\n      });\n    } finally {\n      delete root._bokeh_onload_callbacks;\n    }\n    console.debug(\"Bokeh: all callbacks have finished\");\n  }\n\n  function load_libs(css_urls, js_urls, js_modules, js_exports, callback) {\n    if (css_urls == null) css_urls = [];\n    if (js_urls == null) js_urls = [];\n    if (js_modules == null) js_modules = [];\n    if (js_exports == null) js_exports = {};\n\n    root._bokeh_onload_callbacks.push(callback);\n\n    if (root._bokeh_is_loading > 0) {\n      console.debug(\"Bokeh: BokehJS is being loaded, scheduling callback at\", now());\n      return null;\n    }\n    if (js_urls.length === 0 && js_modules.length === 0 && Object.keys(js_exports).length === 0) {\n      run_callbacks();\n      return null;\n    }\n    if (!reloading) {\n      console.debug(\"Bokeh: BokehJS not loaded, scheduling load and callback at\", now());\n    }\n\n    function on_load() {\n      root._bokeh_is_loading--;\n      if (root._bokeh_is_loading === 0) {\n        console.debug(\"Bokeh: all BokehJS libraries/stylesheets loaded\");\n        run_callbacks()\n      }\n    }\n    window._bokeh_on_load = on_load\n\n    function on_error() {\n      console.error(\"failed to load \" + url);\n    }\n\n    var skip = [];\n    if (window.requirejs) {\n      window.requirejs.config({'packages': {}, 'paths': {'tabulator': 'https://cdn.jsdelivr.net/npm/tabulator-tables@5.5.0/dist/js/tabulator.min', 'moment': 'https://cdn.jsdelivr.net/npm/luxon/build/global/luxon.min', 'jspanel': 'https://cdn.jsdelivr.net/npm/jspanel4@4.12.0/dist/jspanel', 'jspanel-modal': 'https://cdn.jsdelivr.net/npm/jspanel4@4.12.0/dist/extensions/modal/jspanel.modal', 'jspanel-tooltip': 'https://cdn.jsdelivr.net/npm/jspanel4@4.12.0/dist/extensions/tooltip/jspanel.tooltip', 'jspanel-hint': 'https://cdn.jsdelivr.net/npm/jspanel4@4.12.0/dist/extensions/hint/jspanel.hint', 'jspanel-layout': 'https://cdn.jsdelivr.net/npm/jspanel4@4.12.0/dist/extensions/layout/jspanel.layout', 'jspanel-contextmenu': 'https://cdn.jsdelivr.net/npm/jspanel4@4.12.0/dist/extensions/contextmenu/jspanel.contextmenu', 'jspanel-dock': 'https://cdn.jsdelivr.net/npm/jspanel4@4.12.0/dist/extensions/dock/jspanel.dock', 'gridstack': 'https://cdn.jsdelivr.net/npm/gridstack@7.2.3/dist/gridstack-all', 'notyf': 'https://cdn.jsdelivr.net/npm/notyf@3/notyf.min'}, 'shim': {'jspanel': {'exports': 'jsPanel'}, 'gridstack': {'exports': 'GridStack'}}});\n      require([\"tabulator\"], function(Tabulator) {\n\twindow.Tabulator = Tabulator\n\ton_load()\n      })\n      require([\"moment\"], function(moment) {\n\twindow.moment = moment\n\ton_load()\n      })\n      require([\"jspanel\"], function(jsPanel) {\n\twindow.jsPanel = jsPanel\n\ton_load()\n      })\n      require([\"jspanel-modal\"], function() {\n\ton_load()\n      })\n      require([\"jspanel-tooltip\"], function() {\n\ton_load()\n      })\n      require([\"jspanel-hint\"], function() {\n\ton_load()\n      })\n      require([\"jspanel-layout\"], function() {\n\ton_load()\n      })\n      require([\"jspanel-contextmenu\"], function() {\n\ton_load()\n      })\n      require([\"jspanel-dock\"], function() {\n\ton_load()\n      })\n      require([\"gridstack\"], function(GridStack) {\n\twindow.GridStack = GridStack\n\ton_load()\n      })\n      require([\"notyf\"], function() {\n\ton_load()\n      })\n      root._bokeh_is_loading = css_urls.length + 11;\n    } else {\n      root._bokeh_is_loading = css_urls.length + js_urls.length + js_modules.length + Object.keys(js_exports).length;\n    }\n\n    var existing_stylesheets = []\n    var links = document.getElementsByTagName('link')\n    for (var i = 0; i < links.length; i++) {\n      var link = links[i]\n      if (link.href != null) {\n\texisting_stylesheets.push(link.href)\n      }\n    }\n    for (var i = 0; i < css_urls.length; i++) {\n      var url = css_urls[i];\n      if (existing_stylesheets.indexOf(url) !== -1) {\n\ton_load()\n\tcontinue;\n      }\n      const element = document.createElement(\"link\");\n      element.onload = on_load;\n      element.onerror = on_error;\n      element.rel = \"stylesheet\";\n      element.type = \"text/css\";\n      element.href = url;\n      console.debug(\"Bokeh: injecting link tag for BokehJS stylesheet: \", url);\n      document.body.appendChild(element);\n    }    if (((window['Tabulator'] !== undefined) && (!(window['Tabulator'] instanceof HTMLElement))) || window.requirejs) {\n      var urls = ['https://cdn.holoviz.org/panel/1.3.6/dist/bundled/datatabulator/tabulator-tables@5.5.0/dist/js/tabulator.min.js'];\n      for (var i = 0; i < urls.length; i++) {\n        skip.push(urls[i])\n      }\n    }    if (((window['moment'] !== undefined) && (!(window['moment'] instanceof HTMLElement))) || window.requirejs) {\n      var urls = ['https://cdn.holoviz.org/panel/1.3.6/dist/bundled/datatabulator/luxon/build/global/luxon.min.js'];\n      for (var i = 0; i < urls.length; i++) {\n        skip.push(urls[i])\n      }\n    }    if (((window['jsPanel'] !== undefined) && (!(window['jsPanel'] instanceof HTMLElement))) || window.requirejs) {\n      var urls = ['https://cdn.holoviz.org/panel/1.3.6/dist/bundled/floatpanel/jspanel4@4.12.0/dist/jspanel.js', 'https://cdn.holoviz.org/panel/1.3.6/dist/bundled/floatpanel/jspanel4@4.12.0/dist/extensions/modal/jspanel.modal.js', 'https://cdn.holoviz.org/panel/1.3.6/dist/bundled/floatpanel/jspanel4@4.12.0/dist/extensions/tooltip/jspanel.tooltip.js', 'https://cdn.holoviz.org/panel/1.3.6/dist/bundled/floatpanel/jspanel4@4.12.0/dist/extensions/hint/jspanel.hint.js', 'https://cdn.holoviz.org/panel/1.3.6/dist/bundled/floatpanel/jspanel4@4.12.0/dist/extensions/layout/jspanel.layout.js', 'https://cdn.holoviz.org/panel/1.3.6/dist/bundled/floatpanel/jspanel4@4.12.0/dist/extensions/contextmenu/jspanel.contextmenu.js', 'https://cdn.holoviz.org/panel/1.3.6/dist/bundled/floatpanel/jspanel4@4.12.0/dist/extensions/dock/jspanel.dock.js'];\n      for (var i = 0; i < urls.length; i++) {\n        skip.push(urls[i])\n      }\n    }    if (((window['GridStack'] !== undefined) && (!(window['GridStack'] instanceof HTMLElement))) || window.requirejs) {\n      var urls = ['https://cdn.holoviz.org/panel/1.3.6/dist/bundled/gridstack/gridstack@7.2.3/dist/gridstack-all.js'];\n      for (var i = 0; i < urls.length; i++) {\n        skip.push(urls[i])\n      }\n    }    if (((window['Notyf'] !== undefined) && (!(window['Notyf'] instanceof HTMLElement))) || window.requirejs) {\n      var urls = ['https://cdn.holoviz.org/panel/1.3.6/dist/bundled/notificationarea/notyf@3/notyf.min.js'];\n      for (var i = 0; i < urls.length; i++) {\n        skip.push(urls[i])\n      }\n    }    var existing_scripts = []\n    var scripts = document.getElementsByTagName('script')\n    for (var i = 0; i < scripts.length; i++) {\n      var script = scripts[i]\n      if (script.src != null) {\n\texisting_scripts.push(script.src)\n      }\n    }\n    for (var i = 0; i < js_urls.length; i++) {\n      var url = js_urls[i];\n      if (skip.indexOf(url) !== -1 || existing_scripts.indexOf(url) !== -1) {\n\tif (!window.requirejs) {\n\t  on_load();\n\t}\n\tcontinue;\n      }\n      var element = document.createElement('script');\n      element.onload = on_load;\n      element.onerror = on_error;\n      element.async = false;\n      element.src = url;\n      console.debug(\"Bokeh: injecting script tag for BokehJS library: \", url);\n      document.head.appendChild(element);\n    }\n    for (var i = 0; i < js_modules.length; i++) {\n      var url = js_modules[i];\n      if (skip.indexOf(url) !== -1 || existing_scripts.indexOf(url) !== -1) {\n\tif (!window.requirejs) {\n\t  on_load();\n\t}\n\tcontinue;\n      }\n      var element = document.createElement('script');\n      element.onload = on_load;\n      element.onerror = on_error;\n      element.async = false;\n      element.src = url;\n      element.type = \"module\";\n      console.debug(\"Bokeh: injecting script tag for BokehJS library: \", url);\n      document.head.appendChild(element);\n    }\n    for (const name in js_exports) {\n      var url = js_exports[name];\n      if (skip.indexOf(url) >= 0 || root[name] != null) {\n\tif (!window.requirejs) {\n\t  on_load();\n\t}\n\tcontinue;\n      }\n      var element = document.createElement('script');\n      element.onerror = on_error;\n      element.async = false;\n      element.type = \"module\";\n      console.debug(\"Bokeh: injecting script tag for BokehJS library: \", url);\n      element.textContent = `\n      import ${name} from \"${url}\"\n      window.${name} = ${name}\n      window._bokeh_on_load()\n      `\n      document.head.appendChild(element);\n    }\n    if (!js_urls.length && !js_modules.length) {\n      on_load()\n    }\n  };\n\n  function inject_raw_css(css) {\n    const element = document.createElement(\"style\");\n    element.appendChild(document.createTextNode(css));\n    document.body.appendChild(element);\n  }\n\n  var js_urls = [\"https://cdn.holoviz.org/panel/1.3.6/dist/bundled/datatabulator/tabulator-tables@5.5.0/dist/js/tabulator.min.js\", \"https://cdn.holoviz.org/panel/1.3.6/dist/bundled/datatabulator/luxon/build/global/luxon.min.js\"];\n  var js_modules = [];\n  var js_exports = {};\n  var css_urls = [\"https://cdn.holoviz.org/panel/1.3.6/dist/bundled/datatabulator/tabulator-tables@5.5.0/dist/css/tabulator_simple.min.css\"];\n  var inline_js = [    function(Bokeh) {\n      Bokeh.set_log_level(\"info\");\n    },\nfunction(Bokeh) {} // ensure no trailing comma for IE\n  ];\n\n  function run_inline_js() {\n    if ((root.Bokeh !== undefined) || (force === true)) {\n      for (var i = 0; i < inline_js.length; i++) {\n\ttry {\n          inline_js[i].call(root, root.Bokeh);\n\t} catch(e) {\n\t  if (!reloading) {\n\t    throw e;\n\t  }\n\t}\n      }\n      // Cache old bokeh versions\n      if (Bokeh != undefined && !reloading) {\n\tvar NewBokeh = root.Bokeh;\n\tif (Bokeh.versions === undefined) {\n\t  Bokeh.versions = new Map();\n\t}\n\tif (NewBokeh.version !== Bokeh.version) {\n\t  Bokeh.versions.set(NewBokeh.version, NewBokeh)\n\t}\n\troot.Bokeh = Bokeh;\n      }} else if (Date.now() < root._bokeh_timeout) {\n      setTimeout(run_inline_js, 100);\n    } else if (!root._bokeh_failed_load) {\n      console.log(\"Bokeh: BokehJS failed to load within specified timeout.\");\n      root._bokeh_failed_load = true;\n    }\n    root._bokeh_is_initializing = false\n  }\n\n  function load_or_wait() {\n    // Implement a backoff loop that tries to ensure we do not load multiple\n    // versions of Bokeh and its dependencies at the same time.\n    // In recent versions we use the root._bokeh_is_initializing flag\n    // to determine whether there is an ongoing attempt to initialize\n    // bokeh, however for backward compatibility we also try to ensure\n    // that we do not start loading a newer (Panel>=1.0 and Bokeh>3) version\n    // before older versions are fully initialized.\n    if (root._bokeh_is_initializing && Date.now() > root._bokeh_timeout) {\n      root._bokeh_is_initializing = false;\n      root._bokeh_onload_callbacks = undefined;\n      console.log(\"Bokeh: BokehJS was loaded multiple times but one version failed to initialize.\");\n      load_or_wait();\n    } else if (root._bokeh_is_initializing || (typeof root._bokeh_is_initializing === \"undefined\" && root._bokeh_onload_callbacks !== undefined)) {\n      setTimeout(load_or_wait, 100);\n    } else {\n      root._bokeh_is_initializing = true\n      root._bokeh_onload_callbacks = []\n      var bokeh_loaded = Bokeh != null && (Bokeh.version === py_version || (Bokeh.versions !== undefined && Bokeh.versions.has(py_version)));\n      if (!reloading && !bokeh_loaded) {\n\troot.Bokeh = undefined;\n      }\n      load_libs(css_urls, js_urls, js_modules, js_exports, function() {\n\tconsole.debug(\"Bokeh: BokehJS plotting callback run at\", now());\n\trun_inline_js();\n      });\n    }\n  }\n  // Give older versions of the autoload script a head-start to ensure\n  // they initialize before we start loading newer version.\n  setTimeout(load_or_wait, 100)\n}(window));",
      "application/vnd.holoviews_load.v0+json": ""
     },
     "metadata": {},
     "output_type": "display_data"
    },
    {
     "data": {
      "application/javascript": "\nif ((window.PyViz === undefined) || (window.PyViz instanceof HTMLElement)) {\n  window.PyViz = {comms: {}, comm_status:{}, kernels:{}, receivers: {}, plot_index: []}\n}\n\n\n    function JupyterCommManager() {\n    }\n\n    JupyterCommManager.prototype.register_target = function(plot_id, comm_id, msg_handler) {\n      if (window.comm_manager || ((window.Jupyter !== undefined) && (Jupyter.notebook.kernel != null))) {\n        var comm_manager = window.comm_manager || Jupyter.notebook.kernel.comm_manager;\n        comm_manager.register_target(comm_id, function(comm) {\n          comm.on_msg(msg_handler);\n        });\n      } else if ((plot_id in window.PyViz.kernels) && (window.PyViz.kernels[plot_id])) {\n        window.PyViz.kernels[plot_id].registerCommTarget(comm_id, function(comm) {\n          comm.onMsg = msg_handler;\n        });\n      } else if (typeof google != 'undefined' && google.colab.kernel != null) {\n        google.colab.kernel.comms.registerTarget(comm_id, (comm) => {\n          var messages = comm.messages[Symbol.asyncIterator]();\n          function processIteratorResult(result) {\n            var message = result.value;\n            console.log(message)\n            var content = {data: message.data, comm_id};\n            var buffers = []\n            for (var buffer of message.buffers || []) {\n              buffers.push(new DataView(buffer))\n            }\n            var metadata = message.metadata || {};\n            var msg = {content, buffers, metadata}\n            msg_handler(msg);\n            return messages.next().then(processIteratorResult);\n          }\n          return messages.next().then(processIteratorResult);\n        })\n      }\n    }\n\n    JupyterCommManager.prototype.get_client_comm = function(plot_id, comm_id, msg_handler) {\n      if (comm_id in window.PyViz.comms) {\n        return window.PyViz.comms[comm_id];\n      } else if (window.comm_manager || ((window.Jupyter !== undefined) && (Jupyter.notebook.kernel != null))) {\n        var comm_manager = window.comm_manager || Jupyter.notebook.kernel.comm_manager;\n        var comm = comm_manager.new_comm(comm_id, {}, {}, {}, comm_id);\n        if (msg_handler) {\n          comm.on_msg(msg_handler);\n        }\n      } else if ((plot_id in window.PyViz.kernels) && (window.PyViz.kernels[plot_id])) {\n        var comm = window.PyViz.kernels[plot_id].connectToComm(comm_id);\n        comm.open();\n        if (msg_handler) {\n          comm.onMsg = msg_handler;\n        }\n      } else if (typeof google != 'undefined' && google.colab.kernel != null) {\n        var comm_promise = google.colab.kernel.comms.open(comm_id)\n        comm_promise.then((comm) => {\n          window.PyViz.comms[comm_id] = comm;\n          if (msg_handler) {\n            var messages = comm.messages[Symbol.asyncIterator]();\n            function processIteratorResult(result) {\n              var message = result.value;\n              var content = {data: message.data};\n              var metadata = message.metadata || {comm_id};\n              var msg = {content, metadata}\n              msg_handler(msg);\n              return messages.next().then(processIteratorResult);\n            }\n            return messages.next().then(processIteratorResult);\n          }\n        }) \n        var sendClosure = (data, metadata, buffers, disposeOnDone) => {\n          return comm_promise.then((comm) => {\n            comm.send(data, metadata, buffers, disposeOnDone);\n          });\n        };\n        var comm = {\n          send: sendClosure\n        };\n      }\n      window.PyViz.comms[comm_id] = comm;\n      return comm;\n    }\n    window.PyViz.comm_manager = new JupyterCommManager();\n    \n\n\nvar JS_MIME_TYPE = 'application/javascript';\nvar HTML_MIME_TYPE = 'text/html';\nvar EXEC_MIME_TYPE = 'application/vnd.holoviews_exec.v0+json';\nvar CLASS_NAME = 'output';\n\n/**\n * Render data to the DOM node\n */\nfunction render(props, node) {\n  var div = document.createElement(\"div\");\n  var script = document.createElement(\"script\");\n  node.appendChild(div);\n  node.appendChild(script);\n}\n\n/**\n * Handle when a new output is added\n */\nfunction handle_add_output(event, handle) {\n  var output_area = handle.output_area;\n  var output = handle.output;\n  if ((output.data == undefined) || (!output.data.hasOwnProperty(EXEC_MIME_TYPE))) {\n    return\n  }\n  var id = output.metadata[EXEC_MIME_TYPE][\"id\"];\n  var toinsert = output_area.element.find(\".\" + CLASS_NAME.split(' ')[0]);\n  if (id !== undefined) {\n    var nchildren = toinsert.length;\n    var html_node = toinsert[nchildren-1].children[0];\n    html_node.innerHTML = output.data[HTML_MIME_TYPE];\n    var scripts = [];\n    var nodelist = html_node.querySelectorAll(\"script\");\n    for (var i in nodelist) {\n      if (nodelist.hasOwnProperty(i)) {\n        scripts.push(nodelist[i])\n      }\n    }\n\n    scripts.forEach( function (oldScript) {\n      var newScript = document.createElement(\"script\");\n      var attrs = [];\n      var nodemap = oldScript.attributes;\n      for (var j in nodemap) {\n        if (nodemap.hasOwnProperty(j)) {\n          attrs.push(nodemap[j])\n        }\n      }\n      attrs.forEach(function(attr) { newScript.setAttribute(attr.name, attr.value) });\n      newScript.appendChild(document.createTextNode(oldScript.innerHTML));\n      oldScript.parentNode.replaceChild(newScript, oldScript);\n    });\n    if (JS_MIME_TYPE in output.data) {\n      toinsert[nchildren-1].children[1].textContent = output.data[JS_MIME_TYPE];\n    }\n    output_area._hv_plot_id = id;\n    if ((window.Bokeh !== undefined) && (id in Bokeh.index)) {\n      window.PyViz.plot_index[id] = Bokeh.index[id];\n    } else {\n      window.PyViz.plot_index[id] = null;\n    }\n  } else if (output.metadata[EXEC_MIME_TYPE][\"server_id\"] !== undefined) {\n    var bk_div = document.createElement(\"div\");\n    bk_div.innerHTML = output.data[HTML_MIME_TYPE];\n    var script_attrs = bk_div.children[0].attributes;\n    for (var i = 0; i < script_attrs.length; i++) {\n      toinsert[toinsert.length - 1].childNodes[1].setAttribute(script_attrs[i].name, script_attrs[i].value);\n    }\n    // store reference to server id on output_area\n    output_area._bokeh_server_id = output.metadata[EXEC_MIME_TYPE][\"server_id\"];\n  }\n}\n\n/**\n * Handle when an output is cleared or removed\n */\nfunction handle_clear_output(event, handle) {\n  var id = handle.cell.output_area._hv_plot_id;\n  var server_id = handle.cell.output_area._bokeh_server_id;\n  if (((id === undefined) || !(id in PyViz.plot_index)) && (server_id !== undefined)) { return; }\n  var comm = window.PyViz.comm_manager.get_client_comm(\"hv-extension-comm\", \"hv-extension-comm\", function () {});\n  if (server_id !== null) {\n    comm.send({event_type: 'server_delete', 'id': server_id});\n    return;\n  } else if (comm !== null) {\n    comm.send({event_type: 'delete', 'id': id});\n  }\n  delete PyViz.plot_index[id];\n  if ((window.Bokeh !== undefined) & (id in window.Bokeh.index)) {\n    var doc = window.Bokeh.index[id].model.document\n    doc.clear();\n    const i = window.Bokeh.documents.indexOf(doc);\n    if (i > -1) {\n      window.Bokeh.documents.splice(i, 1);\n    }\n  }\n}\n\n/**\n * Handle kernel restart event\n */\nfunction handle_kernel_cleanup(event, handle) {\n  delete PyViz.comms[\"hv-extension-comm\"];\n  window.PyViz.plot_index = {}\n}\n\n/**\n * Handle update_display_data messages\n */\nfunction handle_update_output(event, handle) {\n  handle_clear_output(event, {cell: {output_area: handle.output_area}})\n  handle_add_output(event, handle)\n}\n\nfunction register_renderer(events, OutputArea) {\n  function append_mime(data, metadata, element) {\n    // create a DOM node to render to\n    var toinsert = this.create_output_subarea(\n    metadata,\n    CLASS_NAME,\n    EXEC_MIME_TYPE\n    );\n    this.keyboard_manager.register_events(toinsert);\n    // Render to node\n    var props = {data: data, metadata: metadata[EXEC_MIME_TYPE]};\n    render(props, toinsert[0]);\n    element.append(toinsert);\n    return toinsert\n  }\n\n  events.on('output_added.OutputArea', handle_add_output);\n  events.on('output_updated.OutputArea', handle_update_output);\n  events.on('clear_output.CodeCell', handle_clear_output);\n  events.on('delete.Cell', handle_clear_output);\n  events.on('kernel_ready.Kernel', handle_kernel_cleanup);\n\n  OutputArea.prototype.register_mime_type(EXEC_MIME_TYPE, append_mime, {\n    safe: true,\n    index: 0\n  });\n}\n\nif (window.Jupyter !== undefined) {\n  try {\n    var events = require('base/js/events');\n    var OutputArea = require('notebook/js/outputarea').OutputArea;\n    if (OutputArea.prototype.mime_types().indexOf(EXEC_MIME_TYPE) == -1) {\n      register_renderer(events, OutputArea);\n    }\n  } catch(err) {\n  }\n}\n",
      "application/vnd.holoviews_load.v0+json": ""
     },
     "metadata": {},
     "output_type": "display_data"
    },
    {
     "data": {
      "text/html": [
       "<style>*[data-root-id],\n",
       "*[data-root-id] > * {\n",
       "  box-sizing: border-box;\n",
       "  font-family: var(--jp-ui-font-family);\n",
       "  font-size: var(--jp-ui-font-size1);\n",
       "  color: var(--vscode-editor-foreground, var(--jp-ui-font-color1));\n",
       "}\n",
       "\n",
       "/* Override VSCode background color */\n",
       ".cell-output-ipywidget-background:has(\n",
       "    > .cell-output-ipywidget-background > .lm-Widget > *[data-root-id]\n",
       "  ),\n",
       ".cell-output-ipywidget-background:has(> .lm-Widget > *[data-root-id]) {\n",
       "  background-color: transparent !important;\n",
       "}\n",
       "</style>"
      ]
     },
     "metadata": {},
     "output_type": "display_data"
    },
    {
     "data": {
      "text/markdown": [
       "`aviary/examples/external_subsystems`"
      ],
      "text/plain": [
       "<IPython.core.display.Markdown object>"
      ]
     },
     "metadata": {
      "scrapbook": {
       "mime_prefix": "",
       "name": "aviary/examples/external_subsystems"
      }
     },
     "output_type": "display_data"
    },
    {
     "data": {
      "text/markdown": [
       "`battery`"
      ],
      "text/plain": [
       "<IPython.core.display.Markdown object>"
      ]
     },
     "metadata": {
      "scrapbook": {
       "mime_prefix": "",
       "name": "battery"
      }
     },
     "output_type": "display_data"
    },
    {
     "data": {
      "text/markdown": [
       "`simple_weight`"
      ],
      "text/plain": [
       "<IPython.core.display.Markdown object>"
      ]
     },
     "metadata": {
      "scrapbook": {
       "mime_prefix": "",
       "name": "simple_weight"
      }
     },
     "output_type": "display_data"
    },
    {
     "data": {
      "text/markdown": [
       "`Aircraft.Wing.MASS`"
      ],
      "text/plain": [
       "<IPython.core.display.Markdown object>"
      ]
     },
     "metadata": {
      "scrapbook": {
       "mime_prefix": "",
       "name": "Aircraft.Wing.MASS"
      }
     },
     "output_type": "display_data"
    },
    {
     "data": {
      "text/markdown": [
       "`Aircraft.HorizontalTail.MASS`"
      ],
      "text/plain": [
       "<IPython.core.display.Markdown object>"
      ]
     },
     "metadata": {
      "scrapbook": {
       "mime_prefix": "",
       "name": "Aircraft.HorizontalTail.MASS"
      }
     },
     "output_type": "display_data"
    },
    {
     "data": {
      "text/markdown": [
       "`aircraft_for_bench_FwFm.csv`"
      ],
      "text/plain": [
       "<IPython.core.display.Markdown object>"
      ]
     },
     "metadata": {
      "scrapbook": {
       "mime_prefix": "",
       "name": "aircraft_for_bench_FwFm.csv"
      }
     },
     "output_type": "display_data"
    }
   ],
   "source": [
    "# Testing Cell\n",
    "import aviary.api as av\n",
    "from aviary.utils.functions import get_model, get_path\n",
    "from aviary.utils.doctape import glue_variable, get_variable_name\n",
    "from aviary.api import Aircraft\n",
    "\n",
    "path = get_path('examples/external_subsystems').relative_to(av.top_dir.parent)\n",
    "glue_variable(path, md_code=True)\n",
    "path = get_path('examples/external_subsystems/battery')\n",
    "glue_variable(path.stem, md_code=True)\n",
    "path = get_path('examples/external_subsystems/simple_weight')\n",
    "glue_variable(path.stem, md_code=True)\n",
    "\n",
    "glue_variable(get_variable_name(Aircraft.Wing.MASS), md_code=True)\n",
    "glue_variable(get_variable_name(Aircraft.HorizontalTail.MASS), md_code=True)\n",
    "\n",
    "aircraft_csv_file = 'aircraft_for_bench_FwFm.csv'\n",
    "get_model(aircraft_csv_file)\n",
    "glue_variable(aircraft_csv_file, md_code=True)\n"
   ]
  },
  {
   "cell_type": "markdown",
   "id": "2f17ec04",
   "metadata": {},
   "source": [
    "## Adding simple_weight subsystems\n",
    "\n",
    "Currently, there are a couple of examples: {glue:md}`battery` and {glue:md}`simple_weight`. Let us take a look at {glue:md}`simple_weight` first. As shown in this example, this is a simplified example of a component that computes a weight for the wing and horizontal tail. It does not provide realistic computations but rough estimates to {glue:md}`Aircraft.Wing.MASS` and {glue:md}`Aircraft.HorizontalTail.MASS`. When this external subsystem is added to your pre-mission phase, Aviary will compute these weights in its core subsystem as usual, but then the wing mass and tail mass values will be overridden by this external subsytem.\n",
    "\n",
    "In [level 2](onboarding_level2), we have briefly covered how to add external subsystems in {glue:md}`phase_info`. Alternatively, external subsystems (and any other new keys) can be added after a {glue:md}`phase_info` is loaded. Let us see how it works using the {glue:md}`aircraft_for_bench_FwFm.csv` model. First, we import this particular external subsystem.\n",
    "\n",
    "Then add this external subsystem to `pre_mission`.\n",
    "That is all you need to do in addition to our traditional level 2 examples. Here is the complete run script,"
   ]
  },
  {
   "cell_type": "code",
   "execution_count": null,
   "id": "a32983eb",
   "metadata": {
    "tags": [
     "remove-cell"
    ]
   },
   "outputs": [],
   "source": [
    "# Testing Cell\n",
    "import aviary.api as av\n",
    "from aviary.api import Aircraft\n",
    "from aviary.utils.doctape import check_value, glue_variable\n",
    "\n",
    "Aircraft.Wing.MASS;\n",
    "Aircraft.HorizontalTail.MASS;\n",
    "\n",
    "check_value(av.EquationsOfMotion.HEIGHT_ENERGY.value, 'height_energy')\n",
    "glue_variable(av.EquationsOfMotion.HEIGHT_ENERGY.value, md_code=False)\n"
   ]
  },
  {
   "cell_type": "code",
   "execution_count": null,
   "id": "527dc20b",
   "metadata": {},
   "outputs": [],
   "source": [
    "from copy import deepcopy\n",
    "from aviary.api import Aircraft\n",
    "import aviary.api as av\n",
    "\n",
    "from aviary.examples.external_subsystems.simple_weight.simple_weight_builder import WingWeightBuilder\n",
    "\n",
    "# Max iterations set to 1 to reduce runtime of example\n",
    "max_iter = 1\n",
    "phase_info = deepcopy(av.default_height_energy_phase_info)\n",
    "# Here we just add the simple weight system to only the pre-mission\n",
    "phase_info['pre_mission']['external_subsystems'] = [WingWeightBuilder(name='wing_external')]\n",
    "\n",
    "prob = av.AviaryProblem()\n",
    "\n",
    "# Load aircraft and options data from user\n",
    "# Allow for user overrides here\n",
    "prob.load_inputs('models/test_aircraft/aircraft_for_bench_FwFm.csv', phase_info)\n",
    "\n",
    "# Have checks for clashing user inputs\n",
    "# Raise warnings or errors depending on how clashing the issues are\n",
    "prob.check_and_preprocess_inputs()\n",
    "\n",
    "prob.add_pre_mission_systems()\n",
    "\n",
    "prob.add_phases()\n",
    "\n",
    "prob.add_post_mission_systems()\n",
    "\n",
    "# Link phases and variables\n",
    "prob.link_phases()\n",
    "\n",
    "prob.add_driver('SLSQP', max_iter)\n",
    "\n",
    "prob.add_design_variables()\n",
    "\n",
    "prob.add_objective()\n",
    "\n",
    "prob.setup()\n",
    "\n",
    "prob.set_initial_guesses()\n",
    "\n",
    "prob.run_aviary_problem(suppress_solver_print=True)\n",
    "\n",
    "print('Engine Mass', prob.get_val(av.Aircraft.Engine.MASS))\n",
    "print('Wing Mass', prob.get_val(av.Aircraft.Wing.MASS))\n",
    "print('Horizontal Tail Mass', prob.get_val(av.Aircraft.HorizontalTail.MASS))"
   ]
  },
  {
   "cell_type": "markdown",
   "id": "3b1d3838",
   "metadata": {},
   "source": [
    "Ignore the intermediate warning messages and you see the outputs at the end.\n",
    "Since this is a {glue:md}`height_energy` mission and no objective is provided, we know that the objective is `fuel_burned`.\n",
    "\n",
    "To see the outputs without external subsystem add-on, let us comment out the lines that add the wing weight builder and run the modified script:"
   ]
  },
  {
   "cell_type": "code",
   "execution_count": null,
   "id": "294128d6",
   "metadata": {},
   "outputs": [],
   "source": [
    "# # Here we just add the simple weight system to only the pre-mission\n",
    "# phase_info['pre_mission']['external_subsystems'] = [WingWeightBuilder(name='wing_external')]\n",
    "\n",
    "# Max iterations set to 1 to reduce runtime of example\n",
    "max_iter = 1\n",
    "prob = av.AviaryProblem()\n",
    "\n",
    "# Load aircraft and options data from user\n",
    "# Allow for user overrides here\n",
    "prob.load_inputs('models/test_aircraft/aircraft_for_bench_FwFm.csv', av.default_height_energy_phase_info)\n",
    "\n",
    "# Have checks for clashing user inputs\n",
    "# Raise warnings or errors depending on how clashing the issues are\n",
    "prob.check_and_preprocess_inputs()\n",
    "\n",
    "prob.add_pre_mission_systems()\n",
    "\n",
    "prob.add_phases()\n",
    "\n",
    "prob.add_post_mission_systems()\n",
    "\n",
    "# Link phases and variables\n",
    "prob.link_phases()\n",
    "\n",
    "prob.add_driver('SLSQP', max_iter)\n",
    "\n",
    "prob.add_design_variables()\n",
    "\n",
    "prob.add_objective()\n",
    "\n",
    "prob.setup()\n",
    "\n",
    "prob.set_initial_guesses()\n",
    "\n",
    "prob.run_aviary_problem(suppress_solver_print=True)\n",
    "\n",
    "print('Engine Mass', prob.get_val(Aircraft.Engine.MASS))\n",
    "print('Wing Mass', prob.get_val(Aircraft.Wing.MASS))\n",
    "print('Horizontal Tail Mass', prob.get_val(Aircraft.HorizontalTail.MASS))"
   ]
  },
  {
   "cell_type": "markdown",
   "id": "7df25fe0",
   "metadata": {},
   "source": [
    "As we see, the engine mass is not altered but wing mass and tail mass are changed dramatically. This is not surprising because our {glue:md}`simple_weight` subsystem is quite simple. Later on, we will show you a more realistic wing weight external subsystem."
   ]
  },
  {
   "cell_type": "code",
   "execution_count": null,
   "id": "d8ec009f",
   "metadata": {
    "tags": [
     "remove-cell"
    ]
   },
   "outputs": [],
   "source": [
    "# Testing Cell\n",
    "import inspect\n",
    "from aviary.interface.methods_for_level2 import AviaryProblem\n",
    "from aviary.utils.doctape import check_contains, glue_function_arguments\n",
    "\n",
    "imported_functions = {k for k, v in inspect.getmembers(AviaryProblem, inspect.isfunction)}\n",
    "check_contains(['__init__', \n",
    "                'load_inputs',\n",
    "                 'check_and_preprocess_inputs',\n",
    "                 'add_pre_mission_systems',\n",
    "                 'add_phases',\n",
    "                 'add_post_mission_systems',\n",
    "                 'link_phases',\n",
    "                 'add_driver',\n",
    "                 'add_design_variables',\n",
    "                 'add_objective',\n",
    "                 'setup',\n",
    "                 'set_initial_guesses',\n",
    "                 'run_aviary_problem'], imported_functions)\n",
    "\n",
    "# Retrieve all augments from add_driver()\n",
    "glue_function_arguments(AviaryProblem.add_driver, current_glued_vars, md_code=True)\n"
   ]
  },
  {
   "cell_type": "code",
   "execution_count": 2,
   "id": "f5dcecf3",
   "metadata": {
    "tags": [
     "remove-output"
    ]
   },
   "outputs": [
    {
     "data": {
      "text/markdown": [
       "__getitem__()"
      ],
      "text/plain": [
       "<IPython.core.display.Markdown object>"
      ]
     },
     "metadata": {
      "scrapbook": {
       "mime_prefix": "",
       "name": "__getitem__()"
      }
     },
     "output_type": "display_data"
    },
    {
     "data": {
      "text/markdown": [
       "__init__()"
      ],
      "text/plain": [
       "<IPython.core.display.Markdown object>"
      ]
     },
     "metadata": {
      "scrapbook": {
       "mime_prefix": "",
       "name": "__init__()"
      }
     },
     "output_type": "display_data"
    },
    {
     "data": {
      "text/markdown": [
       "__setitem__()"
      ],
      "text/plain": [
       "<IPython.core.display.Markdown object>"
      ]
     },
     "metadata": {
      "scrapbook": {
       "mime_prefix": "",
       "name": "__setitem__()"
      }
     },
     "output_type": "display_data"
    },
    {
     "data": {
      "text/markdown": [
       "_add_bus_variables_and_connect()"
      ],
      "text/plain": [
       "<IPython.core.display.Markdown object>"
      ]
     },
     "metadata": {
      "scrapbook": {
       "mime_prefix": "",
       "name": "_add_bus_variables_and_connect()"
      }
     },
     "output_type": "display_data"
    },
    {
     "data": {
      "text/markdown": [
       "_add_fuel_reserve_component()"
      ],
      "text/plain": [
       "<IPython.core.display.Markdown object>"
      ]
     },
     "metadata": {
      "scrapbook": {
       "mime_prefix": "",
       "name": "_add_fuel_reserve_component()"
      }
     },
     "output_type": "display_data"
    },
    {
     "data": {
      "text/markdown": [
       "_add_groundroll_eq_constraint()"
      ],
      "text/plain": [
       "<IPython.core.display.Markdown object>"
      ]
     },
     "metadata": {
      "scrapbook": {
       "mime_prefix": "",
       "name": "_add_groundroll_eq_constraint()"
      }
     },
     "output_type": "display_data"
    },
    {
     "data": {
      "text/markdown": [
       "_add_guesses()"
      ],
      "text/plain": [
       "<IPython.core.display.Markdown object>"
      ]
     },
     "metadata": {
      "scrapbook": {
       "mime_prefix": "",
       "name": "_add_guesses()"
      }
     },
     "output_type": "display_data"
    },
    {
     "data": {
      "text/markdown": [
       "_add_height_energy_landing_systems()"
      ],
      "text/plain": [
       "<IPython.core.display.Markdown object>"
      ]
     },
     "metadata": {
      "scrapbook": {
       "mime_prefix": "",
       "name": "_add_height_energy_landing_systems()"
      }
     },
     "output_type": "display_data"
    },
    {
     "data": {
      "text/markdown": [
       "_add_height_energy_takeoff_systems()"
      ],
      "text/plain": [
       "<IPython.core.display.Markdown object>"
      ]
     },
     "metadata": {
      "scrapbook": {
       "mime_prefix": "",
       "name": "_add_height_energy_takeoff_systems()"
      }
     },
     "output_type": "display_data"
    },
    {
     "data": {
      "text/markdown": [
       "_add_hybrid_objective()"
      ],
      "text/plain": [
       "<IPython.core.display.Markdown object>"
      ]
     },
     "metadata": {
      "scrapbook": {
       "mime_prefix": "",
       "name": "_add_hybrid_objective()"
      }
     },
     "output_type": "display_data"
    },
    {
     "data": {
      "text/markdown": [
       "_add_objectives()"
      ],
      "text/plain": [
       "<IPython.core.display.Markdown object>"
      ]
     },
     "metadata": {
      "scrapbook": {
       "mime_prefix": "",
       "name": "_add_objectives()"
      }
     },
     "output_type": "display_data"
    },
    {
     "data": {
      "text/markdown": [
       "_add_post_mission_takeoff_systems()"
      ],
      "text/plain": [
       "<IPython.core.display.Markdown object>"
      ]
     },
     "metadata": {
      "scrapbook": {
       "mime_prefix": "",
       "name": "_add_post_mission_takeoff_systems()"
      }
     },
     "output_type": "display_data"
    },
    {
     "data": {
      "text/markdown": [
       "_add_premission_external_subsystems()"
      ],
      "text/plain": [
       "<IPython.core.display.Markdown object>"
      ]
     },
     "metadata": {
      "scrapbook": {
       "mime_prefix": "",
       "name": "_add_premission_external_subsystems()"
      }
     },
     "output_type": "display_data"
    },
    {
     "data": {
      "text/markdown": [
       "_add_subsystem_guesses()"
      ],
      "text/plain": [
       "<IPython.core.display.Markdown object>"
      ]
     },
     "metadata": {
      "scrapbook": {
       "mime_prefix": "",
       "name": "_add_subsystem_guesses()"
      }
     },
     "output_type": "display_data"
    },
    {
     "data": {
      "text/markdown": [
       "_add_two_dof_landing_systems()"
      ],
      "text/plain": [
       "<IPython.core.display.Markdown object>"
      ]
     },
     "metadata": {
      "scrapbook": {
       "mime_prefix": "",
       "name": "_add_two_dof_landing_systems()"
      }
     },
     "output_type": "display_data"
    },
    {
     "data": {
      "text/markdown": [
       "_add_two_dof_takeoff_systems()"
      ],
      "text/plain": [
       "<IPython.core.display.Markdown object>"
      ]
     },
     "metadata": {
      "scrapbook": {
       "mime_prefix": "",
       "name": "_add_two_dof_takeoff_systems()"
      }
     },
     "output_type": "display_data"
    },
    {
     "data": {
      "text/markdown": [
       "_add_vrotate_comp()"
      ],
      "text/plain": [
       "<IPython.core.display.Markdown object>"
      ]
     },
     "metadata": {
      "scrapbook": {
       "mime_prefix": "",
       "name": "_add_vrotate_comp()"
      }
     },
     "output_type": "display_data"
    },
    {
     "data": {
      "text/markdown": [
       "_any_rank_has_saved_errors()"
      ],
      "text/plain": [
       "<IPython.core.display.Markdown object>"
      ]
     },
     "metadata": {
      "scrapbook": {
       "mime_prefix": "",
       "name": "_any_rank_has_saved_errors()"
      }
     },
     "output_type": "display_data"
    },
    {
     "data": {
      "text/markdown": [
       "_check_collected_errors()"
      ],
      "text/plain": [
       "<IPython.core.display.Markdown object>"
      ]
     },
     "metadata": {
      "scrapbook": {
       "mime_prefix": "",
       "name": "_check_collected_errors()"
      }
     },
     "output_type": "display_data"
    },
    {
     "data": {
      "text/markdown": [
       "_get_all_subsystems()"
      ],
      "text/plain": [
       "<IPython.core.display.Markdown object>"
      ]
     },
     "metadata": {
      "scrapbook": {
       "mime_prefix": "",
       "name": "_get_all_subsystems()"
      }
     },
     "output_type": "display_data"
    },
    {
     "data": {
      "text/markdown": [
       "_get_inst_id()"
      ],
      "text/plain": [
       "<IPython.core.display.Markdown object>"
      ]
     },
     "metadata": {
      "scrapbook": {
       "mime_prefix": "",
       "name": "_get_inst_id()"
      }
     },
     "output_type": "display_data"
    },
    {
     "data": {
      "text/markdown": [
       "_get_phase()"
      ],
      "text/plain": [
       "<IPython.core.display.Markdown object>"
      ]
     },
     "metadata": {
      "scrapbook": {
       "mime_prefix": "",
       "name": "_get_phase()"
      }
     },
     "output_type": "display_data"
    },
    {
     "data": {
      "text/markdown": [
       "_get_recorder_metadata()"
      ],
      "text/plain": [
       "<IPython.core.display.Markdown object>"
      ]
     },
     "metadata": {
      "scrapbook": {
       "mime_prefix": "",
       "name": "_get_recorder_metadata()"
      }
     },
     "output_type": "display_data"
    },
    {
     "data": {
      "text/markdown": [
       "_get_unique_saved_errors()"
      ],
      "text/plain": [
       "<IPython.core.display.Markdown object>"
      ]
     },
     "metadata": {
      "scrapbook": {
       "mime_prefix": "",
       "name": "_get_unique_saved_errors()"
      }
     },
     "output_type": "display_data"
    },
    {
     "data": {
      "text/markdown": [
       "_get_var_abs_name()"
      ],
      "text/plain": [
       "<IPython.core.display.Markdown object>"
      ]
     },
     "metadata": {
      "scrapbook": {
       "mime_prefix": "",
       "name": "_get_var_abs_name()"
      }
     },
     "output_type": "display_data"
    },
    {
     "data": {
      "text/markdown": [
       "_has_active_report()"
      ],
      "text/plain": [
       "<IPython.core.display.Markdown object>"
      ]
     },
     "metadata": {
      "scrapbook": {
       "mime_prefix": "",
       "name": "_has_active_report()"
      }
     },
     "output_type": "display_data"
    },
    {
     "data": {
      "text/markdown": [
       "_link_phases_helper_with_options()"
      ],
      "text/plain": [
       "<IPython.core.display.Markdown object>"
      ]
     },
     "metadata": {
      "scrapbook": {
       "mime_prefix": "",
       "name": "_link_phases_helper_with_options()"
      }
     },
     "output_type": "display_data"
    },
    {
     "data": {
      "text/markdown": [
       "_process_guess_var()"
      ],
      "text/plain": [
       "<IPython.core.display.Markdown object>"
      ]
     },
     "metadata": {
      "scrapbook": {
       "mime_prefix": "",
       "name": "_process_guess_var()"
      }
     },
     "output_type": "display_data"
    },
    {
     "data": {
      "text/markdown": [
       "_save_to_csv_file()"
      ],
      "text/plain": [
       "<IPython.core.display.Markdown object>"
      ]
     },
     "metadata": {
      "scrapbook": {
       "mime_prefix": "",
       "name": "_save_to_csv_file()"
      }
     },
     "output_type": "display_data"
    },
    {
     "data": {
      "text/markdown": [
       "_set_initial_conditions()"
      ],
      "text/plain": [
       "<IPython.core.display.Markdown object>"
      ]
     },
     "metadata": {
      "scrapbook": {
       "mime_prefix": "",
       "name": "_set_initial_conditions()"
      }
     },
     "output_type": "display_data"
    },
    {
     "data": {
      "text/markdown": [
       "_set_name()"
      ],
      "text/plain": [
       "<IPython.core.display.Markdown object>"
      ]
     },
     "metadata": {
      "scrapbook": {
       "mime_prefix": "",
       "name": "_set_name()"
      }
     },
     "output_type": "display_data"
    },
    {
     "data": {
      "text/markdown": [
       "_setup_recording()"
      ],
      "text/plain": [
       "<IPython.core.display.Markdown object>"
      ]
     },
     "metadata": {
      "scrapbook": {
       "mime_prefix": "",
       "name": "_setup_recording()"
      }
     },
     "output_type": "display_data"
    },
    {
     "data": {
      "text/markdown": [
       "_update_metadata_from_subsystems()"
      ],
      "text/plain": [
       "<IPython.core.display.Markdown object>"
      ]
     },
     "metadata": {
      "scrapbook": {
       "mime_prefix": "",
       "name": "_update_metadata_from_subsystems()"
      }
     },
     "output_type": "display_data"
    },
    {
     "data": {
      "text/markdown": [
       "_update_reports()"
      ],
      "text/plain": [
       "<IPython.core.display.Markdown object>"
      ]
     },
     "metadata": {
      "scrapbook": {
       "mime_prefix": "",
       "name": "_update_reports()"
      }
     },
     "output_type": "display_data"
    },
    {
     "data": {
      "text/markdown": [
       "_write_var_info_table()"
      ],
      "text/plain": [
       "<IPython.core.display.Markdown object>"
      ]
     },
     "metadata": {
      "scrapbook": {
       "mime_prefix": "",
       "name": "_write_var_info_table()"
      }
     },
     "output_type": "display_data"
    },
    {
     "data": {
      "text/markdown": [
       "add_design_variables()"
      ],
      "text/plain": [
       "<IPython.core.display.Markdown object>"
      ]
     },
     "metadata": {
      "scrapbook": {
       "mime_prefix": "",
       "name": "add_design_variables()"
      }
     },
     "output_type": "display_data"
    },
    {
     "data": {
      "text/markdown": [
       "add_driver()"
      ],
      "text/plain": [
       "<IPython.core.display.Markdown object>"
      ]
     },
     "metadata": {
      "scrapbook": {
       "mime_prefix": "",
       "name": "add_driver()"
      }
     },
     "output_type": "display_data"
    },
    {
     "data": {
      "text/markdown": [
       "add_objective()"
      ],
      "text/plain": [
       "<IPython.core.display.Markdown object>"
      ]
     },
     "metadata": {
      "scrapbook": {
       "mime_prefix": "",
       "name": "add_objective()"
      }
     },
     "output_type": "display_data"
    },
    {
     "data": {
      "text/markdown": [
       "add_phases()"
      ],
      "text/plain": [
       "<IPython.core.display.Markdown object>"
      ]
     },
     "metadata": {
      "scrapbook": {
       "mime_prefix": "",
       "name": "add_phases()"
      }
     },
     "output_type": "display_data"
    },
    {
     "data": {
      "text/markdown": [
       "add_post_mission_systems()"
      ],
      "text/plain": [
       "<IPython.core.display.Markdown object>"
      ]
     },
     "metadata": {
      "scrapbook": {
       "mime_prefix": "",
       "name": "add_post_mission_systems()"
      }
     },
     "output_type": "display_data"
    },
    {
     "data": {
      "text/markdown": [
       "add_pre_mission_systems()"
      ],
      "text/plain": [
       "<IPython.core.display.Markdown object>"
      ]
     },
     "metadata": {
      "scrapbook": {
       "mime_prefix": "",
       "name": "add_pre_mission_systems()"
      }
     },
     "output_type": "display_data"
    },
    {
     "data": {
      "text/markdown": [
       "add_recorder()"
      ],
      "text/plain": [
       "<IPython.core.display.Markdown object>"
      ]
     },
     "metadata": {
      "scrapbook": {
       "mime_prefix": "",
       "name": "add_recorder()"
      }
     },
     "output_type": "display_data"
    },
    {
     "data": {
      "text/markdown": [
       "alternate_mission()"
      ],
      "text/plain": [
       "<IPython.core.display.Markdown object>"
      ]
     },
     "metadata": {
      "scrapbook": {
       "mime_prefix": "",
       "name": "alternate_mission()"
      }
     },
     "output_type": "display_data"
    },
    {
     "data": {
      "text/markdown": [
       "check_and_preprocess_inputs()"
      ],
      "text/plain": [
       "<IPython.core.display.Markdown object>"
      ]
     },
     "metadata": {
      "scrapbook": {
       "mime_prefix": "",
       "name": "check_and_preprocess_inputs()"
      }
     },
     "output_type": "display_data"
    },
    {
     "data": {
      "text/markdown": [
       "check_config()"
      ],
      "text/plain": [
       "<IPython.core.display.Markdown object>"
      ]
     },
     "metadata": {
      "scrapbook": {
       "mime_prefix": "",
       "name": "check_config()"
      }
     },
     "output_type": "display_data"
    },
    {
     "data": {
      "text/markdown": [
       "check_partials()"
      ],
      "text/plain": [
       "<IPython.core.display.Markdown object>"
      ]
     },
     "metadata": {
      "scrapbook": {
       "mime_prefix": "",
       "name": "check_partials()"
      }
     },
     "output_type": "display_data"
    },
    {
     "data": {
      "text/markdown": [
       "check_totals()"
      ],
      "text/plain": [
       "<IPython.core.display.Markdown object>"
      ]
     },
     "metadata": {
      "scrapbook": {
       "mime_prefix": "",
       "name": "check_totals()"
      }
     },
     "output_type": "display_data"
    },
    {
     "data": {
      "text/markdown": [
       "cleanup()"
      ],
      "text/plain": [
       "<IPython.core.display.Markdown object>"
      ]
     },
     "metadata": {
      "scrapbook": {
       "mime_prefix": "",
       "name": "cleanup()"
      }
     },
     "output_type": "display_data"
    },
    {
     "data": {
      "text/markdown": [
       "compute_jacvec_product()"
      ],
      "text/plain": [
       "<IPython.core.display.Markdown object>"
      ]
     },
     "metadata": {
      "scrapbook": {
       "mime_prefix": "",
       "name": "compute_jacvec_product()"
      }
     },
     "output_type": "display_data"
    },
    {
     "data": {
      "text/markdown": [
       "compute_totals()"
      ],
      "text/plain": [
       "<IPython.core.display.Markdown object>"
      ]
     },
     "metadata": {
      "scrapbook": {
       "mime_prefix": "",
       "name": "compute_totals()"
      }
     },
     "output_type": "display_data"
    },
    {
     "data": {
      "text/markdown": [
       "fallout_mission()"
      ],
      "text/plain": [
       "<IPython.core.display.Markdown object>"
      ]
     },
     "metadata": {
      "scrapbook": {
       "mime_prefix": "",
       "name": "fallout_mission()"
      }
     },
     "output_type": "display_data"
    },
    {
     "data": {
      "text/markdown": [
       "final_setup()"
      ],
      "text/plain": [
       "<IPython.core.display.Markdown object>"
      ]
     },
     "metadata": {
      "scrapbook": {
       "mime_prefix": "",
       "name": "final_setup()"
      }
     },
     "output_type": "display_data"
    },
    {
     "data": {
      "text/markdown": [
       "get_coloring_dir()"
      ],
      "text/plain": [
       "<IPython.core.display.Markdown object>"
      ]
     },
     "metadata": {
      "scrapbook": {
       "mime_prefix": "",
       "name": "get_coloring_dir()"
      }
     },
     "output_type": "display_data"
    },
    {
     "data": {
      "text/markdown": [
       "get_outputs_dir()"
      ],
      "text/plain": [
       "<IPython.core.display.Markdown object>"
      ]
     },
     "metadata": {
      "scrapbook": {
       "mime_prefix": "",
       "name": "get_outputs_dir()"
      }
     },
     "output_type": "display_data"
    },
    {
     "data": {
      "text/markdown": [
       "get_reports_dir()"
      ],
      "text/plain": [
       "<IPython.core.display.Markdown object>"
      ]
     },
     "metadata": {
      "scrapbook": {
       "mime_prefix": "",
       "name": "get_reports_dir()"
      }
     },
     "output_type": "display_data"
    },
    {
     "data": {
      "text/markdown": [
       "get_total_coloring()"
      ],
      "text/plain": [
       "<IPython.core.display.Markdown object>"
      ]
     },
     "metadata": {
      "scrapbook": {
       "mime_prefix": "",
       "name": "get_total_coloring()"
      }
     },
     "output_type": "display_data"
    },
    {
     "data": {
      "text/markdown": [
       "get_val()"
      ],
      "text/plain": [
       "<IPython.core.display.Markdown object>"
      ]
     },
     "metadata": {
      "scrapbook": {
       "mime_prefix": "",
       "name": "get_val()"
      }
     },
     "output_type": "display_data"
    },
    {
     "data": {
      "text/markdown": [
       "is_local()"
      ],
      "text/plain": [
       "<IPython.core.display.Markdown object>"
      ]
     },
     "metadata": {
      "scrapbook": {
       "mime_prefix": "",
       "name": "is_local()"
      }
     },
     "output_type": "display_data"
    },
    {
     "data": {
      "text/markdown": [
       "iter_count_iter()"
      ],
      "text/plain": [
       "<IPython.core.display.Markdown object>"
      ]
     },
     "metadata": {
      "scrapbook": {
       "mime_prefix": "",
       "name": "iter_count_iter()"
      }
     },
     "output_type": "display_data"
    },
    {
     "data": {
      "text/markdown": [
       "link_phases()"
      ],
      "text/plain": [
       "<IPython.core.display.Markdown object>"
      ]
     },
     "metadata": {
      "scrapbook": {
       "mime_prefix": "",
       "name": "link_phases()"
      }
     },
     "output_type": "display_data"
    },
    {
     "data": {
      "text/markdown": [
       "list_driver_vars()"
      ],
      "text/plain": [
       "<IPython.core.display.Markdown object>"
      ]
     },
     "metadata": {
      "scrapbook": {
       "mime_prefix": "",
       "name": "list_driver_vars()"
      }
     },
     "output_type": "display_data"
    },
    {
     "data": {
      "text/markdown": [
       "list_indep_vars()"
      ],
      "text/plain": [
       "<IPython.core.display.Markdown object>"
      ]
     },
     "metadata": {
      "scrapbook": {
       "mime_prefix": "",
       "name": "list_indep_vars()"
      }
     },
     "output_type": "display_data"
    },
    {
     "data": {
      "text/markdown": [
       "list_pre_post()"
      ],
      "text/plain": [
       "<IPython.core.display.Markdown object>"
      ]
     },
     "metadata": {
      "scrapbook": {
       "mime_prefix": "",
       "name": "list_pre_post()"
      }
     },
     "output_type": "display_data"
    },
    {
     "data": {
      "text/markdown": [
       "list_problem_vars()"
      ],
      "text/plain": [
       "<IPython.core.display.Markdown object>"
      ]
     },
     "metadata": {
      "scrapbook": {
       "mime_prefix": "",
       "name": "list_problem_vars()"
      }
     },
     "output_type": "display_data"
    },
    {
     "data": {
      "text/markdown": [
       "load_case()"
      ],
      "text/plain": [
       "<IPython.core.display.Markdown object>"
      ]
     },
     "metadata": {
      "scrapbook": {
       "mime_prefix": "",
       "name": "load_case()"
      }
     },
     "output_type": "display_data"
    },
    {
     "data": {
      "text/markdown": [
       "load_inputs()"
      ],
      "text/plain": [
       "<IPython.core.display.Markdown object>"
      ]
     },
     "metadata": {
      "scrapbook": {
       "mime_prefix": "",
       "name": "load_inputs()"
      }
     },
     "output_type": "display_data"
    },
    {
     "data": {
      "text/markdown": [
       "phase_separator()"
      ],
      "text/plain": [
       "<IPython.core.display.Markdown object>"
      ]
     },
     "metadata": {
      "scrapbook": {
       "mime_prefix": "",
       "name": "phase_separator()"
      }
     },
     "output_type": "display_data"
    },
    {
     "data": {
      "text/markdown": [
       "record()"
      ],
      "text/plain": [
       "<IPython.core.display.Markdown object>"
      ]
     },
     "metadata": {
      "scrapbook": {
       "mime_prefix": "",
       "name": "record()"
      }
     },
     "output_type": "display_data"
    },
    {
     "data": {
      "text/markdown": [
       "run_aviary_problem()"
      ],
      "text/plain": [
       "<IPython.core.display.Markdown object>"
      ]
     },
     "metadata": {
      "scrapbook": {
       "mime_prefix": "",
       "name": "run_aviary_problem()"
      }
     },
     "output_type": "display_data"
    },
    {
     "data": {
      "text/markdown": [
       "run_driver()"
      ],
      "text/plain": [
       "<IPython.core.display.Markdown object>"
      ]
     },
     "metadata": {
      "scrapbook": {
       "mime_prefix": "",
       "name": "run_driver()"
      }
     },
     "output_type": "display_data"
    },
    {
     "data": {
      "text/markdown": [
       "run_model()"
      ],
      "text/plain": [
       "<IPython.core.display.Markdown object>"
      ]
     },
     "metadata": {
      "scrapbook": {
       "mime_prefix": "",
       "name": "run_model()"
      }
     },
     "output_type": "display_data"
    },
    {
     "data": {
      "text/markdown": [
       "save_sizing_to_json()"
      ],
      "text/plain": [
       "<IPython.core.display.Markdown object>"
      ]
     },
     "metadata": {
      "scrapbook": {
       "mime_prefix": "",
       "name": "save_sizing_to_json()"
      }
     },
     "output_type": "display_data"
    },
    {
     "data": {
      "text/markdown": [
       "set_complex_step_mode()"
      ],
      "text/plain": [
       "<IPython.core.display.Markdown object>"
      ]
     },
     "metadata": {
      "scrapbook": {
       "mime_prefix": "",
       "name": "set_complex_step_mode()"
      }
     },
     "output_type": "display_data"
    },
    {
     "data": {
      "text/markdown": [
       "set_initial_guesses()"
      ],
      "text/plain": [
       "<IPython.core.display.Markdown object>"
      ]
     },
     "metadata": {
      "scrapbook": {
       "mime_prefix": "",
       "name": "set_initial_guesses()"
      }
     },
     "output_type": "display_data"
    },
    {
     "data": {
      "text/markdown": [
       "set_solver_print()"
      ],
      "text/plain": [
       "<IPython.core.display.Markdown object>"
      ]
     },
     "metadata": {
      "scrapbook": {
       "mime_prefix": "",
       "name": "set_solver_print()"
      }
     },
     "output_type": "display_data"
    },
    {
     "data": {
      "text/markdown": [
       "set_val()"
      ],
      "text/plain": [
       "<IPython.core.display.Markdown object>"
      ]
     },
     "metadata": {
      "scrapbook": {
       "mime_prefix": "",
       "name": "set_val()"
      }
     },
     "output_type": "display_data"
    },
    {
     "data": {
      "text/markdown": [
       "setup()"
      ],
      "text/plain": [
       "<IPython.core.display.Markdown object>"
      ]
     },
     "metadata": {
      "scrapbook": {
       "mime_prefix": "",
       "name": "setup()"
      }
     },
     "output_type": "display_data"
    },
    {
     "data": {
      "text/markdown": [
       "climb"
      ],
      "text/plain": [
       "<IPython.core.display.Markdown object>"
      ]
     },
     "metadata": {
      "scrapbook": {
       "mime_prefix": "",
       "name": "climb"
      }
     },
     "output_type": "display_data"
    },
    {
     "data": {
      "text/markdown": [
       "cruise"
      ],
      "text/plain": [
       "<IPython.core.display.Markdown object>"
      ]
     },
     "metadata": {
      "scrapbook": {
       "mime_prefix": "",
       "name": "cruise"
      }
     },
     "output_type": "display_data"
    },
    {
     "data": {
      "text/markdown": [
       "descent"
      ],
      "text/plain": [
       "<IPython.core.display.Markdown object>"
      ]
     },
     "metadata": {
      "scrapbook": {
       "mime_prefix": "",
       "name": "descent"
      }
     },
     "output_type": "display_data"
    }
   ],
   "source": [
    "# Testing Cell\n",
    "from aviary.interface.methods_for_level2 import AviaryProblem\n",
    "from aviary.utils.doctape import glue_variable, glue_class_functions\n",
    "from aviary.interface.default_phase_info.height_energy import phase_info\n",
    "\n",
    "# Get all functions of class AviaryProblem\n",
    "glue_class_functions(AviaryProblem, [], md_code=False)\n",
    "\n",
    "# Retrieve all top-level keys of phase_info\n",
    "top_level_keys_list = [k for k in phase_info.keys() if k not in ('pre_mission','post_mission')]\n",
    "for key in top_level_keys_list:\n",
    "    glue_variable(key, md_code=False)\n"
   ]
  },
  {
   "cell_type": "markdown",
   "id": "8b725a39",
   "metadata": {},
   "source": [
    "## Adding battery subsystem\n",
    "\n",
    "In the above example, there is no new Aviary variable added to Aviary and the external subsystem is added to pre-mission only. So, the subsystem is not very involved. We will see a more complicated example now. Before we move on, let us recall the steps in Aviary model building:\n",
    "\n",
    "- **{glue:md}`__init__()`**\n",
    "- **{glue:md}`load_inputs()`**\n",
    "- **{glue:md}`check_and_preprocess_inputs()`**\n",
    "- **{glue:md}`add_pre_mission_systems()`**\n",
    "- **{glue:md}`add_phases()`**\n",
    "- **{glue:md}`add_post_mission_systems()`**\n",
    "- **{glue:md}`link_phases()`**\n",
    "- {glue:md}`add_driver()`\n",
    "- **{glue:md}`add_design_variables()`**\n",
    "- **{glue:md}`add_objective()`**\n",
    "- {glue:md}`setup()`\n",
    "- **{glue:md}`set_initial_guesses()`**\n",
    "- {glue:md}`run_aviary_problem()`\n",
    "\n",
    "The steps in bold are related specifically to subsystems. So, almost all of the steps involve subsystems. As long as your external subsystem is built based on the guidelines, Aviary will take care of your subsystem.\n",
    "\n",
    "The next example is the [battery subsystem](https://github.com/OpenMDAO/Aviary/blob/main/aviary/docs/user_guide/battery_subsystem_example). The battery subsystem provides methods to define the battery subsystem's states, design variables, fixed values, initial guesses, and mass names. It also provides methods to build OpenMDAO systems for the pre-mission and mission computations of the subsystem, to get the constraints for the subsystem, and to preprocess the inputs for the subsystem. This subsystem has its own set of variables. We will build an Aviary model with full phases (namely, {glue:md}`climb`, {glue:md}`cruise` and {glue:md}`descent`) and maximize the final total mass: {glue:md}`Dynamic.Vehicle.MASS`."
   ]
  },
  {
   "cell_type": "code",
   "execution_count": null,
   "id": "d48a499b",
   "metadata": {
    "tags": [
     "remove-cell"
    ]
   },
   "outputs": [],
   "source": [
    "# Testing Cell\n",
    "from aviary.api import Dynamic\n",
    "from aviary.examples.external_subsystems.battery.battery_builder import BatteryBuilder\n",
    "from aviary.utils.doctape import glue_variable\n",
    "\n",
    "glue_variable(BatteryBuilder.__name__, md_code=True)"
   ]
  },
  {
   "cell_type": "markdown",
   "id": "689d7dcb",
   "metadata": {},
   "source": [
    "We also need {glue:md}`BatteryBuilder` along with battery related aircraft variables and build a new battery object.\n",
    "Now, add our new battery subsystem into each phase including pre-mission:"
   ]
  },
  {
   "cell_type": "code",
   "execution_count": null,
   "id": "62013c65",
   "metadata": {},
   "outputs": [],
   "source": [
    "from aviary.examples.external_subsystems.battery.battery_builder import BatteryBuilder\n",
    "from aviary.examples.external_subsystems.battery.battery_variables import Aircraft\n",
    "from aviary.examples.external_subsystems.battery.battery_variable_meta_data import ExtendedMetaData\n",
    "\n",
    "battery_builder = BatteryBuilder(include_constraints=False)\n",
    "\n",
    "phase_info['pre_mission']['external_subsystems'] = [battery_builder]\n",
    "phase_info['climb']['external_subsystems'] = [battery_builder]\n",
    "phase_info['cruise']['external_subsystems'] = [battery_builder]\n",
    "phase_info['descent']['external_subsystems'] = [battery_builder]"
   ]
  },
  {
   "cell_type": "markdown",
   "id": "4ad934a5",
   "metadata": {},
   "source": [
    "Start an Aviary problem and load in an aircraft input deck:"
   ]
  },
  {
   "cell_type": "code",
   "execution_count": null,
   "id": "25d2ceb6",
   "metadata": {},
   "outputs": [],
   "source": [
    "prob = av.AviaryProblem()\n",
    "\n",
    "prob.load_inputs('models/test_aircraft/aircraft_for_bench_FwFm.csv',\n",
    "                 phase_info, meta_data=ExtendedMetaData)"
   ]
  },
  {
   "cell_type": "markdown",
   "id": "96ebdf23",
   "metadata": {},
   "source": [
    "Since this example contains new variables in the aircraft hierarchy, the metadata for those variables was added to an extended metadata dictionary. We need to pass that into load_inputs so that it can load susbsystem-specific inputs from the csv file."
   ]
  },
  {
   "cell_type": "markdown",
   "id": "e92d14c1",
   "metadata": {},
   "source": [
    "We can then check our inputs:"
   ]
  },
  {
   "cell_type": "code",
   "execution_count": null,
   "id": "7cf0222f",
   "metadata": {},
   "outputs": [],
   "source": [
    "# Have checks for clashing user inputs\n",
    "# Raise warnings or errors depending on severity of the issues\n",
    "prob.check_and_preprocess_inputs()"
   ]
  },
  {
   "cell_type": "markdown",
   "id": "e8e14515",
   "metadata": {},
   "source": [
    "In the battery subsystem, the type of battery cell we use is `18650`. This type of battery information is set in `preprocess_inputs()` within `examples/external_subsystems/batterybattery_builder.py`.\n",
    "\n",
    "### Checking in the setup function call\n",
    "\n",
    "The OpenMDAO Function {glue:md}`setup()` can have an argument `check` with default value `None` (see [here](https://openmdao.org/newdocs/versions/latest/features/core_features/running_your_models/setup.html)). If we set it to `True`, it will cause a default set of checks to be run. So, instead of a simple {glue:md}`setup()` call, let us call it with `check=True`.\n",
    "\n",
    "The following are a few check points printed on the command line:\n",
    "\n",
    "```\n",
    "INFO: checking out_of_order\n",
    "INFO: checking system\n",
    "INFO: checking solvers\n",
    "INFO: checking dup_inputs\n",
    "INFO: checking missing_recorders\n",
    "```\n"
   ]
  },
  {
   "cell_type": "code",
   "execution_count": null,
   "id": "00ca5a1f",
   "metadata": {},
   "outputs": [],
   "source": [
    "prob.add_pre_mission_systems()\n",
    "\n",
    "traj = prob.add_phases()\n",
    "\n",
    "prob.add_post_mission_systems()\n",
    "\n",
    "# Link phases and variables\n",
    "prob.link_phases()\n",
    "\n",
    "max_iter = 1\n",
    "prob.add_driver('SLSQP', max_iter)\n",
    "\n",
    "prob.add_design_variables()\n",
    "\n",
    "prob.add_objective('mass')\n",
    "\n",
    "prob.setup(check=True)\n",
    "\n",
    "prob.set_initial_guesses()\n",
    "\n",
    "prob.run_aviary_problem()\n",
    "\n",
    "# user defined outputs\n",
    "print('Battery MASS', prob.get_val(Aircraft.Battery.MASS))\n",
    "print('Cell Max', prob.get_val(Aircraft.Battery.Cell.MASS))\n",
    "masses_descent = prob.get_val('traj.descent.timeseries.mass', units='kg')\n",
    "print(f'Final Descent Mass: {masses_descent[-1]}')\n",
    "\n",
    "print('done')"
   ]
  },
  {
   "cell_type": "markdown",
   "id": "2fff1bd5",
   "metadata": {},
   "source": [
    "## More on outputs\n",
    "\n",
    "We are done with our model. For our current example, let us add a few more lines after the aviary run:"
   ]
  },
  {
   "cell_type": "code",
   "execution_count": null,
   "id": "8d376033",
   "metadata": {},
   "outputs": [],
   "source": [
    "print('Battery MASS', prob.get_val(Aircraft.Battery.MASS, units='lbm'))\n",
    "print('Cell Max', prob.get_val(Aircraft.Battery.Cell.MASS))"
   ]
  },
  {
   "cell_type": "code",
   "execution_count": null,
   "id": "45764df7",
   "metadata": {
    "tags": [
     "remove-cell"
    ]
   },
   "outputs": [],
   "source": [
    "# Testing Cell\n",
    "from aviary.utils.doctape import glue_variable, get_variable_name\n",
    "from aviary.api import Dynamic\n",
    "\n",
    "glue_variable(get_variable_name(Dynamic.Vehicle.MASS), md_code=True)\n"
   ]
  },
  {
   "cell_type": "markdown",
   "id": "ed8c764a",
   "metadata": {},
   "source": [
    "Since our objective is `mass`, we want to print the value of {glue:md}`Dynamic.Vehicle.MASS`. Remember, we have imported Dynamic from aviary.variable_info.variables for this purpose.\n",
    "\n",
    "So, we have to print the final mass in a different way. Keep in mind that we have three phases in the mission and that final mass is our objective. So, we can get the final mass of the descent phase instead. Let us try this approach. Let us comment out the print statement of final mass (and the import of Dynamic), then add the following lines:"
   ]
  },
  {
   "cell_type": "code",
   "execution_count": null,
   "id": "eed4e9cf",
   "metadata": {},
   "outputs": [],
   "source": [
    "masses_descent = prob.get_val('traj.descent.timeseries.mass', units='kg')\n",
    "print(f'Final Descent Mass: {masses_descent[-1]}')"
   ]
  },
  {
   "cell_type": "code",
   "execution_count": null,
   "id": "046ffc08",
   "metadata": {
    "tags": [
     "remove-cell"
    ]
   },
   "outputs": [],
   "source": [
    "# Testing Cell\n",
    "from aviary.examples.external_subsystems.battery.battery_builder import BatteryBuilder\n",
    "from aviary.examples.external_subsystems.battery.battery_variables import Mission\n",
    "from aviary.examples.external_subsystems.battery.battery_variable_meta_data import ExtendedMetaData\n",
    "from openmdao.utils.assert_utils import assert_near_equal\n",
    "battery_builder = BatteryBuilder(include_constraints=False)\n",
    "\n",
    "phase_info['pre_mission']['external_subsystems'] = [battery_builder]\n",
    "phase_info['climb']['external_subsystems'] = [battery_builder]\n",
    "phase_info['cruise']['external_subsystems'] = [battery_builder]\n",
    "phase_info['descent']['external_subsystems'] = [battery_builder]\n",
    "\n",
    "prob = av.AviaryProblem()\n",
    "\n",
    "prob.load_inputs('models/test_aircraft/aircraft_for_bench_FwFm.csv',\n",
    "                 phase_info, meta_data=ExtendedMetaData)\n",
    "\n",
    "# Have checks for clashing user inputs\n",
    "# Raise warnings or errors depending on severity of the issues\n",
    "prob.check_and_preprocess_inputs()\n",
    "\n",
    "prob.add_pre_mission_systems()\n",
    "\n",
    "traj = prob.add_phases()\n",
    "\n",
    "prob.add_post_mission_systems()\n",
    "\n",
    "# Link phases and variables\n",
    "prob.link_phases()\n",
    "\n",
    "max_iter = 1\n",
    "prob.add_driver('SLSQP', max_iter)\n",
    "\n",
    "prob.add_design_variables()\n",
    "\n",
    "# prob.add_objective('mass')\n",
    "prob.model.add_objective(\n",
    "    f'traj.climb.states:{Mission.Battery.STATE_OF_CHARGE}', index=-1, ref=-1)\n",
    "\n",
    "prob.setup(check=True)\n",
    "\n",
    "prob.set_initial_guesses()\n",
    "\n",
    "prob.run_aviary_problem()\n",
    "\n",
    "\n",
    "soc_cruise = prob.get_val(\n",
    "    'traj.climb.timeseries.mission:battery:state_of_charge')\n",
    "state_of_charge = soc_cruise[-1]\n",
    "expected_soc = 0.91333333\n",
    "assert_near_equal(state_of_charge[0], expected_soc, 1e-5)\n",
    "glue_variable('expected_soc', '['+str(expected_soc)+']', md_code=False)\n"
   ]
  },
  {
   "cell_type": "markdown",
   "id": "69ffb9a2",
   "metadata": {},
   "source": [
    "# Level 3\n",
    "\n",
    "Level 3 represents the highest level of user control and customization in Aviary's user interface.\n",
    "At this level, users have full access to Python and OpenMDAO methods that Aviary calls.\n",
    "They can use the complete set of Aviary's methods, functionalities, and classes to construct and fine-tune their aircraft models.\n",
    "Level 3 enables users to have supreme control over every aspect of the model, including subsystems, connections, and advanced optimization techniques.\n",
    "\n",
    "Level 3 is the most complex but specific methods defined at this level are used in levels 1 and 2, hopefully reducing user activation energy when learning more about Aviary.\n",
    "This progressive approach helps users gradually enhance their analysis capabilities and adapt to more complex modeling requirements as they gain proficiency and experience."
   ]
  },
  {
   "cell_type": "markdown",
   "id": "a60948bc",
   "metadata": {},
   "source": [
    "## More on objectives\n",
    "\n",
    "Now, let us change our objective to battery state of charge after the climb phase. So, comment out `prob.add_objective('mass')` and add the following line right after:\n",
    "\n",
    "```\n",
    "prob.model.add_objective(\n",
    "    f'traj.climb.states:{Mission.Battery.STATE_OF_CHARGE}', index=-1, ref=-1)\n",
    "```\n",
    "\n",
    "In the above, `index=-1` means the end of climb phase and `ref=-1` means that we want to maximize the state of charge at the end of climb phase. Once again, we are unable to print battery state of charge as we did with battery mass and battery cell mass. We will use the same approach to get mass. In fact, we have prepared for this purpose by setting up time series of climb and cruise phases as well. All we need to do is to add the following lines:\n",
    "\n",
    "```\n",
    "soc_cruise = prob.get_val(\n",
    "    'traj.climb.timeseries.mission:battery:state_of_charge')\n",
    "print(f'State of Charge: {soc_cruise[-1]}')\n",
    "```\n",
    "\n",
    "Now you get a new output:\n",
    "\n",
    "State of Charge: {glue:md}`expected_soc`\n"
   ]
  },
  {
   "cell_type": "markdown",
   "id": "06252511",
   "metadata": {},
   "source": [
    "## The check_partials function\n",
    "\n",
    "In order to make sure that your model computes all the derivatives correctly, OpenMDAO provides a [method called `check_partials`](https://openmdao.org/newdocs/versions/latest/features/core_features/working_with_derivatives/basic_check_partials.html) which checks partial derivatives comprehensively for all Components in your model.\n",
    "You should check your partial derivatives before integrating your external subsystem.\n",
    "This is a good practice to ensure that your model is working correctly and can be used in an optimization context."
   ]
  },
  {
   "cell_type": "markdown",
   "id": "11a63365",
   "metadata": {},
   "source": [
    "## Adding an OpenAeroStruct wingbox external subsystem\n",
    "\n",
    "[OpenAeroStruct](https://github.com/mdolab/OpenAerostruct/) (OAS) is a lightweight tool that performs aerostructural optimization using OpenMDAO. This is an example that shows you how to use an existing external package with Aviary."
   ]
  },
  {
   "cell_type": "markdown",
   "id": "2962e2f1",
   "metadata": {},
   "source": [
    "### Installation of OpenAeroStruct\n",
    "\n",
    "We would like to have easy access to the examples and source code. So we install OpenAeroStruct by cloning the OpenAeroStruct repository. We show you how to do the installation on Linux. Assume you want to install it at `~/$USER/workspace`. Do the following:\n",
    "\n",
    "```\n",
    "cd ~/$USER/workspace\n",
    "git clone https://github.com/mdolab/OpenAeroStruct.git\n",
    "~/$USER/workspace/OpenAeroStruct\n",
    "pip install -e .\n",
    "```\n",
    "\n",
    "If everything runs smoothly, you should see something like:\n",
    "\n",
    "```\n",
    "Successfully installed openaerostruct\n",
    "```\n",
    "\n",
    "Most of the packages that OpenAeroStruct depends on are installed already (see [here](https://mdolab-openaerostruct.readthedocs-hosted.com/en/latest/installation.html)). For our example, we need [ambiance](https://pypi.org/project/ambiance/) and an optional package: [OpenVSP](http://openvsp.org/).\n",
    "\n",
    "To install `ambiance`, do the following:\n",
    "\n",
    "```\n",
    "pip install ambiance\n",
    "```\n",
    "\n",
    "You should see something like:\n",
    "\n",
    "```\n",
    "Installing collected packages: ambiance\n",
    "Successfully installed ambiance-1.3.1\n",
    "```\n",
    "\n",
    "```{note}\n",
    "You must ensure that the Python version in your environment matches the Python used to compile OpenVSP. You must [install OpenVSP](https://openvsp.org/wiki/doku.php?id=install) on your Linux box yourself.\n",
    "```\n",
    "\n",
    "To check your installation of OpenVSP is successful, please run\n",
    "\n",
    "```\n",
    "(av1)$ python openaerostruct/tests/test_vsp_aero_analysis.py\n",
    "```\n",
    "\n",
    "Windows users should visit [OpenVSP](http://openvsp.org/download.php) and follow the instruction there."
   ]
  },
  {
   "cell_type": "markdown",
   "id": "3eb10495",
   "metadata": {},
   "source": [
    "### Understanding the OpenAeroStruct Example\n",
    "\n",
    "The OpenAeroStruct example is explained in detail in [Using Aviary and OpenAeroStruct Together](../examples/OAS_subsystem)."
   ]
  },
  {
   "cell_type": "code",
   "execution_count": null,
   "id": "b9ce7c16",
   "metadata": {
    "tags": [
     "remove-output"
    ]
   },
   "outputs": [],
   "source": [
    "# Testing Cell\n",
    "from aviary.examples.external_subsystems.OAS_weight.OAS_wing_weight_builder import OASWingWeightBuilder\n",
    "from aviary.utils.doctape import glue_variable\n",
    "\n",
    "glue_variable(OASWingWeightBuilder.__name__, md_code=True)"
   ]
  },
  {
   "cell_type": "markdown",
   "id": "a9d285b7",
   "metadata": {},
   "source": [
    "### Running the OpenAeroStruct Example\n",
    "\n",
    "We are ready to run this example. First, we create an {glue:md}`OASWingWeightBuilder` instance."
   ]
  },
  {
   "cell_type": "code",
   "execution_count": null,
   "id": "1e4482ac",
   "metadata": {},
   "outputs": [],
   "source": [
    "import numpy as np\n",
    "import openmdao.api as om\n",
    "import aviary.api as av\n",
    "from aviary.examples.external_subsystems.OAS_weight.OAS_wing_weight_builder import OASWingWeightBuilder\n",
    "\n",
    "wing_weight_builder = OASWingWeightBuilder()"
   ]
  },
  {
   "cell_type": "markdown",
   "id": "3f657b61",
   "metadata": {},
   "source": [
    "Let's add a few phases in the mission. In particular, let's add the object we just created as an external subsystem to `pre_mission`.\n",
    "We are only adding to `pre_mission` here as the OpenAeroStruct design is only done in the sizing portion of pre-mission and doesn't need to be called during the mission."
   ]
  },
  {
   "cell_type": "code",
   "execution_count": null,
   "id": "d779a398",
   "metadata": {},
   "outputs": [],
   "source": [
    "# Load the phase_info and other common setup tasks\n",
    "phase_info = {\n",
    "    'climb_1': {\n",
    "        'subsystem_options': {'core_aerodynamics': {'method': 'computed'}},\n",
    "        'user_options': {\n",
    "            'optimize_mach': False,\n",
    "            'optimize_altitude': False,\n",
    "            'polynomial_control_order': 1,\n",
    "            'num_segments': 5,\n",
    "            'order': 3,\n",
    "            'solve_for_distance': False,\n",
    "            'initial_mach': (0.2, 'unitless'),\n",
    "            'final_mach': (0.72, 'unitless'),\n",
    "            'mach_bounds': ((0.18, 0.74), 'unitless'),\n",
    "            'initial_altitude': (0.0, 'ft'),\n",
    "            'final_altitude': (32000.0, 'ft'),\n",
    "            'altitude_bounds': ((0.0, 34000.0), 'ft'),\n",
    "            'throttle_enforcement': 'path_constraint',\n",
    "            'fix_initial': True,\n",
    "            'constrain_final': False,\n",
    "            'fix_duration': False,\n",
    "            'initial_bounds': ((0.0, 0.0), 'min'),\n",
    "            'duration_bounds': ((64.0, 192.0), 'min'),\n",
    "        },\n",
    "        'initial_guesses': {'time': ([0, 128], 'min')},\n",
    "    },\n",
    "    'climb_2': {\n",
    "        'subsystem_options': {'core_aerodynamics': {'method': 'computed'}},\n",
    "        'user_options': {\n",
    "            'optimize_mach': False,\n",
    "            'optimize_altitude': False,\n",
    "            'polynomial_control_order': 1,\n",
    "            'num_segments': 5,\n",
    "            'order': 3,\n",
    "            'solve_for_distance': False,\n",
    "            'initial_mach': (0.72, 'unitless'),\n",
    "            'final_mach': (0.72, 'unitless'),\n",
    "            'mach_bounds': ((0.7, 0.74), 'unitless'),\n",
    "            'initial_altitude': (32000.0, 'ft'),\n",
    "            'final_altitude': (34000.0, 'ft'),\n",
    "            'altitude_bounds': ((23000.0, 38000.0), 'ft'),\n",
    "            'throttle_enforcement': 'boundary_constraint',\n",
    "            'fix_initial': False,\n",
    "            'constrain_final': False,\n",
    "            'fix_duration': False,\n",
    "            'initial_bounds': ((64.0, 192.0), 'min'),\n",
    "            'duration_bounds': ((56.5, 169.5), 'min'),\n",
    "        },\n",
    "        'initial_guesses': {'time': ([128, 113], 'min')},\n",
    "    },\n",
    "    'descent_1': {\n",
    "        'subsystem_options': {'core_aerodynamics': {'method': 'computed'}},\n",
    "        'user_options': {\n",
    "            'optimize_mach': False,\n",
    "            'optimize_altitude': False,\n",
    "            'polynomial_control_order': 1,\n",
    "            'num_segments': 5,\n",
    "            'order': 3,\n",
    "            'solve_for_distance': False,\n",
    "            'initial_mach': (0.72, 'unitless'),\n",
    "            'final_mach': (0.36, 'unitless'),\n",
    "            'mach_bounds': ((0.34, 0.74), 'unitless'),\n",
    "            'initial_altitude': (34000.0, 'ft'),\n",
    "            'final_altitude': (500.0, 'ft'),\n",
    "            'altitude_bounds': ((0.0, 38000.0), 'ft'),\n",
    "            'throttle_enforcement': 'path_constraint',\n",
    "            'fix_initial': False,\n",
    "            'constrain_final': True,\n",
    "            'fix_duration': False,\n",
    "            'initial_bounds': ((120.5, 361.5), 'min'),\n",
    "            'duration_bounds': ((29.0, 87.0), 'min'),\n",
    "        },\n",
    "        'initial_guesses': {'time': ([241, 58], 'min')},\n",
    "    },\n",
    "    'post_mission': {\n",
    "        'include_landing': False,\n",
    "        'constrain_range': True,\n",
    "        'target_range': (1800., 'nmi'),\n",
    "    },\n",
    "}\n",
    "\n",
    "phase_info['pre_mission'] = {'include_takeoff': False, 'optimize_mass': True}\n",
    "phase_info['pre_mission']['external_subsystems'] = [wing_weight_builder]"
   ]
  },
  {
   "cell_type": "markdown",
   "id": "0f1ce46e",
   "metadata": {},
   "source": [
    "We can now create an Aviary problem, load in an aircraft input deck, and do routine input checks:"
   ]
  },
  {
   "cell_type": "code",
   "execution_count": null,
   "id": "4bef599e",
   "metadata": {},
   "outputs": [],
   "source": [
    "aircraft_definition_file = 'models/test_aircraft/aircraft_for_bench_FwFm.csv'\n",
    "make_plots = False\n",
    "max_iter = 0\n",
    "optimizer = 'SNOPT'\n",
    "\n",
    "prob = av.AviaryProblem()\n",
    "\n",
    "prob.load_inputs(aircraft_definition_file, phase_info)\n",
    "prob.check_and_preprocess_inputs()\n",
    "prob.add_pre_mission_systems()\n",
    "prob.add_phases()\n",
    "prob.add_post_mission_systems()\n",
    "prob.link_phases()"
   ]
  },
  {
   "cell_type": "markdown",
   "id": "0802ff94",
   "metadata": {},
   "source": [
    "Next we select the driver and call setup on the problem:"
   ]
  },
  {
   "cell_type": "code",
   "execution_count": null,
   "id": "b4491a9d",
   "metadata": {},
   "outputs": [],
   "source": [
    "driver = prob.driver = om.pyOptSparseDriver()\n",
    "driver.options['optimizer'] = optimizer\n",
    "driver.declare_coloring()\n",
    "driver.opt_settings['Major iterations limit'] = max_iter\n",
    "driver.opt_settings['Major optimality tolerance'] = 1e-4\n",
    "driver.opt_settings['Major feasibility tolerance'] = 1e-5\n",
    "driver.opt_settings['iSumm'] = 6\n",
    "\n",
    "prob.add_design_variables()\n",
    "prob.add_objective()\n",
    "prob.setup()\n",
    "prob.set_initial_guesses()"
   ]
  },
  {
   "cell_type": "markdown",
   "id": "354d81f3",
   "metadata": {},
   "source": [
    "Now we need to set some OpenAeroStruct-specific parameters before running Aviary:"
   ]
  },
  {
   "cell_type": "code",
   "execution_count": null,
   "id": "3d83c778",
   "metadata": {},
   "outputs": [],
   "source": [
    "OAS_sys = 'pre_mission.wing_weight.aerostructures.'\n",
    "prob.set_val(OAS_sys + 'box_upper_x', np.array([0.1, 0.11, 0.12, 0.13, 0.14, 0.15, 0.16, 0.17, 0.18, 0.19, 0.2, 0.21, 0.22, 0.23, 0.24, 0.25, 0.26, 0.27, 0.28, 0.29, 0.3, 0.31, 0.32, 0.33, 0.34, 0.35, 0.36, 0.37, 0.38, 0.39, 0.4, 0.41, 0.42, 0.43, 0.44, 0.45, 0.46, 0.47, 0.48, 0.49, 0.5, 0.51, 0.52, 0.53, 0.54, 0.55, 0.56, 0.57, 0.58, 0.59, 0.6]), units='unitless')\n",
    "prob.set_val(OAS_sys + 'box_lower_x', np.array([0.1, 0.11, 0.12, 0.13, 0.14, 0.15, 0.16, 0.17, 0.18, 0.19, 0.2, 0.21, 0.22, 0.23, 0.24, 0.25, 0.26, 0.27, 0.28, 0.29, 0.3, 0.31, 0.32, 0.33, 0.34, 0.35, 0.36, 0.37, 0.38, 0.39, 0.4, 0.41, 0.42, 0.43, 0.44, 0.45, 0.46, 0.47, 0.48, 0.49, 0.5, 0.51, 0.52, 0.53, 0.54, 0.55, 0.56, 0.57, 0.58, 0.59, 0.6]), units='unitless')\n",
    "prob.set_val(OAS_sys + 'box_upper_y', np.array([ 0.0447,  0.046,  0.0472,  0.0484,  0.0495,  0.0505,  0.0514,  0.0523,  0.0531,  0.0538, 0.0545,  0.0551,  0.0557, 0.0563,  0.0568, 0.0573,  0.0577,  0.0581,  0.0585,  0.0588,  0.0591,  0.0593,  0.0595,  0.0597,  0.0599,  0.06,    0.0601,  0.0602,  0.0602,  0.0602,  0.0602,  0.0602,  0.0601,  0.06,    0.0599,  0.0598,  0.0596,  0.0594,  0.0592,  0.0589,  0.0586,  0.0583,  0.058,   0.0576,  0.0572,  0.0568,  0.0563,  0.0558,  0.0553,  0.0547,  0.0541]), units='unitless')\n",
    "prob.set_val(OAS_sys + 'box_lower_y', np.array([-0.0447, -0.046, -0.0473, -0.0485, -0.0496, -0.0506, -0.0515, -0.0524, -0.0532, -0.054, -0.0547, -0.0554, -0.056, -0.0565, -0.057, -0.0575, -0.0579, -0.0583, -0.0586, -0.0589, -0.0592, -0.0594, -0.0595, -0.0596, -0.0597, -0.0598, -0.0598, -0.0598, -0.0598, -0.0597, -0.0596, -0.0594, -0.0592, -0.0589, -0.0586, -0.0582, -0.0578, -0.0573, -0.0567, -0.0561, -0.0554, -0.0546, -0.0538, -0.0529, -0.0519, -0.0509, -0.0497, -0.0485, -0.0472, -0.0458, -0.0444]), units='unitless')\n",
    "prob.set_val(OAS_sys + 'twist_cp', np.array([-6., -6., -4., 0.]), units='deg')\n",
    "prob.set_val(OAS_sys + 'spar_thickness_cp', np.array([0.004, 0.005, 0.008, 0.01]), units='m')\n",
    "prob.set_val(OAS_sys + 'skin_thickness_cp', np.array([0.005, 0.01, 0.015, 0.025]), units='m')\n",
    "prob.set_val(OAS_sys + 't_over_c_cp', np.array([0.08, 0.08, 0.10, 0.08]), units='unitless')\n",
    "prob.set_val(OAS_sys + 'airfoil_t_over_c', 0.12, units='unitless')\n",
    "prob.set_val(OAS_sys + 'fuel', 40044.0, units='lbm')\n",
    "prob.set_val(OAS_sys + 'fuel_reserve', 3000.0, units='lbm')\n",
    "prob.set_val(OAS_sys + 'CD0', 0.0078, units='unitless')\n",
    "prob.set_val(OAS_sys + 'cruise_Mach', 0.785, units='unitless')\n",
    "prob.set_val(OAS_sys + 'cruise_altitude', 11303.682962301647, units='m')\n",
    "prob.set_val(OAS_sys + 'cruise_range', 3500, units='nmi')\n",
    "prob.set_val(OAS_sys + 'cruise_SFC', 0.53 / 3600, units='1/s')\n",
    "prob.set_val(OAS_sys + 'engine_mass', 7400, units='lbm')\n",
    "prob.set_val(OAS_sys + 'engine_location', np.array([25, -10.0, 0.0]), units='m')"
   ]
  },
  {
   "cell_type": "markdown",
   "id": "e61579fc",
   "metadata": {},
   "source": [
    "We are now ready to run Aviary on this model."
   ]
  },
  {
   "cell_type": "code",
   "execution_count": null,
   "id": "9eca5661",
   "metadata": {},
   "outputs": [],
   "source": [
    "prob.run_aviary_problem('oas_solution.db', run_driver=False, make_plots=False)"
   ]
  },
  {
   "cell_type": "markdown",
   "id": "d345e83d",
   "metadata": {},
   "source": [
    "Note that there are multiple numbers of optimization loops that are output from this run even though we have set {glue:md}`max_iter` to 0.\n",
    "This is because OpenAeroStruct has an optimization process internally. In order to shorten the runtime, we have set `run_driver = False`. This means that we will not run optimization but [run model](https://openmdao.org/newdocs/versions/latest/features/core_features/running_your_models/run_model.html). "
   ]
  },
  {
   "cell_type": "markdown",
   "id": "b72253c8",
   "metadata": {},
   "source": [
    "Finally, we print the newly computed wing mass:"
   ]
  },
  {
   "cell_type": "code",
   "execution_count": null,
   "id": "dbb2078f",
   "metadata": {},
   "outputs": [],
   "source": [
    "print('wing mass = ',prob.model.get_val(av.Aircraft.Wing.MASS, units='lbm'))"
   ]
  },
  {
   "cell_type": "markdown",
   "id": "c04ddce7",
   "metadata": {},
   "source": [
    "The result is comparable to the output without OpenAeroStruct external subsystem."
   ]
  }
 ],
 "metadata": {
  "kernelspec": {
   "display_name": "av1",
   "language": "python",
   "name": "python3"
  },
  "language_info": {
   "codemirror_mode": {
    "name": "ipython",
    "version": 3
   },
   "file_extension": ".py",
   "mimetype": "text/x-python",
   "name": "python",
   "nbconvert_exporter": "python",
   "pygments_lexer": "ipython3",
   "version": "3.9.18"
  }
 },
 "nbformat": 4,
 "nbformat_minor": 5
}
