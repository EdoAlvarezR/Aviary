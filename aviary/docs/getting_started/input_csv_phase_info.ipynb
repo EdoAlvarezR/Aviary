{
 "cells": [
  {
   "cell_type": "code",
   "execution_count": null,
   "metadata": {
    "tags": [
     "remove-cell"
    ]
   },
   "outputs": [],
   "source": [
    "# Testing Cell\n",
    "from aviary.utils.functions import get_model\n",
    "from aviary.docs.tests.utils import glue_variable\n",
    "\n",
    "csv_snippet = '```\\n'\n",
    "filename = 'aircraft_for_bench_FwFm.csv'\n",
    "with open(get_model(filename)) as f_in:\n",
    "    lines = f_in.readlines()\n",
    "    l, s = [], 1\n",
    "    for ii in range(7):\n",
    "        l.append(lines[ii*2*s])\n",
    "        s*=-1\n",
    "    l.sort()\n",
    "    csv_snippet+=''.join(l)\n",
    "\n",
    "csv_snippet+='...\\n```'\n",
    "glue_variable('csv_snippet', csv_snippet)"
   ]
  },
  {
   "cell_type": "markdown",
   "metadata": {},
   "source": [
    "# Vehicle Input .csv File and Phase_info Dictionary\n",
    "\n",
    "## Vehicle Input .csv File\n",
    "\n",
    "```{note}\n",
    "This section is under development.\n",
    "```\n",
    "\n",
    "Aviary uses two main files to define the vehicle and the trajectory -- the vehicle .csv definition and a `phase_info` dictionary definition that defines the trajectory parameters.\n",
    "You can think of the first file as describing the vehicle's physical properties and the second file as describing the trajectory's properties and optimization parameters.\n",
    "\n",
    "The vehicle .csv file is structured as multiple rows, each containing a specific vehicle parameter's name, value, and units.\n",
    "A portion of an example vehicle .csv file is shown below:\n",
    "\n",
    "```{glue:md} csv_snippet\n",
    ":format: myst\n",
    "```\n",
    "\n",
    "Depending on which analysis options you use with Aviary, you might need to define certain parameters within the vehicle .csv file.\n",
    "The simplest way to get started is to use a provided example vehicle .csv file and modify it as needed for your specific vehicle."
   ]
  },
  {
   "cell_type": "code",
   "execution_count": null,
   "metadata": {
    "tags": [
     "remove-cell"
    ]
   },
   "outputs": [],
   "source": [
    "# Testing Cell\n",
    "from aviary.utils.process_input_decks import create_vehicle\n",
    "from aviary.utils.aviary_values import AviaryValues\n",
    "from aviary.utils.process_input_decks import initialization_guessing\n",
    "from aviary.api import Aircraft, LegacyCode\n",
    "from aviary.interface.cmd_entry_points import _command_map\n",
    "from aviary.docs.tests.utils import glue_variable, get_variable_name\n",
    "\n",
    "default_guesses = '```\\n'\n",
    "vehicle_deck = AviaryValues()\n",
    "_ , initialization_guesses = create_vehicle(vehicle_deck=vehicle_deck)\n",
    "for key, val in initialization_guesses.items():\n",
    "    default_guesses+=f\"{key},{val}\\n\"\n",
    "    glue_variable(key, md_code=True)\n",
    "default_guesses+='```'\n",
    "glue_variable('default_guesses', default_guesses)\n",
    "\n",
    "\n",
    "glue_variable(get_variable_name(Aircraft.Design.RESERVE_FUEL_ADDITIONAL), md_code=True)\n",
    "glue_variable(get_variable_name(Aircraft.Design.RESERVE_FUEL_FRACTION), md_code=True)\n",
    "\n",
    "f2a = 'fortran_to_aviary'\n",
    "_command_map[f2a];\n",
    "glue_variable(f2a)\n",
    "glue_variable(LegacyCode.GASP.name)"
   ]
  },
  {
   "cell_type": "markdown",
   "metadata": {},
   "source": [
    "In vehicle .csv files that were created with the {glue:md}`fortran_to_aviary` converter that were created from {glue:md}`GASP` files, there is a section with the heading '# Initialization Guesses' that is used to initialize the trajectory. It contains the following keys along with default initialization values:\n",
    "\n",
    "```{glue:md} default_guesses\n",
    ":format: myst\n",
    "```\n",
    "\n",
    "The user can also specify these parameters with the prefix 'initialization_guesses:'\n",
    "e.g. 'initialization_guesses:actual_takeoff_mass,150000' would set actual_takeoff_mass in the initialization_guesses dictionary to 150000.\n",
    "\n",
    "When the initialization_guessing() method is called and wherever the initialization_guesses values are equal to 0, they are updated with calculated estimates based off the problem type (sizing, alternate, fallout) and mass, speed, range, thrust, and payload data specified in the vehicle input .csv file.\n",
    "\n",
    "The initial guess of {glue:md}`reserves` is used to define the reserve fuel. Initially, its value can be anything larger than or equal to 0. There are two Aviary variables to control the reserve fuel in the model file (`.csv`):\n",
    "- {glue:md}`Aircraft.Design.RESERVE_FUEL_ADDITIONAL`: the required fuel reserves: directly in lbm,\n",
    "- {glue:md}`Aircraft.Design.RESERVE_FUEL_FRACTION`: the required fuel reserves: given as a proportion of mission fuel.\n",
    "\n",
    "If the value of initial guess of {glue:md}`reserves` (also in the model file if any) is 0, the initial guess of reserve fuel comes from the above two Aviary variables.  Otherwise, it is determined by the parameter {glue:md}`reserves`:\n",
    "- if `reserves > 10`, we assume it is the actual fuel reserves.\n",
    "- if `0.0 <= reserves <= 10`, we assume it is the fraction of the mission fuel.\n",
    "\n",
    "The initial guess of {glue:md}`reserves` is always converted to the actual design reserves (instead of reserve factor) and is used to update the initial guesses of {glue:md}`fuel_burn_per_passenger_mile` and {glue:md}`cruise_mass_final`."
   ]
  },
  {
   "cell_type": "code",
   "execution_count": null,
   "metadata": {
    "tags": [
     "remove-cell"
    ]
   },
   "outputs": [
    {
     "name": "stdout",
     "output_type": "stream",
     "text": [
      "Loaded default phase_info for height_energy equations of motion\n"
     ]
    },
    {
     "ename": "TypeError",
     "evalue": "EnergyPhase: complex_cruise: unsupported option: `fix_initial_time`",
     "output_type": "error",
     "traceback": [
      "\u001b[0;31m---------------------------------------------------------------------------\u001b[0m",
      "\u001b[0;31mTypeError\u001b[0m                                 Traceback (most recent call last)",
      "Cell \u001b[0;32mIn[28], line 50\u001b[0m\n\u001b[1;32m     48\u001b[0m dummy_phase_info\u001b[38;5;241m.\u001b[39mupdate(get_completed_phase_info(\u001b[38;5;124m'\u001b[39m\u001b[38;5;124maircraft_for_bench_FwFm.csv\u001b[39m\u001b[38;5;124m'\u001b[39m))\n\u001b[1;32m     49\u001b[0m dummy_phase_info\u001b[38;5;241m.\u001b[39mupdate(custom_phase_info)\n\u001b[0;32m---> 50\u001b[0m dummy_phase_info\u001b[38;5;241m.\u001b[39mupdate(\u001b[43mget_completed_phase_info\u001b[49m\u001b[43m(\u001b[49m\u001b[38;5;124;43m'\u001b[39;49m\u001b[38;5;124;43maircraft_for_bench_FwFm.csv\u001b[39;49m\u001b[38;5;124;43m'\u001b[39;49m\u001b[43m,\u001b[49m\u001b[43m \u001b[49m\u001b[43mcustom_phase_info\u001b[49m\u001b[43m)\u001b[49m)\n\u001b[1;32m     51\u001b[0m dummy_phase_info\u001b[38;5;241m.\u001b[39mupdate(TwoDOF_phase_info)\n\u001b[1;32m     52\u001b[0m dummy_phase_info\u001b[38;5;241m.\u001b[39mupdate(get_completed_phase_info(\u001b[38;5;124m'\u001b[39m\u001b[38;5;124maircraft_for_bench_GwGm.csv\u001b[39m\u001b[38;5;124m'\u001b[39m))\n",
      "Cell \u001b[0;32mIn[28], line 17\u001b[0m, in \u001b[0;36mget_completed_phase_info\u001b[0;34m(filename, phase_info)\u001b[0m\n\u001b[1;32m     15\u001b[0m prob\u001b[38;5;241m.\u001b[39mload_inputs(filename, phase_info\u001b[38;5;241m=\u001b[39mphase_info)\n\u001b[1;32m     16\u001b[0m prob\u001b[38;5;241m.\u001b[39mcheck_and_preprocess_inputs()\n\u001b[0;32m---> 17\u001b[0m \u001b[43mprob\u001b[49m\u001b[38;5;241;43m.\u001b[39;49m\u001b[43madd_phases\u001b[49m\u001b[43m(\u001b[49m\u001b[43m)\u001b[49m\n\u001b[1;32m     18\u001b[0m complete_phase_info \u001b[38;5;241m=\u001b[39m {}\n\u001b[1;32m     19\u001b[0m \u001b[38;5;28;01mfor\u001b[39;00m phase \u001b[38;5;129;01min\u001b[39;00m prob\u001b[38;5;241m.\u001b[39mphase_objects:\n",
      "File \u001b[0;32m~/Aviary/om-Aviary/aviary/interface/methods_for_level2.py:1099\u001b[0m, in \u001b[0;36mAviaryProblem.add_phases\u001b[0;34m(self, phase_info_parameterization)\u001b[0m\n\u001b[1;32m   1096\u001b[0m \u001b[38;5;28mself\u001b[39m\u001b[38;5;241m.\u001b[39mphase_objects \u001b[38;5;241m=\u001b[39m []\n\u001b[1;32m   1097\u001b[0m \u001b[38;5;28;01mfor\u001b[39;00m phase_idx, phase_name \u001b[38;5;129;01min\u001b[39;00m \u001b[38;5;28menumerate\u001b[39m(phases):\n\u001b[1;32m   1098\u001b[0m     phase \u001b[38;5;241m=\u001b[39m traj\u001b[38;5;241m.\u001b[39madd_phase(\n\u001b[0;32m-> 1099\u001b[0m         phase_name, \u001b[38;5;28;43mself\u001b[39;49m\u001b[38;5;241;43m.\u001b[39;49m\u001b[43m_get_phase\u001b[49m\u001b[43m(\u001b[49m\u001b[43mphase_name\u001b[49m\u001b[43m,\u001b[49m\u001b[43m \u001b[49m\u001b[43mphase_idx\u001b[49m\u001b[43m)\u001b[49m)\n\u001b[1;32m   1100\u001b[0m     add_subsystem_timeseries_outputs(phase, phase_name)\n\u001b[1;32m   1102\u001b[0m     \u001b[38;5;28;01mif\u001b[39;00m \u001b[38;5;28mself\u001b[39m\u001b[38;5;241m.\u001b[39mmission_method \u001b[38;5;129;01mis\u001b[39;00m TWO_DEGREES_OF_FREEDOM:\n\u001b[1;32m   1103\u001b[0m \n\u001b[1;32m   1104\u001b[0m         \u001b[38;5;66;03m# In GASP, we still use the phase name to infer the phase type.\u001b[39;00m\n\u001b[1;32m   1105\u001b[0m         \u001b[38;5;66;03m# We need this information to be available in the builders.\u001b[39;00m\n\u001b[1;32m   1106\u001b[0m         \u001b[38;5;66;03m# TODO - Ultimately we should overhaul all of this.\u001b[39;00m\n",
      "File \u001b[0;32m~/Aviary/om-Aviary/aviary/interface/methods_for_level2.py:868\u001b[0m, in \u001b[0;36mAviaryProblem._get_phase\u001b[0;34m(self, phase_name, phase_idx)\u001b[0m\n\u001b[1;32m    865\u001b[0m     \u001b[38;5;28;01melse\u001b[39;00m:\n\u001b[1;32m    866\u001b[0m         phase_builder \u001b[38;5;241m=\u001b[39m TwoDOFPhase\n\u001b[0;32m--> 868\u001b[0m phase_object \u001b[38;5;241m=\u001b[39m \u001b[43mphase_builder\u001b[49m\u001b[38;5;241;43m.\u001b[39;49m\u001b[43mfrom_phase_info\u001b[49m\u001b[43m(\u001b[49m\n\u001b[1;32m    869\u001b[0m \u001b[43m    \u001b[49m\u001b[43mphase_name\u001b[49m\u001b[43m,\u001b[49m\u001b[43m \u001b[49m\u001b[43mphase_options\u001b[49m\u001b[43m,\u001b[49m\u001b[43m \u001b[49m\u001b[43mdefault_mission_subsystems\u001b[49m\u001b[43m,\u001b[49m\u001b[43m \u001b[49m\u001b[43mmeta_data\u001b[49m\u001b[38;5;241;43m=\u001b[39;49m\u001b[38;5;28;43mself\u001b[39;49m\u001b[38;5;241;43m.\u001b[39;49m\u001b[43mmeta_data\u001b[49m\u001b[43m)\u001b[49m\n\u001b[1;32m    871\u001b[0m phase \u001b[38;5;241m=\u001b[39m phase_object\u001b[38;5;241m.\u001b[39mbuild_phase(aviary_options\u001b[38;5;241m=\u001b[39m\u001b[38;5;28mself\u001b[39m\u001b[38;5;241m.\u001b[39maviary_inputs)\n\u001b[1;32m    873\u001b[0m \u001b[38;5;28mself\u001b[39m\u001b[38;5;241m.\u001b[39mphase_objects\u001b[38;5;241m.\u001b[39mappend(phase_object)\n",
      "File \u001b[0;32m~/Aviary/om-Aviary/aviary/mission/phase_builder_base.py:375\u001b[0m, in \u001b[0;36mPhaseBuilderBase.from_phase_info\u001b[0;34m(cls, name, phase_info, core_subsystems, meta_data, transcription)\u001b[0m\n\u001b[1;32m    365\u001b[0m external_subsystems \u001b[38;5;241m=\u001b[39m phase_info\u001b[38;5;241m.\u001b[39mget(\u001b[38;5;124m'\u001b[39m\u001b[38;5;124mexternal_subsystems\u001b[39m\u001b[38;5;124m'\u001b[39m, [])\n\u001b[1;32m    366\u001b[0m \u001b[38;5;66;03m# TODO core subsystems in phase info?\u001b[39;00m\n\u001b[1;32m    367\u001b[0m \n\u001b[1;32m    368\u001b[0m \u001b[38;5;66;03m# TODO some of these may be purely programming API hooks, rather than for use\u001b[39;00m\n\u001b[0;32m   (...)\u001b[0m\n\u001b[1;32m    372\u001b[0m \u001b[38;5;66;03m# - external_subsystems\u001b[39;00m\n\u001b[1;32m    373\u001b[0m \u001b[38;5;66;03m# - meta_data\u001b[39;00m\n\u001b[0;32m--> 375\u001b[0m phase_builder \u001b[38;5;241m=\u001b[39m \u001b[38;5;28;43mcls\u001b[39;49m\u001b[43m(\u001b[49m\n\u001b[1;32m    376\u001b[0m \u001b[43m    \u001b[49m\u001b[43mname\u001b[49m\u001b[43m,\u001b[49m\u001b[43m \u001b[49m\u001b[43msubsystem_options\u001b[49m\u001b[38;5;241;43m=\u001b[39;49m\u001b[43msubsystem_options\u001b[49m\u001b[43m,\u001b[49m\u001b[43m \u001b[49m\u001b[43muser_options\u001b[49m\u001b[38;5;241;43m=\u001b[39;49m\u001b[43muser_options\u001b[49m\u001b[43m,\u001b[49m\n\u001b[1;32m    377\u001b[0m \u001b[43m    \u001b[49m\u001b[43minitial_guesses\u001b[49m\u001b[38;5;241;43m=\u001b[39;49m\u001b[43minitial_guesses\u001b[49m\u001b[43m,\u001b[49m\u001b[43m \u001b[49m\u001b[43mmeta_data\u001b[49m\u001b[38;5;241;43m=\u001b[39;49m\u001b[43mmeta_data\u001b[49m\u001b[43m,\u001b[49m\n\u001b[1;32m    378\u001b[0m \u001b[43m    \u001b[49m\u001b[43mcore_subsystems\u001b[49m\u001b[38;5;241;43m=\u001b[39;49m\u001b[43mcore_subsystems\u001b[49m\u001b[43m,\u001b[49m\u001b[43m \u001b[49m\u001b[43mexternal_subsystems\u001b[49m\u001b[38;5;241;43m=\u001b[39;49m\u001b[43mexternal_subsystems\u001b[49m\u001b[43m,\u001b[49m\u001b[43m \u001b[49m\u001b[43mtranscription\u001b[49m\u001b[38;5;241;43m=\u001b[39;49m\u001b[43mtranscription\u001b[49m\u001b[43m)\u001b[49m\n\u001b[1;32m    380\u001b[0m \u001b[38;5;28;01mreturn\u001b[39;00m phase_builder\n",
      "File \u001b[0;32m~/Aviary/om-Aviary/aviary/mission/flight_phase_builder.py:46\u001b[0m, in \u001b[0;36mFlightPhaseBase.__init__\u001b[0;34m(self, name, subsystem_options, user_options, initial_guesses, ode_class, transcription, core_subsystems, external_subsystems, meta_data)\u001b[0m\n\u001b[1;32m     41\u001b[0m \u001b[38;5;28;01mdef\u001b[39;00m \u001b[38;5;21m__init__\u001b[39m(\n\u001b[1;32m     42\u001b[0m     \u001b[38;5;28mself\u001b[39m, name\u001b[38;5;241m=\u001b[39m\u001b[38;5;28;01mNone\u001b[39;00m, subsystem_options\u001b[38;5;241m=\u001b[39m\u001b[38;5;28;01mNone\u001b[39;00m, user_options\u001b[38;5;241m=\u001b[39m\u001b[38;5;28;01mNone\u001b[39;00m, initial_guesses\u001b[38;5;241m=\u001b[39m\u001b[38;5;28;01mNone\u001b[39;00m,\n\u001b[1;32m     43\u001b[0m     ode_class\u001b[38;5;241m=\u001b[39m\u001b[38;5;28;01mNone\u001b[39;00m, transcription\u001b[38;5;241m=\u001b[39m\u001b[38;5;28;01mNone\u001b[39;00m, core_subsystems\u001b[38;5;241m=\u001b[39m\u001b[38;5;28;01mNone\u001b[39;00m,\n\u001b[1;32m     44\u001b[0m     external_subsystems\u001b[38;5;241m=\u001b[39m\u001b[38;5;28;01mNone\u001b[39;00m, meta_data\u001b[38;5;241m=\u001b[39m\u001b[38;5;28;01mNone\u001b[39;00m\n\u001b[1;32m     45\u001b[0m ):\n\u001b[0;32m---> 46\u001b[0m     \u001b[38;5;28;43msuper\u001b[39;49m\u001b[43m(\u001b[49m\u001b[43m)\u001b[49m\u001b[38;5;241;43m.\u001b[39;49m\u001b[38;5;21;43m__init__\u001b[39;49m\u001b[43m(\u001b[49m\n\u001b[1;32m     47\u001b[0m \u001b[43m        \u001b[49m\u001b[43mname\u001b[49m\u001b[38;5;241;43m=\u001b[39;49m\u001b[43mname\u001b[49m\u001b[43m,\u001b[49m\u001b[43m \u001b[49m\u001b[43mcore_subsystems\u001b[49m\u001b[38;5;241;43m=\u001b[39;49m\u001b[43mcore_subsystems\u001b[49m\u001b[43m,\u001b[49m\u001b[43m \u001b[49m\u001b[43msubsystem_options\u001b[49m\u001b[38;5;241;43m=\u001b[39;49m\u001b[43msubsystem_options\u001b[49m\u001b[43m,\u001b[49m\u001b[43m \u001b[49m\u001b[43muser_options\u001b[49m\u001b[38;5;241;43m=\u001b[39;49m\u001b[43muser_options\u001b[49m\u001b[43m,\u001b[49m\u001b[43m \u001b[49m\u001b[43minitial_guesses\u001b[49m\u001b[38;5;241;43m=\u001b[39;49m\u001b[43minitial_guesses\u001b[49m\u001b[43m,\u001b[49m\u001b[43m \u001b[49m\u001b[43mode_class\u001b[49m\u001b[38;5;241;43m=\u001b[39;49m\u001b[43mode_class\u001b[49m\u001b[43m,\u001b[49m\u001b[43m \u001b[49m\u001b[43mtranscription\u001b[49m\u001b[38;5;241;43m=\u001b[39;49m\u001b[43mtranscription\u001b[49m\u001b[43m)\u001b[49m\n\u001b[1;32m     49\u001b[0m     \u001b[38;5;66;03m# TODO: support external_subsystems and meta_data in the base class\u001b[39;00m\n\u001b[1;32m     50\u001b[0m     \u001b[38;5;28;01mif\u001b[39;00m external_subsystems \u001b[38;5;129;01mis\u001b[39;00m \u001b[38;5;28;01mNone\u001b[39;00m:\n",
      "File \u001b[0;32m~/Aviary/om-Aviary/aviary/mission/phase_builder_base.py:118\u001b[0m, in \u001b[0;36mPhaseBuilderBase.__init__\u001b[0;34m(self, name, core_subsystems, user_options, initial_guesses, ode_class, transcription, subsystem_options, is_analytic_phase, num_nodes, external_subsystems, meta_data)\u001b[0m\n\u001b[1;32m    115\u001b[0m \u001b[38;5;28mself\u001b[39m\u001b[38;5;241m.\u001b[39msubsystem_options \u001b[38;5;241m=\u001b[39m subsystem_options\n\u001b[1;32m    117\u001b[0m \u001b[38;5;28mself\u001b[39m\u001b[38;5;241m.\u001b[39muser_options \u001b[38;5;241m=\u001b[39m user_options\n\u001b[0;32m--> 118\u001b[0m \u001b[38;5;28;43mself\u001b[39;49m\u001b[38;5;241;43m.\u001b[39;49m\u001b[43mvalidate_options\u001b[49m\u001b[43m(\u001b[49m\u001b[43m)\u001b[49m\n\u001b[1;32m    119\u001b[0m \u001b[38;5;28mself\u001b[39m\u001b[38;5;241m.\u001b[39massign_default_options()\n\u001b[1;32m    121\u001b[0m \u001b[38;5;28;01mif\u001b[39;00m initial_guesses \u001b[38;5;129;01mis\u001b[39;00m \u001b[38;5;28;01mNone\u001b[39;00m:\n",
      "File \u001b[0;32m~/Aviary/om-Aviary/aviary/mission/phase_builder_base.py:231\u001b[0m, in \u001b[0;36mPhaseBuilderBase.validate_options\u001b[0;34m(self)\u001b[0m\n\u001b[1;32m    229\u001b[0m \u001b[38;5;28;01mfor\u001b[39;00m key \u001b[38;5;129;01min\u001b[39;00m get_keys(user_options):\n\u001b[1;32m    230\u001b[0m     \u001b[38;5;28;01mif\u001b[39;00m key \u001b[38;5;129;01mnot\u001b[39;00m \u001b[38;5;129;01min\u001b[39;00m meta_data:\n\u001b[0;32m--> 231\u001b[0m         \u001b[38;5;28;01mraise\u001b[39;00m \u001b[38;5;167;01mTypeError\u001b[39;00m(\n\u001b[1;32m    232\u001b[0m             \u001b[38;5;124mf\u001b[39m\u001b[38;5;124m'\u001b[39m\u001b[38;5;132;01m{\u001b[39;00m\u001b[38;5;28mself\u001b[39m\u001b[38;5;241m.\u001b[39m\u001b[38;5;18m__class__\u001b[39m\u001b[38;5;241m.\u001b[39m\u001b[38;5;18m__name__\u001b[39m\u001b[38;5;132;01m}\u001b[39;00m\u001b[38;5;124m: \u001b[39m\u001b[38;5;132;01m{\u001b[39;00m\u001b[38;5;28mself\u001b[39m\u001b[38;5;241m.\u001b[39mname\u001b[38;5;132;01m}\u001b[39;00m\u001b[38;5;124m:\u001b[39m\u001b[38;5;124m'\u001b[39m\n\u001b[1;32m    233\u001b[0m             \u001b[38;5;124mf\u001b[39m\u001b[38;5;124m'\u001b[39m\u001b[38;5;124m unsupported option: \u001b[39m\u001b[38;5;132;01m{\u001b[39;00mkey\u001b[38;5;132;01m}\u001b[39;00m\u001b[38;5;124m'\u001b[39m\n\u001b[1;32m    234\u001b[0m         )\n",
      "\u001b[0;31mTypeError\u001b[0m: EnergyPhase: complex_cruise: unsupported option: `fix_initial_time`"
     ]
    }
   ],
   "source": [
    "# Testing Cell\n",
    "from aviary.interface.default_phase_info.height_energy import phase_info as HE_phase_info\n",
    "from aviary.interface.default_phase_info.two_dof import phase_info as TwoDOF_phase_info\n",
    "from aviary.interface.utils.check_phase_info import check_phase_info, HEIGHT_ENERGY, TWO_DEGREES_OF_FREEDOM\n",
    "from aviary.docs.tests.utils import glue_keys\n",
    "from aviary.interface.methods_for_level2 import AviaryProblem\n",
    "from copy import deepcopy\n",
    "import openmdao.api as om\n",
    "\n",
    "check_phase_info(HE_phase_info, HEIGHT_ENERGY);\n",
    "check_phase_info(TwoDOF_phase_info, TWO_DEGREES_OF_FREEDOM);\n",
    "\n",
    "def get_completed_phase_info(filename, phase_info=None):\n",
    "    prob = AviaryProblem()\n",
    "    prob.load_inputs(filename, phase_info=phase_info)\n",
    "    prob.check_and_preprocess_inputs()\n",
    "    prob.add_phases()\n",
    "    complete_phase_info = {}\n",
    "    for phase in prob.phase_objects:\n",
    "        phase_name, info = phase.to_phase_info()\n",
    "        complete_phase_info[phase_name] = info\n",
    "    return complete_phase_info\n",
    "\n",
    "\n",
    "complex_cruise = deepcopy(HE_phase_info['cruise'])\n",
    "#TypeError: EnergyPhase: complex_cruise: unsupported option: use_actual_takeoff_mass\n",
    "# from aviary.mission.flops_based.ode.mission_ODE import MissionODE\n",
    "# complex_cruise['user_options']['ode_class'] = MissionODE\n",
    "# complex_cruise['user_options']['mass_f_cruise'] = 115000\n",
    "# complex_cruise['user_options']['range_f_cruise'] = 3000\n",
    "# complex_cruise['user_options']['solve_segments'] = True\n",
    "# complex_cruise['user_options']['use_actual_takeoff_mass'] = True\n",
    "# complex_cruise['user_options']['`fix_initial_time`'] = True\n",
    "\n",
    "solved_alpha = deepcopy(HE_phase_info['cruise'])\n",
    "solved_alpha['subsystem_options']['core_aerodynamics']['method'] = 'solved_alpha'\n",
    "solved_alpha['subsystem_options']['core_aerodynamics']['aero_data'] = \\\n",
    "    \"subsystems/aerodynamics/gasp_based/data/large_single_aisle_1_aero_free.txt\"\n",
    "\n",
    "pre_mission = deepcopy(HE_phase_info['pre_mission'])\n",
    "pre_mission['linear_solver'] = om.DirectSolver()\n",
    "pre_mission['nonlinear_solver'] = om.NewtonSolver()\n",
    "\n",
    "custom_phase_info = {'pre_mission':pre_mission, 'complex_cruise':complex_cruise, 'solved_alpha':solved_alpha}\n",
    "\n",
    "dummy_phase_info = {}\n",
    "dummy_phase_info.update(HE_phase_info)\n",
    "dummy_phase_info.update(get_completed_phase_info('aircraft_for_bench_FwFm.csv'))\n",
    "dummy_phase_info.update(custom_phase_info)\n",
    "dummy_phase_info.update(get_completed_phase_info('aircraft_for_bench_FwFm.csv', custom_phase_info))\n",
    "dummy_phase_info.update(TwoDOF_phase_info)\n",
    "dummy_phase_info.update(get_completed_phase_info('aircraft_for_bench_GwGm.csv'))\n",
    "glue_keys(dummy_phase_info)\n"
   ]
  },
  {
   "cell_type": "markdown",
   "metadata": {},
   "source": [
    "## Phase Info Dictionary\n",
    "\n",
    "`phase_info` is a nested dictionary that Aviary uses for users to define their mission phases - how they are built, the design variables, constraints, connections, etc.\n",
    "\n",
    "We will now discuss the meaning of the keys within the `phase_info` objects.\n",
    "\n",
    "- If a key starts with `min_` or `max_` or ends with `_lower` or `_upper`, it is a lower or upper bound of a state variable. The following keys are not state variables:\n",
    "  - {glue:md}`required_available_climb_rate`: the minimum rate of climb required from the aircraft at the top of climb (beginning of cruise) point in the mission. You don't want your available rate-of-climb to be 0 in case you need to gain altitude during cruise.\n",
    "  - {glue:md}`EAS_limit`: the maximum descending EAS in knots.\n",
    "  - {glue:md}`throttle`: the prescribed throttle setting. This is only used for `GASP` and `solved` missions.\n",
    "- If a key ends with `_ref` or `_ref0` (except {glue:md}`duration_ref` and {glue:md}`initial_ref`), it is the unit-reference and zero-reference values of the control variable at the nodes. This option is invalid if opt=False. Note that it is a simple usage of  ref and ref0. We refer to [Dymos](https://openmdao.github.io/dymos/api/phase_api.html?highlight=ref0#add-state) for details.\n",
    "- Some keys are for phase time only.\n",
    "  - {glue:md}`duration_ref` is the unit-reference for phase time duration.\n",
    "  - {glue:md}`duration_bounds` are the bounds (lower, upper) for the time duration of the phase.\n",
    "  - {glue:md}`initial_ref` is the unit-reference for the initial value of time.\n",
    "  - {glue:md}`initial_bounds`: the lower and upper bounds of initial time.\n",
    "- If a key starts with `final_`, it is the final value of a state variable.\n",
    "- If a key ends with `_constraint_eq`, it is an equality constraint.\n",
    "\n",
    "- Keys related to altitude:\n",
    "  - We use {glue:md}`final_altitude` to indicate the final altitude of the phase.\n",
    "  - Meanwhile, {glue:md}`alt` is a key in acceleration phase parameter for altitude in `GASP` missions and {glue:md}`altitude` is a key in all other phases of all missions.\n",
    "\n",
    "- Some keys are a boolean flag of True or False:\n",
    "  - {glue:md}`input_initial`: the flag to indicate whether initial values of of a state (such as: altitude, velocity, mass, etc.) is taken.\n",
    "  - {glue:md}`add_initial_mass_constraint`: the flag to indicate whether to add initial mass constraint\n",
    "  - {glue:md}`clean`: the flag to indicate no flaps or gear are included.\n",
    "  - {glue:md}`connect_initial_mass`: the flag to indicate whether the initial mass is the same as the final mass of previous phase.\n",
    "  - {glue:md}`fix_initial`: the flag to indicate whether the initial state variables is fixed.\n",
    "  <!-- - {glue:md}`fix_initial_time`: the flag to indicate whether the initial time is fixed. -->\n",
    "  - {glue:md}`no_climb`: if True for the descent phase, the aircraft is not allowed to climb during the descent phase.\n",
    "  - {glue:md}`no_descent`: if True for the climb phase, the aircraft is not allowed to descend during the climb phase.\n",
    "  - {glue:md}`include_landing`: the flag to indicate whether there is a landing phase.\n",
    "  - {glue:md}`include_takeoff`: the flag to indicate whether there is a takeoff phase.\n",
    "  - {glue:md}`optimize_mass`: if True, the gross takeoff mass of the aircraft is a design variable.\n",
    "  - {glue:md}`target_mach`: the flag to indicate whether to target mach number.\n",
    "- {glue:md}`initial_guesses`: initial guesses of state variables.\n",
    "- `COLLOCATION` related keys:\n",
    "  - {glue:md}`num_segments`: the number of segments in transcription creation in Dymos. The minimum value is 1. This is needed if 'AnalysisScheme' is `COLLOCATION`.\n",
    "  - {glue:md}`order`: the order of polynomials for interpolation in transcription creation in Dymos. The minimum value is 3. This is needed if 'AnalysisScheme' is `COLLOCATION`.\n",
    "- Other Aviary keys:\n",
    "  - {glue:md}`subsystem_options`: The {glue:md}`core_aerodynamics` key allows two methods: `computed` and `solved_alpha`. In case of `solved_alpha`, it requires an additional key {glue:md}`aero_data`.\n",
    "  - {glue:md}`external_subsystems`: a list of external subsystems.\n",
    "- other keys that are self-explanatory:\n",
    "  - {glue:md}`clean`: a flag for low speed aero (which includes high-lift devices) or cruise aero (clean, because it does not include high-lift devices).\n",
    "  - {glue:md}`EAS_target`: the target equivalent airspeed.\n",
    "  - {glue:md}`initial_mach`: initial Mach number.\n",
    "  - {glue:md}`linear_solver`:  provide an instance of a [LinearSolver](https://openmdao.org/newdocs/versions/latest/features/core_features/controlling_solver_behavior/set_solvers.html) to the phase. <!-- looks like this is only supported for pre_mission -->\n",
    "  - {glue:md}`mach_cruise`: the cruise mach number.\n",
    "  <!-- - {glue:md}`mass_f_cruise`: final cruise mass (kg). It is used as `ref` and `defect_ref` in cruise phase. -->\n",
    "  - {glue:md}`nonlinear_solver`: provide an instance of a [NonlinearSolver](https://openmdao.org/newdocs/versions/latest/features/core_features/controlling_solver_behavior/set_solvers.html) to the phase. <!-- looks like this is only supported for pre_mission -->\n",
    "  <!-- - {glue:md}`ode_class`: default to `MissionODE`. -->\n",
    "  <!-- - {glue:md}`range_f_cruise`: final cruise range (m). It is used as `ref` and `defect_ref` in cruise phase. -->\n",
    "  <!-- - {glue:md}`solve_segments`: False, 'forward', 'backward'. This is a Radau option. -->\n",
    "  - {glue:md}`polynomial_control_order`: default to `None`.\n",
    "  <!-- - {glue:md}`use_actual_takeoff_mass`: default to `False`. -->\n",
    "  - {glue:md}`fix_duration`: default to `False`.\n",
    "  - {glue:md}`solve_for_distance`: if True, use a nonlinear solver to converge the `distance` state variable to the desired value. Otherwise use the optimizer to converge the `distance` state.\n",
    "  - {glue:md}`optimize_mach`: if True, the Mach number is a design variable.\n",
    "  - {glue:md}`optimize_altitude`: if True, the altitude is a design variable.\n",
    "  - {glue:md}`constraints`: a dictionary of user-defined constraints. The keys are the names of the constraints and the values are the keyword arguments expected by Dymos.\n",
    "\n",
    "```{note}\n",
    "Not all the keys apply to all phases. The users should select the right keys for each phase of interest. The required keys for each phase are defined in [check_phase_info](https://github.com/OpenMDAO/Aviary/blob/main/aviary/interface/utils.py) function. Currently, this function does the check only for `FLOPS` and `GASP` missions.\n",
    "```\n",
    "\n",
    "## Using custom phase builders\n",
    "\n",
    "For the `height_energy`, you can use a user-defined phase builder.\n",
    "The user-defined phase builder must inherit from `PhaseBuilderBase` and provide the `from_phase_info` and the `build_phase` methods.\n",
    "The `from_phase_info` method is used to convert the `phase_info` dictionary into the inputs needed for the phase builder object.\n",
    "The `build_phase` method is used to actually build and output the `Phase` object.\n",
    "\n",
    "For examples of how to create a custom phase builder, see the `energy_phase.py` file.\n",
    "\n",
    "```{note}\n",
    "Using custom phase builders is a particularly advanced feature and is not recommended for most users.\n",
    "```"
   ]
  },
  {
   "cell_type": "code",
   "execution_count": null,
   "metadata": {
    "tags": [
     "remove-cell"
    ]
   },
   "outputs": [],
   "source": [
    "# Testing Cell\n",
    "from aviary.mission.phase_builder_base import PhaseBuilderBase\n",
    "PhaseBuilderBase.from_phase_info;\n",
    "PhaseBuilderBase.build_phase;"
   ]
  }
 ],
 "metadata": {
  "kernelspec": {
   "display_name": "latest_env",
   "language": "python",
   "name": "python3"
  },
  "language_info": {
   "codemirror_mode": {
    "name": "ipython",
    "version": 3
   },
   "file_extension": ".py",
   "mimetype": "text/x-python",
   "name": "python",
   "nbconvert_exporter": "python",
   "pygments_lexer": "ipython3",
   "version": "3.10.13"
  }
 },
 "nbformat": 4,
 "nbformat_minor": 2
}
