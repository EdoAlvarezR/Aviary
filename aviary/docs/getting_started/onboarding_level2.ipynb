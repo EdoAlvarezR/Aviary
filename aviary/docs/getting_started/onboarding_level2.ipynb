{
 "cells": [
  {
   "cell_type": "markdown",
   "id": "cd250ed3",
   "metadata": {},
   "source": [
    "# Level 2\n",
    "\n",
    "We have discussed [Level 1](onboarding_level1) in great detail. As we have seen, Level 1 is relatively simple.\n",
    "\n",
    "In Level 2, we see more flexibility and additional choices. You will be exposed to some simple Python code and see how Aviary establishes a problem from beginning to end. Each step is built upon the capabilities of [Level 3](onboarding_level3). Users will be led to Level 3 in a natural way."
   ]
  },
  {
   "cell_type": "code",
   "execution_count": 1,
   "id": "1e1804c6",
   "metadata": {
    "tags": [
     "remove-cell"
    ]
   },
   "outputs": [
    {
     "data": {
      "application/javascript": "(function(root) {\n  function now() {\n    return new Date();\n  }\n\n  var force = true;\n  var py_version = '3.3.2'.replace('rc', '-rc.').replace('.dev', '-dev.');\n  var reloading = false;\n  var Bokeh = root.Bokeh;\n\n  if (typeof (root._bokeh_timeout) === \"undefined\" || force) {\n    root._bokeh_timeout = Date.now() + 5000;\n    root._bokeh_failed_load = false;\n  }\n\n  function run_callbacks() {\n    try {\n      root._bokeh_onload_callbacks.forEach(function(callback) {\n        if (callback != null)\n          callback();\n      });\n    } finally {\n      delete root._bokeh_onload_callbacks;\n    }\n    console.debug(\"Bokeh: all callbacks have finished\");\n  }\n\n  function load_libs(css_urls, js_urls, js_modules, js_exports, callback) {\n    if (css_urls == null) css_urls = [];\n    if (js_urls == null) js_urls = [];\n    if (js_modules == null) js_modules = [];\n    if (js_exports == null) js_exports = {};\n\n    root._bokeh_onload_callbacks.push(callback);\n\n    if (root._bokeh_is_loading > 0) {\n      console.debug(\"Bokeh: BokehJS is being loaded, scheduling callback at\", now());\n      return null;\n    }\n    if (js_urls.length === 0 && js_modules.length === 0 && Object.keys(js_exports).length === 0) {\n      run_callbacks();\n      return null;\n    }\n    if (!reloading) {\n      console.debug(\"Bokeh: BokehJS not loaded, scheduling load and callback at\", now());\n    }\n\n    function on_load() {\n      root._bokeh_is_loading--;\n      if (root._bokeh_is_loading === 0) {\n        console.debug(\"Bokeh: all BokehJS libraries/stylesheets loaded\");\n        run_callbacks()\n      }\n    }\n    window._bokeh_on_load = on_load\n\n    function on_error() {\n      console.error(\"failed to load \" + url);\n    }\n\n    var skip = [];\n    if (window.requirejs) {\n      window.requirejs.config({'packages': {}, 'paths': {'jspanel': 'https://cdn.jsdelivr.net/npm/jspanel4@4.12.0/dist/jspanel', 'jspanel-modal': 'https://cdn.jsdelivr.net/npm/jspanel4@4.12.0/dist/extensions/modal/jspanel.modal', 'jspanel-tooltip': 'https://cdn.jsdelivr.net/npm/jspanel4@4.12.0/dist/extensions/tooltip/jspanel.tooltip', 'jspanel-hint': 'https://cdn.jsdelivr.net/npm/jspanel4@4.12.0/dist/extensions/hint/jspanel.hint', 'jspanel-layout': 'https://cdn.jsdelivr.net/npm/jspanel4@4.12.0/dist/extensions/layout/jspanel.layout', 'jspanel-contextmenu': 'https://cdn.jsdelivr.net/npm/jspanel4@4.12.0/dist/extensions/contextmenu/jspanel.contextmenu', 'jspanel-dock': 'https://cdn.jsdelivr.net/npm/jspanel4@4.12.0/dist/extensions/dock/jspanel.dock', 'gridstack': 'https://cdn.jsdelivr.net/npm/gridstack@7.2.3/dist/gridstack-all', 'notyf': 'https://cdn.jsdelivr.net/npm/notyf@3/notyf.min'}, 'shim': {'jspanel': {'exports': 'jsPanel'}, 'gridstack': {'exports': 'GridStack'}}});\n      require([\"jspanel\"], function(jsPanel) {\n\twindow.jsPanel = jsPanel\n\ton_load()\n      })\n      require([\"jspanel-modal\"], function() {\n\ton_load()\n      })\n      require([\"jspanel-tooltip\"], function() {\n\ton_load()\n      })\n      require([\"jspanel-hint\"], function() {\n\ton_load()\n      })\n      require([\"jspanel-layout\"], function() {\n\ton_load()\n      })\n      require([\"jspanel-contextmenu\"], function() {\n\ton_load()\n      })\n      require([\"jspanel-dock\"], function() {\n\ton_load()\n      })\n      require([\"gridstack\"], function(GridStack) {\n\twindow.GridStack = GridStack\n\ton_load()\n      })\n      require([\"notyf\"], function() {\n\ton_load()\n      })\n      root._bokeh_is_loading = css_urls.length + 9;\n    } else {\n      root._bokeh_is_loading = css_urls.length + js_urls.length + js_modules.length + Object.keys(js_exports).length;\n    }\n\n    var existing_stylesheets = []\n    var links = document.getElementsByTagName('link')\n    for (var i = 0; i < links.length; i++) {\n      var link = links[i]\n      if (link.href != null) {\n\texisting_stylesheets.push(link.href)\n      }\n    }\n    for (var i = 0; i < css_urls.length; i++) {\n      var url = css_urls[i];\n      if (existing_stylesheets.indexOf(url) !== -1) {\n\ton_load()\n\tcontinue;\n      }\n      const element = document.createElement(\"link\");\n      element.onload = on_load;\n      element.onerror = on_error;\n      element.rel = \"stylesheet\";\n      element.type = \"text/css\";\n      element.href = url;\n      console.debug(\"Bokeh: injecting link tag for BokehJS stylesheet: \", url);\n      document.body.appendChild(element);\n    }    if (((window['jsPanel'] !== undefined) && (!(window['jsPanel'] instanceof HTMLElement))) || window.requirejs) {\n      var urls = ['https://cdn.holoviz.org/panel/1.3.6/dist/bundled/floatpanel/jspanel4@4.12.0/dist/jspanel.js', 'https://cdn.holoviz.org/panel/1.3.6/dist/bundled/floatpanel/jspanel4@4.12.0/dist/extensions/modal/jspanel.modal.js', 'https://cdn.holoviz.org/panel/1.3.6/dist/bundled/floatpanel/jspanel4@4.12.0/dist/extensions/tooltip/jspanel.tooltip.js', 'https://cdn.holoviz.org/panel/1.3.6/dist/bundled/floatpanel/jspanel4@4.12.0/dist/extensions/hint/jspanel.hint.js', 'https://cdn.holoviz.org/panel/1.3.6/dist/bundled/floatpanel/jspanel4@4.12.0/dist/extensions/layout/jspanel.layout.js', 'https://cdn.holoviz.org/panel/1.3.6/dist/bundled/floatpanel/jspanel4@4.12.0/dist/extensions/contextmenu/jspanel.contextmenu.js', 'https://cdn.holoviz.org/panel/1.3.6/dist/bundled/floatpanel/jspanel4@4.12.0/dist/extensions/dock/jspanel.dock.js'];\n      for (var i = 0; i < urls.length; i++) {\n        skip.push(urls[i])\n      }\n    }    if (((window['GridStack'] !== undefined) && (!(window['GridStack'] instanceof HTMLElement))) || window.requirejs) {\n      var urls = ['https://cdn.holoviz.org/panel/1.3.6/dist/bundled/gridstack/gridstack@7.2.3/dist/gridstack-all.js'];\n      for (var i = 0; i < urls.length; i++) {\n        skip.push(urls[i])\n      }\n    }    if (((window['Notyf'] !== undefined) && (!(window['Notyf'] instanceof HTMLElement))) || window.requirejs) {\n      var urls = ['https://cdn.holoviz.org/panel/1.3.6/dist/bundled/notificationarea/notyf@3/notyf.min.js'];\n      for (var i = 0; i < urls.length; i++) {\n        skip.push(urls[i])\n      }\n    }    var existing_scripts = []\n    var scripts = document.getElementsByTagName('script')\n    for (var i = 0; i < scripts.length; i++) {\n      var script = scripts[i]\n      if (script.src != null) {\n\texisting_scripts.push(script.src)\n      }\n    }\n    for (var i = 0; i < js_urls.length; i++) {\n      var url = js_urls[i];\n      if (skip.indexOf(url) !== -1 || existing_scripts.indexOf(url) !== -1) {\n\tif (!window.requirejs) {\n\t  on_load();\n\t}\n\tcontinue;\n      }\n      var element = document.createElement('script');\n      element.onload = on_load;\n      element.onerror = on_error;\n      element.async = false;\n      element.src = url;\n      console.debug(\"Bokeh: injecting script tag for BokehJS library: \", url);\n      document.head.appendChild(element);\n    }\n    for (var i = 0; i < js_modules.length; i++) {\n      var url = js_modules[i];\n      if (skip.indexOf(url) !== -1 || existing_scripts.indexOf(url) !== -1) {\n\tif (!window.requirejs) {\n\t  on_load();\n\t}\n\tcontinue;\n      }\n      var element = document.createElement('script');\n      element.onload = on_load;\n      element.onerror = on_error;\n      element.async = false;\n      element.src = url;\n      element.type = \"module\";\n      console.debug(\"Bokeh: injecting script tag for BokehJS library: \", url);\n      document.head.appendChild(element);\n    }\n    for (const name in js_exports) {\n      var url = js_exports[name];\n      if (skip.indexOf(url) >= 0 || root[name] != null) {\n\tif (!window.requirejs) {\n\t  on_load();\n\t}\n\tcontinue;\n      }\n      var element = document.createElement('script');\n      element.onerror = on_error;\n      element.async = false;\n      element.type = \"module\";\n      console.debug(\"Bokeh: injecting script tag for BokehJS library: \", url);\n      element.textContent = `\n      import ${name} from \"${url}\"\n      window.${name} = ${name}\n      window._bokeh_on_load()\n      `\n      document.head.appendChild(element);\n    }\n    if (!js_urls.length && !js_modules.length) {\n      on_load()\n    }\n  };\n\n  function inject_raw_css(css) {\n    const element = document.createElement(\"style\");\n    element.appendChild(document.createTextNode(css));\n    document.body.appendChild(element);\n  }\n\n  var js_urls = [\"https://cdn.bokeh.org/bokeh/release/bokeh-3.3.2.min.js\", \"https://cdn.bokeh.org/bokeh/release/bokeh-gl-3.3.2.min.js\", \"https://cdn.bokeh.org/bokeh/release/bokeh-widgets-3.3.2.min.js\", \"https://cdn.bokeh.org/bokeh/release/bokeh-tables-3.3.2.min.js\", \"https://cdn.holoviz.org/panel/1.3.6/dist/panel.min.js\"];\n  var js_modules = [];\n  var js_exports = {};\n  var css_urls = [];\n  var inline_js = [    function(Bokeh) {\n      Bokeh.set_log_level(\"info\");\n    },\nfunction(Bokeh) {} // ensure no trailing comma for IE\n  ];\n\n  function run_inline_js() {\n    if ((root.Bokeh !== undefined) || (force === true)) {\n      for (var i = 0; i < inline_js.length; i++) {\n\ttry {\n          inline_js[i].call(root, root.Bokeh);\n\t} catch(e) {\n\t  if (!reloading) {\n\t    throw e;\n\t  }\n\t}\n      }\n      // Cache old bokeh versions\n      if (Bokeh != undefined && !reloading) {\n\tvar NewBokeh = root.Bokeh;\n\tif (Bokeh.versions === undefined) {\n\t  Bokeh.versions = new Map();\n\t}\n\tif (NewBokeh.version !== Bokeh.version) {\n\t  Bokeh.versions.set(NewBokeh.version, NewBokeh)\n\t}\n\troot.Bokeh = Bokeh;\n      }} else if (Date.now() < root._bokeh_timeout) {\n      setTimeout(run_inline_js, 100);\n    } else if (!root._bokeh_failed_load) {\n      console.log(\"Bokeh: BokehJS failed to load within specified timeout.\");\n      root._bokeh_failed_load = true;\n    }\n    root._bokeh_is_initializing = false\n  }\n\n  function load_or_wait() {\n    // Implement a backoff loop that tries to ensure we do not load multiple\n    // versions of Bokeh and its dependencies at the same time.\n    // In recent versions we use the root._bokeh_is_initializing flag\n    // to determine whether there is an ongoing attempt to initialize\n    // bokeh, however for backward compatibility we also try to ensure\n    // that we do not start loading a newer (Panel>=1.0 and Bokeh>3) version\n    // before older versions are fully initialized.\n    if (root._bokeh_is_initializing && Date.now() > root._bokeh_timeout) {\n      root._bokeh_is_initializing = false;\n      root._bokeh_onload_callbacks = undefined;\n      console.log(\"Bokeh: BokehJS was loaded multiple times but one version failed to initialize.\");\n      load_or_wait();\n    } else if (root._bokeh_is_initializing || (typeof root._bokeh_is_initializing === \"undefined\" && root._bokeh_onload_callbacks !== undefined)) {\n      setTimeout(load_or_wait, 100);\n    } else {\n      root._bokeh_is_initializing = true\n      root._bokeh_onload_callbacks = []\n      var bokeh_loaded = Bokeh != null && (Bokeh.version === py_version || (Bokeh.versions !== undefined && Bokeh.versions.has(py_version)));\n      if (!reloading && !bokeh_loaded) {\n\troot.Bokeh = undefined;\n      }\n      load_libs(css_urls, js_urls, js_modules, js_exports, function() {\n\tconsole.debug(\"Bokeh: BokehJS plotting callback run at\", now());\n\trun_inline_js();\n      });\n    }\n  }\n  // Give older versions of the autoload script a head-start to ensure\n  // they initialize before we start loading newer version.\n  setTimeout(load_or_wait, 100)\n}(window));",
      "application/vnd.holoviews_load.v0+json": ""
     },
     "metadata": {},
     "output_type": "display_data"
    },
    {
     "data": {
      "application/javascript": "\nif ((window.PyViz === undefined) || (window.PyViz instanceof HTMLElement)) {\n  window.PyViz = {comms: {}, comm_status:{}, kernels:{}, receivers: {}, plot_index: []}\n}\n\n\n    function JupyterCommManager() {\n    }\n\n    JupyterCommManager.prototype.register_target = function(plot_id, comm_id, msg_handler) {\n      if (window.comm_manager || ((window.Jupyter !== undefined) && (Jupyter.notebook.kernel != null))) {\n        var comm_manager = window.comm_manager || Jupyter.notebook.kernel.comm_manager;\n        comm_manager.register_target(comm_id, function(comm) {\n          comm.on_msg(msg_handler);\n        });\n      } else if ((plot_id in window.PyViz.kernels) && (window.PyViz.kernels[plot_id])) {\n        window.PyViz.kernels[plot_id].registerCommTarget(comm_id, function(comm) {\n          comm.onMsg = msg_handler;\n        });\n      } else if (typeof google != 'undefined' && google.colab.kernel != null) {\n        google.colab.kernel.comms.registerTarget(comm_id, (comm) => {\n          var messages = comm.messages[Symbol.asyncIterator]();\n          function processIteratorResult(result) {\n            var message = result.value;\n            console.log(message)\n            var content = {data: message.data, comm_id};\n            var buffers = []\n            for (var buffer of message.buffers || []) {\n              buffers.push(new DataView(buffer))\n            }\n            var metadata = message.metadata || {};\n            var msg = {content, buffers, metadata}\n            msg_handler(msg);\n            return messages.next().then(processIteratorResult);\n          }\n          return messages.next().then(processIteratorResult);\n        })\n      }\n    }\n\n    JupyterCommManager.prototype.get_client_comm = function(plot_id, comm_id, msg_handler) {\n      if (comm_id in window.PyViz.comms) {\n        return window.PyViz.comms[comm_id];\n      } else if (window.comm_manager || ((window.Jupyter !== undefined) && (Jupyter.notebook.kernel != null))) {\n        var comm_manager = window.comm_manager || Jupyter.notebook.kernel.comm_manager;\n        var comm = comm_manager.new_comm(comm_id, {}, {}, {}, comm_id);\n        if (msg_handler) {\n          comm.on_msg(msg_handler);\n        }\n      } else if ((plot_id in window.PyViz.kernels) && (window.PyViz.kernels[plot_id])) {\n        var comm = window.PyViz.kernels[plot_id].connectToComm(comm_id);\n        comm.open();\n        if (msg_handler) {\n          comm.onMsg = msg_handler;\n        }\n      } else if (typeof google != 'undefined' && google.colab.kernel != null) {\n        var comm_promise = google.colab.kernel.comms.open(comm_id)\n        comm_promise.then((comm) => {\n          window.PyViz.comms[comm_id] = comm;\n          if (msg_handler) {\n            var messages = comm.messages[Symbol.asyncIterator]();\n            function processIteratorResult(result) {\n              var message = result.value;\n              var content = {data: message.data};\n              var metadata = message.metadata || {comm_id};\n              var msg = {content, metadata}\n              msg_handler(msg);\n              return messages.next().then(processIteratorResult);\n            }\n            return messages.next().then(processIteratorResult);\n          }\n        }) \n        var sendClosure = (data, metadata, buffers, disposeOnDone) => {\n          return comm_promise.then((comm) => {\n            comm.send(data, metadata, buffers, disposeOnDone);\n          });\n        };\n        var comm = {\n          send: sendClosure\n        };\n      }\n      window.PyViz.comms[comm_id] = comm;\n      return comm;\n    }\n    window.PyViz.comm_manager = new JupyterCommManager();\n    \n\n\nvar JS_MIME_TYPE = 'application/javascript';\nvar HTML_MIME_TYPE = 'text/html';\nvar EXEC_MIME_TYPE = 'application/vnd.holoviews_exec.v0+json';\nvar CLASS_NAME = 'output';\n\n/**\n * Render data to the DOM node\n */\nfunction render(props, node) {\n  var div = document.createElement(\"div\");\n  var script = document.createElement(\"script\");\n  node.appendChild(div);\n  node.appendChild(script);\n}\n\n/**\n * Handle when a new output is added\n */\nfunction handle_add_output(event, handle) {\n  var output_area = handle.output_area;\n  var output = handle.output;\n  if ((output.data == undefined) || (!output.data.hasOwnProperty(EXEC_MIME_TYPE))) {\n    return\n  }\n  var id = output.metadata[EXEC_MIME_TYPE][\"id\"];\n  var toinsert = output_area.element.find(\".\" + CLASS_NAME.split(' ')[0]);\n  if (id !== undefined) {\n    var nchildren = toinsert.length;\n    var html_node = toinsert[nchildren-1].children[0];\n    html_node.innerHTML = output.data[HTML_MIME_TYPE];\n    var scripts = [];\n    var nodelist = html_node.querySelectorAll(\"script\");\n    for (var i in nodelist) {\n      if (nodelist.hasOwnProperty(i)) {\n        scripts.push(nodelist[i])\n      }\n    }\n\n    scripts.forEach( function (oldScript) {\n      var newScript = document.createElement(\"script\");\n      var attrs = [];\n      var nodemap = oldScript.attributes;\n      for (var j in nodemap) {\n        if (nodemap.hasOwnProperty(j)) {\n          attrs.push(nodemap[j])\n        }\n      }\n      attrs.forEach(function(attr) { newScript.setAttribute(attr.name, attr.value) });\n      newScript.appendChild(document.createTextNode(oldScript.innerHTML));\n      oldScript.parentNode.replaceChild(newScript, oldScript);\n    });\n    if (JS_MIME_TYPE in output.data) {\n      toinsert[nchildren-1].children[1].textContent = output.data[JS_MIME_TYPE];\n    }\n    output_area._hv_plot_id = id;\n    if ((window.Bokeh !== undefined) && (id in Bokeh.index)) {\n      window.PyViz.plot_index[id] = Bokeh.index[id];\n    } else {\n      window.PyViz.plot_index[id] = null;\n    }\n  } else if (output.metadata[EXEC_MIME_TYPE][\"server_id\"] !== undefined) {\n    var bk_div = document.createElement(\"div\");\n    bk_div.innerHTML = output.data[HTML_MIME_TYPE];\n    var script_attrs = bk_div.children[0].attributes;\n    for (var i = 0; i < script_attrs.length; i++) {\n      toinsert[toinsert.length - 1].childNodes[1].setAttribute(script_attrs[i].name, script_attrs[i].value);\n    }\n    // store reference to server id on output_area\n    output_area._bokeh_server_id = output.metadata[EXEC_MIME_TYPE][\"server_id\"];\n  }\n}\n\n/**\n * Handle when an output is cleared or removed\n */\nfunction handle_clear_output(event, handle) {\n  var id = handle.cell.output_area._hv_plot_id;\n  var server_id = handle.cell.output_area._bokeh_server_id;\n  if (((id === undefined) || !(id in PyViz.plot_index)) && (server_id !== undefined)) { return; }\n  var comm = window.PyViz.comm_manager.get_client_comm(\"hv-extension-comm\", \"hv-extension-comm\", function () {});\n  if (server_id !== null) {\n    comm.send({event_type: 'server_delete', 'id': server_id});\n    return;\n  } else if (comm !== null) {\n    comm.send({event_type: 'delete', 'id': id});\n  }\n  delete PyViz.plot_index[id];\n  if ((window.Bokeh !== undefined) & (id in window.Bokeh.index)) {\n    var doc = window.Bokeh.index[id].model.document\n    doc.clear();\n    const i = window.Bokeh.documents.indexOf(doc);\n    if (i > -1) {\n      window.Bokeh.documents.splice(i, 1);\n    }\n  }\n}\n\n/**\n * Handle kernel restart event\n */\nfunction handle_kernel_cleanup(event, handle) {\n  delete PyViz.comms[\"hv-extension-comm\"];\n  window.PyViz.plot_index = {}\n}\n\n/**\n * Handle update_display_data messages\n */\nfunction handle_update_output(event, handle) {\n  handle_clear_output(event, {cell: {output_area: handle.output_area}})\n  handle_add_output(event, handle)\n}\n\nfunction register_renderer(events, OutputArea) {\n  function append_mime(data, metadata, element) {\n    // create a DOM node to render to\n    var toinsert = this.create_output_subarea(\n    metadata,\n    CLASS_NAME,\n    EXEC_MIME_TYPE\n    );\n    this.keyboard_manager.register_events(toinsert);\n    // Render to node\n    var props = {data: data, metadata: metadata[EXEC_MIME_TYPE]};\n    render(props, toinsert[0]);\n    element.append(toinsert);\n    return toinsert\n  }\n\n  events.on('output_added.OutputArea', handle_add_output);\n  events.on('output_updated.OutputArea', handle_update_output);\n  events.on('clear_output.CodeCell', handle_clear_output);\n  events.on('delete.Cell', handle_clear_output);\n  events.on('kernel_ready.Kernel', handle_kernel_cleanup);\n\n  OutputArea.prototype.register_mime_type(EXEC_MIME_TYPE, append_mime, {\n    safe: true,\n    index: 0\n  });\n}\n\nif (window.Jupyter !== undefined) {\n  try {\n    var events = require('base/js/events');\n    var OutputArea = require('notebook/js/outputarea').OutputArea;\n    if (OutputArea.prototype.mime_types().indexOf(EXEC_MIME_TYPE) == -1) {\n      register_renderer(events, OutputArea);\n    }\n  } catch(err) {\n  }\n}\n",
      "application/vnd.holoviews_load.v0+json": ""
     },
     "metadata": {},
     "output_type": "display_data"
    },
    {
     "data": {
      "text/html": [
       "<style>*[data-root-id],\n",
       "*[data-root-id] > * {\n",
       "  box-sizing: border-box;\n",
       "  font-family: var(--jp-ui-font-family);\n",
       "  font-size: var(--jp-ui-font-size1);\n",
       "  color: var(--vscode-editor-foreground, var(--jp-ui-font-color1));\n",
       "}\n",
       "\n",
       "/* Override VSCode background color */\n",
       ".cell-output-ipywidget-background:has(\n",
       "    > .cell-output-ipywidget-background > .lm-Widget > *[data-root-id]\n",
       "  ),\n",
       ".cell-output-ipywidget-background:has(> .lm-Widget > *[data-root-id]) {\n",
       "  background-color: transparent !important;\n",
       "}\n",
       "</style>"
      ]
     },
     "metadata": {},
     "output_type": "display_data"
    },
    {
     "data": {
      "application/vnd.holoviews_exec.v0+json": "",
      "text/html": [
       "<div id='14260fa8-ed5a-40d1-a523-4f7ac8d67055'>\n",
       "  <div id=\"d0d084f1-805f-4fa7-8185-78b302619ab1\" data-root-id=\"14260fa8-ed5a-40d1-a523-4f7ac8d67055\" style=\"display: contents;\"></div>\n",
       "</div>\n",
       "<script type=\"application/javascript\">(function(root) {\n",
       "  var docs_json = {\"88328f77-fd9d-4da2-a02d-ddcce668f460\":{\"version\":\"3.3.2\",\"title\":\"Bokeh Application\",\"roots\":[{\"type\":\"object\",\"name\":\"panel.models.browser.BrowserInfo\",\"id\":\"14260fa8-ed5a-40d1-a523-4f7ac8d67055\"},{\"type\":\"object\",\"name\":\"panel.models.comm_manager.CommManager\",\"id\":\"92fd96e3-e468-40fa-8377-443996cb4084\",\"attributes\":{\"plot_id\":\"14260fa8-ed5a-40d1-a523-4f7ac8d67055\",\"comm_id\":\"a2e28501c047439aaea6868bc90c4f17\",\"client_comm_id\":\"316c0ae2ba044f84a20e6c00911f1d25\"}}],\"defs\":[{\"type\":\"model\",\"name\":\"ReactiveHTML1\"},{\"type\":\"model\",\"name\":\"FlexBox1\",\"properties\":[{\"name\":\"align_content\",\"kind\":\"Any\",\"default\":\"flex-start\"},{\"name\":\"align_items\",\"kind\":\"Any\",\"default\":\"flex-start\"},{\"name\":\"flex_direction\",\"kind\":\"Any\",\"default\":\"row\"},{\"name\":\"flex_wrap\",\"kind\":\"Any\",\"default\":\"wrap\"},{\"name\":\"justify_content\",\"kind\":\"Any\",\"default\":\"flex-start\"}]},{\"type\":\"model\",\"name\":\"FloatPanel1\",\"properties\":[{\"name\":\"config\",\"kind\":\"Any\",\"default\":{\"type\":\"map\"}},{\"name\":\"contained\",\"kind\":\"Any\",\"default\":true},{\"name\":\"position\",\"kind\":\"Any\",\"default\":\"right-top\"},{\"name\":\"offsetx\",\"kind\":\"Any\",\"default\":null},{\"name\":\"offsety\",\"kind\":\"Any\",\"default\":null},{\"name\":\"theme\",\"kind\":\"Any\",\"default\":\"primary\"},{\"name\":\"status\",\"kind\":\"Any\",\"default\":\"normalized\"}]},{\"type\":\"model\",\"name\":\"GridStack1\",\"properties\":[{\"name\":\"mode\",\"kind\":\"Any\",\"default\":\"warn\"},{\"name\":\"ncols\",\"kind\":\"Any\",\"default\":null},{\"name\":\"nrows\",\"kind\":\"Any\",\"default\":null},{\"name\":\"allow_resize\",\"kind\":\"Any\",\"default\":true},{\"name\":\"allow_drag\",\"kind\":\"Any\",\"default\":true},{\"name\":\"state\",\"kind\":\"Any\",\"default\":[]}]},{\"type\":\"model\",\"name\":\"drag1\",\"properties\":[{\"name\":\"slider_width\",\"kind\":\"Any\",\"default\":5},{\"name\":\"slider_color\",\"kind\":\"Any\",\"default\":\"black\"},{\"name\":\"value\",\"kind\":\"Any\",\"default\":50}]},{\"type\":\"model\",\"name\":\"click1\",\"properties\":[{\"name\":\"terminal_output\",\"kind\":\"Any\",\"default\":\"\"},{\"name\":\"debug_name\",\"kind\":\"Any\",\"default\":\"\"},{\"name\":\"clears\",\"kind\":\"Any\",\"default\":0}]},{\"type\":\"model\",\"name\":\"copy_to_clipboard1\",\"properties\":[{\"name\":\"fill\",\"kind\":\"Any\",\"default\":\"none\"},{\"name\":\"value\",\"kind\":\"Any\",\"default\":null}]},{\"type\":\"model\",\"name\":\"FastWrapper1\",\"properties\":[{\"name\":\"object\",\"kind\":\"Any\",\"default\":null},{\"name\":\"style\",\"kind\":\"Any\",\"default\":null}]},{\"type\":\"model\",\"name\":\"NotificationAreaBase1\",\"properties\":[{\"name\":\"js_events\",\"kind\":\"Any\",\"default\":{\"type\":\"map\"}},{\"name\":\"position\",\"kind\":\"Any\",\"default\":\"bottom-right\"},{\"name\":\"_clear\",\"kind\":\"Any\",\"default\":0}]},{\"type\":\"model\",\"name\":\"NotificationArea1\",\"properties\":[{\"name\":\"js_events\",\"kind\":\"Any\",\"default\":{\"type\":\"map\"}},{\"name\":\"notifications\",\"kind\":\"Any\",\"default\":[]},{\"name\":\"position\",\"kind\":\"Any\",\"default\":\"bottom-right\"},{\"name\":\"_clear\",\"kind\":\"Any\",\"default\":0},{\"name\":\"types\",\"kind\":\"Any\",\"default\":[{\"type\":\"map\",\"entries\":[[\"type\",\"warning\"],[\"background\",\"#ffc107\"],[\"icon\",{\"type\":\"map\",\"entries\":[[\"className\",\"fas fa-exclamation-triangle\"],[\"tagName\",\"i\"],[\"color\",\"white\"]]}]]},{\"type\":\"map\",\"entries\":[[\"type\",\"info\"],[\"background\",\"#007bff\"],[\"icon\",{\"type\":\"map\",\"entries\":[[\"className\",\"fas fa-info-circle\"],[\"tagName\",\"i\"],[\"color\",\"white\"]]}]]}]}]},{\"type\":\"model\",\"name\":\"Notification\",\"properties\":[{\"name\":\"background\",\"kind\":\"Any\",\"default\":null},{\"name\":\"duration\",\"kind\":\"Any\",\"default\":3000},{\"name\":\"icon\",\"kind\":\"Any\",\"default\":null},{\"name\":\"message\",\"kind\":\"Any\",\"default\":\"\"},{\"name\":\"notification_type\",\"kind\":\"Any\",\"default\":null},{\"name\":\"_destroyed\",\"kind\":\"Any\",\"default\":false}]},{\"type\":\"model\",\"name\":\"TemplateActions1\",\"properties\":[{\"name\":\"open_modal\",\"kind\":\"Any\",\"default\":0},{\"name\":\"close_modal\",\"kind\":\"Any\",\"default\":0}]},{\"type\":\"model\",\"name\":\"BootstrapTemplateActions1\",\"properties\":[{\"name\":\"open_modal\",\"kind\":\"Any\",\"default\":0},{\"name\":\"close_modal\",\"kind\":\"Any\",\"default\":0}]},{\"type\":\"model\",\"name\":\"MaterialTemplateActions1\",\"properties\":[{\"name\":\"open_modal\",\"kind\":\"Any\",\"default\":0},{\"name\":\"close_modal\",\"kind\":\"Any\",\"default\":0}]}]}};\n",
       "  var render_items = [{\"docid\":\"88328f77-fd9d-4da2-a02d-ddcce668f460\",\"roots\":{\"14260fa8-ed5a-40d1-a523-4f7ac8d67055\":\"d0d084f1-805f-4fa7-8185-78b302619ab1\"},\"root_ids\":[\"14260fa8-ed5a-40d1-a523-4f7ac8d67055\"]}];\n",
       "  var docs = Object.values(docs_json)\n",
       "  if (!docs) {\n",
       "    return\n",
       "  }\n",
       "  const py_version = docs[0].version.replace('rc', '-rc.').replace('.dev', '-dev.')\n",
       "  function embed_document(root) {\n",
       "    var Bokeh = get_bokeh(root)\n",
       "    Bokeh.embed.embed_items_notebook(docs_json, render_items);\n",
       "    for (const render_item of render_items) {\n",
       "      for (const root_id of render_item.root_ids) {\n",
       "\tconst id_el = document.getElementById(root_id)\n",
       "\tif (id_el.children.length && (id_el.children[0].className === 'bk-root')) {\n",
       "\t  const root_el = id_el.children[0]\n",
       "\t  root_el.id = root_el.id + '-rendered'\n",
       "\t}\n",
       "      }\n",
       "    }\n",
       "  }\n",
       "  function get_bokeh(root) {\n",
       "    if (root.Bokeh === undefined) {\n",
       "      return null\n",
       "    } else if (root.Bokeh.version !== py_version) {\n",
       "      if (root.Bokeh.versions === undefined || !root.Bokeh.versions.has(py_version)) {\n",
       "\treturn null\n",
       "      }\n",
       "      return root.Bokeh.versions.get(py_version);\n",
       "    } else if (root.Bokeh.version === py_version) {\n",
       "      return root.Bokeh\n",
       "    }\n",
       "    return null\n",
       "  }\n",
       "  function is_loaded(root) {\n",
       "    var Bokeh = get_bokeh(root)\n",
       "    return (Bokeh != null && Bokeh.Panel !== undefined)\n",
       "  }\n",
       "  if (is_loaded(root)) {\n",
       "    embed_document(root);\n",
       "  } else {\n",
       "    var attempts = 0;\n",
       "    var timer = setInterval(function(root) {\n",
       "      if (is_loaded(root)) {\n",
       "        clearInterval(timer);\n",
       "        embed_document(root);\n",
       "      } else if (document.readyState == \"complete\") {\n",
       "        attempts++;\n",
       "        if (attempts > 200) {\n",
       "          clearInterval(timer);\n",
       "\t  var Bokeh = get_bokeh(root)\n",
       "\t  if (Bokeh == null || Bokeh.Panel == null) {\n",
       "            console.warn(\"Panel: ERROR: Unable to run Panel code because Bokeh or Panel library is missing\");\n",
       "\t  } else {\n",
       "\t    console.warn(\"Panel: WARNING: Attempting to render but not all required libraries could be resolved.\")\n",
       "\t    embed_document(root)\n",
       "\t  }\n",
       "        }\n",
       "      }\n",
       "    }, 25, root)\n",
       "  }\n",
       "})(window);</script>"
      ]
     },
     "metadata": {
      "application/vnd.holoviews_exec.v0+json": {
       "id": "14260fa8-ed5a-40d1-a523-4f7ac8d67055"
      }
     },
     "output_type": "display_data"
    },
    {
     "data": {
      "application/javascript": "(function(root) {\n  function now() {\n    return new Date();\n  }\n\n  var force = true;\n  var py_version = '3.3.2'.replace('rc', '-rc.').replace('.dev', '-dev.');\n  var reloading = true;\n  var Bokeh = root.Bokeh;\n\n  if (typeof (root._bokeh_timeout) === \"undefined\" || force) {\n    root._bokeh_timeout = Date.now() + 5000;\n    root._bokeh_failed_load = false;\n  }\n\n  function run_callbacks() {\n    try {\n      root._bokeh_onload_callbacks.forEach(function(callback) {\n        if (callback != null)\n          callback();\n      });\n    } finally {\n      delete root._bokeh_onload_callbacks;\n    }\n    console.debug(\"Bokeh: all callbacks have finished\");\n  }\n\n  function load_libs(css_urls, js_urls, js_modules, js_exports, callback) {\n    if (css_urls == null) css_urls = [];\n    if (js_urls == null) js_urls = [];\n    if (js_modules == null) js_modules = [];\n    if (js_exports == null) js_exports = {};\n\n    root._bokeh_onload_callbacks.push(callback);\n\n    if (root._bokeh_is_loading > 0) {\n      console.debug(\"Bokeh: BokehJS is being loaded, scheduling callback at\", now());\n      return null;\n    }\n    if (js_urls.length === 0 && js_modules.length === 0 && Object.keys(js_exports).length === 0) {\n      run_callbacks();\n      return null;\n    }\n    if (!reloading) {\n      console.debug(\"Bokeh: BokehJS not loaded, scheduling load and callback at\", now());\n    }\n\n    function on_load() {\n      root._bokeh_is_loading--;\n      if (root._bokeh_is_loading === 0) {\n        console.debug(\"Bokeh: all BokehJS libraries/stylesheets loaded\");\n        run_callbacks()\n      }\n    }\n    window._bokeh_on_load = on_load\n\n    function on_error() {\n      console.error(\"failed to load \" + url);\n    }\n\n    var skip = [];\n    if (window.requirejs) {\n      window.requirejs.config({'packages': {}, 'paths': {'tabulator': 'https://cdn.jsdelivr.net/npm/tabulator-tables@5.5.0/dist/js/tabulator.min', 'moment': 'https://cdn.jsdelivr.net/npm/luxon/build/global/luxon.min', 'jspanel': 'https://cdn.jsdelivr.net/npm/jspanel4@4.12.0/dist/jspanel', 'jspanel-modal': 'https://cdn.jsdelivr.net/npm/jspanel4@4.12.0/dist/extensions/modal/jspanel.modal', 'jspanel-tooltip': 'https://cdn.jsdelivr.net/npm/jspanel4@4.12.0/dist/extensions/tooltip/jspanel.tooltip', 'jspanel-hint': 'https://cdn.jsdelivr.net/npm/jspanel4@4.12.0/dist/extensions/hint/jspanel.hint', 'jspanel-layout': 'https://cdn.jsdelivr.net/npm/jspanel4@4.12.0/dist/extensions/layout/jspanel.layout', 'jspanel-contextmenu': 'https://cdn.jsdelivr.net/npm/jspanel4@4.12.0/dist/extensions/contextmenu/jspanel.contextmenu', 'jspanel-dock': 'https://cdn.jsdelivr.net/npm/jspanel4@4.12.0/dist/extensions/dock/jspanel.dock', 'gridstack': 'https://cdn.jsdelivr.net/npm/gridstack@7.2.3/dist/gridstack-all', 'notyf': 'https://cdn.jsdelivr.net/npm/notyf@3/notyf.min'}, 'shim': {'jspanel': {'exports': 'jsPanel'}, 'gridstack': {'exports': 'GridStack'}}});\n      require([\"tabulator\"], function(Tabulator) {\n\twindow.Tabulator = Tabulator\n\ton_load()\n      })\n      require([\"moment\"], function(moment) {\n\twindow.moment = moment\n\ton_load()\n      })\n      require([\"jspanel\"], function(jsPanel) {\n\twindow.jsPanel = jsPanel\n\ton_load()\n      })\n      require([\"jspanel-modal\"], function() {\n\ton_load()\n      })\n      require([\"jspanel-tooltip\"], function() {\n\ton_load()\n      })\n      require([\"jspanel-hint\"], function() {\n\ton_load()\n      })\n      require([\"jspanel-layout\"], function() {\n\ton_load()\n      })\n      require([\"jspanel-contextmenu\"], function() {\n\ton_load()\n      })\n      require([\"jspanel-dock\"], function() {\n\ton_load()\n      })\n      require([\"gridstack\"], function(GridStack) {\n\twindow.GridStack = GridStack\n\ton_load()\n      })\n      require([\"notyf\"], function() {\n\ton_load()\n      })\n      root._bokeh_is_loading = css_urls.length + 11;\n    } else {\n      root._bokeh_is_loading = css_urls.length + js_urls.length + js_modules.length + Object.keys(js_exports).length;\n    }\n\n    var existing_stylesheets = []\n    var links = document.getElementsByTagName('link')\n    for (var i = 0; i < links.length; i++) {\n      var link = links[i]\n      if (link.href != null) {\n\texisting_stylesheets.push(link.href)\n      }\n    }\n    for (var i = 0; i < css_urls.length; i++) {\n      var url = css_urls[i];\n      if (existing_stylesheets.indexOf(url) !== -1) {\n\ton_load()\n\tcontinue;\n      }\n      const element = document.createElement(\"link\");\n      element.onload = on_load;\n      element.onerror = on_error;\n      element.rel = \"stylesheet\";\n      element.type = \"text/css\";\n      element.href = url;\n      console.debug(\"Bokeh: injecting link tag for BokehJS stylesheet: \", url);\n      document.body.appendChild(element);\n    }    if (((window['Tabulator'] !== undefined) && (!(window['Tabulator'] instanceof HTMLElement))) || window.requirejs) {\n      var urls = ['https://cdn.holoviz.org/panel/1.3.6/dist/bundled/datatabulator/tabulator-tables@5.5.0/dist/js/tabulator.min.js'];\n      for (var i = 0; i < urls.length; i++) {\n        skip.push(urls[i])\n      }\n    }    if (((window['moment'] !== undefined) && (!(window['moment'] instanceof HTMLElement))) || window.requirejs) {\n      var urls = ['https://cdn.holoviz.org/panel/1.3.6/dist/bundled/datatabulator/luxon/build/global/luxon.min.js'];\n      for (var i = 0; i < urls.length; i++) {\n        skip.push(urls[i])\n      }\n    }    if (((window['jsPanel'] !== undefined) && (!(window['jsPanel'] instanceof HTMLElement))) || window.requirejs) {\n      var urls = ['https://cdn.holoviz.org/panel/1.3.6/dist/bundled/floatpanel/jspanel4@4.12.0/dist/jspanel.js', 'https://cdn.holoviz.org/panel/1.3.6/dist/bundled/floatpanel/jspanel4@4.12.0/dist/extensions/modal/jspanel.modal.js', 'https://cdn.holoviz.org/panel/1.3.6/dist/bundled/floatpanel/jspanel4@4.12.0/dist/extensions/tooltip/jspanel.tooltip.js', 'https://cdn.holoviz.org/panel/1.3.6/dist/bundled/floatpanel/jspanel4@4.12.0/dist/extensions/hint/jspanel.hint.js', 'https://cdn.holoviz.org/panel/1.3.6/dist/bundled/floatpanel/jspanel4@4.12.0/dist/extensions/layout/jspanel.layout.js', 'https://cdn.holoviz.org/panel/1.3.6/dist/bundled/floatpanel/jspanel4@4.12.0/dist/extensions/contextmenu/jspanel.contextmenu.js', 'https://cdn.holoviz.org/panel/1.3.6/dist/bundled/floatpanel/jspanel4@4.12.0/dist/extensions/dock/jspanel.dock.js'];\n      for (var i = 0; i < urls.length; i++) {\n        skip.push(urls[i])\n      }\n    }    if (((window['GridStack'] !== undefined) && (!(window['GridStack'] instanceof HTMLElement))) || window.requirejs) {\n      var urls = ['https://cdn.holoviz.org/panel/1.3.6/dist/bundled/gridstack/gridstack@7.2.3/dist/gridstack-all.js'];\n      for (var i = 0; i < urls.length; i++) {\n        skip.push(urls[i])\n      }\n    }    if (((window['Notyf'] !== undefined) && (!(window['Notyf'] instanceof HTMLElement))) || window.requirejs) {\n      var urls = ['https://cdn.holoviz.org/panel/1.3.6/dist/bundled/notificationarea/notyf@3/notyf.min.js'];\n      for (var i = 0; i < urls.length; i++) {\n        skip.push(urls[i])\n      }\n    }    var existing_scripts = []\n    var scripts = document.getElementsByTagName('script')\n    for (var i = 0; i < scripts.length; i++) {\n      var script = scripts[i]\n      if (script.src != null) {\n\texisting_scripts.push(script.src)\n      }\n    }\n    for (var i = 0; i < js_urls.length; i++) {\n      var url = js_urls[i];\n      if (skip.indexOf(url) !== -1 || existing_scripts.indexOf(url) !== -1) {\n\tif (!window.requirejs) {\n\t  on_load();\n\t}\n\tcontinue;\n      }\n      var element = document.createElement('script');\n      element.onload = on_load;\n      element.onerror = on_error;\n      element.async = false;\n      element.src = url;\n      console.debug(\"Bokeh: injecting script tag for BokehJS library: \", url);\n      document.head.appendChild(element);\n    }\n    for (var i = 0; i < js_modules.length; i++) {\n      var url = js_modules[i];\n      if (skip.indexOf(url) !== -1 || existing_scripts.indexOf(url) !== -1) {\n\tif (!window.requirejs) {\n\t  on_load();\n\t}\n\tcontinue;\n      }\n      var element = document.createElement('script');\n      element.onload = on_load;\n      element.onerror = on_error;\n      element.async = false;\n      element.src = url;\n      element.type = \"module\";\n      console.debug(\"Bokeh: injecting script tag for BokehJS library: \", url);\n      document.head.appendChild(element);\n    }\n    for (const name in js_exports) {\n      var url = js_exports[name];\n      if (skip.indexOf(url) >= 0 || root[name] != null) {\n\tif (!window.requirejs) {\n\t  on_load();\n\t}\n\tcontinue;\n      }\n      var element = document.createElement('script');\n      element.onerror = on_error;\n      element.async = false;\n      element.type = \"module\";\n      console.debug(\"Bokeh: injecting script tag for BokehJS library: \", url);\n      element.textContent = `\n      import ${name} from \"${url}\"\n      window.${name} = ${name}\n      window._bokeh_on_load()\n      `\n      document.head.appendChild(element);\n    }\n    if (!js_urls.length && !js_modules.length) {\n      on_load()\n    }\n  };\n\n  function inject_raw_css(css) {\n    const element = document.createElement(\"style\");\n    element.appendChild(document.createTextNode(css));\n    document.body.appendChild(element);\n  }\n\n  var js_urls = [\"https://cdn.holoviz.org/panel/1.3.6/dist/bundled/datatabulator/tabulator-tables@5.5.0/dist/js/tabulator.min.js\", \"https://cdn.holoviz.org/panel/1.3.6/dist/bundled/datatabulator/luxon/build/global/luxon.min.js\"];\n  var js_modules = [];\n  var js_exports = {};\n  var css_urls = [\"https://cdn.holoviz.org/panel/1.3.6/dist/bundled/datatabulator/tabulator-tables@5.5.0/dist/css/tabulator_simple.min.css\"];\n  var inline_js = [    function(Bokeh) {\n      Bokeh.set_log_level(\"info\");\n    },\nfunction(Bokeh) {} // ensure no trailing comma for IE\n  ];\n\n  function run_inline_js() {\n    if ((root.Bokeh !== undefined) || (force === true)) {\n      for (var i = 0; i < inline_js.length; i++) {\n\ttry {\n          inline_js[i].call(root, root.Bokeh);\n\t} catch(e) {\n\t  if (!reloading) {\n\t    throw e;\n\t  }\n\t}\n      }\n      // Cache old bokeh versions\n      if (Bokeh != undefined && !reloading) {\n\tvar NewBokeh = root.Bokeh;\n\tif (Bokeh.versions === undefined) {\n\t  Bokeh.versions = new Map();\n\t}\n\tif (NewBokeh.version !== Bokeh.version) {\n\t  Bokeh.versions.set(NewBokeh.version, NewBokeh)\n\t}\n\troot.Bokeh = Bokeh;\n      }} else if (Date.now() < root._bokeh_timeout) {\n      setTimeout(run_inline_js, 100);\n    } else if (!root._bokeh_failed_load) {\n      console.log(\"Bokeh: BokehJS failed to load within specified timeout.\");\n      root._bokeh_failed_load = true;\n    }\n    root._bokeh_is_initializing = false\n  }\n\n  function load_or_wait() {\n    // Implement a backoff loop that tries to ensure we do not load multiple\n    // versions of Bokeh and its dependencies at the same time.\n    // In recent versions we use the root._bokeh_is_initializing flag\n    // to determine whether there is an ongoing attempt to initialize\n    // bokeh, however for backward compatibility we also try to ensure\n    // that we do not start loading a newer (Panel>=1.0 and Bokeh>3) version\n    // before older versions are fully initialized.\n    if (root._bokeh_is_initializing && Date.now() > root._bokeh_timeout) {\n      root._bokeh_is_initializing = false;\n      root._bokeh_onload_callbacks = undefined;\n      console.log(\"Bokeh: BokehJS was loaded multiple times but one version failed to initialize.\");\n      load_or_wait();\n    } else if (root._bokeh_is_initializing || (typeof root._bokeh_is_initializing === \"undefined\" && root._bokeh_onload_callbacks !== undefined)) {\n      setTimeout(load_or_wait, 100);\n    } else {\n      root._bokeh_is_initializing = true\n      root._bokeh_onload_callbacks = []\n      var bokeh_loaded = Bokeh != null && (Bokeh.version === py_version || (Bokeh.versions !== undefined && Bokeh.versions.has(py_version)));\n      if (!reloading && !bokeh_loaded) {\n\troot.Bokeh = undefined;\n      }\n      load_libs(css_urls, js_urls, js_modules, js_exports, function() {\n\tconsole.debug(\"Bokeh: BokehJS plotting callback run at\", now());\n\trun_inline_js();\n      });\n    }\n  }\n  // Give older versions of the autoload script a head-start to ensure\n  // they initialize before we start loading newer version.\n  setTimeout(load_or_wait, 100)\n}(window));",
      "application/vnd.holoviews_load.v0+json": ""
     },
     "metadata": {},
     "output_type": "display_data"
    },
    {
     "data": {
      "application/javascript": "\nif ((window.PyViz === undefined) || (window.PyViz instanceof HTMLElement)) {\n  window.PyViz = {comms: {}, comm_status:{}, kernels:{}, receivers: {}, plot_index: []}\n}\n\n\n    function JupyterCommManager() {\n    }\n\n    JupyterCommManager.prototype.register_target = function(plot_id, comm_id, msg_handler) {\n      if (window.comm_manager || ((window.Jupyter !== undefined) && (Jupyter.notebook.kernel != null))) {\n        var comm_manager = window.comm_manager || Jupyter.notebook.kernel.comm_manager;\n        comm_manager.register_target(comm_id, function(comm) {\n          comm.on_msg(msg_handler);\n        });\n      } else if ((plot_id in window.PyViz.kernels) && (window.PyViz.kernels[plot_id])) {\n        window.PyViz.kernels[plot_id].registerCommTarget(comm_id, function(comm) {\n          comm.onMsg = msg_handler;\n        });\n      } else if (typeof google != 'undefined' && google.colab.kernel != null) {\n        google.colab.kernel.comms.registerTarget(comm_id, (comm) => {\n          var messages = comm.messages[Symbol.asyncIterator]();\n          function processIteratorResult(result) {\n            var message = result.value;\n            console.log(message)\n            var content = {data: message.data, comm_id};\n            var buffers = []\n            for (var buffer of message.buffers || []) {\n              buffers.push(new DataView(buffer))\n            }\n            var metadata = message.metadata || {};\n            var msg = {content, buffers, metadata}\n            msg_handler(msg);\n            return messages.next().then(processIteratorResult);\n          }\n          return messages.next().then(processIteratorResult);\n        })\n      }\n    }\n\n    JupyterCommManager.prototype.get_client_comm = function(plot_id, comm_id, msg_handler) {\n      if (comm_id in window.PyViz.comms) {\n        return window.PyViz.comms[comm_id];\n      } else if (window.comm_manager || ((window.Jupyter !== undefined) && (Jupyter.notebook.kernel != null))) {\n        var comm_manager = window.comm_manager || Jupyter.notebook.kernel.comm_manager;\n        var comm = comm_manager.new_comm(comm_id, {}, {}, {}, comm_id);\n        if (msg_handler) {\n          comm.on_msg(msg_handler);\n        }\n      } else if ((plot_id in window.PyViz.kernels) && (window.PyViz.kernels[plot_id])) {\n        var comm = window.PyViz.kernels[plot_id].connectToComm(comm_id);\n        comm.open();\n        if (msg_handler) {\n          comm.onMsg = msg_handler;\n        }\n      } else if (typeof google != 'undefined' && google.colab.kernel != null) {\n        var comm_promise = google.colab.kernel.comms.open(comm_id)\n        comm_promise.then((comm) => {\n          window.PyViz.comms[comm_id] = comm;\n          if (msg_handler) {\n            var messages = comm.messages[Symbol.asyncIterator]();\n            function processIteratorResult(result) {\n              var message = result.value;\n              var content = {data: message.data};\n              var metadata = message.metadata || {comm_id};\n              var msg = {content, metadata}\n              msg_handler(msg);\n              return messages.next().then(processIteratorResult);\n            }\n            return messages.next().then(processIteratorResult);\n          }\n        }) \n        var sendClosure = (data, metadata, buffers, disposeOnDone) => {\n          return comm_promise.then((comm) => {\n            comm.send(data, metadata, buffers, disposeOnDone);\n          });\n        };\n        var comm = {\n          send: sendClosure\n        };\n      }\n      window.PyViz.comms[comm_id] = comm;\n      return comm;\n    }\n    window.PyViz.comm_manager = new JupyterCommManager();\n    \n\n\nvar JS_MIME_TYPE = 'application/javascript';\nvar HTML_MIME_TYPE = 'text/html';\nvar EXEC_MIME_TYPE = 'application/vnd.holoviews_exec.v0+json';\nvar CLASS_NAME = 'output';\n\n/**\n * Render data to the DOM node\n */\nfunction render(props, node) {\n  var div = document.createElement(\"div\");\n  var script = document.createElement(\"script\");\n  node.appendChild(div);\n  node.appendChild(script);\n}\n\n/**\n * Handle when a new output is added\n */\nfunction handle_add_output(event, handle) {\n  var output_area = handle.output_area;\n  var output = handle.output;\n  if ((output.data == undefined) || (!output.data.hasOwnProperty(EXEC_MIME_TYPE))) {\n    return\n  }\n  var id = output.metadata[EXEC_MIME_TYPE][\"id\"];\n  var toinsert = output_area.element.find(\".\" + CLASS_NAME.split(' ')[0]);\n  if (id !== undefined) {\n    var nchildren = toinsert.length;\n    var html_node = toinsert[nchildren-1].children[0];\n    html_node.innerHTML = output.data[HTML_MIME_TYPE];\n    var scripts = [];\n    var nodelist = html_node.querySelectorAll(\"script\");\n    for (var i in nodelist) {\n      if (nodelist.hasOwnProperty(i)) {\n        scripts.push(nodelist[i])\n      }\n    }\n\n    scripts.forEach( function (oldScript) {\n      var newScript = document.createElement(\"script\");\n      var attrs = [];\n      var nodemap = oldScript.attributes;\n      for (var j in nodemap) {\n        if (nodemap.hasOwnProperty(j)) {\n          attrs.push(nodemap[j])\n        }\n      }\n      attrs.forEach(function(attr) { newScript.setAttribute(attr.name, attr.value) });\n      newScript.appendChild(document.createTextNode(oldScript.innerHTML));\n      oldScript.parentNode.replaceChild(newScript, oldScript);\n    });\n    if (JS_MIME_TYPE in output.data) {\n      toinsert[nchildren-1].children[1].textContent = output.data[JS_MIME_TYPE];\n    }\n    output_area._hv_plot_id = id;\n    if ((window.Bokeh !== undefined) && (id in Bokeh.index)) {\n      window.PyViz.plot_index[id] = Bokeh.index[id];\n    } else {\n      window.PyViz.plot_index[id] = null;\n    }\n  } else if (output.metadata[EXEC_MIME_TYPE][\"server_id\"] !== undefined) {\n    var bk_div = document.createElement(\"div\");\n    bk_div.innerHTML = output.data[HTML_MIME_TYPE];\n    var script_attrs = bk_div.children[0].attributes;\n    for (var i = 0; i < script_attrs.length; i++) {\n      toinsert[toinsert.length - 1].childNodes[1].setAttribute(script_attrs[i].name, script_attrs[i].value);\n    }\n    // store reference to server id on output_area\n    output_area._bokeh_server_id = output.metadata[EXEC_MIME_TYPE][\"server_id\"];\n  }\n}\n\n/**\n * Handle when an output is cleared or removed\n */\nfunction handle_clear_output(event, handle) {\n  var id = handle.cell.output_area._hv_plot_id;\n  var server_id = handle.cell.output_area._bokeh_server_id;\n  if (((id === undefined) || !(id in PyViz.plot_index)) && (server_id !== undefined)) { return; }\n  var comm = window.PyViz.comm_manager.get_client_comm(\"hv-extension-comm\", \"hv-extension-comm\", function () {});\n  if (server_id !== null) {\n    comm.send({event_type: 'server_delete', 'id': server_id});\n    return;\n  } else if (comm !== null) {\n    comm.send({event_type: 'delete', 'id': id});\n  }\n  delete PyViz.plot_index[id];\n  if ((window.Bokeh !== undefined) & (id in window.Bokeh.index)) {\n    var doc = window.Bokeh.index[id].model.document\n    doc.clear();\n    const i = window.Bokeh.documents.indexOf(doc);\n    if (i > -1) {\n      window.Bokeh.documents.splice(i, 1);\n    }\n  }\n}\n\n/**\n * Handle kernel restart event\n */\nfunction handle_kernel_cleanup(event, handle) {\n  delete PyViz.comms[\"hv-extension-comm\"];\n  window.PyViz.plot_index = {}\n}\n\n/**\n * Handle update_display_data messages\n */\nfunction handle_update_output(event, handle) {\n  handle_clear_output(event, {cell: {output_area: handle.output_area}})\n  handle_add_output(event, handle)\n}\n\nfunction register_renderer(events, OutputArea) {\n  function append_mime(data, metadata, element) {\n    // create a DOM node to render to\n    var toinsert = this.create_output_subarea(\n    metadata,\n    CLASS_NAME,\n    EXEC_MIME_TYPE\n    );\n    this.keyboard_manager.register_events(toinsert);\n    // Render to node\n    var props = {data: data, metadata: metadata[EXEC_MIME_TYPE]};\n    render(props, toinsert[0]);\n    element.append(toinsert);\n    return toinsert\n  }\n\n  events.on('output_added.OutputArea', handle_add_output);\n  events.on('output_updated.OutputArea', handle_update_output);\n  events.on('clear_output.CodeCell', handle_clear_output);\n  events.on('delete.Cell', handle_clear_output);\n  events.on('kernel_ready.Kernel', handle_kernel_cleanup);\n\n  OutputArea.prototype.register_mime_type(EXEC_MIME_TYPE, append_mime, {\n    safe: true,\n    index: 0\n  });\n}\n\nif (window.Jupyter !== undefined) {\n  try {\n    var events = require('base/js/events');\n    var OutputArea = require('notebook/js/outputarea').OutputArea;\n    if (OutputArea.prototype.mime_types().indexOf(EXEC_MIME_TYPE) == -1) {\n      register_renderer(events, OutputArea);\n    }\n  } catch(err) {\n  }\n}\n",
      "application/vnd.holoviews_load.v0+json": ""
     },
     "metadata": {},
     "output_type": "display_data"
    },
    {
     "data": {
      "text/html": [
       "<style>*[data-root-id],\n",
       "*[data-root-id] > * {\n",
       "  box-sizing: border-box;\n",
       "  font-family: var(--jp-ui-font-family);\n",
       "  font-size: var(--jp-ui-font-size1);\n",
       "  color: var(--vscode-editor-foreground, var(--jp-ui-font-color1));\n",
       "}\n",
       "\n",
       "/* Override VSCode background color */\n",
       ".cell-output-ipywidget-background:has(\n",
       "    > .cell-output-ipywidget-background > .lm-Widget > *[data-root-id]\n",
       "  ),\n",
       ".cell-output-ipywidget-background:has(> .lm-Widget > *[data-root-id]) {\n",
       "  background-color: transparent !important;\n",
       "}\n",
       "</style>"
      ]
     },
     "metadata": {},
     "output_type": "display_data"
    },
    {
     "data": {
      "text/markdown": [
       "`interface/methods_for_level1.py`"
      ],
      "text/plain": [
       "<IPython.core.display.Markdown object>"
      ]
     },
     "metadata": {
      "scrapbook": {
       "mime_prefix": "",
       "name": "interface/methods_for_level1.py"
      }
     },
     "output_type": "display_data"
    },
    {
     "data": {
      "text/markdown": [
       "`methods_for_level1.py`"
      ],
      "text/plain": [
       "<IPython.core.display.Markdown object>"
      ]
     },
     "metadata": {
      "scrapbook": {
       "mime_prefix": "",
       "name": "methods_for_level1.py"
      }
     },
     "output_type": "display_data"
    },
    {
     "data": {
      "text/markdown": [
       "`run_aviary()`"
      ],
      "text/plain": [
       "<IPython.core.display.Markdown object>"
      ]
     },
     "metadata": {
      "scrapbook": {
       "mime_prefix": "",
       "name": "run_aviary()"
      }
     },
     "output_type": "display_data"
    },
    {
     "data": {
      "text/markdown": [
       "`AviaryValues`"
      ],
      "text/plain": [
       "<IPython.core.display.Markdown object>"
      ]
     },
     "metadata": {
      "scrapbook": {
       "mime_prefix": "",
       "name": "AviaryValues"
      }
     },
     "output_type": "display_data"
    },
    {
     "data": {
      "text/markdown": [
       "`aircraft_filename`"
      ],
      "text/plain": [
       "<IPython.core.display.Markdown object>"
      ]
     },
     "metadata": {
      "scrapbook": {
       "mime_prefix": "",
       "name": "aircraft_filename"
      }
     },
     "output_type": "display_data"
    },
    {
     "data": {
      "text/markdown": [
       "`<class 'inspect._empty'>`"
      ],
      "text/plain": [
       "<IPython.core.display.Markdown object>"
      ]
     },
     "metadata": {
      "scrapbook": {
       "mime_prefix": "",
       "name": "aircraft_filename_default"
      }
     },
     "output_type": "display_data"
    },
    {
     "data": {
      "text/markdown": [
       "`phase_info`"
      ],
      "text/plain": [
       "<IPython.core.display.Markdown object>"
      ]
     },
     "metadata": {
      "scrapbook": {
       "mime_prefix": "",
       "name": "phase_info"
      }
     },
     "output_type": "display_data"
    },
    {
     "data": {
      "text/markdown": [
       "`<class 'inspect._empty'>`"
      ],
      "text/plain": [
       "<IPython.core.display.Markdown object>"
      ]
     },
     "metadata": {
      "scrapbook": {
       "mime_prefix": "",
       "name": "phase_info_default"
      }
     },
     "output_type": "display_data"
    },
    {
     "data": {
      "text/markdown": [
       "`optimizer`"
      ],
      "text/plain": [
       "<IPython.core.display.Markdown object>"
      ]
     },
     "metadata": {
      "scrapbook": {
       "mime_prefix": "",
       "name": "optimizer"
      }
     },
     "output_type": "display_data"
    },
    {
     "data": {
      "text/markdown": [
       "`None`"
      ],
      "text/plain": [
       "<IPython.core.display.Markdown object>"
      ]
     },
     "metadata": {
      "scrapbook": {
       "mime_prefix": "",
       "name": "optimizer_default"
      }
     },
     "output_type": "display_data"
    },
    {
     "data": {
      "text/markdown": [
       "`analysis_scheme`"
      ],
      "text/plain": [
       "<IPython.core.display.Markdown object>"
      ]
     },
     "metadata": {
      "scrapbook": {
       "mime_prefix": "",
       "name": "analysis_scheme"
      }
     },
     "output_type": "display_data"
    },
    {
     "data": {
      "text/markdown": [
       "`AnalysisScheme.COLLOCATION`"
      ],
      "text/plain": [
       "<IPython.core.display.Markdown object>"
      ]
     },
     "metadata": {
      "scrapbook": {
       "mime_prefix": "",
       "name": "analysis_scheme_default"
      }
     },
     "output_type": "display_data"
    },
    {
     "data": {
      "text/markdown": [
       "`objective_type`"
      ],
      "text/plain": [
       "<IPython.core.display.Markdown object>"
      ]
     },
     "metadata": {
      "scrapbook": {
       "mime_prefix": "",
       "name": "objective_type"
      }
     },
     "output_type": "display_data"
    },
    {
     "data": {
      "text/markdown": [
       "`None`"
      ],
      "text/plain": [
       "<IPython.core.display.Markdown object>"
      ]
     },
     "metadata": {
      "scrapbook": {
       "mime_prefix": "",
       "name": "objective_type_default"
      }
     },
     "output_type": "display_data"
    },
    {
     "data": {
      "text/markdown": [
       "`record_filename`"
      ],
      "text/plain": [
       "<IPython.core.display.Markdown object>"
      ]
     },
     "metadata": {
      "scrapbook": {
       "mime_prefix": "",
       "name": "record_filename"
      }
     },
     "output_type": "display_data"
    },
    {
     "data": {
      "text/markdown": [
       "`problem_history.db`"
      ],
      "text/plain": [
       "<IPython.core.display.Markdown object>"
      ]
     },
     "metadata": {
      "scrapbook": {
       "mime_prefix": "",
       "name": "record_filename_default"
      }
     },
     "output_type": "display_data"
    },
    {
     "data": {
      "text/markdown": [
       "`restart_filename`"
      ],
      "text/plain": [
       "<IPython.core.display.Markdown object>"
      ]
     },
     "metadata": {
      "scrapbook": {
       "mime_prefix": "",
       "name": "restart_filename"
      }
     },
     "output_type": "display_data"
    },
    {
     "data": {
      "text/markdown": [
       "`None`"
      ],
      "text/plain": [
       "<IPython.core.display.Markdown object>"
      ]
     },
     "metadata": {
      "scrapbook": {
       "mime_prefix": "",
       "name": "restart_filename_default"
      }
     },
     "output_type": "display_data"
    },
    {
     "data": {
      "text/markdown": [
       "`max_iter`"
      ],
      "text/plain": [
       "<IPython.core.display.Markdown object>"
      ]
     },
     "metadata": {
      "scrapbook": {
       "mime_prefix": "",
       "name": "max_iter"
      }
     },
     "output_type": "display_data"
    },
    {
     "data": {
      "text/markdown": [
       "`50`"
      ],
      "text/plain": [
       "<IPython.core.display.Markdown object>"
      ]
     },
     "metadata": {
      "scrapbook": {
       "mime_prefix": "",
       "name": "max_iter_default"
      }
     },
     "output_type": "display_data"
    },
    {
     "data": {
      "text/markdown": [
       "`run_driver`"
      ],
      "text/plain": [
       "<IPython.core.display.Markdown object>"
      ]
     },
     "metadata": {
      "scrapbook": {
       "mime_prefix": "",
       "name": "run_driver"
      }
     },
     "output_type": "display_data"
    },
    {
     "data": {
      "text/markdown": [
       "`True`"
      ],
      "text/plain": [
       "<IPython.core.display.Markdown object>"
      ]
     },
     "metadata": {
      "scrapbook": {
       "mime_prefix": "",
       "name": "run_driver_default"
      }
     },
     "output_type": "display_data"
    },
    {
     "data": {
      "text/markdown": [
       "`make_plots`"
      ],
      "text/plain": [
       "<IPython.core.display.Markdown object>"
      ]
     },
     "metadata": {
      "scrapbook": {
       "mime_prefix": "",
       "name": "make_plots"
      }
     },
     "output_type": "display_data"
    },
    {
     "data": {
      "text/markdown": [
       "`True`"
      ],
      "text/plain": [
       "<IPython.core.display.Markdown object>"
      ]
     },
     "metadata": {
      "scrapbook": {
       "mime_prefix": "",
       "name": "make_plots_default"
      }
     },
     "output_type": "display_data"
    },
    {
     "data": {
      "text/markdown": [
       "`phase_info_parameterization`"
      ],
      "text/plain": [
       "<IPython.core.display.Markdown object>"
      ]
     },
     "metadata": {
      "scrapbook": {
       "mime_prefix": "",
       "name": "phase_info_parameterization"
      }
     },
     "output_type": "display_data"
    },
    {
     "data": {
      "text/markdown": [
       "`None`"
      ],
      "text/plain": [
       "<IPython.core.display.Markdown object>"
      ]
     },
     "metadata": {
      "scrapbook": {
       "mime_prefix": "",
       "name": "phase_info_parameterization_default"
      }
     },
     "output_type": "display_data"
    },
    {
     "data": {
      "text/markdown": [
       "`optimization_history_filename`"
      ],
      "text/plain": [
       "<IPython.core.display.Markdown object>"
      ]
     },
     "metadata": {
      "scrapbook": {
       "mime_prefix": "",
       "name": "optimization_history_filename"
      }
     },
     "output_type": "display_data"
    },
    {
     "data": {
      "text/markdown": [
       "`None`"
      ],
      "text/plain": [
       "<IPython.core.display.Markdown object>"
      ]
     },
     "metadata": {
      "scrapbook": {
       "mime_prefix": "",
       "name": "optimization_history_filename_default"
      }
     },
     "output_type": "display_data"
    },
    {
     "data": {
      "text/markdown": [
       "`verbosity`"
      ],
      "text/plain": [
       "<IPython.core.display.Markdown object>"
      ]
     },
     "metadata": {
      "scrapbook": {
       "mime_prefix": "",
       "name": "verbosity"
      }
     },
     "output_type": "display_data"
    },
    {
     "data": {
      "text/markdown": [
       "`1`"
      ],
      "text/plain": [
       "<IPython.core.display.Markdown object>"
      ]
     },
     "metadata": {
      "scrapbook": {
       "mime_prefix": "",
       "name": "verbosity_default"
      }
     },
     "output_type": "display_data"
    },
    {
     "data": {
      "text/markdown": [
       "`SIZING`"
      ],
      "text/plain": [
       "<IPython.core.display.Markdown object>"
      ]
     },
     "metadata": {
      "scrapbook": {
       "mime_prefix": "",
       "name": "SIZING"
      }
     },
     "output_type": "display_data"
    },
    {
     "data": {
      "text/markdown": [
       "`_value_`"
      ],
      "text/plain": [
       "<IPython.core.display.Markdown object>"
      ]
     },
     "metadata": {
      "scrapbook": {
       "mime_prefix": "",
       "name": "_value_"
      }
     },
     "output_type": "display_data"
    },
    {
     "data": {
      "text/markdown": [
       "`_name_`"
      ],
      "text/plain": [
       "<IPython.core.display.Markdown object>"
      ]
     },
     "metadata": {
      "scrapbook": {
       "mime_prefix": "",
       "name": "_name_"
      }
     },
     "output_type": "display_data"
    },
    {
     "data": {
      "text/markdown": [
       "`ALTERNATE`"
      ],
      "text/plain": [
       "<IPython.core.display.Markdown object>"
      ]
     },
     "metadata": {
      "scrapbook": {
       "mime_prefix": "",
       "name": "ALTERNATE"
      }
     },
     "output_type": "display_data"
    },
    {
     "data": {
      "text/markdown": [
       "`FALLOUT`"
      ],
      "text/plain": [
       "<IPython.core.display.Markdown object>"
      ]
     },
     "metadata": {
      "scrapbook": {
       "mime_prefix": "",
       "name": "FALLOUT"
      }
     },
     "output_type": "display_data"
    },
    {
     "data": {
      "text/markdown": [
       "`MULTI_MISSION`"
      ],
      "text/plain": [
       "<IPython.core.display.Markdown object>"
      ]
     },
     "metadata": {
      "scrapbook": {
       "mime_prefix": "",
       "name": "MULTI_MISSION"
      }
     },
     "output_type": "display_data"
    },
    {
     "data": {
      "text/markdown": [
       "`ProblemType`"
      ],
      "text/plain": [
       "<IPython.core.display.Markdown object>"
      ]
     },
     "metadata": {
      "scrapbook": {
       "mime_prefix": "",
       "name": "ProblemType"
      }
     },
     "output_type": "display_data"
    },
    {
     "data": {
      "text/markdown": [
       "`Mission.Objectives.FUEL`"
      ],
      "text/plain": [
       "<IPython.core.display.Markdown object>"
      ]
     },
     "metadata": {
      "scrapbook": {
       "mime_prefix": "",
       "name": "Mission.Objectives.FUEL"
      }
     },
     "output_type": "display_data"
    },
    {
     "data": {
      "text/markdown": [
       "`Mission.Objectives.RANGE`"
      ],
      "text/plain": [
       "<IPython.core.display.Markdown object>"
      ]
     },
     "metadata": {
      "scrapbook": {
       "mime_prefix": "",
       "name": "Mission.Objectives.RANGE"
      }
     },
     "output_type": "display_data"
    },
    {
     "data": {
      "text/markdown": [
       "`Dynamic.Vehicle.MASS`"
      ],
      "text/plain": [
       "<IPython.core.display.Markdown object>"
      ]
     },
     "metadata": {
      "scrapbook": {
       "mime_prefix": "",
       "name": "Dynamic.Vehicle.MASS"
      }
     },
     "output_type": "display_data"
    },
    {
     "data": {
      "text/markdown": [
       "`HEIGHT_ENERGY`"
      ],
      "text/plain": [
       "<IPython.core.display.Markdown object>"
      ]
     },
     "metadata": {
      "scrapbook": {
       "mime_prefix": "",
       "name": "HEIGHT_ENERGY"
      }
     },
     "output_type": "display_data"
    },
    {
     "data": {
      "text/markdown": [
       "TWO_DEGREES_OF_FREEDOM"
      ],
      "text/plain": [
       "<IPython.core.display.Markdown object>"
      ]
     },
     "metadata": {
      "scrapbook": {
       "mime_prefix": "",
       "name": "TWO_DEGREES_OF_FREEDOM"
      }
     },
     "output_type": "display_data"
    },
    {
     "data": {
      "text/markdown": [
       "`SOLVED_2DOF`"
      ],
      "text/plain": [
       "<IPython.core.display.Markdown object>"
      ]
     },
     "metadata": {
      "scrapbook": {
       "mime_prefix": "",
       "name": "SOLVED_2DOF"
      }
     },
     "output_type": "display_data"
    },
    {
     "data": {
      "text/markdown": [
       "`height_energy`"
      ],
      "text/plain": [
       "<IPython.core.display.Markdown object>"
      ]
     },
     "metadata": {
      "scrapbook": {
       "mime_prefix": "",
       "name": "height_energy"
      }
     },
     "output_type": "display_data"
    },
    {
     "data": {
      "text/markdown": [
       "`2DOF`"
      ],
      "text/plain": [
       "<IPython.core.display.Markdown object>"
      ]
     },
     "metadata": {
      "scrapbook": {
       "mime_prefix": "",
       "name": "2DOF"
      }
     },
     "output_type": "display_data"
    },
    {
     "data": {
      "text/markdown": [
       "`solved_2DOF`"
      ],
      "text/plain": [
       "<IPython.core.display.Markdown object>"
      ]
     },
     "metadata": {
      "scrapbook": {
       "mime_prefix": "",
       "name": "solved_2DOF"
      }
     },
     "output_type": "display_data"
    },
    {
     "data": {
      "text/markdown": [
       "`problem_type`"
      ],
      "text/plain": [
       "<IPython.core.display.Markdown object>"
      ]
     },
     "metadata": {
      "scrapbook": {
       "mime_prefix": "",
       "name": "problem_type"
      }
     },
     "output_type": "display_data"
    }
   ],
   "source": [
    "# Testing Cell\n",
    "import aviary.api as av\n",
    "from aviary.api import Dynamic, Mission\n",
    "from aviary.interface.methods_for_level1 import run_aviary\n",
    "from aviary.utils.doctape import glue_function_arguments, glue_variable, glue_keys, get_variable_name\n",
    "\n",
    "current_glued_vars = []\n",
    "\n",
    "file_path = av.get_path('interface/methods_for_level1.py').relative_to(av.top_dir)\n",
    "glue_variable(file_path, md_code=True)\n",
    "glue_variable(file_path.name, md_code=True)\n",
    "\n",
    "glue_variable(run_aviary.__name__+'()', md_code=True)\n",
    "AviaryValues = av.AviaryValues\n",
    "glue_variable(AviaryValues.__name__, md_code=True)\n",
    "\n",
    "# glue all argument of function run_aviary()\n",
    "glue_function_arguments(run_aviary, current_glued_vars, glue_default=True, md_code=True)\n",
    "\n",
    "glue_keys(dict(av.ProblemType.__members__))\n",
    "ProblemType = av.ProblemType\n",
    "glue_variable(ProblemType.__name__, md_code=True)\n",
    "\n",
    "glue_variable(get_variable_name(Mission.Objectives.FUEL), md_code=True)\n",
    "glue_variable(get_variable_name(Mission.Objectives.RANGE), md_code=True)\n",
    "glue_variable(get_variable_name(Dynamic.Vehicle.MASS), md_code=True)\n",
    "\n",
    "glue_variable('HEIGHT_ENERGY', av.EquationsOfMotion.HEIGHT_ENERGY.name, md_code=True)\n",
    "glue_variable('TWO_DEGREES_OF_FREEDOM', av.EquationsOfMotion.TWO_DEGREES_OF_FREEDOM.name, md_code=False)\n",
    "glue_variable('SOLVED_2DOF', av.EquationsOfMotion.SOLVED_2DOF.name, md_code=True)\n",
    "\n",
    "glue_variable('height_energy', av.EquationsOfMotion.HEIGHT_ENERGY.value, md_code=True)\n",
    "glue_variable('2DOF', av.EquationsOfMotion.TWO_DEGREES_OF_FREEDOM.value, md_code=True)\n",
    "glue_variable('solved_2DOF', av.EquationsOfMotion.SOLVED_2DOF.value, md_code=True)\n",
    "\n",
    "glue_variable('problem_type', av.Settings.PROBLEM_TYPE.split(':')[1], md_code=True)"
   ]
  },
  {
   "cell_type": "code",
   "execution_count": 2,
   "id": "5614146d",
   "metadata": {
    "tags": [
     "remove-cell"
    ]
   },
   "outputs": [
    {
     "data": {
      "text/markdown": [
       "`aviary run_mission models/test_aircraft/aircraft_for_bench_GwGm.csv`"
      ],
      "text/plain": [
       "<IPython.core.display.Markdown object>"
      ]
     },
     "metadata": {
      "scrapbook": {
       "mime_prefix": "",
       "name": "aviary run_mission models/test_aircraft/aircraft_for_bench_GwGm.csv"
      }
     },
     "output_type": "display_data"
    },
    {
     "data": {
      "text/markdown": [
       "`aircraft_for_bench_GwGm.csv`"
      ],
      "text/plain": [
       "<IPython.core.display.Markdown object>"
      ]
     },
     "metadata": {
      "scrapbook": {
       "mime_prefix": "",
       "name": "aircraft_for_bench_GwGm.csv"
      }
     },
     "output_type": "display_data"
    },
    {
     "data": {
      "text/markdown": [
       "`aircraft_for_bench_GwGm`"
      ],
      "text/plain": [
       "<IPython.core.display.Markdown object>"
      ]
     },
     "metadata": {
      "scrapbook": {
       "mime_prefix": "",
       "name": "aircraft_for_bench_GwGm"
      }
     },
     "output_type": "display_data"
    },
    {
     "data": {
      "text/markdown": [
       "`aviary/interface/default_phase_info/two_dof.py`"
      ],
      "text/plain": [
       "<IPython.core.display.Markdown object>"
      ]
     },
     "metadata": {
      "scrapbook": {
       "mime_prefix": "",
       "name": "phase_info_path"
      }
     },
     "output_type": "display_data"
    }
   ],
   "source": [
    "# Testing Cell\n",
    "import aviary.api as av\n",
    "from aviary.utils.functions import get_path\n",
    "from aviary.utils.doctape import glue_variable, run_command_no_file_error\n",
    "\n",
    "file_path = 'models/test_aircraft/aircraft_for_bench_GwGm.csv'\n",
    "\n",
    "command = 'aviary run_mission ' + file_path\n",
    "glue_variable(command, md_code=True)\n",
    "command += ' --max_iter 0 --optimizer IPOPT'\n",
    "run_command_no_file_error(command)\n",
    "\n",
    "file_path = get_path(file_path)\n",
    "glue_variable(file_path.name, md_code=True)\n",
    "glue_variable(file_path.stem, md_code=True)\n",
    "\n",
    "phase_info_path = av.get_path('interface/default_phase_info/two_dof.py').relative_to(av.top_dir.parent)\n",
    "glue_variable('phase_info_path', phase_info_path, md_code=True)\n"
   ]
  },
  {
   "cell_type": "markdown",
   "id": "04133934",
   "metadata": {},
   "source": [
    "Level 2 is defined in the [aviary/interface/methods_for_level1.py file](https://github.com/OpenMDAO/Aviary/blob/main/aviary/interface/methods_for_level1.py) and it has a method {glue:md}`run_aviary()` with a few arguments. If you examine {glue:md}`interface/methods_for_level1.py` you see that Level 1 prepares those arguments and then call {glue:md}`run_aviary()`. For {glue:md}`aviary run_mission models/test_aircraft/aircraft_for_bench_GwGm.csv` examples, those arguments and their default values are:\n",
    "\n",
    "- {glue:md}`aircraft_filename`: {glue:md}`aircraft_for_bench_GwGm.csv`\n",
    "- {glue:md}`phase_info`: not provided (and will be loaded from {glue:md}`phase_info_path`)\n",
    "- {glue:md}`optimizer`: {glue:md}`optimizer_default`\n",
    "- {glue:md}`analysis_scheme`: {glue:md}`analysis_scheme_default`\n",
    "- {glue:md}`objective_type`: {glue:md}`objective_type_default`\n",
    "- {glue:md}`record_filename`: {glue:md}`record_filename_default`\n",
    "- {glue:md}`restart_filename`: {glue:md}`restart_filename_default`)\n",
    "- {glue:md}`max_iter`: {glue:md}`max_iter_default`\n",
    "- {glue:md}`run_driver`: {glue:md}`run_driver_default`\n",
    "- {glue:md}`make_plots`: {glue:md}`make_plots_default`\n",
    "- {glue:md}`phase_info_parameterization`: {glue:md}`phase_info_parameterization_default`\n",
    "- {glue:md}`optimization_history_filename`: {glue:md}`optimization_history_filename_default`\n",
    "- {glue:md}`verbosity`: {glue:md}`verbosity_default`\n",
    "\n",
    "All the above arguments are straightforward except {glue:md}`objective_type`. Even though {glue:md}`objective_type` is `None`, it is not treated as `None`. In this scenario, the objective is set based on {glue:md}`problem_type` when using the {glue:md}`2DOF` mission method. There are three options for {glue:md}`problem_type` which is set to {glue:md}`SIZING` as default when aircraft is created. Aviary has the following mapping when user does not set {glue:md}`objective_type` but set `mission_method` to {glue:md}`2DOF` (in .csv file):\n",
    "\n",
    "| {glue:md}`problem_type` | `objective` |\n",
    "| ------------ | --------- |\n",
    "| {glue:md}`SIZING` | {glue:md}`Mission.Objectives.FUEL` |\n",
    "| {glue:md}`ALTERNATE` | {glue:md}`Mission.Objectives.FUEL`|\n",
    "| {glue:md}`FALLOUT` | {glue:md}`Mission.Objectives.RANGE` |"
   ]
  },
  {
   "cell_type": "code",
   "execution_count": null,
   "id": "825c2bf2",
   "metadata": {
    "tags": [
     "remove-cell"
    ]
   },
   "outputs": [
    {
     "ename": "ModuleNotFoundError",
     "evalue": "No module named 'aviary.mission.two_dof_problem_configurator'",
     "output_type": "error",
     "traceback": [
      "\u001b[0;31m---------------------------------------------------------------------------\u001b[0m",
      "\u001b[0;31mModuleNotFoundError\u001b[0m                       Traceback (most recent call last)",
      "Cell \u001b[0;32mIn[5], line 6\u001b[0m\n\u001b[1;32m      4\u001b[0m \u001b[38;5;28;01mfrom\u001b[39;00m \u001b[38;5;21;01maviary\u001b[39;00m\u001b[38;5;21;01m.\u001b[39;00m\u001b[38;5;21;01mvariable_info\u001b[39;00m\u001b[38;5;21;01m.\u001b[39;00m\u001b[38;5;21;01menums\u001b[39;00m \u001b[38;5;28;01mimport\u001b[39;00m ProblemType \u001b[38;5;28;01mas\u001b[39;00m PT, EquationsOfMotion \u001b[38;5;28;01mas\u001b[39;00m EOM\n\u001b[1;32m      5\u001b[0m \u001b[38;5;28;01mfrom\u001b[39;00m \u001b[38;5;21;01maviary\u001b[39;00m\u001b[38;5;21;01m.\u001b[39;00m\u001b[38;5;21;01minterface\u001b[39;00m\u001b[38;5;21;01m.\u001b[39;00m\u001b[38;5;21;01mmethods_for_level2\u001b[39;00m \u001b[38;5;28;01mimport\u001b[39;00m AviaryProblem\n\u001b[0;32m----> 6\u001b[0m \u001b[38;5;28;01mfrom\u001b[39;00m \u001b[38;5;21;01maviary\u001b[39;00m\u001b[38;5;21;01m.\u001b[39;00m\u001b[38;5;21;01mmission\u001b[39;00m\u001b[38;5;21;01m.\u001b[39;00m\u001b[38;5;21;01mtwo_dof_problem_configurator\u001b[39;00m \u001b[38;5;28;01mimport\u001b[39;00m TwoDOFProblemConfigurator\n\u001b[1;32m      7\u001b[0m \u001b[38;5;28;01mfrom\u001b[39;00m \u001b[38;5;21;01maviary\u001b[39;00m\u001b[38;5;21;01m.\u001b[39;00m\u001b[38;5;21;01mutils\u001b[39;00m\u001b[38;5;21;01m.\u001b[39;00m\u001b[38;5;21;01mdoctape\u001b[39;00m \u001b[38;5;28;01mimport\u001b[39;00m check_contains, glue_class_functions, glue_variable\n\u001b[1;32m      9\u001b[0m EOM\u001b[38;5;241m.\u001b[39mHEIGHT_ENERGY;\n",
      "\u001b[0;31mModuleNotFoundError\u001b[0m: No module named 'aviary.mission.two_dof_problem_configurator'"
     ]
    }
   ],
   "source": [
    "# Testing Cell\n",
    "import openmdao.api as om\n",
    "from aviary.api import Mission\n",
    "from aviary.variable_info.enums import ProblemType as PT, EquationsOfMotion as EOM\n",
    "from aviary.interface.methods_for_level2 import AviaryProblem, TwoDOFProblemConfigurator\n",
    "from aviary.utils.doctape import check_contains, glue_class_functions, glue_variable\n",
    "\n",
    "EOM.HEIGHT_ENERGY;\n",
    "mo = Mission.Objectives\n",
    "expected_objective = {PT.SIZING:mo.FUEL, PT.ALTERNATE:mo.FUEL, PT.FALLOUT:mo.RANGE}\n",
    "for ptype, obj in expected_objective.items():\n",
    "    dummy_prob = om.Problem()\n",
    "    dummy_prob.mission_method = EOM.TWO_DEGREES_OF_FREEDOM\n",
    "    dummy_prob.problem_type = ptype\n",
    "    dummy_prob.builder = TwoDOFProblemConfigurator()\n",
    "    dummy_prob.target_range = 0\n",
    "    AviaryProblem.add_objective(dummy_prob)\n",
    "    dummy_prob.setup()\n",
    "    objectives = dummy_prob.model._responses.keys()\n",
    "    check_contains(obj, objectives)\n",
    "\n",
    "file_path = av.get_path('interface/methods_for_level2.py')\n",
    "glue_variable(file_path.name, md_code=True)\n",
    "\n",
    "# Get all functions of class AviaryProblem\n",
    "glue_class_functions(AviaryProblem, current_glued_vars, pre_fix='prob', md_code=True)\n"
   ]
  },
  {
   "cell_type": "markdown",
   "id": "9ffcd43c",
   "metadata": {},
   "source": [
    "In Aviary, {glue:md}`problem_type` is set to {glue:md}`SIZING` when it creates a vehicle (see [create_vehicle](https://github.com/OpenMDAO/Aviary/blob/main/aviary/utils/UI.py)). As you can see, since {glue:md}`problem_type` is {glue:md}`SIZING` by default in our case and we don't manually alter this setting, Aviary set objective to {glue:md}`Mission.Objectives.FUEL`. We will discuss more options of {glue:md}`objective_type` later on.\n",
    "\n",
    "```{note}\n",
    "If you want to use a custom objective function, you can set any arbitrary variable to be the objective by directly calling the OpenMDAO [`add_objective` method](https://openmdao.org/newdocs/versions/latest/features/core_features/adding_desvars_cons_objs/adding_objective.html#adding-an-objective) instead of using Aviary's built-in {glue:md}`add_objective()` method.\n",
    "```\n",
    "\n",
    "In our onboarding runs, we want to limit the number of iterations to 1 so that they all run faster. As a result, we will not consider whether the optimization converges. So, we will have\n",
    "\n",
    "{glue:md}`max_iter`: 1\n",
    "\n",
    "Level 2 cannot be run via `aviary` command on the command line. Users must develop level 2 Python code. The good news is that the Python code is pretty small. You can follow the following steps in order (we do not include function arguments for simplicity):\n",
    "\n",
    "- `prob = AviaryProblem()`\n",
    "- {glue:md}`prob.load_inputs()`\n",
    "- {glue:md}`prob.check_and_preprocess_inputs()`\n",
    "- {glue:md}`prob.add_pre_mission_systems()`\n",
    "- {glue:md}`prob.add_phases()`\n",
    "- {glue:md}`prob.add_post_mission_systems()`\n",
    "- {glue:md}`prob.link_phases()`\n",
    "- {glue:md}`prob.add_driver()`\n",
    "- {glue:md}`prob.add_design_variables()`\n",
    "- {glue:md}`prob.add_objective()`\n",
    "- {glue:md}`prob.setup()`\n",
    "- {glue:md}`prob.set_initial_guesses()`\n",
    "- {glue:md}`prob.run_aviary_problem()`\n",
    "\n",
    "In the rest of this page, we will show a few examples to demonstrate how level 2 runs these steps. We start from rebuilding {glue:md}`aircraft_for_bench_GwGm` model in great details."
   ]
  },
  {
   "cell_type": "markdown",
   "id": "a1b573a9",
   "metadata": {},
   "source": [
    "## Build level 2 for the same {glue:md}`aircraft_for_bench_GwGm` Model\n",
    "\n",
    "We create a level 2 Python script to reproduce the {glue:md}`aircraft_for_bench_GwGm` model run that was used as an example in the level 1 document (this time we won’t use the level 1 functionality). The methods listed above are defined in level 3 (namely, [interface/methods_for_level2.py](https://github.com/OpenMDAO/Aviary/blob/main/aviary/interface/methods_for_level2.py)). You can run the code as follows:"
   ]
  },
  {
   "cell_type": "code",
   "execution_count": null,
   "id": "fe134855",
   "metadata": {},
   "outputs": [],
   "source": [
    "import aviary.api as av\n",
    "from copy import deepcopy\n",
    "\n",
    "# inputs that run_aviary() requires\n",
    "aircraft_filename = 'models/test_aircraft/aircraft_for_bench_GwGm.csv'\n",
    "optimizer = 'IPOPT'\n",
    "analysis_scheme = av.AnalysisScheme.COLLOCATION\n",
    "objective_type = None\n",
    "record_filename = 'aviary_history.db'\n",
    "restart_filename = None\n",
    "max_iter = 0\n",
    "phase_info = deepcopy(av.default_2DOF_phase_info)\n",
    "\n",
    "# Build problem\n",
    "prob = av.AviaryProblem(analysis_scheme)\n",
    "\n",
    "# Load aircraft and options data from user\n",
    "# Allow for user overrides here\n",
    "prob.load_inputs(aircraft_filename, phase_info)\n",
    "\n",
    "# Preprocess inputs\n",
    "prob.check_and_preprocess_inputs()\n",
    "\n",
    "# adds a pre-mission group (propulsion, geometry, aerodynamics, and mass)\n",
    "prob.add_pre_mission_systems()\n",
    "\n",
    "# adds a sequence of core mission phases.\n",
    "prob.add_phases()\n",
    "\n",
    "# adds a landing phase\n",
    "prob.add_post_mission_systems()\n",
    "\n",
    "# Link phases and variables\n",
    "prob.link_phases()\n",
    "\n",
    "# adds an optimizer to the driver\n",
    "prob.add_driver(optimizer, max_iter=max_iter)\n",
    "\n",
    "# adds relevant design variables\n",
    "prob.add_design_variables()\n",
    "\n",
    "# Load optimization problem formulation\n",
    "# Detail which variables the optimizer can control\n",
    "prob.add_objective(objective_type=objective_type)\n",
    "\n",
    "# setup the problem\n",
    "prob.setup()\n",
    "\n",
    "# set initial guesses of states and controls variables\n",
    "prob.set_initial_guesses()\n",
    "\n",
    "# run the problem we just set up\n",
    "prob.run_aviary_problem(record_filename, restart_filename=restart_filename, gen_n2=False)"
   ]
  },
  {
   "cell_type": "code",
   "execution_count": null,
   "id": "cbe17794",
   "metadata": {
    "tags": [
     "remove-cell"
    ]
   },
   "outputs": [],
   "source": [
    "# Testing Cell\n",
    "from openmdao.utils.assert_utils import assert_near_equal\n",
    "from aviary.examples.external_subsystems.battery.battery_variables import Mission\n",
    "from aviary.utils.doctape import glue_variable\n",
    "obj_fuel = prob.get_val(Mission.Objectives.FUEL)\n",
    "exp_fuel = 5.27313333\n",
    "assert_near_equal(obj_fuel[0], exp_fuel, 1e-5)\n",
    "glue_variable('str_obj_fuel', str(obj_fuel), md_code=True)"
   ]
  },
  {
   "cell_type": "markdown",
   "id": "96066213",
   "metadata": {},
   "source": [
    "In this code, you do the same import as {glue:md}`methods_for_level1.py` does and set the values of all the arguments in {glue:md}`run_aviary()`. Now we will go through each line in detail to explain each step:\n",
    "\n",
    "## Dissection of level 2 for the same `aircraft_for_bench_GwGm` model\n",
    "\n",
    "All the methods of `prob` object (including its creation) are defined in level 3 ({glue:md}`methods_for_level2.py`). We now look at each of them.\n",
    "\n",
    "We add other inputs that {glue:md}`run_aviary()` requires:"
   ]
  },
  {
   "cell_type": "code",
   "execution_count": null,
   "id": "b0baac27",
   "metadata": {},
   "outputs": [],
   "source": [
    "aircraft_filename = 'models/test_aircraft/aircraft_for_bench_GwGm.csv'\n",
    "optimizer = 'IPOPT'\n",
    "analysis_scheme = av.AnalysisScheme.COLLOCATION\n",
    "objective_type = None\n",
    "record_filename = 'aviary_history.db'\n",
    "restart_filename = None\n",
    "max_iter = 1\n",
    "\n",
    "prob = av.AviaryProblem(analysis_scheme)"
   ]
  },
  {
   "cell_type": "code",
   "execution_count": null,
   "id": "042bb570",
   "metadata": {
    "tags": [
     "remove-cell"
    ]
   },
   "outputs": [],
   "source": [
    "# Testing Cell\n",
    "AnalysisScheme = av.AnalysisScheme\n",
    "glue_variable(get_variable_name(AnalysisScheme.COLLOCATION), md_code=True)\n",
    "glue_variable(get_variable_name(AnalysisScheme.SHOOTING), md_code=True)\n",
    "glue_variable('COLLOCATION', av.AnalysisScheme.COLLOCATION.name, md_code=True)\n",
    "glue_variable('SHOOTING', av.AnalysisScheme.SHOOTING.name, md_code=True)"
   ]
  },
  {
   "cell_type": "code",
   "execution_count": null,
   "id": "93651343",
   "metadata": {
    "tags": [
     "remove-cell"
    ]
   },
   "outputs": [],
   "source": [
    "# Testing Cell\n",
    "import aviary.api as av\n",
    "from aviary.interface.methods_for_level2 import AviaryProblem\n",
    "from aviary.utils.doctape import get_attribute_name, glue_variable\n",
    "import inspect\n",
    "\n",
    "# read source code of __init__() starting from line 'self.model = AviaryGroup()'\n",
    "source_code = inspect.getsource(AviaryProblem.__init__)\n",
    "src_init = '```\\n'\n",
    "new_line = ''\n",
    "start_reading = False\n",
    "for ch in source_code:\n",
    "    if ch == '\\n':\n",
    "        new_line = new_line.strip()\n",
    "        if 'AviaryGroup()' in new_line:\n",
    "            start_reading = True\n",
    "        if start_reading:\n",
    "            src_init += new_line + '\\n'\n",
    "        new_line = ''\n",
    "    else:\n",
    "        new_line += ch\n",
    "\n",
    "glue_variable('src_init', src_init, md_code=False)\n",
    "\n"
   ]
  },
  {
   "cell_type": "markdown",
   "id": "7e1d5726",
   "metadata": {},
   "source": [
    "Several objects are initialized in this step:\n",
    "\n",
    "```{glue:md} src_init\n",
    ":format: myst\n",
    "```\n",
    "\n",
    "{glue:md}`phase_info` is a user defined dictionary (in a Python file) that controls the profile of the mission to be simulated (e.g. climb, cruise, descent segments etc).\n",
    "\n",
    "For {glue:md}`analysis_scheme`, the two options are: {glue:md}`AnalysisScheme.COLLOCATION` (default) and {glue:md}`AnalysisScheme.SHOOTING` which are defined and described in [variables_info/enums.py`](https://github.com/OpenMDAO/Aviary/blob/main/aviary/variable_info/enums.py):\n",
    "- {glue:md}`COLLOCATION` uses the collocation method to optimize all points simultaneously.\n",
    "- {glue:md}`SHOOTING` is a forward in time integration method that simulates the trajectory.\n",
    "\n",
    "In this onboarding document, only the {glue:md}`COLLOCATION` scheme will be discussed. The line"
   ]
  },
  {
   "cell_type": "code",
   "execution_count": null,
   "id": "ae7810ac",
   "metadata": {
    "tags": [
     "remove-cell"
    ]
   },
   "outputs": [
    {
     "data": {
      "text/markdown": [
       "`models/engines/turbofan_23k_1.deck`"
      ],
      "text/plain": [
       "<IPython.core.display.Markdown object>"
      ]
     },
     "metadata": {
      "scrapbook": {
       "mime_prefix": "",
       "name": "models/engines/turbofan_23k_1.deck"
      }
     },
     "output_type": "display_data"
    },
    {
     "data": {
      "text/markdown": [
       "```\n",
       "aircraft:engine:data_file,models/engines/turbofan_23k_1.deck,unitless"
      ],
      "text/plain": [
       "<IPython.core.display.Markdown object>"
      ]
     },
     "metadata": {
      "scrapbook": {
       "mime_prefix": "",
       "name": "engine_data_file_line"
      }
     },
     "output_type": "display_data"
    },
    {
     "data": {
      "text/markdown": [
       "models/engines/turbofan_23k_1.deck,unitless"
      ],
      "text/plain": [
       "<IPython.core.display.Markdown object>"
      ]
     },
     "metadata": {
      "scrapbook": {
       "mime_prefix": "",
       "name": "models/engines/turbofan_28k.deck,unitless"
      }
     },
     "output_type": "display_data"
    }
   ],
   "source": [
    "# Testing Cell\n",
    "from aviary.api import AnalysisScheme\n",
    "from aviary.utils.doctape import check_value, glue_variable\n",
    "AnalysisScheme.COLLOCATION;\n",
    "AnalysisScheme.SHOOTING;\n",
    "\n",
    "from aviary.utils.functions import get_model\n",
    "filename = 'aircraft_for_bench_GwGm.csv'\n",
    "turbofan_file = 'models/engines/turbofan_23k_1.deck'\n",
    "data_var_name = 'aircraft:engine:data_file'  # read its value from .csv file\n",
    "with open(get_model(filename)) as f_in:\n",
    "    lines = f_in.readlines()\n",
    "    for sLine in lines:\n",
    "        if data_var_name in sLine:\n",
    "            check_value(sLine.strip(), 'aircraft:engine:data_file,'+turbofan_file+',unitless')\n",
    "            s ='```\\n'\n",
    "            s += sLine.strip()\n",
    "            glue_variable(turbofan_file, md_code=True)\n",
    "            glue_variable('engine_data_file_line', s, md_code=False)\n",
    "            val_and_units = s.split(',',1)[-1]\n",
    "            glue_variable('models/engines/turbofan_28k.deck,unitless', val_and_units, md_code=False)\n",
    "            break"
   ]
  },
  {
   "cell_type": "code",
   "execution_count": null,
   "id": "8cac423c",
   "metadata": {
    "tags": [
     "hide-output"
    ]
   },
   "outputs": [],
   "source": [
    "phase_info = deepcopy(av.default_2DOF_phase_info)\n",
    "prob.load_inputs(aircraft_filename, phase_info)"
   ]
  },
  {
   "cell_type": "markdown",
   "id": "42a2ee97",
   "metadata": {},
   "source": [
    "is a function that has a few tasks:\n",
    "\n",
    "- Read aircraft deck file `aircraft_filename`\n",
    "- Read phase info file {glue:md}`phase_info`\n",
    "- Build core subsystems\n",
    "\n",
    "We have seen {glue:md}`aircraft_filename` file (a `.csv` file) in our level 1 examples. In [level 1](onboarding_level1), we simply called it input file. An aircraft model can also be directly defined in Python, by setting up an {glue:md}`AviaryValues` object with the desired inputs and options normally found in an input file. That object can be provided in the place of {glue:md}`aircraft_filename`.\n",
    "\n",
    "\n",
    "Engines are built by using the input data `aircraft:engine:data_file` in the .csv file. For example in {glue:md}`aircraft_for_bench_GwGm.csv` file, we see:\n",
    "\n",
    "```{glue:md} engine_data_file_line\n",
    ":format: myst\n",
    "```"
   ]
  },
  {
   "cell_type": "code",
   "execution_count": null,
   "id": "bc6e9a5b",
   "metadata": {
    "tags": [
     "remove-cell"
    ]
   },
   "outputs": [],
   "source": [
    "# Testing Cell\n",
    "from aviary.api import Aircraft\n",
    "from aviary.subsystems.propulsion.engine_model import EngineModel\n",
    "from aviary.utils.functions import get_path\n",
    "import pandas as pd\n",
    "from myst_nb import glue\n",
    "\n",
    "glue_variable(Aircraft.Engine.DATA_FILE)\n",
    "glue_variable(EngineModel.__name__, md_code=True)\n",
    "\n",
    "# build the top rows of turbofan_28k.deck from that file\n",
    "file_path = get_path('models/engines/turbofan_28k.deck')\n",
    "df = pd.read_csv(file_path, nrows=5, skiprows=2, header=0)\n",
    "glue('top_rows_of_engine_deck', df)\n"
   ]
  },
  {
   "cell_type": "markdown",
   "id": "5f349611",
   "metadata": {},
   "source": [
    "So, {glue:md}`aircraft:engine:data_file` has value {glue:md}`models/engines/turbofan_28k.deck,unitless`. We follow this path and open that file. The top rows of engine deck file are:\n",
    "\n",
    "```{glue:figure} top_rows_of_engine_deck\n",
    ":name: 'tbl:df'\n",
    "```\n",
    "\n",
    "Users can provide an {glue:md}`EngineModel` instance of their own to use in Aviary's propulsion systems.\n",
    "\n",
    "Other subsystems, including mass, geometry, and aerodynamics, are set up according to which legacy code options the user has specified in their input file, using `settings:equations_of_motion` and `settings:mass_method`. Aerodynamics is set up to match the selected equations of motion, while geometry will use either GASP, FLOPS, or both methods as required to calculate all values needed by other subsystems.\n",
    "\n",
    "Next we check the user-provided inputs:"
   ]
  },
  {
   "cell_type": "code",
   "execution_count": null,
   "id": "6b6eedb1",
   "metadata": {
    "tags": [
     "remove-cell"
    ]
   },
   "outputs": [],
   "source": [
    "# Testing Cell\n",
    "from aviary.api import Settings\n",
    "Settings.EQUATIONS_OF_MOTION;\n",
    "Settings.MASS_METHOD;"
   ]
  },
  {
   "cell_type": "code",
   "execution_count": null,
   "id": "e3d91612",
   "metadata": {
    "tags": [
     "hide-output"
    ]
   },
   "outputs": [],
   "source": [
    "prob.check_and_preprocess_inputs()"
   ]
  },
  {
   "cell_type": "markdown",
   "id": "7f312145",
   "metadata": {},
   "source": [
    "This method checks the user-supplied input values for any potential problems. These problems include variable names that are not recognized in Aviary, conflicting options or values, or units mismatching.\n",
    "\n",
    "Next, we add pre-mission systems:"
   ]
  },
  {
   "cell_type": "code",
   "execution_count": null,
   "id": "00de09c8",
   "metadata": {
    "tags": [
     "hide-output"
    ]
   },
   "outputs": [],
   "source": [
    "prob.add_pre_mission_systems()"
   ]
  },
  {
   "cell_type": "markdown",
   "id": "12d71c79",
   "metadata": {},
   "source": [
    "This call adds a pre-mission group which includes propulsion, geometry, aerodynamics, and mass subsystems.\n",
    "\n",
    "Next is the line"
   ]
  },
  {
   "cell_type": "code",
   "execution_count": null,
   "id": "b17b6637",
   "metadata": {
    "tags": [
     "hide-output"
    ]
   },
   "outputs": [],
   "source": [
    "prob.add_phases()"
   ]
  },
  {
   "cell_type": "markdown",
   "id": "f9f50477",
   "metadata": {},
   "source": [
    "which adds a sequence of core mission phases. In addition, if `mission_method` is {glue:md}`2DOF` and `ascent` is a phase, it adds an equality constraint to the problem to ensure that the velocity at the end of the groundroll phase is equal to the rotation velocity at the start of the rotation phase ({glue:md}`_add_groundroll_eq_constraint()`). If `mission_method` is {glue:md}`height_energy`, it sets up trajectory parameters by calling `setup_trajectory_params()`. If `mission_method` is {glue:md}`solved_2DOF`, it has a block of code to make sure that the trajectory is smooth by applying boundary constraints between phases (e.g. fuselage pitch angle or true airspeed).\n",
    "\n",
    "For {glue:md}`height_energy` missions, aviary currently models FLOPS' \"simplified\" takeoff as defined in [mission/flops_based/phases/simplified_takeoff.py](https://github.com/OpenMDAO/Aviary/blob/main/aviary/mission/flops_based/phases/simplified_takeoff.py).\n",
    "\n",
    "It follows by adding post-mission subsystems:"
   ]
  },
  {
   "cell_type": "code",
   "execution_count": null,
   "id": "af5ba774",
   "metadata": {
    "tags": [
     "hide-output"
    ]
   },
   "outputs": [],
   "source": [
    "prob.add_post_mission_systems()"
   ]
  },
  {
   "cell_type": "markdown",
   "id": "0c8038df",
   "metadata": {},
   "source": [
    "Similar to pre-mission, it adds a landing phase if `include_landing` key of `post_mission` has value of `True`. If the user chooses to define a `post_mission`, it will override the default. For {glue:md}`2DOF` missions, landing is defined in [mission/gasp_based/ode/landing_ode.py](https://github.com/OpenMDAO/Aviary/blob/main/aviary/mission/gasp_based/ode/landing_ode.py).\n",
    "\n",
    "The next line is"
   ]
  },
  {
   "cell_type": "code",
   "execution_count": null,
   "id": "f765815b",
   "metadata": {
    "tags": [
     "hide-output"
    ]
   },
   "outputs": [],
   "source": [
    "prob.link_phases()"
   ]
  },
  {
   "cell_type": "markdown",
   "id": "0f5006a5",
   "metadata": {},
   "source": [
    "This is important for allowing each phase of flight to pass to the next without discontinuities in the parameters. Consider Dymos' [Aircraft Balanced Field Length Calculation](https://openmdao.github.io/dymos/examples/balanced_field/balanced_field.html) example. In that example, we see separate nonlinear boundary constraints, nonlinear path constraints, and phase continuity constraints between phases. We don't want to go deeper in this function call, but just point out that each individual link can be set via dymos function {glue:md}`link_phases()`. See [dymos API](https://openmdao.github.io/dymos/api/trajectory_api.html) for more details.\n",
    "\n",
    "The code blocks in this function (namely, {glue:md}`link_phases()`) are for {glue:md}`2DOF`, {glue:md}`height_energy`, and {glue:md}`solved_2DOF` missions. The links are set up based on physical principals (e.g. you can’t have instantaneous changes in mass, velocity, position etc.). Special care is required if the user selects a different or unusual set of phases. \n",
    "\n",
    "Now, our aircraft and the mission are fully defined. We are ready to define an optimization problem. This is achieved by adding an optimization driver, adding design variables, and an objective. \n",
    "\n",
    "For {glue:md}`add_driver()` function, we accept its argument `use_coloring=None`. Coloring is a technique that OpenMDAO uses to compute partial derivatives efficiently. This will become important later."
   ]
  },
  {
   "cell_type": "code",
   "execution_count": null,
   "id": "87e863bc",
   "metadata": {
    "tags": [
     "hide-output"
    ]
   },
   "outputs": [],
   "source": [
    "prob.add_driver(optimizer, max_iter=max_iter)"
   ]
  },
  {
   "cell_type": "code",
   "execution_count": null,
   "id": "b16a1c86",
   "metadata": {
    "tags": [
     "remove-cell"
    ]
   },
   "outputs": [],
   "source": [
    "# Testing Cell\n",
    "from aviary.utils.doctape import glue_actions\n",
    "\n",
    "glue_actions('run_mission', current_glued_vars, glue_default=True, glue_choices=True)"
   ]
  },
  {
   "cell_type": "markdown",
   "id": "1cd6d86a",
   "metadata": {},
   "source": [
    "Available drivers for use in Aviary are {glue:md}`SLSQP`, {glue:md}`SNOPT`, and {glue:md}`IPOPT`. The table below summarizes the basic setting along with sample values (the settings are options required by each optimizer):\n",
    "\n",
    "| **Optimizers** | **Drivers** | **Settings** |\n",
    "| ---------- | ------- | -------- |\n",
    "| {glue:md}`SNOPT` | om.pyOptSparseDriver() | `Major iterations limit`: 50<BR/>`Major optimality tolerance`: 1e-4<BR/>`Major feasibility tolerance`: 1e-6<BR/>`iSumm`: 6 |\n",
    "| {glue:md}`IPOPT` | om.pyOptSparseDriver() | `tol`: 1e-9<BR/>`mu_init`: 1e-5<BR/>`max_iter`: 50<BR/>`print_level`: 5 |\n",
    "| {glue:md}`SLSQP` | om.ScipyOptimizeDriver() | `tol`: 1.0E-9<BR/>`maxiter`: 50<BR/>`disp`: True |\n",
    "\n",
    "Note that {glue:md}`SLSQP` is freely available, but its performance is not as good as {glue:md}`SNOPT` and {glue:md}`IPOPT` sometimes. {glue:md}`SNOPT` is a commercial optimizer, and it is free for academic use. {glue:md}`IPOPT` is an open-source optimizer and it is free for all users.\n",
    "\n",
    "Design variables (and constraints) are set in the line {glue:md}`prob.add_design_variables()`:"
   ]
  },
  {
   "cell_type": "code",
   "execution_count": null,
   "id": "0a408e2e",
   "metadata": {
    "tags": [
     "hide-output"
    ]
   },
   "outputs": [],
   "source": [
    "prob.add_design_variables()"
   ]
  },
  {
   "cell_type": "code",
   "execution_count": null,
   "id": "f663ec24",
   "metadata": {
    "tags": [
     "remove-cell"
    ]
   },
   "outputs": [],
   "source": [
    "# Testing Cell\n",
    "from aviary.variable_info.enums import ProblemType as PT, EquationsOfMotion as EOM\n",
    "\n",
    "EOM.HEIGHT_ENERGY;\n",
    "EOM.TWO_DEGREES_OF_FREEDOM;\n",
    "PT.SIZING;\n",
    "PT.ALTERNATE;\n",
    "PT.FALLOUT;"
   ]
  },
  {
   "cell_type": "markdown",
   "id": "5dfe75ac",
   "metadata": {},
   "source": [
    "The details of the design variables and constraints are in the source code of {glue:md}`add_design_variables()`. Let us summarize the data below:\n",
    "\n",
    "For default {glue:md}`height_energy` mission model, it is relatively simple:\n",
    "\n",
    "| **Design Variables** | **Lower Bound** | **Upper Bound** | **Reference Value** | **Units** |\n",
    "| ----------- | ----------- | ----------- | --------------- | ----- |\n",
    "| Mission.Design.GROSS_MASS | 10 | 900.e3| 175.e3 | lbm |\n",
    "\n",
    "For default {glue:md}`2DOF` mission model, the design variables and constraints depend on the type of problems ({glue:md}`SIZING`, {glue:md}`ALTERNATE`, or {glue:md}`FALLOUT`, see {glue:md}`ProblemType` class in `aviary/variable_info/enums.py` for details). First, there are four common design variables and two common constraints. There are two more design variables and two constraints for sizing problems.\n",
    "\n",
    "| **Problem Type** | **Design Variables** | **Lower Bound** | **Upper Bound** | **Reference Value** | **Units** |\n",
    "| ----------- | ----------- | ----------- | ----------- | --------------- | ----- |\n",
    "| Any | Mission.Takeoff.ASCENT_T_INITIAL | 0 | 100  | 30.0 | s |\n",
    "| Any | Mission.Takeoff.ASCENT_DURATION  | 1 | 1000 | 10.0 | s |\n",
    "| Any | tau_gear  | 0.01 | 1.0 | 1 | s |\n",
    "| Any | tau_flaps | 0.01 | 1.0 | 1 | s |\n",
    "| SIZING | Mission.Design.GROSS_MASS | 10. | None | 175_000 | lbm |\n",
    "| SIZING | Mission.Summary.GROSS_MASS | 10. | None | 175_000 | lbm |\n",
    "| ALTERNATE | Mission.Summary.GROSS_MASS | 0 | infinite | 175_000 | lbm |\n",
    "| **Problem Type** | **Constraint** | **Relation** | **Value** | **Reference Value** | **Units** |\n",
    "| Any | h_fit.h_init_gear | = | 50.0  | 50.0 | ft |\n",
    "| Any | h_fit.h_init_flaps | = | 400.0 | 400.0 | ft |\n",
    "| SIZING | Mission.Constraints.RANGE_RESIDUAL | = | 0 | 10 | unitless |\n",
    "| ALTERNATE | Mission.Constraints.RANGE_RESIDUAL | = | 0 | 10 | lbm |\n",
    "\n",
    "In the above table, there are two hard-coded design variables: `tau_gear` and `tau_flaps`. They represent fractions of ascent time to start gear retraction and flaps retraction. There are two hard-coded constraints: `h_fit.h_init_gear` and `h_fit.h_init_flaps`. They are the altitudes of initial gear retraction and initial flaps retraction. The underscore in number '175_000' is for readability only. \n",
    "\n",
    "There are other constraints using OpenMDAO's `EQConstraintComp` component. We will not go into the details as this part is complicated and needs special attention. Note that each subsystem (for example engine model) might have their own design variables (think, for example, sizing the engine). Aviary goes through all subsystems and adds appropriate design variables.\n",
    "\n",
    "You can override all the functions in level 3. So, you can set up your constraints in level 3 if the above ones do not meet your requirements.\n",
    "\n",
    "The optimization objective is added to the problem by this line:"
   ]
  },
  {
   "cell_type": "code",
   "execution_count": null,
   "id": "c8d5e8d9",
   "metadata": {
    "tags": [
     "remove-cell"
    ]
   },
   "outputs": [],
   "source": [
    "# Testing Cell\n",
    "import openmdao.api as om\n",
    "import aviary.api as av\n",
    "from aviary.validation_cases.validation_tests import get_flops_inputs\n",
    "from aviary.models.large_single_aisle_1.V3_bug_fixed_IO import V3_bug_fixed_options\n",
    "from aviary.utils.doctape import check_contains\n",
    "\n",
    "av.EquationsOfMotion.HEIGHT_ENERGY; #check that HEIGHT_ENERGY exists\n",
    "\n",
    "# Setting up expected design variables and constraints based on problem type\n",
    "common_des_vars = ['tau_gear', 'tau_flaps']\n",
    "common_constraints = ['h_fit.h_init_gear', 'h_fit.h_init_flaps']\n",
    "expected_vars = {\n",
    "    av.ProblemType.SIZING: {'des': common_des_vars, 'cons': common_constraints},\n",
    "    av.ProblemType.ALTERNATE: {'des': common_des_vars, 'cons': common_constraints},\n",
    "    av.ProblemType.FALLOUT: {'des': common_des_vars, 'cons': common_constraints}\n",
    "}\n",
    "\n",
    "# Combine FLOPS and GASP inputs, prioritizing the GASP values\n",
    "input_options = get_flops_inputs('LargeSingleAisle1FLOPS')\n",
    "input_options.update(V3_bug_fixed_options)\n",
    "\n",
    "# Creating the core subsystems - required for AviaryProblem._get_all_subsystems()\n",
    "aero = av.CoreAerodynamicsBuilder('core_aerodynamics', code_origin=av.LegacyCode.GASP)\n",
    "prop = av.CorePropulsionBuilder('core_propulsion',engine_models=av.build_engine_deck(input_options))\n",
    "\n",
    "# Creating a dummy problem that contains the minimal set of information that is required to call add_design_variables() and setup()\n",
    "class dprob(om.Problem):\n",
    "    def __init__(self, problem_type):\n",
    "        super().__init__()\n",
    "        self.problem_type = problem_type\n",
    "        self.pre_mission_info = {'external_subsystems': []}\n",
    "        self.core_subsystems = {'propulsion': prop, 'aerodynamics': aero}\n",
    "        self.mission_method = av.EquationsOfMotion.TWO_DEGREES_OF_FREEDOM\n",
    "        self.analysis_scheme = av.AnalysisScheme.COLLOCATION\n",
    "        self.require_range_residual = True\n",
    "        self.model = om.Group()\n",
    "\n",
    "    # self._get_all_subsystems() is called as part of AviaryProblem.add_design_variables()\n",
    "    _get_all_subsystems = av.AviaryProblem._get_all_subsystems\n",
    "\n",
    "# for each problem type\n",
    "for ptype, vars in expected_vars.items():\n",
    "    dummy_prob = dprob(ptype)\n",
    "    # we create the problem and let aviary add the design variables\n",
    "    av.AviaryProblem.add_design_variables(dummy_prob)\n",
    "    dummy_prob.setup()\n",
    "    # then we check that all of the expected design variables are in the model\n",
    "    check_contains(vars['des'], dummy_prob.model._design_vars.keys())\n",
    "    # and we check that all of the expected constraints are in the model\n",
    "    check_contains(vars['cons'], dummy_prob.model._responses.keys())"
   ]
  },
  {
   "cell_type": "code",
   "execution_count": null,
   "id": "46eee283",
   "metadata": {
    "tags": [
     "hide-output"
    ]
   },
   "outputs": [],
   "source": [
    "prob.add_objective(objective_type=objective_type)"
   ]
  },
  {
   "cell_type": "markdown",
   "id": "f842d072",
   "metadata": {},
   "source": [
    "The selection of objective is a little complicated. \n",
    "\n",
    "Earlier in this page, we have discussed the objective when `objective_type=None` and `mission_method` is {glue:md}`2DOF`. Let us discuss the other situations.\n",
    "\n",
    "There are several objective types that users can choose: `mass`, `hybrid_objective`, `fuel_burned`, and `fuel`. \n",
    "\n",
    "| objective_type | objective |\n",
    "| -------------- | --------- |\n",
    "| mass | {glue:md}`Dynamic.Vehicle.MASS` |\n",
    "| hybrid_objective | `-final_mass / {takeoff_mass} + final_time / 5.` |\n",
    "| fuel_burned | `initial_mass - mass_final` (for `height_energy` mission only)|\n",
    "| fuel | {glue:md}`Mission.Objectives.FUEL` |\n",
    "\n",
    "As listed in the above, if `objective_type=\"mass\"`, the objective is the final value of {glue:md}`Dynamic.Vehicle.MASS` at the end of the mission.\n",
    "If `objective_type=\"fuel\"`, the objective is the {glue:md}`Mission.Objectives.FUEL`.\n",
    "There is a special objective type: `hybrid_objective`. When `objective_type='hybrid_objective'`, the objective is a mix of minimizing fuel burn and minimizing the mission duration:"
   ]
  },
  {
   "cell_type": "code",
   "execution_count": null,
   "id": "b4df9df0",
   "metadata": {
    "tags": [
     "remove-cell"
    ]
   },
   "outputs": [],
   "source": [
    "# Testing Cell\n",
    "import openmdao.api as om\n",
    "from aviary.api import Mission, Dynamic\n",
    "from aviary.variable_info.enums import EquationsOfMotion as EOM, AnalysisScheme as AS\n",
    "from aviary.interface.methods_for_level2 import AviaryProblem, TwoDOFProblemConfigurator\n",
    "from aviary.utils.aviary_values import AviaryValues\n",
    "from aviary.utils.doctape import check_contains\n",
    "\n",
    "mo = Mission.Objectives\n",
    "dm = Dynamic.Vehicle\n",
    "expected_objective = {'mass':dm.MASS, 'hybrid_objective':'obj_comp.obj',\n",
    "                      'fuel_burned':Mission.Summary.FUEL_BURNED, 'fuel':mo.FUEL}\n",
    "\n",
    "class dprob(om.Problem):\n",
    "    def __init__(self):\n",
    "        super().__init__()\n",
    "        self.phase_info = {'final_phase':1}\n",
    "        self.regular_phases = ['final_phase']\n",
    "        self.mission_method = EOM.TWO_DEGREES_OF_FREEDOM\n",
    "        self.analysis_scheme = AS.COLLOCATION\n",
    "        self.aviary_inputs = AviaryValues({Mission.Design.GROSS_MASS:(1, 'lbm')})\n",
    "        self.model = om.Group()\n",
    "        # add variables used in hybrid objective connections\n",
    "        group = self.model\n",
    "        for name in ('traj','final_phase','timeseries'):\n",
    "            group = group.add_subsystem(name, om.Group())\n",
    "        var_names = [('mass',0,{'units':'lbm'}), ('time',0,{'units':'h'})]\n",
    "        group.add_subsystem('ivc',om.IndepVarComp(var_names),promotes=['*'])\n",
    "\n",
    "    _add_hybrid_objective = AviaryProblem._add_hybrid_objective\n",
    "\n",
    "for otype, obj in expected_objective.items():\n",
    "    dummy_prob = dprob()\n",
    "    dummy_prob.builder = TwoDOFProblemConfigurator()\n",
    "    dummy_prob.target_range = 0\n",
    "    AviaryProblem.add_objective(dummy_prob, otype)\n",
    "    dummy_prob.setup()\n",
    "    # traj timeseries values are promoted to the top in the real problem\n",
    "    objectives = [key.split('.')[-1] if 'timeseries' in key else key for key in dummy_prob.model._responses]\n",
    "    check_contains(obj,objectives,\"{var} not in {actual_values}\"+f' for {otype}')\n"
   ]
  },
  {
   "cell_type": "markdown",
   "id": "f7a233ac",
   "metadata": {},
   "source": [
    "```\n",
    "      obj = -final_mass / {takeoff_mass} + final_time / 5.\n",
    "```\n",
    "This is because if we just minimized fuel burn then the optimizer would probably fly the plane slowly to save fuel, but we actually care about some mix of minimizing fuel burn while providing a reasonable travel time for the passengers. This leads to the `hybrid_objective` which seeks to minimize a combination of those two objectives. `final_time` is the duration of the full mission and is usually in the range of hours. So, the denominator `5.` means `5 hours`. That's just a value to scale the final_time variable. Since it's a composite objective we didn't want to have OpenMDAO do the scaling because the two variables in the objective are of a different order of magnitude.\n",
    "\n",
    "If `objective_type=None` for a {glue:md}`2DOF` mission, Aviary will choose the objective based on `mission_method` and {glue:md}`problem_type`. We have discussed this case earlier in this page.\n",
    "\n",
    "**Note:**  Aviary variable `Mission.Objectives.FUEL` when using the {glue:md}`2DOF` mission is actually a hybrid objective defined as\n",
    "\n",
    "```\n",
    "      reg_objective = overall_fuel/10000 + ascent_duration/30.\n",
    "```\n",
    "where `overall_fuel` has the unit of `lbm` and `ascent_duration` has the unit of seconds. In our case, `settings:equations_of_motion = 2DOF`, the final value of objective is {glue:md}`str_obj_fuel`, with `ref: 1.0` and `units: blank`. The units should be interpreted as `unitless`.\n",
    "\n",
    "Here, `ref` is the reference value. For different objectives, the range may vary significantly different. We want to normalize the value. Ideally, users should choose `ref` such that the objective is in the range of `(0,1)`. This is required by optimizer.\n",
    "\n",
    "**Note:**  Unfortunately, not all `objective_type` and `mission_method` combinations work.\n",
    "\n",
    "Next is a line to call"
   ]
  },
  {
   "cell_type": "code",
   "execution_count": null,
   "id": "dbfca715",
   "metadata": {
    "tags": [
     "hide-output"
    ]
   },
   "outputs": [],
   "source": [
    "prob.setup()"
   ]
  },
  {
   "cell_type": "markdown",
   "id": "40b9cfea",
   "metadata": {},
   "source": [
    "This is a lightly wrapped OpenMDAO {glue:md}`setup()` method for the problem. It allows us to do `pre-` and `post-setup` changes, like adding calls to `set_input_defaults` and do some simple `set_vals` if needed. \n",
    "\n",
    "If we look at the signature of {glue:md}`setup()` in OpenMDAO's [Problem](https://openmdao.org/newdocs/versions/latest/_srcdocs/packages/core/problem.html) class, we find that the available kwargs are: `check`, `logger`, `mode`, `force_alloc_complex`, `distributed_vector_class`, `local_vector_class`, and `derivatives`. The ones that Aviary uses are `check` and `force_alloc_complex`. Argument `check` is a flag to determine default checks are performed. [Default checks](https://openmdao.org/newdocs/versions/latest/theory_manual/setup_stack.html) are: 'auto_ivc_warnings', comp_has_no_outputs', 'dup_inputs', 'missing_recorders', 'out_of_order', 'solvers', 'system', 'unserializable_options'.\n",
    "\n",
    "If [force_alloc_complex](https://openmdao.org/newdocs/versions/latest/advanced_user_guide/complex_step.html) is true, sufficient memory will be allocated to allow nonlinear vectors to store complex values while operating under complex step. For our example, we don't use any of them.\n",
    "\n",
    "For optimization problems, initial guesses are important."
   ]
  },
  {
   "cell_type": "code",
   "execution_count": null,
   "id": "afdf6203",
   "metadata": {
    "tags": [
     "hide-output"
    ]
   },
   "outputs": [],
   "source": [
    "prob.set_initial_guesses()"
   ]
  },
  {
   "cell_type": "markdown",
   "id": "57986647",
   "metadata": {},
   "source": [
    "For {glue:md}`solved_2DOF` and {glue:md}`2DOF` missions, this method performs several calls to `set_val` on the trajectory for states and controls to seed the problem with reasonable initial guesses using `initial_guesses` within corresponding phases (e.g. `height_energy.py` and `two_dof.py`). For `solved_2DOF` missions, it performs similar tasks but for hard-coded state parameters. This is reasonable because a `solved_2DOF` mission is actually a level 3 Aviary approach. We will cover it in [level 3 onboarding doc](onboarding_level3) in the next page. Note that initial guesses for all phases are especially important for collocation methods.\n",
    "\n",
    "The last line is to run the problem we just set up:"
   ]
  },
  {
   "cell_type": "code",
   "execution_count": null,
   "id": "1fed2339",
   "metadata": {
    "tags": [
     "remove-cell"
    ]
   },
   "outputs": [],
   "source": [
    "# Testing Cell\n",
    "import aviary.api as av\n",
    "av.EquationsOfMotion.SOLVED_2DOF;\n",
    "av.EquationsOfMotion.TWO_DEGREES_OF_FREEDOM;"
   ]
  },
  {
   "cell_type": "code",
   "execution_count": null,
   "id": "2f1a2b82",
   "metadata": {
    "tags": [
     "hide-output"
    ]
   },
   "outputs": [],
   "source": [
    "prob.run_aviary_problem()"
   ]
  },
  {
   "cell_type": "markdown",
   "id": "107f7407",
   "metadata": {},
   "source": [
    "This is a simple wrapper of Dymos' [run_problem()](https://openmdao.github.io/dymos/api/run_problem_function.html) function. It allows the users to provide `record_filename`, `restart_filename`, `suppress_solver_print`, and `run_driver`. In our case, `record_filename` is changed to `aviary_history.db` and `restart_filename` is set to `None`. The rest of the arguments take default values. If a restart file name is provided, aviary (or dymos) will load the states, controls, and parameters as given in the provided case as the initial guess for the next run. We have discussed the `.db` file in [level 1 onboarding doc](onboarding_level1) and will discuss how to use it to generate useful output in [level 3 onboarding doc](onboarding_level3).\n",
    "\n",
    "Finally, we can add a few print statements for the variables that we are interested:\n"
   ]
  },
  {
   "cell_type": "code",
   "execution_count": null,
   "id": "cb152e48",
   "metadata": {},
   "outputs": [],
   "source": [
    "print('Mission.Objectives.FUEL',\n",
    "      prob.get_val(Mission.Objectives.FUEL, units='unitless'))\n",
    "print('Mission.Design.FUEL_MASS',\n",
    "      prob.get_val(Mission.Design.FUEL_MASS, units='lbm'))\n",
    "print('Mission.Design.FUEL_MASS_REQUIRED',\n",
    "      prob.get_val(Mission.Design.FUEL_MASS_REQUIRED, units='lbm'))\n",
    "print('Mission.Summary.TOTAL_FUEL_MASS',\n",
    "      prob.get_val(Mission.Summary.TOTAL_FUEL_MASS, units='lbm'))\n",
    "print('Mission.Summary.GROSS_MASS (takeoff_mass)',\n",
    "      prob.get_val(Mission.Summary.GROSS_MASS, units='lbm'))\n",
    "print('Mission.Landing.TOUCHDOWN_MASS (final_mass)',\n",
    "      prob.get_val(Mission.Landing.TOUCHDOWN_MASS, units='lbm'))\n",
    "print()\n",
    "\n",
    "print('Groundroll Final Mass (lbm)',\n",
    "      prob.get_val('traj.phases.groundroll.states:mass', units='lbm')[-1])\n",
    "print('Rotation Final Mass (lbm)',\n",
    "      prob.get_val('traj.rotation.states:mass', units='lbm')[-1])\n",
    "print('Ascent Final Mass (lbm)',\n",
    "      prob.get_val('traj.ascent.states:mass', units='lbm')[-1])\n",
    "print('Accel Final Mass (lbm)',\n",
    "      prob.get_val('traj.accel.states:mass', units='lbm')[-1])\n",
    "print('Climb1 Final Mass (lbm)',\n",
    "      prob.get_val('traj.climb1.states:mass', units='lbm')[-1])\n",
    "print('Climb2 Final Mass (lbm)',\n",
    "      prob.get_val('traj.climb2.states:mass', units='lbm')[-1])\n",
    "print('Cruise Final Mass (lbm)',\n",
    "      prob.get_val('traj.phases.cruise.rhs.calc_weight.mass', units='lbm')[-1])\n",
    "print('Desc1 Final Mass (lbm)',\n",
    "      prob.get_val('traj.desc1.states:mass', units='lbm')[-1])\n",
    "print('Desc2 Final Mass (lbm)',\n",
    "      prob.get_val('traj.desc2.states:mass', units='lbm')[-1])\n",
    "print('done')"
   ]
  },
  {
   "cell_type": "markdown",
   "id": "3fece473",
   "metadata": {},
   "source": [
    "We will cover user customized outputs in [level 3](onboarding_level3)."
   ]
  },
  {
   "cell_type": "markdown",
   "id": "7bc55bf2",
   "metadata": {},
   "source": [
    "## Level 2: Another example\n",
    "\n",
    "We now use a similar aircraft, a large single aisle commercial transport aircraft, but with a different mass estimation and mission method. Let us run Aviary using this input deck in level 1 first."
   ]
  },
  {
   "cell_type": "code",
   "execution_count": null,
   "id": "0da2bfee",
   "metadata": {},
   "outputs": [],
   "source": [
    "!aviary run_mission models/test_aircraft/aircraft_for_bench_FwFm.csv --max_iter 0 --optimizer IPOPT"
   ]
  },
  {
   "cell_type": "markdown",
   "id": "bf021f13",
   "metadata": {},
   "source": [
    "Once again, to convert it to a level 2 model, we need to set all the arguments in level 1 manually.\n",
    "\n",
    "By running a model in level 2 directly, we have the flexibility to modify the input parameters (e.g. {glue:md}`phase_info`). Let us continue to make modifications and obtain a different run script shown below:"
   ]
  },
  {
   "cell_type": "code",
   "execution_count": null,
   "id": "807902e2",
   "metadata": {},
   "outputs": [],
   "source": [
    "phase_info = {\n",
    "    'pre_mission': {\n",
    "        'include_takeoff': False,\n",
    "        'optimize_mass': False,\n",
    "    },\n",
    "    'cruise': {\n",
    "        'subsystem_options': {\n",
    "            'core_aerodynamics': {'method': 'computed'}\n",
    "        },\n",
    "        'user_options': {\n",
    "            'optimize_mach': False,\n",
    "            'optimize_altitude': False,\n",
    "            'polynomial_control_order': 1,\n",
    "            'num_segments': 2,\n",
    "            'order': 3,\n",
    "            'solve_for_distance': False,\n",
    "            'initial_mach': (0.72, 'unitless'),\n",
    "            'final_mach': (0.72, 'unitless'),\n",
    "            'mach_bounds': ((0.7, 0.74), 'unitless'),\n",
    "            'initial_altitude': (35000.0, 'ft'),\n",
    "            'final_altitude': (35000.0, 'ft'),\n",
    "            'altitude_bounds': ((23000.0, 38000.0), 'ft'),\n",
    "            'throttle_enforcement': 'boundary_constraint',\n",
    "            'fix_initial': True,\n",
    "            'constrain_final': False,\n",
    "            'fix_duration': False,\n",
    "            'initial_bounds': ((0.0, 0.0), 'min'),\n",
    "            'duration_bounds': ((10., 30.), 'min'),\n",
    "        },\n",
    "        'initial_guesses': {'time': ([0, 30], 'min')},\n",
    "    },\n",
    "    'post_mission': {\n",
    "        'include_landing': False,\n",
    "    },\n",
    "}\n",
    "\n",
    "# inputs that run_aviary() requires\n",
    "aircraft_filename = 'models/test_aircraft/aircraft_for_bench_FwFm.csv'\n",
    "mission_method = 'height_energy'\n",
    "mass_method = 'FLOPS'\n",
    "optimizer = 'SLSQP'\n",
    "analysis_scheme = av.AnalysisScheme.COLLOCATION\n",
    "objective_type = None\n",
    "record_filename = 'history.db'\n",
    "restart_filename = None\n",
    "\n",
    "# Build problem\n",
    "prob = av.AviaryProblem(analysis_scheme)\n",
    "\n",
    "# Load aircraft and options data from user\n",
    "# Allow for user overrides here\n",
    "prob.load_inputs(aircraft_filename, phase_info)\n",
    "\n",
    "# Preprocess inputs\n",
    "prob.check_and_preprocess_inputs()\n",
    "\n",
    "prob.add_pre_mission_systems()\n",
    "\n",
    "prob.add_phases()\n",
    "\n",
    "prob.add_post_mission_systems()\n",
    "\n",
    "# Link phases and variables\n",
    "prob.link_phases()\n",
    "\n",
    "prob.add_driver(optimizer, max_iter=0)\n",
    "\n",
    "prob.add_design_variables()\n",
    "\n",
    "# Load optimization problem formulation\n",
    "# Detail which variables the optimizer can control\n",
    "prob.add_objective(objective_type=objective_type)\n",
    "\n",
    "prob.setup()\n",
    "\n",
    "prob.set_initial_guesses()\n",
    "\n",
    "prob.run_aviary_problem(record_filename, gen_n2=False)\n",
    "\n",
    "print('done')\n"
   ]
  },
  {
   "cell_type": "markdown",
   "id": "105e300d",
   "metadata": {},
   "source": [
    "As you see, there is a single phase `cruise`, no takeoff, no landing. Note that we must set `include_takeoff` to `False` because Aviary internally tries to connect takeoff to climb phase which we don't provide. There should be a check to see if both takeoff and climb phase exist first. Aviary still has many things to be improved.\n",
    "\n",
    "We will see more details for what users can do in [level 3](onboarding_level3).\n",
    "\n",
    "Level 2 is where you can integrate user-defined [external subsystems](../user_guide/subsystems), which is one of the main features of the Aviary tool. [Examples](../user_guide/using_external_subsystems) of external subsystems are: acoustics, battery modeling, etc.\n",
    "Assume that you already have an external subsystem that you want to incorporate it into your model. We show how to add external subsystems via `external_subsystems` key in {glue:md}`phase_info`.\n",
    "\n",
    "We will cover external subsystems in details in [Models with External Subsystems](onboarding_ext_subsystem) page.\n"
   ]
  },
  {
   "cell_type": "markdown",
   "id": "638223f0",
   "metadata": {},
   "source": [
    "## Summary\n",
    "\n",
    "As you see, level 2 is more flexible than level 1. In level 2, you can:\n",
    "- add/remove pre-defined mission phases (via {glue:md}`phase_info`, see example above);\n",
    "- scale design variables (via reference value in {glue:md}`phase_info`)\n",
    "- import additional files (e.g. `aero_data`);\n",
    "- set pre-defined objective (e.g. `hybrid_objective`);\n",
    "- add external subsystems (via {glue:md}`phase_info`);\n",
    "- set `use_coloring` (see example above).\n",
    "\n",
    "Most Aviary users should be well-served by Level 2; we have purposefully constructed it to be capable of most all use cases, even those on the forefront of research in aircraft design.\n",
    "\n",
    "That being said, there are some cases where Level 2 is not sufficient and you may need additional flexibility. We are ready to move on to [Level 3](onboarding_level3)."
   ]
  }
 ],
 "metadata": {
  "kernelspec": {
   "display_name": "av1",
   "language": "python",
   "name": "python3"
  },
  "language_info": {
   "codemirror_mode": {
    "name": "ipython",
    "version": 3
   },
   "file_extension": ".py",
   "mimetype": "text/x-python",
   "name": "python",
   "nbconvert_exporter": "python",
   "pygments_lexer": "ipython3",
   "version": "3.9.18"
  }
 },
 "nbformat": 4,
 "nbformat_minor": 5
}
